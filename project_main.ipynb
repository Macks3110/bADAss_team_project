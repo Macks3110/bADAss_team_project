{
 "cells": [
  {
   "cell_type": "code",
   "execution_count": null,
   "metadata": {},
   "outputs": [],
   "source": [
    "%matplotlib inline\n",
    "import numpy as np\n",
    "import matplotlib.pyplot as plt\n",
    "import pandas as pd\n",
    "import folium"
   ]
  },
  {
   "cell_type": "markdown",
   "metadata": {},
   "source": [
    "## Load data  into a Pandas dataframe"
   ]
  },
  {
   "cell_type": "code",
   "execution_count": null,
   "metadata": {
    "scrolled": true
   },
   "outputs": [],
   "source": [
    "complete_dataset = pd.read_csv('data/fao_data_crops_data.csv')#, na_values=[0]) # The dataset contains metadata \n",
    "                                                                              # in the last 6 rows and we want to set \n",
    "                                                                              # '0' values to NaN as they are not useful \n",
    "                                                                              # for analysis\n",
    "\n"
   ]
  },
  {
   "cell_type": "code",
   "execution_count": null,
   "metadata": {},
   "outputs": [],
   "source": [
    "crops = complete_dataset.loc[:2255342].copy() # We split the data and metadata and store them in 'crops' and 'flags' dataframe, respecitvely.\n",
    "\n",
    "flags = complete_dataset.loc[2255344:2255348].copy() # 'flags' contains correspondance list of acronyms \n",
    "                                                     #that describe how a given sample was acquired --> only informative\n",
    "flags.drop(['element','year','unit','value','value_footnotes','category'], axis=1, inplace = True) \n",
    "flags.rename(columns={'country_or_area':'acronym', 'element_code':'description'}, inplace=True) \n",
    "flags.set_index('acronym', inplace=True)\n",
    "flags"
   ]
  },
  {
   "cell_type": "markdown",
   "metadata": {},
   "source": [
    "## Exploratory data analysis"
   ]
  },
  {
   "cell_type": "code",
   "execution_count": null,
   "metadata": {
    "scrolled": true
   },
   "outputs": [],
   "source": [
    "crops.head()"
   ]
  },
  {
   "cell_type": "code",
   "execution_count": null,
   "metadata": {
    "scrolled": false
   },
   "outputs": [],
   "source": [
    "print(\"Size of the DataFrame: {s}\\n\".format(s=crops.shape))\n",
    "print(\"Variable types present in DataFrame: \\n{t}\".format(t=crops.dtypes))"
   ]
  },
  {
   "cell_type": "code",
   "execution_count": null,
   "metadata": {
    "scrolled": true
   },
   "outputs": [],
   "source": [
    "footnotes = crops['value_footnotes'].unique() # List all the different footnotes values present in the dataset\n",
    "print(footnotes)\n",
    "display(crops.query('value_footnotes==@footnotes[4]')) # Display dataframe that only contains one given value of 'value_footnotes'\n",
    "crops[crops.value_footnotes.isnull()] # Return dataframe that only contains samples having NaN as value for 'value_footnotes'"
   ]
  },
  {
   "cell_type": "code",
   "execution_count": null,
   "metadata": {},
   "outputs": [],
   "source": [
    "print(crops['element'].unique())\n",
    "print(crops['year'].unique())\n",
    "print(crops['unit'].unique())\n",
    "print(crops['category'].unique())\n",
    "print(crops['element_code'].unique())\n",
    "print(crops['country_or_area'].unique())"
   ]
  },
  {
   "cell_type": "markdown",
   "metadata": {},
   "source": [
    "## Data preprocessing"
   ]
  },
  {
   "cell_type": "code",
   "execution_count": null,
   "metadata": {
    "scrolled": true
   },
   "outputs": [],
   "source": [
    "print(crops.isnull().values.any(axis=0)) # Returns a boolean of whether a column contains NaN (True) or not (False).\n",
    "crops.dropna(how='all', inplace=True) # Drop rows which contain only missing values.\n",
    "\n"
   ]
  },
  {
   "cell_type": "code",
   "execution_count": null,
   "metadata": {},
   "outputs": [],
   "source": [
    "# We drop the samples where 'value' is unknown (NaN) because they are of no utility    \n",
    "crops.dropna(subset=['value', 'value_footnotes'], inplace=True) \n",
    "\n",
    "# Let's drop also all the samples that have 'NR' as a 'value_footnotes' value or 0 as 'value'\n",
    "crops.drop(index=crops[crops['value_footnotes'].str.contains('NR')].index, inplace=True)\n",
    "crops.drop(index=crops[crops['value']==0].index, inplace=True)\n"
   ]
  },
  {
   "cell_type": "code",
   "execution_count": null,
   "metadata": {},
   "outputs": [],
   "source": [
    "crops_by_region_year = crops.groupby(['country_or_area', 'year']) \\\n",
    "                            .agg('sum') \\\n",
    "                            .sort_values(by='value',ascending=False)\n"
   ]
  },
  {
   "cell_type": "code",
   "execution_count": null,
   "metadata": {},
   "outputs": [],
   "source": [
    "crops_by_region_year_mean = crops_by_region_year.join(crops_by_region_year.mean(level='country_or_area').rename(columns={'value':'mean'}), on='country_or_area', how = 'left')\n"
   ]
  },
  {
   "cell_type": "code",
   "execution_count": null,
   "metadata": {
    "scrolled": true
   },
   "outputs": [],
   "source": [
    "crops_by_region_year_mean.sort_values(by='mean',ascending=False)"
   ]
  },
  {
   "cell_type": "code",
   "execution_count": null,
   "metadata": {},
   "outputs": [],
   "source": [
    "\n",
    "crops_by_region_year_mean.index.get_level_values(level='country_or_area').unique()"
   ]
  },
  {
   "cell_type": "code",
   "execution_count": null,
   "metadata": {
    "scrolled": true
   },
   "outputs": [],
   "source": [
    "plt.hist(crops_by_region_year_mean.mean, bins= [crops_by_region_year_mean.index.get_level_values(level='country_or_area').unique()])\n"
   ]
  },
  {
   "cell_type": "code",
   "execution_count": null,
   "metadata": {},
   "outputs": [],
   "source": []
  }
 ],
 "metadata": {
  "kernelspec": {
   "display_name": "Python 3",
   "language": "python",
   "name": "python3"
  },
  "language_info": {
   "codemirror_mode": {
    "name": "ipython",
    "version": 3
   },
   "file_extension": ".py",
   "mimetype": "text/x-python",
   "name": "python",
   "nbconvert_exporter": "python",
   "pygments_lexer": "ipython3",
   "version": "3.7.3"
  }
 },
 "nbformat": 4,
 "nbformat_minor": 2
}

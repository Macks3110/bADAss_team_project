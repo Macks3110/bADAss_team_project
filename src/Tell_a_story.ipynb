{
 "cells": [
  {
   "cell_type": "markdown",
   "metadata": {},
   "source": [
    "# ADA Project - Food self-sufficiency :   what about Switzerland?"
   ]
  },
  {
   "cell_type": "code",
   "execution_count": null,
   "metadata": {},
   "outputs": [],
   "source": [
    "%matplotlib inline\n",
    "import numpy as np\n",
    "import matplotlib.pyplot as plt\n",
    "import pandas as pd\n",
    "import folium"
   ]
  },
  {
   "cell_type": "markdown",
   "metadata": {},
   "source": [
    "## We will first investigate the dataset we choose from the proposed list : \"Global Food & Agriculture Statistics\"\n",
    "\n",
    "Based on this dataset containing informations about crops production for all countries over the world, our main idea was to link food production to hunger in some areas. One othr idea was to found the possible causes for food insufficiency (natural disasters, wars...) . "
   ]
  },
  {
   "cell_type": "markdown",
   "metadata": {},
   "source": [
    "## Load data  into a Pandas dataframe"
   ]
  },
  {
   "cell_type": "code",
   "execution_count": null,
   "metadata": {
    "scrolled": true
   },
   "outputs": [],
   "source": [
    "complete_dataset = pd.read_csv('../data/fao_data_crops_data.csv')"
   ]
  },
  {
   "cell_type": "code",
   "execution_count": null,
   "metadata": {},
   "outputs": [],
   "source": [
    "# We split the data and metadata and store them in 'crops' and 'flags' dataframe, respecitvely.\n",
    "crops = complete_dataset.loc[:2255342].copy() \n",
    "flags = complete_dataset.loc[2255344:2255348].copy() \n",
    "# 'flags' contains correspondance list of acronyms that describe how a given sample was acquired --> only informative\n",
    "flags.drop(['element','year','unit','value','value_footnotes','category'], axis=1, inplace = True) \n",
    "flags.rename(columns={'country_or_area':'acronym', 'element_code':'description'}, inplace=True) \n",
    "flags.set_index('acronym', inplace=True)\n",
    "flags"
   ]
  },
  {
   "cell_type": "markdown",
   "metadata": {},
   "source": [
    "## Exploratory data analysis"
   ]
  },
  {
   "cell_type": "code",
   "execution_count": null,
   "metadata": {
    "scrolled": true
   },
   "outputs": [],
   "source": [
    "crops.head()"
   ]
  },
  {
   "cell_type": "code",
   "execution_count": null,
   "metadata": {},
   "outputs": [],
   "source": [
    "print(\"Size of the DataFrame: {s}\\n\".format(s=crops.shape))\n",
    "print(\"Variable types present in DataFrame: \\n{t}\".format(t=crops.dtypes))"
   ]
  },
  {
   "cell_type": "code",
   "execution_count": null,
   "metadata": {
    "scrolled": true
   },
   "outputs": [],
   "source": [
    "# List all the different footnotes values present in the dataset\n",
    "footnotes = crops['value_footnotes'].unique() \n",
    "print(footnotes)\n",
    "# Display dataframe that only contains one given value of 'value_footnotes'\n",
    "display(crops.query('value_footnotes==@footnotes[4]')) \n",
    "# Return dataframe that only contains samples having NaN as value for 'value_footnotes'\n",
    "crops[crops.value_footnotes.isnull()] "
   ]
  },
  {
   "cell_type": "code",
   "execution_count": null,
   "metadata": {
    "scrolled": true
   },
   "outputs": [],
   "source": [
    "print(crops['element'].unique())\n",
    "print(crops['year'].unique())\n",
    "print(crops['unit'].unique())\n",
    "print(crops['category'].unique())\n",
    "print(crops['element_code'].unique())\n",
    "print(crops['country_or_area'].unique())"
   ]
  },
  {
   "cell_type": "markdown",
   "metadata": {},
   "source": [
    "## Data preprocessing"
   ]
  },
  {
   "cell_type": "markdown",
   "metadata": {},
   "source": [
    "We clear the data by dropping all the row containing only NAN values. \n",
    "We also clear the raw where value_footnotes is NR as it means not repported by country, so it won't be usefull for our analysis. "
   ]
  },
  {
   "cell_type": "code",
   "execution_count": null,
   "metadata": {
    "scrolled": true
   },
   "outputs": [],
   "source": [
    "# Returns a boolean of whether a column contains NaN (True) or not (False).\n",
    "print(crops.isnull().values.any(axis=0)) \n",
    "\n",
    "# Drop rows which contain only missing values.\n",
    "crops.dropna(how='all', inplace=True) "
   ]
  },
  {
   "cell_type": "code",
   "execution_count": null,
   "metadata": {},
   "outputs": [],
   "source": [
    "# We drop the samples where 'value' is unknown (NaN) because they are of no utility    \n",
    "crops.dropna(subset=['value', 'value_footnotes'], inplace=True) \n",
    "\n",
    "# Let's drop also all the samples that have 'NR' as a 'value_footnotes' value or 0 as 'value'\n",
    "crops.drop(index=crops[crops['value_footnotes'].str.contains('NR')].index, inplace=True)\n",
    "crops.drop(index=crops[crops['value']==0].index, inplace=True)\n"
   ]
  },
  {
   "cell_type": "markdown",
   "metadata": {},
   "source": [
    "In our dataset, regions are indicated by a \"+\" at the end of their names. We want to separate regions from countries to facilitate our analysis so we can be more precise. "
   ]
  },
  {
   "cell_type": "code",
   "execution_count": null,
   "metadata": {},
   "outputs": [],
   "source": [
    "regions_bool = crops['country_or_area'].str.contains('\\+')\n",
    "crops_regions = crops[regions_bool].copy()\n",
    "crops_countries = crops[~regions_bool].copy()\n",
    "crops_countries[crops_countries.country_or_area.str.contains('China')].tail()"
   ]
  },
  {
   "cell_type": "markdown",
   "metadata": {},
   "source": [
    "We calculate the mean of all the elements for every country so we can compare the area harvested, seed or yield between each country. The mean is calculated over all years. "
   ]
  },
  {
   "cell_type": "code",
   "execution_count": null,
   "metadata": {},
   "outputs": [],
   "source": [
    "#calculate the mean of all the elements for every country.  \n",
    "crops_countries_by_country_year = crops_countries.groupby(['country_or_area', 'element']) \\\n",
    "                            .agg({'value':'mean'}) \\\n",
    "                            .rename(columns={'value':'mean_'}) \n",
    "crops_countries_by_country_year"
   ]
  },
  {
   "cell_type": "code",
   "execution_count": null,
   "metadata": {},
   "outputs": [],
   "source": [
    "area_harvested = crops_countries_by_country_year.loc[(slice(None),'Area Harvested'), :]\n",
    "area_harvested.loc['United States of America']"
   ]
  },
  {
   "cell_type": "markdown",
   "metadata": {},
   "source": [
    "#### Create a map showing yield by country (average over all years) \n",
    "\n",
    "Even if we are not sure to keep those following maps, we made them to gt familiar with the data, moreover, it gives us an insight of the most important countries in terms of food production or area harvested."
   ]
  },
  {
   "cell_type": "code",
   "execution_count": null,
   "metadata": {},
   "outputs": [],
   "source": [
    "yield_df= crops_countries_by_country_year.loc[(slice(None),'Yield'), :]\n",
    "#we take the log value for the following plot, so our quantile a more equilibrate\n",
    "log_yield_df=pd.DataFrame(yield_df.mean_.map(lambda x:np.log(x)))\n",
    "log_yield_df.head()"
   ]
  },
  {
   "cell_type": "code",
   "execution_count": null,
   "metadata": {},
   "outputs": [],
   "source": [
    "m = folium.Map(location=[48, -102], zoom_start=3)\n",
    "\n",
    "world_geo = 'https://raw.githubusercontent.com/johan/world.geo.json/master/countries.geo.json'\n",
    "Bins = list(yield_df.mean_.quantile([0, 0.25, 0.5, 0.75, 1]))\n",
    "\n",
    "m = folium.Map(zoom_start=3)\n",
    "\n",
    "folium.Choropleth(\n",
    "    geo_data=world_geo,\n",
    "    name='choropleth',\n",
    "    data=log_yield_df,\n",
    "    columns=[log_yield_df.index.get_level_values(level='country_or_area').values,'mean_'],\n",
    "    key_on='feature.properties.name',\n",
    "    fill_color='BuPu',\n",
    "    fill_opacity=0.7,\n",
    "    line_opacity=0.2,\n",
    "    legend_name='yield',\n",
    "    #bins = Bins,\n",
    "    reset=True\n",
    ").add_to(m)\n",
    "\n",
    "folium.LayerControl().add_to(m)\n",
    "\n",
    "m"
   ]
  },
  {
   "cell_type": "markdown",
   "metadata": {},
   "source": [
    "The countries having the most important yield are Iceland and Danemark. We can also see that in many countries of Africa the yield is very low. Mongolia has also a very low yield."
   ]
  },
  {
   "cell_type": "markdown",
   "metadata": {},
   "source": [
    "#### Area Hervested (mean)/Area Hervested (2018) by country\n",
    "\n",
    "Such a way to calculate the ratio is hard o interpret. What we should do instead is to calculate an average for each year and make an interactive plot so we can select the year we want to analyze and show the map. "
   ]
  },
  {
   "cell_type": "code",
   "execution_count": null,
   "metadata": {},
   "outputs": [],
   "source": [
    "surface_country = pd.read_csv('../data/API_AG.LND.TOTL.K2_DS2_en_csv_v2_422954.csv', skiprows=3)\n",
    "surface_country.set_index('Country Name', inplace = True)\n",
    "crops_countries_area = area_harvested.join(surface_country['2018'], on='country_or_area', how='left')\n",
    "crops_countries_area['ratio'] = area_harvested['mean_']/(crops_countries_area['2018']*100)\n",
    "crops_countries_area.dropna(inplace=True)\n",
    "\n",
    "pl = crops_countries_area.plot(kind=\"bar\", \n",
    "                             y=\"ratio\", \n",
    "                            figsize=(30, 7), alpha=0.5, color=\"olive\")"
   ]
  },
  {
   "cell_type": "code",
   "execution_count": null,
   "metadata": {
    "scrolled": true
   },
   "outputs": [],
   "source": [
    "crops_countries_area.head()"
   ]
  },
  {
   "cell_type": "markdown",
   "metadata": {},
   "source": [
    "#### Create a map showing this ratio by country"
   ]
  },
  {
   "cell_type": "code",
   "execution_count": null,
   "metadata": {},
   "outputs": [],
   "source": [
    "crops_countries_area_df=pd.DataFrame(crops_countries_area.ratio)\n",
    "crops_countries_area_df.head()\n",
    "log_df=pd.DataFrame(crops_countries_area_df.ratio.map(lambda x:np.log(x)))\n",
    "type(log_df)"
   ]
  },
  {
   "cell_type": "code",
   "execution_count": null,
   "metadata": {},
   "outputs": [],
   "source": [
    "m = folium.Map(location=[48, -102], zoom_start=3)\n",
    "\n",
    "world_geo = 'https://raw.githubusercontent.com/johan/world.geo.json/master/countries.geo.json'\n",
    "Bins = list(crops_countries_area.ratio.quantile([0, 0.25, 0.5, 0.75, 1]))\n",
    "\n",
    "m = folium.Map(zoom_start=3)\n",
    "\n",
    "folium.Choropleth(\n",
    "    geo_data=world_geo,\n",
    "    name='choropleth',\n",
    "    data=log_df,\n",
    "    columns=[crops_countries_area.index.get_level_values(level='country_or_area').values,'ratio'],\n",
    "    key_on='feature.properties.name',\n",
    "    fill_color='BuPu',\n",
    "    fill_opacity=0.7,\n",
    "    line_opacity=0.2,\n",
    "    legend_name='country surface vs surface harvested ratio',\n",
    "    #bins = Bins,\n",
    "    reset=True\n",
    ").add_to(m)\n",
    "\n",
    "folium.LayerControl().add_to(m)\n",
    "\n",
    "m"
   ]
  },
  {
   "cell_type": "code",
   "execution_count": null,
   "metadata": {},
   "outputs": [],
   "source": [
    "crops_countries_by_country_by_category = crops_countries.groupby(['country_or_area','element', 'category'])\n",
    "crops_countries_by_country_by_category = pd.DataFrame(data=crops_countries_by_country_by_category.value.sum().reset_index(name='total').sort_values(by='total',ascending=False))\n",
    "\n",
    "crops_countries_by_country_by_category.head(10)"
   ]
  },
  {
   "cell_type": "markdown",
   "metadata": {},
   "source": [
    "we can see that China and the united states are the main producers of cereals_total and cereale_rice_milled_eq. "
   ]
  },
  {
   "cell_type": "markdown",
   "metadata": {},
   "source": [
    "  \n",
    " ## What are the principal foodstuffs produced in each country/region of the world? And which countries are the biggest producers for a given food?"
   ]
  },
  {
   "cell_type": "code",
   "execution_count": null,
   "metadata": {},
   "outputs": [],
   "source": [
    "main_product=crops_countries_by_country_by_category.drop_duplicates(subset='country_or_area', keep='first')\n",
    "main_product.head(10)"
   ]
  },
  {
   "cell_type": "markdown",
   "metadata": {},
   "source": [
    "We decide to keep only the Production quantity for further analysis."
   ]
  },
  {
   "cell_type": "code",
   "execution_count": null,
   "metadata": {},
   "outputs": [],
   "source": [
    "ind_keep=pd.Series(main_product.element.str.contains('Production Quantity'))\n",
    "ind_keep=ind_keep[ind_keep].index\n",
    "\n",
    "main_product_quantity = main_product.drop(index=main_product.index.difference(ind_keep))\n",
    "main_product_quantity.head(10)"
   ]
  },
  {
   "cell_type": "code",
   "execution_count": null,
   "metadata": {},
   "outputs": [],
   "source": [
    "main_product_quantity.category.unique()"
   ]
  },
  {
   "cell_type": "markdown",
   "metadata": {},
   "source": [
    "In the previous dataframe (main_product_quantity) we show the category that is most produced by each country in term of production quantity. \n",
    "\n",
    "We can see that China and the United States are the main producers of cereals, Canada is the main producer of cereals_rice_milled. Nigeria and Poland are the mais producers of roots and tubbers. Philippines mainly produces sugar cane and Malesia mainly produces oil_palm_fruit. "
   ]
  },
  {
   "cell_type": "markdown",
   "metadata": {},
   "source": [
    "## Are all countries equal in terms of diversity of foodstuffs harvested?\n",
    "    \n",
    "To answer this question, we simply count the number of categories produced by countries, so we can get an idea of their food production diversity."
   ]
  },
  {
   "cell_type": "code",
   "execution_count": null,
   "metadata": {},
   "outputs": [],
   "source": [
    "food_diversity = pd.DataFrame(crops_countries.groupby(['country_or_area','category'])['category'].count().reset_index(name='total'))\n",
    "food_diversity.head(10)"
   ]
  },
  {
   "cell_type": "code",
   "execution_count": null,
   "metadata": {},
   "outputs": [],
   "source": [
    "food_diversity = pd.DataFrame(food_diversity.groupby(['country_or_area']).country_or_area.size().reset_index(name='category_diversity'))"
   ]
  },
  {
   "cell_type": "code",
   "execution_count": null,
   "metadata": {},
   "outputs": [],
   "source": [
    "food_diversity.sort_values('category_diversity', ascending=False).head(10)"
   ]
  },
  {
   "cell_type": "markdown",
   "metadata": {},
   "source": [
    "Should we combine China and China, mainland?? --> We could keep only China for further analysis."
   ]
  },
  {
   "cell_type": "markdown",
   "metadata": {},
   "source": [
    "## Interactive visualization of categories by year and by element\n",
    "\n",
    "Categories are the different products.\n",
    "Element corresponds to yield, harvested area, production quantity. "
   ]
  },
  {
   "cell_type": "markdown",
   "metadata": {},
   "source": [
    "#### Interactive visualization plot #1\n"
   ]
  },
  {
   "cell_type": "code",
   "execution_count": null,
   "metadata": {},
   "outputs": [],
   "source": [
    "#TO RUN THIS: with conda --> conda install -c conda-forge ipywidgets\n",
    "import ipywidgets as widgets\n",
    "from ipywidgets import interact, interactive, fixed, interact_manual\n",
    "#To enable interactive viz on lab --> conda install nodejs\n",
    "#                                  + jupyter labextension install @jupyter-widgets/jupyterlab-manager"
   ]
  },
  {
   "cell_type": "code",
   "execution_count": null,
   "metadata": {},
   "outputs": [],
   "source": [
    "#Interactive visualization\n",
    "def viz_year(year, element, category):\n",
    "    df_to_plot = crops_regions.loc[crops_regions['year'] == year].loc[crops_regions['element'] == element].loc[crops_regions['category'] == category]\n",
    "    df_to_plot.plot(kind = 'bar', x='country_or_area', y='value',figsize=(20,10))\n",
    "    plt.title(f'{element} values of {category} by regions for year {year}', fontsize=20)\n",
    "    plt.xlabel(\"Regions\", fontsize= 20)\n",
    "    plt.ylabel(\"Values\", fontsize= 20)\n",
    "    plt.show()\n",
    "\n",
    "years = crops_regions.year.unique()    \n",
    "elements = crops_regions.element.unique()\n",
    "categories = crops_regions.category.unique()\n",
    "interact(viz_year, year=years, element = elements , category=categories)    "
   ]
  },
  {
   "cell_type": "markdown",
   "metadata": {},
   "source": [
    "We can see that for some categories there are no numerical values to plot --> Remove them from dataframe? --> only for some categories (eg cereals_total)\n"
   ]
  },
  {
   "cell_type": "markdown",
   "metadata": {},
   "source": [
    "### Interactive visualization of element of a given category by a given country throughout years"
   ]
  },
  {
   "cell_type": "code",
   "execution_count": null,
   "metadata": {},
   "outputs": [],
   "source": [
    "#Interactive visualization\n",
    "def viz_evolution(country, element, category):\n",
    "    df_to_plot = crops_countries.loc[crops_countries['country_or_area'] == country].loc[crops_countries['element'] == element].loc[crops_countries['category'] == category]\n",
    "    df_to_plot.plot(x='year', y='value',figsize=(20,10))\n",
    "    plt.title(f'{element} values of {category} in {country} throughout years', fontsize= 20)\n",
    "    plt.xlabel(\"Year\", fontsize= 20)\n",
    "    plt.ylabel(\"Values\", fontsize= 20)\n",
    "    plt.show()\n",
    "\n",
    "countries = crops_countries.country_or_area.unique()    \n",
    "elements = crops_countries.element.unique()\n",
    "categories = crops_countries.category.unique()\n",
    "interact(viz_evolution, country=countries, element = elements , category=categories)    "
   ]
  },
  {
   "cell_type": "markdown",
   "metadata": {},
   "source": [
    "Now that we have well understood our dataset we can redefine our project goals. \n",
    "As we have many datas for allmost all the country in the words we had to redefine the direction we wanted to follow. So we decided to focus our attention on one country only: Switzerland!\n",
    "We will try to answer the following question: Can Switzerland be self-sufficient in term of food production.\n",
    "see updates on the Readme and project_ch.ipynb"
   ]
  },
  {
   "cell_type": "markdown",
   "metadata": {},
   "source": [
    "# Project Update - Insight into Switzerland agriculture production \n",
    "\n",
    "We will focus on Switzerland compared to its neighbours. We would like to know if Switzerland could be self-sufficient in term of food production. \n",
    "\n",
    "## Abstract\n",
    "\n",
    "In the wake of the the years 2007-08, food self-sufficiency policies have gained increased attention in a number of coutries following the international food crisis that triggered great volatilities on the world food markets causing important economic and social damages. <br>\n",
    "Since then, diverse countries have expressed interest in improving their levels of food self-sufficiency arising controversy into a massive economically connected world.\n",
    "\n",
    "On the 23th september of 2018, in the small country of Switzerland, the debate is materialized into a popular referendum submitted to its population asking wherever a food self-sufficiency politic should be adopted or not. Such a politic could have unexpected consequences considering a country as Switzerland with many neighbours and such a small area capacity. <br>\n",
    "This paper aims to analyse the questions surrounding the debate over food self-sufficiency in Switzerland. \n",
    "\n",
    "- What does Switzerland produce and in which quantity? \n",
    "- What about the amount of importations/exportations?\n",
    "- Are all Switzerland areas optimally harvested?\n",
    "- Links to population size\n",
    "- How is the Swiss productiviy trend evolving, is it correlated with external factors such as temperature, fertilizer use, ...?\n",
    "\n",
    "Then we will make comparaisons between Switzerland and its neighbours. Does CH import more than its neighbours (due to its small size ?) ? Is food self-suffience of CH realistic ? How many farms/farmers would it need ?\n"
   ]
  },
  {
   "cell_type": "markdown",
   "metadata": {},
   "source": [
    "## Data loading - Crops \n",
    "\n",
    "This dataset represents our new start line, it contains almost the same informations as the \"Global Food & Agriculture Statistics\" we already used. However, the data are more recent.  \n",
    "\n",
    "We found the majority of our following data on the __[Food And Agriculture Organization of the United Nations Datasets](http://www.fao.org/faostat/en/#data)__ website (we will precise later if one dataset does not come from this link).\n",
    "\n",
    "File contains data about Switzerland and neighbours (Italy, Germany, France, Austria and Liechtenstein)"
   ]
  },
  {
   "cell_type": "code",
   "execution_count": null,
   "metadata": {},
   "outputs": [],
   "source": [
    "raw_CH_crops_dataset = pd.read_csv('../data/FAOSTAT_data_crops_CHandNeighbours.csv')"
   ]
  },
  {
   "cell_type": "markdown",
   "metadata": {},
   "source": [
    "Let's explore the structure of our dataset :"
   ]
  },
  {
   "cell_type": "code",
   "execution_count": null,
   "metadata": {},
   "outputs": [],
   "source": [
    "raw_CH_crops_dataset.head()"
   ]
  },
  {
   "cell_type": "markdown",
   "metadata": {},
   "source": [
    "Keep only relevant information."
   ]
  },
  {
   "cell_type": "code",
   "execution_count": null,
   "metadata": {},
   "outputs": [],
   "source": [
    "raw_CH_crops_dataset =raw_CH_crops_dataset[['Domain', 'Area', 'Element', 'Item', 'Year', 'Unit', 'Value', 'Flag Description']]"
   ]
  },
  {
   "cell_type": "code",
   "execution_count": null,
   "metadata": {},
   "outputs": [],
   "source": [
    "raw_CH_crops_dataset.drop(index=raw_CH_crops_dataset[raw_CH_crops_dataset['Flag Description'].str.contains('Data not available')].index, inplace=True)"
   ]
  },
  {
   "cell_type": "code",
   "execution_count": null,
   "metadata": {},
   "outputs": [],
   "source": [
    "raw_CH_crops_dataset.head()"
   ]
  },
  {
   "cell_type": "markdown",
   "metadata": {},
   "source": [
    "Let's also load the flags dataset, in case we need it later (very small size --> doesn't cost anything)"
   ]
  },
  {
   "cell_type": "code",
   "execution_count": null,
   "metadata": {},
   "outputs": [],
   "source": [
    "flags = pd.read_csv('../data/FAOSTAT_data_flags.csv')\n",
    "flags"
   ]
  },
  {
   "cell_type": "code",
   "execution_count": null,
   "metadata": {},
   "outputs": [],
   "source": [
    "print(\"Size of the DataFrame: {s}\\n\".format(s=raw_CH_crops_dataset.shape))\n",
    "print(\"Variable types present in DataFrame: \\n{t}\".format(t=raw_CH_crops_dataset.dtypes))"
   ]
  },
  {
   "cell_type": "markdown",
   "metadata": {},
   "source": [
    "Null values investigation:"
   ]
  },
  {
   "cell_type": "code",
   "execution_count": null,
   "metadata": {},
   "outputs": [],
   "source": [
    "print(raw_CH_crops_dataset.isnull().values.any(axis=0)) "
   ]
  },
  {
   "cell_type": "markdown",
   "metadata": {},
   "source": [
    "No NaN values found. Perfect.\n",
    "\n",
    "What about the categories listed in our columns?"
   ]
  },
  {
   "cell_type": "code",
   "execution_count": null,
   "metadata": {
    "scrolled": true
   },
   "outputs": [],
   "source": [
    "print(raw_CH_crops_dataset['Domain'].unique())\n",
    "print(raw_CH_crops_dataset['Area'].unique())\n",
    "print(raw_CH_crops_dataset['Element'].unique())\n",
    "print(raw_CH_crops_dataset['Item'].unique())\n",
    "print(raw_CH_crops_dataset['Year'].unique())\n",
    "print(raw_CH_crops_dataset['Unit'].unique())\n",
    "print(raw_CH_crops_dataset['Flag Description'].unique())"
   ]
  },
  {
   "cell_type": "markdown",
   "metadata": {},
   "source": [
    "**Quick view of the crops dataset ready to be used**"
   ]
  },
  {
   "cell_type": "code",
   "execution_count": null,
   "metadata": {},
   "outputs": [],
   "source": [
    "raw_CH_crops_dataset.head()"
   ]
  },
  {
   "cell_type": "markdown",
   "metadata": {},
   "source": [
    "## **Crops plots :** what we can already see/investigate with this first dataset\n",
    "\n",
    "Even if we will probably not use those plots for final presentation/analysis, it helps us to see what's inside our data. It is quick and very visual."
   ]
  },
  {
   "cell_type": "markdown",
   "metadata": {},
   "source": [
    "### Plot production of all countries over time for a selected crop\n",
    "\n",
    "This plot is interactive. It allows you to choose for an item (apples, berries..) and shows you its production over years for the 6 countries (CH + Neighbours as listed above)."
   ]
  },
  {
   "cell_type": "code",
   "execution_count": null,
   "metadata": {},
   "outputs": [],
   "source": [
    "import ipywidgets as widgets\n",
    "from ipywidgets import interact, interactive, fixed, interact_manual\n",
    "# All those  library importations would probably be at the begining for the final version of te notebook, \n",
    "# but for now, we just kee them where we use them since we don't know what we will keep or not."
   ]
  },
  {
   "cell_type": "code",
   "execution_count": null,
   "metadata": {},
   "outputs": [],
   "source": [
    "#Interactive visualization\n",
    "\n",
    "#Plot the production of selected item for all countries over years\n",
    "def viz_evolution(item):\n",
    "    df_viz_evolution = raw_CH_crops_dataset.loc[raw_CH_crops_dataset['Element']=='Production'].loc[raw_CH_crops_dataset['Item']==item]\n",
    "    \n",
    "    # multiple line plot\n",
    "    plt.figure(figsize=(20,10))\n",
    "    plt.plot( 'Year', 'Value', data=df_viz_evolution.loc[df_viz_evolution['Area']=='Austria'], marker='', color='green',  label = 'Austria')\n",
    "    plt.plot( 'Year', 'Value', data=df_viz_evolution.loc[df_viz_evolution['Area']=='France'], marker='', color='skyblue', label = 'France')\n",
    "    plt.plot( 'Year', 'Value', data=df_viz_evolution.loc[df_viz_evolution['Area']=='Switzerland'], marker='', color='red', label = 'Switzerland', linewidth=3)\n",
    "    plt.plot( 'Year', 'Value', data=df_viz_evolution.loc[df_viz_evolution['Area']=='Germany'], marker='', color='orange', label = 'Germany')\n",
    "    plt.plot( 'Year', 'Value', data=df_viz_evolution.loc[df_viz_evolution['Area']=='Italy'], marker='', color='grey', label = 'Italy')\n",
    "    \n",
    "    plt.legend() \n",
    "    plt.title(f'Production of {item} in Switzerland and its neighbours throughout years', fontsize= 20)\n",
    "    plt.xlabel(\"Year\", fontsize= 20)\n",
    "    plt.ylabel(\"Values\", fontsize= 20)\n",
    "    plt.show()\n",
    "   \n",
    "items = raw_CH_crops_dataset.Item.unique()\n",
    "interact(viz_evolution, item = items)    "
   ]
  },
  {
   "cell_type": "markdown",
   "metadata": {},
   "source": [
    "For some datas we can see that we miss datas along some years. \n",
    "ex: item=Artichokes\n",
    "What do we do? linear interpolation? drop this item? "
   ]
  },
  {
   "cell_type": "markdown",
   "metadata": {},
   "source": [
    "### Plot production/area_harvested for all items of all countries over time.\n",
    "\n",
    "This plot is interactive. It allows you to choose for an element (production/area harvested/yield) and shows you the sum of all items for each country over years (CH & Co)"
   ]
  },
  {
   "cell_type": "code",
   "execution_count": null,
   "metadata": {},
   "outputs": [],
   "source": [
    "# plot area harvested of each country over years\n",
    "crops_sum = raw_CH_crops_dataset.groupby(['Area', 'Element','Year']) \\\n",
    "                                .agg({'Value':'sum'}) \\\n",
    "                                .rename(columns={'Value':'Sum'}) \\\n",
    "                                .reset_index()\n",
    "crops_sum.head() # Sum of area/yiel/production of items by country and year"
   ]
  },
  {
   "cell_type": "code",
   "execution_count": null,
   "metadata": {},
   "outputs": [],
   "source": [
    "#Interactive visualization\n",
    "\n",
    "#Plot the area harvested (sum of all items) for all countries over years\n",
    "def viz_sum_evolution(element):\n",
    "    df_viz_sum_evolution = crops_sum.loc[crops_sum['Element']== element]\n",
    "    \n",
    "    # multiple line plot\n",
    "    plt.figure(figsize=(20,10))\n",
    "    plt.plot( 'Year', 'Sum', data=df_viz_sum_evolution.loc[df_viz_sum_evolution['Area']=='Austria'], marker='', color='green',  label = 'Austria')\n",
    "    plt.plot( 'Year', 'Sum', data=df_viz_sum_evolution.loc[df_viz_sum_evolution['Area']=='France'], marker='', color='skyblue', label = 'France')\n",
    "    plt.plot( 'Year', 'Sum', data=df_viz_sum_evolution.loc[df_viz_sum_evolution['Area']=='Switzerland'], marker='', color='red', label = 'Switzerland', linewidth=3)\n",
    "    plt.plot( 'Year', 'Sum', data=df_viz_sum_evolution.loc[df_viz_sum_evolution['Area']=='Germany'], marker='', color='orange', label = 'Germany')\n",
    "    plt.plot( 'Year', 'Sum', data=df_viz_sum_evolution.loc[df_viz_sum_evolution['Area']=='Italy'], marker='', color='grey', label = 'Italy')\n",
    "    \n",
    "    plt.legend() \n",
    "    plt.title(f'{element} of all items in Switzerland and its neighbours throughout years', fontsize= 20)\n",
    "    plt.xlabel(\"Year\", fontsize= 20)\n",
    "    plt.ylabel(\"Values\", fontsize= 20)\n",
    "    plt.show()\n",
    "   \n",
    "elements = crops_sum.Element.unique()\n",
    "interact(viz_sum_evolution, element = elements)  "
   ]
  },
  {
   "cell_type": "markdown",
   "metadata": {},
   "source": [
    "## Data loading - Land use indicators \n",
    "\n",
    "File contains data about Switzerland and neighbours (Italy, Germany, France, Austria and Liechtenstein).\n",
    "This file will allows us to know the potential of Switzerland in term of agriculture. Does the country use all its land or not? \n",
    "\n",
    "Data exploration and pre-processing is very simmilar to first dataset. We will therefore not describe all steps as precisely as before."
   ]
  },
  {
   "cell_type": "code",
   "execution_count": null,
   "metadata": {},
   "outputs": [],
   "source": [
    "raw_land_use_dataset = pd.read_csv('../data/FAOSTAT_data_LandUseIndicators.csv')"
   ]
  },
  {
   "cell_type": "code",
   "execution_count": null,
   "metadata": {},
   "outputs": [],
   "source": [
    "raw_land_use_dataset.head()"
   ]
  },
  {
   "cell_type": "code",
   "execution_count": null,
   "metadata": {},
   "outputs": [],
   "source": [
    "raw_land_use_dataset =raw_land_use_dataset[['Domain', 'Area', 'Element', 'Item', 'Year', 'Unit', 'Value', 'Flag Description']]"
   ]
  },
  {
   "cell_type": "code",
   "execution_count": null,
   "metadata": {},
   "outputs": [],
   "source": [
    "print(\"Size of the DataFrame: {s}\\n\".format(s=raw_land_use_dataset.shape))\n",
    "print(\"Variable types present in DataFrame: \\n{t}\".format(t=raw_land_use_dataset.dtypes))"
   ]
  },
  {
   "cell_type": "code",
   "execution_count": null,
   "metadata": {},
   "outputs": [],
   "source": [
    "print(raw_land_use_dataset.isnull().values.any(axis=0))  # --> PERFECT!"
   ]
  },
  {
   "cell_type": "code",
   "execution_count": null,
   "metadata": {},
   "outputs": [],
   "source": [
    "print(raw_land_use_dataset['Domain'].unique())\n",
    "print(raw_land_use_dataset['Area'].unique())\n",
    "print(raw_land_use_dataset['Element'].unique())\n",
    "print(raw_land_use_dataset['Item'].unique())\n",
    "print(raw_land_use_dataset['Year'].unique())\n",
    "print(raw_land_use_dataset['Unit'].unique())\n",
    "print(raw_land_use_dataset['Flag Description'].unique())"
   ]
  },
  {
   "cell_type": "markdown",
   "metadata": {},
   "source": [
    "## **Land use indicators plots :** what we can already see/investigate with this second dataset\n",
    "\n",
    "Even if we will probably not use those plots for final presentation/analysis, it helps us to see what's inside our data. It is quick and very visual."
   ]
  },
  {
   "cell_type": "markdown",
   "metadata": {},
   "source": [
    "### Plot the lands distribution in Switzerland\n",
    "\n",
    "We would like to precise those data (with more datasets) by including also urban areas to the distribution."
   ]
  },
  {
   "cell_type": "code",
   "execution_count": null,
   "metadata": {},
   "outputs": [],
   "source": [
    "import matplotlib.pyplot as plt\n",
    "\n",
    "# DataFrames to plot\n",
    "df_land = raw_land_use_dataset.loc[raw_land_use_dataset['Area']=='Switzerland'].loc[raw_land_use_dataset['Year']==2016].loc[raw_land_use_dataset['Element']=='Share in Land area']\n",
    "df_agri = raw_land_use_dataset.loc[raw_land_use_dataset['Area']=='Switzerland'].loc[raw_land_use_dataset['Year']==2016].loc[raw_land_use_dataset['Element']=='Share in Agricultural land']\n",
    "\n",
    "# Pie plot #1\n",
    "labels1 = df_land.Item\n",
    "sizes1 = df_land.Value\n",
    "explode = (0, 0, 0.1, 0)  # only \"explode\" the 3rd slice\n",
    "\n",
    "fig1, ax1 = plt.subplots()\n",
    "ax1.pie(sizes1, explode=explode,labels=labels1, autopct='%1.1f%%',\n",
    "        shadow=True, startangle=90)\n",
    "ax1.axis('equal')  # Equal aspect ratio ensures that pie is drawn as a circle.\n",
    "ax1.title.set_text('Distribution of lands in Switzerland, year 2016')\n",
    "fig1.set_facecolor('white')\n",
    "\n",
    "# Pie plot #2\n",
    "labels2 = df_agri.Item\n",
    "sizes2 = df_agri.Value\n",
    "fig1, ax2 = plt.subplots()\n",
    "ax2.pie(sizes2, labels=labels2, autopct='%1.1f%%',\n",
    "        shadow=True, startangle=90)\n",
    "ax2.axis('equal')  # Equal aspect ratio ensures that pie is drawn as a circle.\n",
    "ax2.title.set_text('Distribution of agricultural lands in Switzerland, year 2016')\n",
    "\n",
    "# General settings\n",
    "fig1.set_facecolor('white')\n",
    "plt.show()"
   ]
  },
  {
   "cell_type": "markdown",
   "metadata": {},
   "source": [
    "## Data loading - Demographical data \n",
    "\n",
    "File contains data about Switzerland and neighbours (Italy, Germany, France, Austria but not Liechtenstein -data missing from dataset).\n",
    "These data will allow us to know the number of consumers in Switzerland and to compare the possible food self-sufficiency between Switzerland and its neighbours. we would like to answer questions as: With the growing population, can we feed everybody with Swiss agriculture in the next few years?\n",
    "\n",
    "Data exploration and pre-processing is very simmilar to first dataset. We will therefore not describe all steps as precisely as before."
   ]
  },
  {
   "cell_type": "code",
   "execution_count": null,
   "metadata": {},
   "outputs": [],
   "source": [
    "demography = pd.read_csv('../data/FAOSTAT_data_demography.csv')"
   ]
  },
  {
   "cell_type": "code",
   "execution_count": null,
   "metadata": {},
   "outputs": [],
   "source": [
    "demography"
   ]
  },
  {
   "cell_type": "code",
   "execution_count": null,
   "metadata": {
    "scrolled": true
   },
   "outputs": [],
   "source": [
    "for col in demography:\n",
    "    print (demography[col].unique())"
   ]
  },
  {
   "cell_type": "code",
   "execution_count": null,
   "metadata": {},
   "outputs": [],
   "source": [
    "demography = demography[['Area', 'Year', 'Value']]\n",
    "demography"
   ]
  },
  {
   "cell_type": "markdown",
   "metadata": {},
   "source": [
    "The value unit beeing 1000 persons, we adjust the number to display the population values in terms of individuals"
   ]
  },
  {
   "cell_type": "code",
   "execution_count": null,
   "metadata": {},
   "outputs": [],
   "source": [
    "pd.options.mode.chained_assignment = None  # default='warn', Mutes warnings when copying a slice from a DataFrame.\n",
    "demography[\"Population\"] = demography.Value.apply(lambda x: x*1000)\n",
    "demography.drop(columns='Value')"
   ]
  },
  {
   "cell_type": "code",
   "execution_count": null,
   "metadata": {},
   "outputs": [],
   "source": [
    "#plot of the evolution of the demography over the years\n",
    "plt.figure(figsize=(20,10))\n",
    "plt.plot( 'Year', 'Population', data=demography.loc[demography['Area']=='Austria'], marker='', color='green',  label = 'Austria')\n",
    "plt.plot( 'Year', 'Population', data=demography.loc[demography['Area']=='France'], marker='', color='skyblue', label = 'France')\n",
    "plt.plot( 'Year', 'Population', data=demography.loc[demography['Area']=='Switzerland'], marker='', color='red', label = 'Switzerland', linewidth=3)\n",
    "plt.plot( 'Year', 'Population', data=demography.loc[demography['Area']=='Germany'], marker='', color='orange', label = 'Germany')\n",
    "plt.plot( 'Year', 'Population', data=demography.loc[demography['Area']=='Italy'], marker='', color='grey', label = 'Italy')\n",
    "    \n",
    "plt.legend() \n",
    "plt.title('Evolution of the demography over the years' , fontsize= 20)\n",
    "plt.xlabel(\"Year\", fontsize= 20)\n",
    "plt.ylabel(\"Population value\", fontsize= 20)\n",
    "plt.show()"
   ]
  },
  {
   "cell_type": "markdown",
   "metadata": {},
   "source": [
    "We can see that as expected, the population is growing in every country. "
   ]
  },
  {
   "cell_type": "markdown",
   "metadata": {},
   "source": [
    "## Data loading - Swiss importations and exportations of agricultural goods \n",
    "\n",
    "Files contain data for Switzerland only. The data provide insight about the trade of agricultural goods, that is the importations and exportations for a given product.\n",
    "Data exploration and pre-processing is very simmilar to first dataset. We will therefore not describe all steps as precisely as before."
   ]
  },
  {
   "cell_type": "code",
   "execution_count": null,
   "metadata": {},
   "outputs": [],
   "source": [
    "CH_imports = pd.read_csv('../data/FAOSTAT_data_11-23-2019.csv')"
   ]
  },
  {
   "cell_type": "code",
   "execution_count": null,
   "metadata": {},
   "outputs": [],
   "source": [
    "CH_imports.head()"
   ]
  },
  {
   "cell_type": "code",
   "execution_count": null,
   "metadata": {},
   "outputs": [],
   "source": [
    "CH_exports = pd.read_csv('../data/FAOSTAT_data_exports.csv')"
   ]
  },
  {
   "cell_type": "code",
   "execution_count": null,
   "metadata": {},
   "outputs": [],
   "source": [
    "CH_exports.head()"
   ]
  },
  {
   "cell_type": "markdown",
   "metadata": {},
   "source": [
    "To make the data processing and analysis more simple and concise, we concatenate exportations and importations data (as both datasets have exactly the same structure)."
   ]
  },
  {
   "cell_type": "code",
   "execution_count": null,
   "metadata": {},
   "outputs": [],
   "source": [
    "CH_trade = pd.concat([CH_imports, CH_exports])"
   ]
  },
  {
   "cell_type": "code",
   "execution_count": null,
   "metadata": {
    "scrolled": true
   },
   "outputs": [],
   "source": [
    "CH_trade.dtypes"
   ]
  },
  {
   "cell_type": "code",
   "execution_count": null,
   "metadata": {},
   "outputs": [],
   "source": [
    "for col in CH_trade:\n",
    "    print (CH_trade[col].unique())"
   ]
  },
  {
   "cell_type": "markdown",
   "metadata": {},
   "source": [
    "For maximizing reliability of later results, we discard the numbers that were obtained from an unofficial source."
   ]
  },
  {
   "cell_type": "code",
   "execution_count": null,
   "metadata": {},
   "outputs": [],
   "source": [
    "unofficial_stats_index = CH_trade.loc[CH_trade.Flag=='*'].index"
   ]
  },
  {
   "cell_type": "code",
   "execution_count": null,
   "metadata": {},
   "outputs": [],
   "source": [
    "# Drop the unofficial data\n",
    "CH_trade = CH_trade.drop(index = unofficial_stats_index)"
   ]
  },
  {
   "cell_type": "markdown",
   "metadata": {},
   "source": [
    "We keep only the importation and exportation values that are represented in tonnes, so that we can compare it with the agricultural production."
   ]
  },
  {
   "cell_type": "code",
   "execution_count": null,
   "metadata": {},
   "outputs": [],
   "source": [
    "CH_trade = CH_trade.loc[CH_imports.Unit=='tonnes']"
   ]
  },
  {
   "cell_type": "code",
   "execution_count": null,
   "metadata": {},
   "outputs": [],
   "source": [
    "CH_trade = CH_trade[['Element','Partner Countries', 'Item', 'Year', 'Unit', 'Value']]"
   ]
  },
  {
   "cell_type": "markdown",
   "metadata": {},
   "source": [
    "To keep the model simple, we sum the importations and exportations for a given product over all partner countries."
   ]
  },
  {
   "cell_type": "code",
   "execution_count": null,
   "metadata": {},
   "outputs": [],
   "source": [
    "CH_trade = CH_trade.groupby(['Item', 'Year', 'Element']).agg({'Value':'sum'})\\\n",
    "                                    .reset_index()"
   ]
  },
  {
   "cell_type": "markdown",
   "metadata": {},
   "source": [
    "We improve the structure of our dataframe by pivoting its values of importations and exportations."
   ]
  },
  {
   "cell_type": "code",
   "execution_count": null,
   "metadata": {},
   "outputs": [],
   "source": [
    "CH_trade_transformed = pd.pivot(CH_trade,columns = 'Element', values='Value')\\\n",
    "                .rename(columns={'Export Quantity':'Exported Quantity','Import Quantity':'Imported Quantity'})"
   ]
  },
  {
   "cell_type": "code",
   "execution_count": null,
   "metadata": {},
   "outputs": [],
   "source": [
    "CH_trade_transformed"
   ]
  },
  {
   "cell_type": "code",
   "execution_count": null,
   "metadata": {},
   "outputs": [],
   "source": [
    "CH_trade = pd.concat([CH_trade, CH_trade_transformed], axis=1, join='inner')"
   ]
  },
  {
   "cell_type": "code",
   "execution_count": null,
   "metadata": {},
   "outputs": [],
   "source": [
    "CH_trade.drop(columns=['Value', 'Element'], inplace=True)"
   ]
  },
  {
   "cell_type": "code",
   "execution_count": null,
   "metadata": {},
   "outputs": [],
   "source": [
    "CH_trade = CH_trade.groupby(['Item', 'Year'])\\\n",
    "                            .agg({'Exported Quantity':'mean','Imported Quantity':'mean'})\\\n",
    "                            .reset_index()\n",
    "                                    "
   ]
  },
  {
   "cell_type": "markdown",
   "metadata": {},
   "source": [
    "Combine production and trade data in one dataframe 'CH_data' so that we have all the information at the same place. Note that we don't have values of importations and exportations before 1986 so production of goods before 1986 will not be considered as from here."
   ]
  },
  {
   "cell_type": "code",
   "execution_count": null,
   "metadata": {},
   "outputs": [],
   "source": [
    "CH_crops = raw_CH_crops_dataset[['Area', 'Item','Element', 'Year', 'Unit', 'Value']]"
   ]
  },
  {
   "cell_type": "code",
   "execution_count": null,
   "metadata": {},
   "outputs": [],
   "source": [
    "# Merge importations data with production data\n",
    "CH_data = CH_crops.loc[CH_crops.Area=='Switzerland'].loc[CH_crops.Element=='Production'].loc[CH_crops.Year>= 1986]\\\n",
    "                                    .merge(CH_trade,on=['Item', 'Year'], how='inner')\\\n",
    "                                    .rename(columns={'Value':'Produced Quantity'})\n",
    "\n"
   ]
  },
  {
   "cell_type": "code",
   "execution_count": null,
   "metadata": {},
   "outputs": [],
   "source": [
    "CH_data"
   ]
  },
  {
   "cell_type": "markdown",
   "metadata": {},
   "source": [
    "Now, combine with the land analysis of Switzerland, the consumers trends and the Swiss demography we could estimate if the country has an interest of producing more of an item, if it is able to produce more of an item and stop its importation of the item. --> # Milestone 3"
   ]
  },
  {
   "cell_type": "markdown",
   "metadata": {},
   "source": [
    "### Plot production, exports and imports of items in Switzerland over years.\n",
    "\n",
    "This plot is interactive. It allows you to choose for an item (apples, berries..) and shows you its production, exportation and importation in Switzerland over years."
   ]
  },
  {
   "cell_type": "code",
   "execution_count": null,
   "metadata": {},
   "outputs": [],
   "source": [
    "#Interactive visualization\n",
    "\n",
    "#Plot the production of selected item for all countries over years\n",
    "def viz_evolution(item):\n",
    "    df_viz_evolution = CH_data.loc[CH_data['Item']==item]\n",
    "    \n",
    "    # multiple line plot\n",
    "    plt.figure(figsize=(20,10))\n",
    "    plt.plot( 'Year', 'Produced Quantity', data=df_viz_evolution, marker='', color='red', label = 'crops', linewidth=3)\n",
    "    plt.plot('Year', 'Imported Quantity', data=df_viz_evolution, marker='', color='blue', label = 'imports', linewidth=3)\n",
    "    plt.plot('Year', 'Exported Quantity', data=df_viz_evolution, marker='', color='green', label = 'exports', linewidth=3) \n",
    "    plt.legend() \n",
    "    plt.title(f'Production and imports of {item} in Switzerland throughout years', fontsize= 20)\n",
    "    plt.xlabel(\"Year\", fontsize= 20)\n",
    "    plt.ylabel(\"Values [tonnes]\", fontsize= 20)\n",
    "    plt.show()\n",
    "   \n",
    "items = CH_data.Item.unique()\n",
    "interact(viz_evolution, item = items)    "
   ]
  },
  {
   "cell_type": "markdown",
   "metadata": {},
   "source": [
    "**Most produced, imported and exported products :**\n",
    "\n",
    "- Most produced crops products"
   ]
  },
  {
   "cell_type": "code",
   "execution_count": null,
   "metadata": {},
   "outputs": [],
   "source": [
    "CH_data.loc[CH_data.Year == 2016].sort_values(by='Produced Quantity', ascending = False).head(10)"
   ]
  },
  {
   "cell_type": "markdown",
   "metadata": {},
   "source": [
    "- Most imported crops products"
   ]
  },
  {
   "cell_type": "code",
   "execution_count": null,
   "metadata": {
    "scrolled": false
   },
   "outputs": [],
   "source": [
    "CH_data.loc[CH_data.Year == 2016].sort_values(by='Imported Quantity', ascending = False).head(10)"
   ]
  },
  {
   "cell_type": "markdown",
   "metadata": {},
   "source": [
    "- Most exported crops products"
   ]
  },
  {
   "cell_type": "code",
   "execution_count": null,
   "metadata": {},
   "outputs": [],
   "source": [
    "CH_data.loc[CH_data.Year == 2016].sort_values(by='Exported Quantity', ascending = False).head(10)"
   ]
  },
  {
   "cell_type": "markdown",
   "metadata": {},
   "source": [
    "### Plot most produced, exported and  imported items in Switzerland, year 2016.\n",
    "\n",
    "This plot is interactive. Shows values upon cursor selection."
   ]
  },
  {
   "cell_type": "code",
   "execution_count": null,
   "metadata": {},
   "outputs": [],
   "source": [
    "import plotly # conda install -c anaconda plotly #AND# jupyter labextension install @jupyterlab/plotly-extension\n",
    "import plotly.graph_objects as go\n",
    "y_wheat = CH_data.loc[CH_data.Year == 2016].loc[CH_data.Item=='Wheat'].values[0,-3:]\n",
    "y_potatoes = CH_data.loc[CH_data.Year == 2016].loc[CH_data.Item=='Potatoes'].values[0,-3:]\n",
    "y_beet = CH_data.loc[CH_data.Year == 2016].loc[CH_data.Item=='Sugar beet'].values[0,-3:]\n",
    "y_maize = CH_data.loc[CH_data.Year == 2016].loc[CH_data.Item=='Maize'].values[0,-3:]\n",
    "\n",
    "x=['Produced', 'Exported', 'Imported']\n",
    "fig = go.Figure(go.Bar(x=x, y=y_wheat, name='Wheat'))\n",
    "fig.add_trace(go.Bar(x=x, y=y_potatoes, name='Potatoes'))\n",
    "fig.add_trace(go.Bar(x=x, y=y_beet, name='Sugar beet'))\n",
    "fig.add_trace(go.Bar(x=x, y=y_maize, name='Maize'))\n",
    "\n",
    "fig.update_layout(\n",
    "    title='Most produced, exported and imported items in Switzerland in 2016',\n",
    "    yaxis_title=\"Values [tonnes]\",\n",
    "    barmode='stack', \n",
    "    font=dict(\n",
    "        family=\"Courier New, monospace\",\n",
    "        size=16,\n",
    "        color=\"#7f7f7f\")\n",
    "    )\n",
    "fig.show()\n"
   ]
  },
  {
   "cell_type": "markdown",
   "metadata": {},
   "source": [
    "We see that Switzerland is a very small exportator. "
   ]
  },
  {
   "cell_type": "markdown",
   "metadata": {},
   "source": [
    "### Plot production, importation and exportation of agricultural goods in Switzerland throughout years\n",
    "\n",
    "This plot is interactive. Shows values upon cursor selection"
   ]
  },
  {
   "cell_type": "code",
   "execution_count": null,
   "metadata": {},
   "outputs": [],
   "source": [
    "import plotly.graph_objects as go\n",
    "\n",
    "def viz_potatoe(item):\n",
    "    y_wheat = CH_data.loc[CH_data.Item==item].values[:,-3:]\n",
    "    fig = go.Figure()\n",
    "    fig.add_trace(go.Scatter(x=CH_data.Year.unique(), y=y_wheat[:,0], fill='tonexty', name='Produced')) # fill down to xaxis\n",
    "    fig.add_trace(go.Scatter(x=CH_data.Year.unique(), y=y_wheat[:,1], fill='tozeroy', name='Exported')) # fill to trace0 y\n",
    "    fig.add_trace(go.Scatter(x=CH_data.Year.unique(), y=y_wheat[:,2], fill='tonexty', name='Imported')) # fill to trace0 y\n",
    "    fig.update_layout(\n",
    "        title=f\"{item} importations and productions throughout years in Switzerland\",\n",
    "        yaxis_title=\"Values [tonnes]\",\n",
    "        xaxis_title='Years'\n",
    "        )\n",
    "    fig.show()\n",
    "\n",
    "items = CH_data.Item.unique()\n",
    "interact(viz_potatoe, item = items)  \n"
   ]
  },
  {
   "cell_type": "markdown",
   "metadata": {},
   "source": [
    "### Plot production,  importation and exportation in Switzerland throughout years\n",
    "\n",
    "This plot is interactive. Shows values upon cursor selection. As reported before, values of exportations are much lower than those of production and importations. Hence, exportations values will now be plot separately, to better show their trend."
   ]
  },
  {
   "cell_type": "code",
   "execution_count": null,
   "metadata": {
    "scrolled": true
   },
   "outputs": [],
   "source": [
    "total_crops_imports = CH_data.groupby('Year').agg({'Produced Quantity':'sum', 'Exported Quantity':'sum', 'Imported Quantity':'sum'})"
   ]
  },
  {
   "cell_type": "code",
   "execution_count": null,
   "metadata": {},
   "outputs": [],
   "source": [
    "fig = go.Figure()\n",
    "fig.add_trace(go.Scatter(x=CH_data.Year.unique(), y=total_crops_imports['Produced Quantity'].values, fill='tonexty', name='Produced')) # fill down to xaxis\n",
    "fig.add_trace(go.Scatter(x=CH_data.Year.unique(), y=total_crops_imports['Imported Quantity'].values, fill='tozeroy', name='Imported')) # fill to trace0 y\n",
    "fig.update_layout(\n",
    "    title=\"Sum of all importations and productions throughout years in Switzerland\",\n",
    "    yaxis_title=\"Values [tonnes]\",\n",
    "    xaxis_title='Years'\n",
    "    )\n",
    "fig.show()"
   ]
  },
  {
   "cell_type": "code",
   "execution_count": null,
   "metadata": {},
   "outputs": [],
   "source": [
    "fig = go.Figure()\n",
    "fig.add_trace(go.Scatter(x=CH_data.Year.unique(), y=total_crops_imports['Exported Quantity'].values, fill='tozeroy', name='Exported')) # fill to trace0 y\n",
    "fig.update_layout(\n",
    "    title=\"Sum of exportations throughout years in Switzerland\",\n",
    "    yaxis_title=\"Values [tonnes]\",\n",
    "    xaxis_title='Years'\n",
    "    )\n",
    "fig.show()"
   ]
  },
  {
   "cell_type": "markdown",
   "metadata": {},
   "source": [
    "Maybe we could add here an intercative plot where we can select the item to see (but for now we are sure if we can/how to combine plotly and ipwidgets libraries)"
   ]
  },
  {
   "cell_type": "code",
   "execution_count": null,
   "metadata": {},
   "outputs": [],
   "source": [
    "CH_data2 = CH_data.copy().rename(columns={'Produced Quantity':'Country production', 'Imported Quantity':'Importation', 'Exported Quantity':'Exportation'})\n",
    "CH_data_transformed = pd.melt(CH_data2, value_vars=['Country production', 'Importation'], id_vars=['Area', 'Element','Item','Year','Unit'], var_name='Input', value_name='Value')"
   ]
  },
  {
   "cell_type": "code",
   "execution_count": null,
   "metadata": {
    "scrolled": false
   },
   "outputs": [],
   "source": [
    "CH_data_transformed.loc[CH_data_transformed.Item=='Potatoes']"
   ]
  },
  {
   "cell_type": "markdown",
   "metadata": {},
   "source": [
    "### Plot evolution of production and importations for five most important items (Switzerland data only)\n",
    "\n",
    "This plot is interactive. Shows values upon cursor selection"
   ]
  },
  {
   "cell_type": "code",
   "execution_count": null,
   "metadata": {},
   "outputs": [],
   "source": [
    "CH_restrained = CH_data_transformed.loc[CH_data_transformed.Item.isin(['Apples','Wheat','Potatoes', 'Maize', 'Oats'])]\n",
    "\n"
   ]
  },
  {
   "cell_type": "code",
   "execution_count": null,
   "metadata": {},
   "outputs": [],
   "source": [
    "# Just trying a plot\n",
    "import plotly.express as px\n",
    "fig = px.area(CH_restrained, x=\"Year\", y=\"Value\", color='Item',\n",
    "      line_group='Input')\n",
    "fig.update_layout(\n",
    "    title=\"Switzerland's production/importation evolution for five most important items\",\n",
    "    yaxis_title=\"Values [tonnes]\",\n",
    "    xaxis_title='Years'\n",
    "    )\n",
    "fig.show()"
   ]
  },
  {
   "cell_type": "code",
   "execution_count": null,
   "metadata": {},
   "outputs": [],
   "source": [
    "CH_data_transformed_exportations = pd.melt(CH_data2, value_vars='Exportation', id_vars=['Area', 'Element','Item','Year','Unit'], var_name='Input', value_name='Value')\n"
   ]
  },
  {
   "cell_type": "code",
   "execution_count": null,
   "metadata": {},
   "outputs": [],
   "source": [
    "CH_restrained_exportations = CH_data_transformed_exportations.loc[CH_data_transformed_exportations.Item.isin(['Apples','Wheat','Potatoes', 'Maize', 'Oats'])]"
   ]
  },
  {
   "cell_type": "code",
   "execution_count": null,
   "metadata": {},
   "outputs": [],
   "source": [
    "import plotly.express as px\n",
    "fig = px.area(CH_restrained_exportations, x=\"Year\", y=\"Value\", color='Item',\n",
    "      line_group='Input')\n",
    "fig.update_layout(\n",
    "    title=\"Switzerland's exportations evolution for five most important items over time\",\n",
    "    yaxis_title=\"Values [tonnes]\",\n",
    "    xaxis_title='Years'\n",
    "    )\n",
    "fig.show()"
   ]
  },
  {
   "cell_type": "markdown",
   "metadata": {},
   "source": [
    "## Data Loading -  Switzerland temperatures\n",
    "\n",
    "This dataset does not come from FAOSTATS but from : __[MeteoSwiss](https://www.meteoswiss.admin.ch/home/climate/swiss-climate-in-detail/Swiss-temperature-mean/Data-on-the-Swiss-temperature-mean.html)__"
   ]
  },
  {
   "cell_type": "code",
   "execution_count": null,
   "metadata": {},
   "outputs": [],
   "source": [
    "CH_temperatures = pd.read_csv('../data/10.18751-Climate-Timeseries-CHTM-1.1-swiss.txt', sep=\"\\t\", header=0, skiprows=15)"
   ]
  },
  {
   "cell_type": "code",
   "execution_count": null,
   "metadata": {},
   "outputs": [],
   "source": [
    "CH_temperatures = CH_temperatures.loc[CH_temperatures.time>=1986].loc[CH_temperatures.time<=2017]"
   ]
  },
  {
   "cell_type": "code",
   "execution_count": null,
   "metadata": {},
   "outputs": [],
   "source": [
    "CH_temperatures = CH_temperatures.iloc[:,-3:]"
   ]
  },
  {
   "cell_type": "code",
   "execution_count": null,
   "metadata": {},
   "outputs": [],
   "source": [
    "CH_temperatures"
   ]
  },
  {
   "cell_type": "markdown",
   "metadata": {},
   "source": [
    "### Plot : Is there a correlation between production and temperature?\n"
   ]
  },
  {
   "cell_type": "code",
   "execution_count": null,
   "metadata": {},
   "outputs": [],
   "source": [
    "years = np.sort(CH_data.Year.unique())\n",
    "fig, ax1 = plt.subplots()\n",
    "data1 = CH_data.loc[CH_data.Item=='Potatoes']['Produced Quantity']\n",
    "data2 = CH_temperatures.year\n",
    "\n",
    "color = 'tab:red'\n",
    "ax1.set_xlabel('year')\n",
    "ax1.set_ylabel('production', color=color)\n",
    "ax1.plot(years, data1, color=color)\n",
    "ax1.tick_params(axis='y', labelcolor=color)\n",
    "\n",
    "ax2 = ax1.twinx()  # instantiate a second axes that shares the same x-axis\n",
    "\n",
    "color = 'tab:blue'\n",
    "ax2.set_ylabel('temperature', color=color)  # we already handled the x-label with ax1\n",
    "ax2.plot(years, data2, color=color)\n",
    "ax2.tick_params(axis='y', labelcolor=color)\n",
    "\n",
    "fig.tight_layout()  # otherwise the right y-label is slightly clipped\n",
    "plt.title('Potatoes production and temperatures every year')\n",
    "plt.show()"
   ]
  },
  {
   "cell_type": "markdown",
   "metadata": {},
   "source": [
    "## Plan - What's coming next?"
   ]
  },
  {
   "cell_type": "markdown",
   "metadata": {},
   "source": [
    "<div class=\"alert alert-block alert-info\">\n",
    "    \n",
    "1. Defining what is food self-sufficiency\n",
    "    1. $ SSR = Production * 100 / (Production + Imports - Exports)$ to develop\n",
    "    2. Addapt it to the Swiss case : take a look to what we import (basic needs ?), export (top exports ? by far ?) and production graphs\n",
    "    3. __[Ref. Paper \"Food self-sufficiency: Making sense of it, and when it makes sense\" By Jennifer Clapp](https://www.sciencedirect.com/science/article/pii/S0306919216305851#b0240)__. <br> Résumé : __[Résumé par le site Resilience du paper de Clapp](https://www.resilience.org/stories/2018-03-13/food-self-sufficiency-does-it-make-sense/)__\n",
    "    4. Compare our results with other sources just to know if we share the same results (e.g. selfsufficiency switzerland on wikipedia __[List of countries by food self-sufficieent rate](https://en.wikipedia.org/wiki/List_of_countries_by_food_self-sufficiency_rate)__)\n",
    "\n",
    "    \n",
    "2. Food situation of Switzerland from 1986 to 2017.\n",
    "    1. Is/was it food self-sufficient ? SSR scores over the years.\n",
    "    2. Comapre to neighbours\n",
    "\n",
    "    \n",
    "3. Will it be **physically** possible for Switzerland in a near future to be food self-sufficient (in the sense of the 2018 initiative bc we have seen that definition is relative) taking into account its population growth (hesimated increase in consumption computation)? What would it imply/take into account in terms of :\n",
    "    1. Area harvested (actual ratio and estimation of its evolution)\n",
    "    2. Farmers population \n",
    "    3. Temperature (climate impact food production correlation)\n",
    "    4. Environment (use of fertilizers needed ? depends on productivity)\n",
    "\n",
    "    \n",
    "4. Attempt on **economy** consequences analysis ?\n",
    "    1. Complicated ... What about looking at what happended in countries that adopted food self-sufficient policies such as Senegal, India, the Philippines, Qatar, Bolivia, and Russia ? (Jaccard and correlations?)\n",
    "    2. Jaccard similarity of country based on SSR to see which country should adopt more food self-sufficient policies ?"
   ]
  },
  {
   "cell_type": "code",
   "execution_count": null,
   "metadata": {},
   "outputs": [],
   "source": []
  }
 ],
 "metadata": {
  "kernelspec": {
   "display_name": "Python 3",
   "language": "python",
   "name": "python3"
  },
  "language_info": {
   "codemirror_mode": {
    "name": "ipython",
    "version": 3
   },
   "file_extension": ".py",
   "mimetype": "text/x-python",
   "name": "python",
   "nbconvert_exporter": "python",
   "pygments_lexer": "ipython3",
   "version": "3.7.3"
  }
 },
 "nbformat": 4,
 "nbformat_minor": 4
}

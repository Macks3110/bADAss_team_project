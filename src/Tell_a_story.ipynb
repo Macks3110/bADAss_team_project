{
 "cells": [
  {
   "cell_type": "markdown",
   "metadata": {},
   "source": [
    "# ADA Project - Food self-sufficiency :   what about Switzerland?"
   ]
  },
  {
   "cell_type": "markdown",
   "metadata": {},
   "source": [
    "<div class=\"alert alert-block alert-warning\">\n",
    "\n",
    "**INFO** - Our **interactives plots are not visible** when you open the pulled notebook without running it, you can find them as a **pdf file in the doc folder**.\n",
    "    "
   ]
  },
  {
   "cell_type": "code",
   "execution_count": null,
   "metadata": {},
   "outputs": [],
   "source": [
    "%matplotlib inline\n",
    "import numpy as np\n",
    "import matplotlib.pyplot as plt\n",
    "import pandas as pd\n",
    "import folium"
   ]
  },
  {
   "cell_type": "markdown",
   "metadata": {},
   "source": [
    "<div class=\"alert alert-block alert-success\">\n",
    "    \n",
    "## We will first investigate the dataset we choose from the proposed list : \"Global Food & Agriculture Statistics\"\n",
    "\n",
    "Our aim was initially to link food production to hunger in some areas. An other idea was to found the possible causes for food insufficiency (natural disasters, wars...). <br>\n",
    "\n",
    "The FAO dataset is the one we dowloaded from the course's link. It contains all the FAO data for world crops production. We started our analysis with this file but realized that given the diversity of the data, we should rather focus our project on a region or country. Moreover, this data is somehow out of date. <br>\n",
    "\n",
    "You will find right bellow our data investigation for \"Global Food & Agriculture Statistics\" dataset as we want to explicit our reasoning."
   ]
  },
  {
   "cell_type": "markdown",
   "metadata": {},
   "source": [
    "## Load data  into a Pandas dataframe"
   ]
  },
  {
   "cell_type": "code",
   "execution_count": null,
   "metadata": {
    "scrolled": true
   },
   "outputs": [],
   "source": [
    "complete_dataset = pd.read_csv('../data/fao_data_crops_data.csv')"
   ]
  },
  {
   "cell_type": "code",
   "execution_count": null,
   "metadata": {},
   "outputs": [],
   "source": [
    "# We split the data and metadata and store them in 'crops' and 'flags' dataframe, respecitvely.\n",
    "crops = complete_dataset.loc[:2255342].copy() \n",
    "flags = complete_dataset.loc[2255344:2255348].copy() \n",
    "# 'flags' contains correspondance list of acronyms that describe how a given sample was acquired --> only informative\n",
    "flags.drop(['element','year','unit','value','value_footnotes','category'], axis=1, inplace = True) \n",
    "flags.rename(columns={'country_or_area':'acronym', 'element_code':'description'}, inplace=True) \n",
    "flags.set_index('acronym', inplace=True)\n",
    "flags"
   ]
  },
  {
   "cell_type": "markdown",
   "metadata": {},
   "source": [
    "## Exploratory data analysis"
   ]
  },
  {
   "cell_type": "code",
   "execution_count": null,
   "metadata": {
    "scrolled": true
   },
   "outputs": [],
   "source": [
    "crops.head()"
   ]
  },
  {
   "cell_type": "code",
   "execution_count": null,
   "metadata": {},
   "outputs": [],
   "source": [
    "print(\"Size of the DataFrame: {s}\\n\".format(s=crops.shape))\n",
    "print(\"Variable types present in DataFrame: \\n{t}\".format(t=crops.dtypes))"
   ]
  },
  {
   "cell_type": "code",
   "execution_count": null,
   "metadata": {
    "scrolled": true
   },
   "outputs": [],
   "source": [
    "# List all the different footnotes values present in the dataset\n",
    "footnotes = crops['value_footnotes'].unique() \n",
    "print(footnotes)\n",
    "# Display dataframe that only contains one given value of 'value_footnotes'\n",
    "display(crops.query('value_footnotes==@footnotes[4]')) \n",
    "# Return dataframe that only contains samples having NaN as value for 'value_footnotes'\n",
    "crops[crops.value_footnotes.isnull()] "
   ]
  },
  {
   "cell_type": "code",
   "execution_count": null,
   "metadata": {
    "scrolled": true
   },
   "outputs": [],
   "source": [
    "print(crops['element'].unique())\n",
    "print(crops['year'].unique())\n",
    "print(crops['unit'].unique())\n",
    "print(crops['category'].unique())\n",
    "print(crops['element_code'].unique())\n",
    "print(crops['country_or_area'].unique())"
   ]
  },
  {
   "cell_type": "markdown",
   "metadata": {},
   "source": [
    "## Data preprocessing"
   ]
  },
  {
   "cell_type": "markdown",
   "metadata": {},
   "source": [
    "We clear the data by dropping all the row containing only NAN values. \n",
    "We also clear the raw where value_footnotes is NR as it means not repported by country, so it won't be usefull for our analysis. "
   ]
  },
  {
   "cell_type": "code",
   "execution_count": null,
   "metadata": {
    "scrolled": true
   },
   "outputs": [],
   "source": [
    "# Returns a boolean of whether a column contains NaN (True) or not (False).\n",
    "print(crops.isnull().values.any(axis=0)) \n",
    "\n",
    "# Drop rows which contain only missing values.\n",
    "crops.dropna(how='all', inplace=True) "
   ]
  },
  {
   "cell_type": "code",
   "execution_count": null,
   "metadata": {},
   "outputs": [],
   "source": [
    "# We drop the samples where 'value' is unknown (NaN) because they are of no utility    \n",
    "crops.dropna(subset=['value', 'value_footnotes'], inplace=True) \n",
    "\n",
    "# Let's drop also all the samples that have 'NR' as a 'value_footnotes' value or 0 as 'value'\n",
    "crops.drop(index=crops[crops['value_footnotes'].str.contains('NR')].index, inplace=True)\n",
    "crops.drop(index=crops[crops['value']==0].index, inplace=True)\n"
   ]
  },
  {
   "cell_type": "markdown",
   "metadata": {},
   "source": [
    "In our dataset, regions are indicated by a \"+\" at the end of their names. We want to separate regions from countries to facilitate our analysis so we can be more precise. "
   ]
  },
  {
   "cell_type": "code",
   "execution_count": null,
   "metadata": {},
   "outputs": [],
   "source": [
    "regions_bool = crops['country_or_area'].str.contains('\\+')\n",
    "crops_regions = crops[regions_bool].copy()\n",
    "crops_countries = crops[~regions_bool].copy()\n",
    "crops_countries[crops_countries.country_or_area.str.contains('China')].tail()"
   ]
  },
  {
   "cell_type": "markdown",
   "metadata": {},
   "source": [
    "We calculate the mean of all the elements for every country so we can compare the area harvested, seed or yield between each country. The mean is calculated over all years. "
   ]
  },
  {
   "cell_type": "code",
   "execution_count": null,
   "metadata": {},
   "outputs": [],
   "source": [
    "#calculate the mean of all the elements for every country.  \n",
    "crops_countries_by_country_year = crops_countries.groupby(['country_or_area', 'element']) \\\n",
    "                            .agg({'value':'mean'}) \\\n",
    "                            .rename(columns={'value':'mean_element'}) \n",
    "crops_countries_by_country_year"
   ]
  },
  {
   "cell_type": "code",
   "execution_count": null,
   "metadata": {},
   "outputs": [],
   "source": [
    "area_harvested = crops_countries_by_country_year.loc[(slice(None),'Area Harvested'), :]\n",
    "area_harvested.loc['United States of America']"
   ]
  },
  {
   "cell_type": "markdown",
   "metadata": {},
   "source": [
    "#### Create a map showing yield by country (average over all years) \n",
    "\n",
    "The following maps provide an insight of agricultural yield and area harvested in World countries.\n"
   ]
  },
  {
   "cell_type": "code",
   "execution_count": null,
   "metadata": {},
   "outputs": [],
   "source": [
    "yield_df= crops_countries_by_country_year.loc[(slice(None),'Yield'), :]\n",
    "#we take the log value for the following plot, so our quantile a more equilibrate\n",
    "log_yield_df=pd.DataFrame(yield_df.mean_element.map(lambda x:np.log(x)))\n",
    "log_yield_df.head()"
   ]
  },
  {
   "cell_type": "code",
   "execution_count": null,
   "metadata": {},
   "outputs": [],
   "source": [
    "m = folium.Map(location=[48, -102], zoom_start=3)\n",
    "\n",
    "world_geo = 'https://raw.githubusercontent.com/johan/world.geo.json/master/countries.geo.json'\n",
    "Bins = list(yield_df.mean_element.quantile([0, 0.25, 0.5, 0.75, 1]))\n",
    "\n",
    "m = folium.Map(zoom_start=3)\n",
    "\n",
    "folium.Choropleth(\n",
    "    geo_data=world_geo,\n",
    "    name='choropleth',\n",
    "    data=log_yield_df,\n",
    "    columns=[log_yield_df.index.get_level_values(level='country_or_area').values,'mean_element'],\n",
    "    key_on='feature.properties.name',\n",
    "    fill_color='BuPu',\n",
    "    fill_opacity=0.7,\n",
    "    line_opacity=0.2,\n",
    "    legend_name='yield',\n",
    "    #bins = Bins,\n",
    "    reset=True\n",
    ").add_to(m)\n",
    "\n",
    "folium.LayerControl().add_to(m)\n",
    "\n",
    "m"
   ]
  },
  {
   "cell_type": "markdown",
   "metadata": {},
   "source": [
    "The countries having the most important yield are Iceland and Danemark. We can also see that in many countries of Africa the yield is very low. Mongolia has also a very low yield. We can see the yield of Switzerland is higher than its neighbours (averaged over years)."
   ]
  },
  {
   "cell_type": "markdown",
   "metadata": {},
   "source": [
    "#### Area Hervested (mean)/superficy(mean over years) by country\n",
    " \n",
    "Such a way to calculate the ratio is hard to interpret. What we should do instead is to calculate an average for each year and make an interactive plot so we can select the year we want to analyze and show the map. "
   ]
  },
  {
   "cell_type": "code",
   "execution_count": null,
   "metadata": {},
   "outputs": [],
   "source": [
    "surface_country = pd.read_csv('../data/API_AG.LND.TOTL.K2_DS2_en_csv_v2_422954.csv', skiprows=3)\n",
    "surface_country.set_index('Country Name', inplace = True)"
   ]
  },
  {
   "cell_type": "code",
   "execution_count": null,
   "metadata": {},
   "outputs": [],
   "source": [
    "surface_country.drop(columns=['Country Code', 'Indicator Name', 'Indicator Code'], inplace=True)"
   ]
  },
  {
   "cell_type": "code",
   "execution_count": null,
   "metadata": {},
   "outputs": [],
   "source": [
    "surface_country"
   ]
  },
  {
   "cell_type": "code",
   "execution_count": null,
   "metadata": {},
   "outputs": [],
   "source": [
    "mean_ = surface_country.apply('mean', axis=1)\n",
    "df_surface_country = pd.DataFrame(mean_,columns=['mean_superficy'], index=surface_country.index)#.rename(columns={'0':'mean'})"
   ]
  },
  {
   "cell_type": "code",
   "execution_count": null,
   "metadata": {},
   "outputs": [],
   "source": [
    "df_surface_country"
   ]
  },
  {
   "cell_type": "code",
   "execution_count": null,
   "metadata": {},
   "outputs": [],
   "source": [
    "crops_countries_area = area_harvested.join(df_surface_country['mean_superficy'], on='country_or_area', how='left')\n",
    "crops_countries_area['ratio'] = area_harvested['mean_element']/(crops_countries_area['mean_superficy']*100) \n",
    "crops_countries_area.dropna(inplace=True)"
   ]
  },
  {
   "cell_type": "code",
   "execution_count": null,
   "metadata": {
    "scrolled": true
   },
   "outputs": [],
   "source": [
    "crops_countries_area.head()"
   ]
  },
  {
   "cell_type": "markdown",
   "metadata": {},
   "source": [
    "#### Create a map showing this ratio by country"
   ]
  },
  {
   "cell_type": "code",
   "execution_count": null,
   "metadata": {},
   "outputs": [],
   "source": [
    "crops_countries_area_df=pd.DataFrame(crops_countries_area.ratio)\n",
    "crops_countries_area_df.head()\n",
    "log_df=pd.DataFrame(crops_countries_area_df.ratio.map(lambda x:np.log(x)))\n",
    "type(log_df)"
   ]
  },
  {
   "cell_type": "code",
   "execution_count": null,
   "metadata": {},
   "outputs": [],
   "source": [
    "m = folium.Map(location=[48, -102], zoom_start=3)\n",
    "\n",
    "world_geo = 'https://raw.githubusercontent.com/johan/world.geo.json/master/countries.geo.json'\n",
    "Bins = list(crops_countries_area.ratio.quantile([0, 0.25, 0.5, 0.75, 1]))\n",
    "\n",
    "m = folium.Map(zoom_start=3)\n",
    "\n",
    "folium.Choropleth(\n",
    "    geo_data=world_geo,\n",
    "    name='choropleth',\n",
    "    data=log_df,\n",
    "    columns=[crops_countries_area.index.get_level_values(level='country_or_area').values,'ratio'],\n",
    "    key_on='feature.properties.name',\n",
    "    fill_color='BuPu',\n",
    "    fill_opacity=0.7,\n",
    "    line_opacity=0.2,\n",
    "    legend_name='country surface vs surface harvested ratio',\n",
    "    reset=True\n",
    ").add_to(m)\n",
    "\n",
    "folium.LayerControl().add_to(m)\n",
    "\n",
    "m"
   ]
  },
  {
   "cell_type": "markdown",
   "metadata": {},
   "source": [
    "On the map above, we see Switzerland has not a high ratio of area harvested over its total superficy compared to its neighbours (averaged over years). Hence, in further analysis, we will investigate whether augmenting this ratio could be feasible in the future."
   ]
  },
  {
   "cell_type": "code",
   "execution_count": null,
   "metadata": {},
   "outputs": [],
   "source": [
    "crops_countries_by_country_by_category = crops_countries.groupby(['country_or_area','element', 'category'])\n",
    "crops_countries_by_country_by_category = pd.DataFrame(data=crops_countries_by_country_by_category.value.sum().reset_index(name='total').sort_values(by='total',ascending=False))\n",
    "\n",
    "crops_countries_by_country_by_category.head(10)"
   ]
  },
  {
   "cell_type": "markdown",
   "metadata": {},
   "source": [
    "we can see that China and the united states are the main producers of cereals_total and cereale_rice_milled_eq. "
   ]
  },
  {
   "cell_type": "markdown",
   "metadata": {},
   "source": [
    "  \n",
    " ## What are the principal foodstuffs produced in each country/region of the world? And which countries are the biggest producers for a given food?"
   ]
  },
  {
   "cell_type": "code",
   "execution_count": null,
   "metadata": {},
   "outputs": [],
   "source": [
    "main_product=crops_countries_by_country_by_category.drop_duplicates(subset='country_or_area', keep='first')\n",
    "main_product.head(10)"
   ]
  },
  {
   "cell_type": "markdown",
   "metadata": {},
   "source": [
    "We decide to keep only the Production quantity for further analysis."
   ]
  },
  {
   "cell_type": "code",
   "execution_count": null,
   "metadata": {},
   "outputs": [],
   "source": [
    "ind_keep=pd.Series(main_product.element.str.contains('Production Quantity'))\n",
    "ind_keep=ind_keep[ind_keep].index\n",
    "\n",
    "main_product_quantity = main_product.drop(index=main_product.index.difference(ind_keep))\n",
    "main_product_quantity.head(10)"
   ]
  },
  {
   "cell_type": "code",
   "execution_count": null,
   "metadata": {},
   "outputs": [],
   "source": [
    "main_product_quantity.category.unique()"
   ]
  },
  {
   "cell_type": "markdown",
   "metadata": {},
   "source": [
    "In the previous dataframe (main_product_quantity) we show the category that is most produced by each country in term of production quantity. \n",
    "\n",
    "We can see that China and the United States are the main producers of cereals, Canada is the main producer of cereals_rice_milled. Nigeria and Poland are the mais producers of roots and tubbers. Philippines mainly produces sugar cane and Malesia mainly produces oil_palm_fruit. "
   ]
  },
  {
   "cell_type": "markdown",
   "metadata": {},
   "source": [
    "## Are all countries equal in terms of diversity of foodstuffs harvested?\n",
    "    \n",
    "To answer this question, we simply count the number of categories produced by countries, so we can get an idea of their food production diversity."
   ]
  },
  {
   "cell_type": "code",
   "execution_count": null,
   "metadata": {
    "scrolled": true
   },
   "outputs": [],
   "source": [
    "food_diversity = pd.DataFrame(crops_countries.groupby(['country_or_area','category'])['category'].count().reset_index(name='total'))\n",
    "food_diversity.head(10)"
   ]
  },
  {
   "cell_type": "code",
   "execution_count": null,
   "metadata": {},
   "outputs": [],
   "source": [
    "food_diversity = pd.DataFrame(food_diversity.groupby(['country_or_area']).country_or_area.size().reset_index(name='category_diversity'))"
   ]
  },
  {
   "cell_type": "code",
   "execution_count": null,
   "metadata": {},
   "outputs": [],
   "source": [
    "food_diversity.sort_values('category_diversity', ascending=False).head(10)"
   ]
  },
  {
   "cell_type": "code",
   "execution_count": null,
   "metadata": {},
   "outputs": [],
   "source": [
    "sorted_diversity = food_diversity.sort_values('category_diversity', ascending=False).reset_index()\n",
    "sorted_diversity.loc[sorted_diversity.country_or_area=='Switzerland']"
   ]
  },
  {
   "cell_type": "code",
   "execution_count": null,
   "metadata": {},
   "outputs": [],
   "source": [
    "sorted_diversity.category_diversity.describe()"
   ]
  },
  {
   "cell_type": "code",
   "execution_count": null,
   "metadata": {
    "scrolled": true
   },
   "outputs": [],
   "source": [
    "plt.hist(sorted_diversity.category_diversity, bins=25)\n",
    "plt.title('food production diversity distribution')"
   ]
  },
  {
   "cell_type": "markdown",
   "metadata": {},
   "source": [
    "We see that Switzerland is above the median of the food production diversity of all countries with 66 agricultural products produced. It is a fair value but still far from the top countries like its neighbour Italy. So there could some improvements to do on the production diversity of Switzerland, which will be discussed later in the analysis."
   ]
  },
  {
   "cell_type": "markdown",
   "metadata": {},
   "source": [
    "### Interactive visualization of element of a given category by a given country throughout years"
   ]
  },
  {
   "cell_type": "code",
   "execution_count": null,
   "metadata": {},
   "outputs": [],
   "source": [
    "#TO RUN THIS: with conda --> conda install -c conda-forge ipywidgets\n",
    "import ipywidgets as widgets\n",
    "from ipywidgets import interact, interactive, fixed, interact_manual\n",
    "#To enable interactive viz on lab --> conda install nodejs\n",
    "#                                  + jupyter labextension install @jupyter-widgets/jupyterlab-manager"
   ]
  },
  {
   "cell_type": "code",
   "execution_count": null,
   "metadata": {},
   "outputs": [],
   "source": [
    "#Interactive visualization\n",
    "def viz_evolution(country, element, category):\n",
    "    df_to_plot = crops_countries.loc[crops_countries['country_or_area'] == country].loc[crops_countries['element'] == element].loc[crops_countries['category'] == category]\n",
    "    df_to_plot.plot(x='year', y='value',figsize=(20,10))\n",
    "    plt.title(f'{element} values of {category} in {country} throughout years', fontsize= 20)\n",
    "    plt.xlabel(\"Year\", fontsize= 20)\n",
    "    plt.ylabel(\"Values\", fontsize= 20)\n",
    "    plt.show()\n",
    "\n",
    "countries = crops_countries.country_or_area.unique()    \n",
    "elements = crops_countries.element.unique()\n",
    "categories = crops_countries.category.unique()\n",
    "interact(viz_evolution, country=countries, element = elements , category=categories)    "
   ]
  },
  {
   "cell_type": "markdown",
   "metadata": {},
   "source": [
    "Now that we have well understood our dataset we can redefine our project goals. \n",
    "As we have many data for almost all the countries in the world we had to redefine the direction we wanted to follow. So we decided to focus our attention on one country only: Switzerland!\n",
    "We will try to answer the following question: Can Switzerland be self-sufficient in term of food production? (see updates on the README)"
   ]
  },
  {
   "cell_type": "markdown",
   "metadata": {},
   "source": [
    "<div class=\"alert alert-block alert-success\">\n",
    "\n",
    "# Project Update - Insight into Switzerland agriculture production \n",
    "\n",
    "We will focus on Switzerland compared to its neighbours. We would like to know if Switzerland could be self-sufficient in term of food production. \n",
    "\n",
    "## Abstract\n",
    "\n",
    "In the wake of the the years 2007-08, food self-sufficiency policies have gained increased attention in a number of coutries following the international food crisis that triggered great volatilities on the world food markets causing important economic and social damages. <br>\n",
    "Since then, diverse countries have expressed interest in improving their levels of food self-sufficiency arising controversy into a massive economically connected world.\n",
    "\n",
    "On the 23th september of 2018, in the small country of Switzerland, the debate is materialized into a popular referendum submitted to its population asking wherever a food self-sufficiency politic should be adopted or not. Such a politic could have unexpected consequences considering a country as Switzerland with many neighbours and such a small area capacity. <br>\n",
    "This paper aims to analyse the questions surrounding the debate over food self-sufficiency in Switzerland. \n",
    "\n",
    "- What does Switzerland produce and in which quantity? \n",
    "- What about the amount of importations/exportations?\n",
    "- Are all Switzerland areas optimally harvested?\n",
    "- Links to population size\n",
    "- How is the Swiss productiviy trend evolving, is it correlated with external factors such as temperature, fertilizer use, ...?\n",
    "\n",
    "Then we will make comparaisons between Switzerland and its neighbours. Does Switzerland import more than its neighbours (due to its small size ?) ? Is food self-suffience of Switzerland realistic ? How many farms/farmers would it need ?\n"
   ]
  },
  {
   "cell_type": "markdown",
   "metadata": {},
   "source": [
    "## Data loading - Crops \n",
    "\n",
    "This dataset represents our new start line, it contains almost the same informations as the \"Global Food & Agriculture Statistics\" we already used. However, the data are more recent.  \n",
    "\n",
    "We found the majority of our following data on the __[Food And Agriculture Organization of the United Nations Datasets](http://www.fao.org/faostat/en/#data)__ website (we will precise later if one dataset does not come from this link).\n",
    "\n",
    "File contains data about Switzerland and neighbours (Italy, Germany, France, Austria and Liechtenstein)"
   ]
  },
  {
   "cell_type": "code",
   "execution_count": null,
   "metadata": {},
   "outputs": [],
   "source": [
    "raw_CH_crops_dataset = pd.read_csv('../data/FAOSTAT_data_crops_CHandNeighbours.csv')"
   ]
  },
  {
   "cell_type": "markdown",
   "metadata": {},
   "source": [
    "Let's explore the structure of our dataset :"
   ]
  },
  {
   "cell_type": "code",
   "execution_count": null,
   "metadata": {},
   "outputs": [],
   "source": [
    "raw_CH_crops_dataset.head()"
   ]
  },
  {
   "cell_type": "markdown",
   "metadata": {},
   "source": [
    "Keep only relevant information."
   ]
  },
  {
   "cell_type": "code",
   "execution_count": null,
   "metadata": {},
   "outputs": [],
   "source": [
    "raw_CH_crops_dataset =raw_CH_crops_dataset[['Domain', 'Area', 'Element', 'Item', 'Year', 'Unit', 'Value', 'Flag Description']]"
   ]
  },
  {
   "cell_type": "code",
   "execution_count": null,
   "metadata": {},
   "outputs": [],
   "source": [
    "raw_CH_crops_dataset.drop(index=raw_CH_crops_dataset[raw_CH_crops_dataset['Flag Description'].str.contains('Data not available')].index, inplace=True)"
   ]
  },
  {
   "cell_type": "code",
   "execution_count": null,
   "metadata": {},
   "outputs": [],
   "source": [
    "raw_CH_crops_dataset.head()"
   ]
  },
  {
   "cell_type": "markdown",
   "metadata": {},
   "source": [
    "Let's also load the flags dataset, in case we need it later (very small size --> doesn't cost anything)"
   ]
  },
  {
   "cell_type": "code",
   "execution_count": null,
   "metadata": {},
   "outputs": [],
   "source": [
    "flags = pd.read_csv('../data/FAOSTAT_data_flags.csv')\n",
    "flags"
   ]
  },
  {
   "cell_type": "code",
   "execution_count": null,
   "metadata": {},
   "outputs": [],
   "source": [
    "print(\"Size of the DataFrame: {s}\\n\".format(s=raw_CH_crops_dataset.shape))\n",
    "print(\"Variable types present in DataFrame: \\n{t}\".format(t=raw_CH_crops_dataset.dtypes))"
   ]
  },
  {
   "cell_type": "markdown",
   "metadata": {},
   "source": [
    "Null values investigation:"
   ]
  },
  {
   "cell_type": "code",
   "execution_count": null,
   "metadata": {},
   "outputs": [],
   "source": [
    "print(raw_CH_crops_dataset.isna().values.any(axis=0)) "
   ]
  },
  {
   "cell_type": "code",
   "execution_count": null,
   "metadata": {},
   "outputs": [],
   "source": [
    "print(raw_CH_crops_dataset.isna().values.any(axis=0)) "
   ]
  },
  {
   "cell_type": "markdown",
   "metadata": {},
   "source": [
    "What about the categories listed in our columns?"
   ]
  },
  {
   "cell_type": "code",
   "execution_count": null,
   "metadata": {
    "scrolled": true
   },
   "outputs": [],
   "source": [
    "print(raw_CH_crops_dataset['Domain'].unique())\n",
    "print(raw_CH_crops_dataset['Area'].unique())\n",
    "print(raw_CH_crops_dataset['Element'].unique())\n",
    "print(raw_CH_crops_dataset['Item'].unique())\n",
    "print(raw_CH_crops_dataset['Year'].unique())\n",
    "print(raw_CH_crops_dataset['Unit'].unique())\n",
    "print(raw_CH_crops_dataset['Flag Description'].unique())"
   ]
  },
  {
   "cell_type": "markdown",
   "metadata": {},
   "source": [
    "**Quick view of the crops dataset ready to be used**"
   ]
  },
  {
   "cell_type": "code",
   "execution_count": null,
   "metadata": {},
   "outputs": [],
   "source": [
    "raw_CH_crops_dataset.head()"
   ]
  },
  {
   "cell_type": "code",
   "execution_count": null,
   "metadata": {},
   "outputs": [],
   "source": [
    "data_check_agave=raw_CH_crops_dataset[raw_CH_crops_dataset.Item.str.contains(\"Agave fibres\")]"
   ]
  },
  {
   "cell_type": "code",
   "execution_count": null,
   "metadata": {},
   "outputs": [],
   "source": [
    "data_check_agave"
   ]
  },
  {
   "cell_type": "markdown",
   "metadata": {},
   "source": [
    "## **Crops plots :** what we can already see/investigate with this first dataset\n",
    "\n",
    "Even if we will probably not use those plots for final presentation/analysis, it helps us to see what's inside our data. It is quick and very visual."
   ]
  },
  {
   "cell_type": "markdown",
   "metadata": {},
   "source": [
    "### Plot production of all countries over time for a selected crop\n",
    "\n",
    "This plot is interactive. It allows you to choose for an item (apples, berries..) and shows you its production over years for the 6 countries (CH + Neighbours as listed above)."
   ]
  },
  {
   "cell_type": "code",
   "execution_count": null,
   "metadata": {},
   "outputs": [],
   "source": [
    "import ipywidgets as widgets\n",
    "from ipywidgets import interact, interactive, fixed, interact_manual\n",
    "# All those  library importations would probably be at the begining for the final version of te notebook, \n",
    "# but for now, we just kee them where we use them since we don't know what we will keep or not."
   ]
  },
  {
   "cell_type": "code",
   "execution_count": null,
   "metadata": {},
   "outputs": [],
   "source": [
    "#Interactive visualization\n",
    "\n",
    "#Plot the production of selected item for all countries over years\n",
    "def viz_evolution(item):\n",
    "    df_viz_evolution = raw_CH_crops_dataset.loc[raw_CH_crops_dataset['Element']=='Production'].loc[raw_CH_crops_dataset['Item']==item]\n",
    "    \n",
    "    # multiple line plot\n",
    "    plt.figure(figsize=(20,10))\n",
    "    plt.plot( 'Year', 'Value', data=df_viz_evolution.loc[df_viz_evolution['Area']=='Austria'], marker='', color='green',  label = 'Austria')\n",
    "    plt.plot( 'Year', 'Value', data=df_viz_evolution.loc[df_viz_evolution['Area']=='France'], marker='', color='skyblue', label = 'France')\n",
    "    plt.plot( 'Year', 'Value', data=df_viz_evolution.loc[df_viz_evolution['Area']=='Switzerland'], marker='', color='red', label = 'Switzerland', linewidth=3)\n",
    "    plt.plot( 'Year', 'Value', data=df_viz_evolution.loc[df_viz_evolution['Area']=='Germany'], marker='', color='orange', label = 'Germany')\n",
    "    plt.plot( 'Year', 'Value', data=df_viz_evolution.loc[df_viz_evolution['Area']=='Italy'], marker='', color='grey', label = 'Italy')\n",
    "    \n",
    "    plt.legend() \n",
    "    plt.title(f'Production of {item} in Switzerland and its neighbours throughout years', fontsize= 20)\n",
    "    plt.xlabel(\"Year\", fontsize= 20)\n",
    "    plt.ylabel(\"Values\", fontsize= 20)\n",
    "    plt.show()\n",
    "   \n",
    "items = raw_CH_crops_dataset.Item.unique()\n",
    "interact(viz_evolution, item = items)    "
   ]
  },
  {
   "cell_type": "markdown",
   "metadata": {},
   "source": [
    "<div class=\"alert alert-block alert-success\">\n",
    "    For most of the items, Switzerland has the lowest production values. This can be explained by the small size of this country but to better understand those values and to know if their are sufficient to feed the Swiss population we will analyse how the swiss lands are used and occupied and look at the swiss demography. \n",
    "    We will also analyse swiss importations and exportations to know what Switzerland need and try to estimate if the country could produce it by it self. "
   ]
  },
  {
   "cell_type": "markdown",
   "metadata": {},
   "source": [
    "<div class=\"alert alert-block alert-success\">\n",
    "\n",
    "Some interesting cases we could focus on: \n",
    "    \n",
    "    production of cherries and pears are decreasing over the years, Why? link to temperature or fertilizer?\n",
    "    \n",
    "    production of raspberries is increasing and got higher than the one of Italy and Austria\n",
    "    \n",
    "    good production of spinach, better than Austria\n",
    "    \n",
    "    onions,the production was excellent and then there is a big decrease in the production in 2004 and then it stays low... we could try to explain why. \n",
    "    "
   ]
  },
  {
   "cell_type": "markdown",
   "metadata": {},
   "source": [
    "<div class=\"alert alert-block alert-warning\">\n",
    "    should we get rid off of items that Switzerland does not produce?? \n",
    "    ex: dry Beans, dry or buckwheat, eggplants and many others....\n",
    "    \n",
    "    je pense il faudrait parce que y'a vraiment plein d'items qui sont produits que par un seul pays et ca sert a rien dns notre analyse pour la suisse et ca nous aidera a trouver des trucs plus interessant de trier. \n",
    "    \n",
    "    For some datas we can see that we miss datas along some years. \n",
    "ex: item=Artichokes\n",
    "What do we do? linear interpolation? drop this item? "
   ]
  },
  {
   "cell_type": "markdown",
   "metadata": {},
   "source": [
    "### Plot production/area_harvested for all items of all countries over time.\n",
    "\n",
    "This plot is interactive. It allows you to choose for an element (production/area harvested/yield) and shows you the sum of all items for each country over years (CH & Co)"
   ]
  },
  {
   "cell_type": "code",
   "execution_count": null,
   "metadata": {},
   "outputs": [],
   "source": [
    "# plot area harvested of each country over years\n",
    "crops_sum = raw_CH_crops_dataset.groupby(['Area', 'Element','Year']) \\\n",
    "                                .agg({'Value':'sum'}) \\\n",
    "                                .rename(columns={'Value':'Sum'}) \\\n",
    "                                .reset_index()\n",
    "crops_sum.head() # Sum of area/yiel/production of items by country and year"
   ]
  },
  {
   "cell_type": "code",
   "execution_count": null,
   "metadata": {},
   "outputs": [],
   "source": [
    "#Interactive visualization\n",
    "\n",
    "#Plot the area harvested (sum of all items) for all countries over years\n",
    "def viz_sum_evolution(element):\n",
    "    df_viz_sum_evolution = crops_sum.loc[crops_sum['Element']== element]\n",
    "    \n",
    "    # multiple line plot\n",
    "    plt.figure(figsize=(20,10))\n",
    "    plt.plot( 'Year', 'Sum', data=df_viz_sum_evolution.loc[df_viz_sum_evolution['Area']=='Austria'], marker='', color='green',  label = 'Austria')\n",
    "    plt.plot( 'Year', 'Sum', data=df_viz_sum_evolution.loc[df_viz_sum_evolution['Area']=='France'], marker='', color='skyblue', label = 'France')\n",
    "    plt.plot( 'Year', 'Sum', data=df_viz_sum_evolution.loc[df_viz_sum_evolution['Area']=='Switzerland'], marker='', color='red', label = 'Switzerland', linewidth=3)\n",
    "    plt.plot( 'Year', 'Sum', data=df_viz_sum_evolution.loc[df_viz_sum_evolution['Area']=='Germany'], marker='', color='orange', label = 'Germany')\n",
    "    plt.plot( 'Year', 'Sum', data=df_viz_sum_evolution.loc[df_viz_sum_evolution['Area']=='Italy'], marker='', color='grey', label = 'Italy')\n",
    "    \n",
    "    plt.legend() \n",
    "    plt.title(f'{element} of all items in Switzerland and its neighbours throughout years', fontsize= 20)\n",
    "    plt.xlabel(\"Year\", fontsize= 20)\n",
    "    plt.ylabel(\"Values\", fontsize= 20)\n",
    "    plt.show()\n",
    "   \n",
    "elements = crops_sum.Element.unique()\n",
    "interact(viz_sum_evolution, element = elements)  "
   ]
  },
  {
   "cell_type": "markdown",
   "metadata": {},
   "source": [
    "<div class=\"alert alert-block alert-success\">\n",
    "    \n",
    "   Switzerland has the lowest production and area harvested of all items throughout years but it allways have one of the higher yield and it is increasing. \n",
    "   "
   ]
  },
  {
   "cell_type": "markdown",
   "metadata": {},
   "source": [
    "## Data loading - Land use indicators \n",
    "\n",
    "File contains data about Switzerland and neighbours (Italy, Germany, France, Austria and Liechtenstein).\n",
    "This file will allows us to know the potential of Switzerland in term of agriculture. Does the country use all its land or not? \n",
    "\n",
    "Data exploration and pre-processing is very simmilar to first dataset. We will therefore not describe all steps as precisely as before."
   ]
  },
  {
   "cell_type": "code",
   "execution_count": null,
   "metadata": {},
   "outputs": [],
   "source": [
    "raw_land_use_dataset = pd.read_csv('../data/FAOSTAT_data_LandUseIndicators.csv')"
   ]
  },
  {
   "cell_type": "code",
   "execution_count": null,
   "metadata": {},
   "outputs": [],
   "source": [
    "raw_land_use_dataset.head()"
   ]
  },
  {
   "cell_type": "code",
   "execution_count": null,
   "metadata": {},
   "outputs": [],
   "source": [
    "raw_land_use_dataset =raw_land_use_dataset[['Domain', 'Area', 'Element', 'Item', 'Year', 'Unit', 'Value', 'Flag Description']]"
   ]
  },
  {
   "cell_type": "code",
   "execution_count": null,
   "metadata": {},
   "outputs": [],
   "source": [
    "print(\"Size of the DataFrame: {s}\\n\".format(s=raw_land_use_dataset.shape))\n",
    "print(\"Variable types present in DataFrame: \\n{t}\".format(t=raw_land_use_dataset.dtypes))"
   ]
  },
  {
   "cell_type": "code",
   "execution_count": null,
   "metadata": {},
   "outputs": [],
   "source": [
    "print(raw_land_use_dataset.isnull().values.any(axis=0))  # --> PERFECT!"
   ]
  },
  {
   "cell_type": "code",
   "execution_count": null,
   "metadata": {},
   "outputs": [],
   "source": [
    "print(raw_land_use_dataset.isna().values.any(axis=0))  # --> PERFECT!"
   ]
  },
  {
   "cell_type": "code",
   "execution_count": null,
   "metadata": {},
   "outputs": [],
   "source": [
    "print(raw_land_use_dataset['Domain'].unique())\n",
    "print(raw_land_use_dataset['Area'].unique())\n",
    "print(raw_land_use_dataset['Element'].unique())\n",
    "print(raw_land_use_dataset['Item'].unique())\n",
    "print(raw_land_use_dataset['Year'].unique())\n",
    "print(raw_land_use_dataset['Unit'].unique())\n",
    "print(raw_land_use_dataset['Flag Description'].unique())"
   ]
  },
  {
   "cell_type": "markdown",
   "metadata": {},
   "source": [
    "## **Land use indicators plots :** what we can already see/investigate with this second dataset\n",
    "\n",
    "Even if we will probably not use those plots for final presentation/analysis, it helps us to see what's inside our data. It is quick and very visual."
   ]
  },
  {
   "cell_type": "markdown",
   "metadata": {},
   "source": [
    "### Plot the lands distribution in Switzerland\n",
    "\n",
    "We would like to precise those data (with more datasets) by including also urban areas to the distribution."
   ]
  },
  {
   "cell_type": "code",
   "execution_count": null,
   "metadata": {},
   "outputs": [],
   "source": [
    "import matplotlib.pyplot as plt\n",
    "\n",
    "# DataFrames to plot\n",
    "df_land = raw_land_use_dataset.loc[raw_land_use_dataset['Area']=='Switzerland'].loc[raw_land_use_dataset['Year']==2016].loc[raw_land_use_dataset['Element']=='Share in Land area']\n",
    "df_agri = raw_land_use_dataset.loc[raw_land_use_dataset['Area']=='Switzerland'].loc[raw_land_use_dataset['Year']==2016].loc[raw_land_use_dataset['Element']=='Share in Agricultural land']\n",
    "\n",
    "# Pie plot #1\n",
    "labels1 = df_land.Item\n",
    "sizes1 = df_land.Value\n",
    "explode = (0, 0, 0.1, 0)  # only \"explode\" the 3rd slice\n",
    "\n",
    "fig1, ax1 = plt.subplots()\n",
    "ax1.pie(sizes1, explode=explode,labels=labels1, autopct='%1.1f%%',\n",
    "        shadow=True, startangle=90)\n",
    "ax1.axis('equal')  # Equal aspect ratio ensures that pie is drawn as a circle.\n",
    "ax1.title.set_text('Distribution of lands in Switzerland, year 2016')\n",
    "fig1.set_facecolor('white')\n",
    "\n",
    "# Pie plot #2\n",
    "labels2 = df_agri.Item\n",
    "sizes2 = df_agri.Value\n",
    "fig1, ax2 = plt.subplots()\n",
    "ax2.pie(sizes2, labels=labels2, autopct='%1.1f%%',\n",
    "        shadow=True, startangle=90)\n",
    "ax2.axis('equal')  # Equal aspect ratio ensures that pie is drawn as a circle.\n",
    "ax2.title.set_text('Distribution of agricultural lands in Switzerland, year 2016')\n",
    "\n",
    "# General settings\n",
    "fig1.set_facecolor('white')\n",
    "plt.show()"
   ]
  },
  {
   "cell_type": "code",
   "execution_count": null,
   "metadata": {},
   "outputs": [],
   "source": [
    "import matplotlib.pyplot as plt\n",
    "\n",
    "# DataFrames to plot\n",
    "df_land = raw_land_use_dataset.loc[raw_land_use_dataset['Area']=='France'].loc[raw_land_use_dataset['Year']==2016].loc[raw_land_use_dataset['Element']=='Share in Land area']\n",
    "df_agri = raw_land_use_dataset.loc[raw_land_use_dataset['Area']=='France'].loc[raw_land_use_dataset['Year']==2016].loc[raw_land_use_dataset['Element']=='Share in Agricultural land']\n",
    "\n",
    "# Pie plot #1\n",
    "labels1 = df_land.Item\n",
    "sizes1 = df_land.Value\n",
    "explode = (0, 0, 0.1, 0)  # only \"explode\" the 3rd slice\n",
    "\n",
    "fig1, ax1 = plt.subplots()\n",
    "ax1.pie(sizes1, explode=explode,labels=labels1, autopct='%1.1f%%',\n",
    "        shadow=True, startangle=90)\n",
    "ax1.axis('equal')  # Equal aspect ratio ensures that pie is drawn as a circle.\n",
    "ax1.title.set_text('Distribution of lands in France, year 2016')\n",
    "fig1.set_facecolor('white')\n",
    "\n",
    "# Pie plot #2\n",
    "labels2 = df_agri.Item\n",
    "sizes2 = df_agri.Value\n",
    "fig1, ax2 = plt.subplots()\n",
    "ax2.pie(sizes2, labels=labels2, autopct='%1.1f%%',\n",
    "        shadow=True, startangle=90)\n",
    "ax2.axis('equal')  # Equal aspect ratio ensures that pie is drawn as a circle.\n",
    "ax2.title.set_text('Distribution of agricultural lands in France, year 2016')\n",
    "\n",
    "# General settings\n",
    "fig1.set_facecolor('white')\n",
    "plt.show()"
   ]
  },
  {
   "cell_type": "code",
   "execution_count": null,
   "metadata": {},
   "outputs": [],
   "source": [
    "import matplotlib.pyplot as plt\n",
    "\n",
    "# DataFrames to plot\n",
    "df_land = raw_land_use_dataset.loc[raw_land_use_dataset['Area']=='Germany'].loc[raw_land_use_dataset['Year']==2016].loc[raw_land_use_dataset['Element']=='Share in Land area']\n",
    "df_agri = raw_land_use_dataset.loc[raw_land_use_dataset['Area']=='Germany'].loc[raw_land_use_dataset['Year']==2016].loc[raw_land_use_dataset['Element']=='Share in Agricultural land']\n",
    "\n",
    "# Pie plot #1\n",
    "labels1 = df_land.Item\n",
    "sizes1 = df_land.Value\n",
    "explode = (0, 0, 0.1, 0)  # only \"explode\" the 3rd slice\n",
    "\n",
    "fig1, ax1 = plt.subplots()\n",
    "ax1.pie(sizes1, explode=explode,labels=labels1, autopct='%1.1f%%',\n",
    "        shadow=True, startangle=90)\n",
    "ax1.axis('equal')  # Equal aspect ratio ensures that pie is drawn as a circle.\n",
    "ax1.title.set_text('Distribution of lands in Germany, year 2016')\n",
    "fig1.set_facecolor('white')\n",
    "\n",
    "# Pie plot #2\n",
    "labels2 = df_agri.Item\n",
    "sizes2 = df_agri.Value\n",
    "fig1, ax2 = plt.subplots()\n",
    "ax2.pie(sizes2, labels=labels2, autopct='%1.1f%%',\n",
    "        shadow=True, startangle=90)\n",
    "ax2.axis('equal')  # Equal aspect ratio ensures that pie is drawn as a circle.\n",
    "ax2.title.set_text('Distribution of agricultural lands in Germany, year 2016')\n",
    "\n",
    "# General settings\n",
    "fig1.set_facecolor('white')\n",
    "plt.show()"
   ]
  },
  {
   "cell_type": "code",
   "execution_count": null,
   "metadata": {},
   "outputs": [],
   "source": [
    "import matplotlib.pyplot as plt\n",
    "\n",
    "# DataFrames to plot\n",
    "df_land = raw_land_use_dataset.loc[raw_land_use_dataset['Area']=='Italy'].loc[raw_land_use_dataset['Year']==2016].loc[raw_land_use_dataset['Element']=='Share in Land area']\n",
    "df_agri = raw_land_use_dataset.loc[raw_land_use_dataset['Area']=='Italy'].loc[raw_land_use_dataset['Year']==2016].loc[raw_land_use_dataset['Element']=='Share in Agricultural land']\n",
    "\n",
    "# Pie plot #1\n",
    "labels1 = df_land.Item\n",
    "sizes1 = df_land.Value\n",
    "explode = (0, 0, 0.1, 0)  # only \"explode\" the 3rd slice\n",
    "\n",
    "fig1, ax1 = plt.subplots()\n",
    "ax1.pie(sizes1, explode=explode,labels=labels1, autopct='%1.1f%%',\n",
    "        shadow=True, startangle=90)\n",
    "ax1.axis('equal')  # Equal aspect ratio ensures that pie is drawn as a circle.\n",
    "ax1.title.set_text('Distribution of lands in Italy, year 2016')\n",
    "fig1.set_facecolor('white')\n",
    "\n",
    "# Pie plot #2\n",
    "labels2 = df_agri.Item\n",
    "sizes2 = df_agri.Value\n",
    "fig1, ax2 = plt.subplots()\n",
    "ax2.pie(sizes2, labels=labels2, autopct='%1.1f%%',\n",
    "        shadow=True, startangle=90)\n",
    "ax2.axis('equal')  # Equal aspect ratio ensures that pie is drawn as a circle.\n",
    "ax2.title.set_text('Distribution of agricultural lands in Italy, year 2016')\n",
    "\n",
    "# General settings\n",
    "fig1.set_facecolor('white')\n",
    "plt.show()"
   ]
  },
  {
   "cell_type": "code",
   "execution_count": null,
   "metadata": {},
   "outputs": [],
   "source": [
    "import matplotlib.pyplot as plt\n",
    "\n",
    "# DataFrames to plot\n",
    "df_land = raw_land_use_dataset.loc[raw_land_use_dataset['Area']=='Liechtenstein'].loc[raw_land_use_dataset['Year']==2016].loc[raw_land_use_dataset['Element']=='Share in Land area']\n",
    "df_agri = raw_land_use_dataset.loc[raw_land_use_dataset['Area']=='Liechtenstein'].loc[raw_land_use_dataset['Year']==2016].loc[raw_land_use_dataset['Element']=='Share in Agricultural land']\n",
    "\n",
    "# Pie plot #1\n",
    "labels1 = df_land.Item\n",
    "sizes1 = df_land.Value\n",
    "explode = (0, 0, 0.1, 0)  # only \"explode\" the 3rd slice\n",
    "\n",
    "fig1, ax1 = plt.subplots()\n",
    "ax1.pie(sizes1, explode=explode,labels=labels1, autopct='%1.1f%%',\n",
    "        shadow=True, startangle=90)\n",
    "ax1.axis('equal')  # Equal aspect ratio ensures that pie is drawn as a circle.\n",
    "ax1.title.set_text('Distribution of lands in Liechtenstein, year 2016')\n",
    "fig1.set_facecolor('white')\n",
    "\n",
    "# Pie plot #2\n",
    "labels2 = df_agri.Item\n",
    "sizes2 = df_agri.Value\n",
    "fig1, ax2 = plt.subplots()\n",
    "ax2.pie(sizes2, labels=labels2, autopct='%1.1f%%',\n",
    "        shadow=True, startangle=90)\n",
    "ax2.axis('equal')  # Equal aspect ratio ensures that pie is drawn as a circle.\n",
    "ax2.title.set_text('Distribution of agricultural lands in Liechtenstein, year 2016')\n",
    "\n",
    "# General settings\n",
    "fig1.set_facecolor('white')\n",
    "plt.show()"
   ]
  },
  {
   "cell_type": "markdown",
   "metadata": {},
   "source": [
    "<div class=\"alert alert-block alert-success\">\n",
    "\n",
    "From the first graphes (distribution of lands) we can see that only 45,2% of Switzerland lands are used in agriculture compared to Frane, Italy or Germany where around 64% of lands are exploited in agriculture. Lands expoited in agriculture are the sum of cropland and agriculture land. We can see that the percentage of forest is quite similar between those three countries and that the main difference reside in the percentage of lands attribuated to meadows and pastures. For example France use half land less than Switzerland for meadows and pastures, Germany more than half less and Italy use only one third of what Switzerland attribute. We can deduce from these plots that Switzerland is more dedicated to dairy products and breeding. \n",
    "    When comparing Sxitzerland with Liechtenstein, we find more similarities as the percentage of land used in agriculture is 42,5%.\n",
    "    From the second graphes (distribution of agricultural lands) we can see that the majority of Switzerland agricultural lands are under permanant meadows and pastures. This is a huge amount compared to the other countries which promote crop and arable lands. This suit our previous conviction than Switzerland is more dedicated to dairy products and breedings. We could hypothetize that Switzerland may be obligated to reduce this part of dedicated land to meadows and pastures in order to become food self efficient. This would also induce work  and policy transitions and impact the Swiss economy. \n",
    "    However an important aspect which is not shown by this data are the part of urban lands. We should add it to our analysis. \n",
    "    \n",
    "ps: Arable lands are lands that can or are cultivable"
   ]
  },
  {
   "cell_type": "markdown",
   "metadata": {},
   "source": [
    "<div class=\"alert alert-block alert-warning\">\n",
    "    \n",
    "    Si on décide de garder ces graphes faudra mieux les afficher et faire une fonction pour le code la j'essaiyais juste d'en tirer des infos utiles pour nous aider sur la direction du rapport ou data story. \n",
    "    Il faudra rajouter également le poucentage de terre urbaines dans les plot (see next step)"
   ]
  },
  {
   "cell_type": "markdown",
   "metadata": {},
   "source": [
    "## Data loading - Land Cover\n",
    "File contains data about Switzerland and neighbours (Italy, Germany, France, Austria and Liechtenstein). It is complementary to the previous one, since it also references urban areas.\n",
    "Data exploration and pre-processing is very simmilar to first dataset. We will therefore not describe all steps as precisely as before."
   ]
  },
  {
   "cell_type": "code",
   "execution_count": null,
   "metadata": {},
   "outputs": [],
   "source": [
    "raw_land_cover_dataset = pd.read_csv('../data/FAOSTAT_data_LandCover.csv')\n",
    "raw_land_cover_dataset.head()"
   ]
  },
  {
   "cell_type": "code",
   "execution_count": null,
   "metadata": {},
   "outputs": [],
   "source": [
    "raw_land_cover_dataset =raw_land_cover_dataset[['Domain', 'Area', 'Element', 'Item', 'Year', 'Unit', 'Value', 'Flag Description']]\n",
    "raw_land_cover_dataset.head()\n"
   ]
  },
  {
   "cell_type": "code",
   "execution_count": null,
   "metadata": {},
   "outputs": [],
   "source": [
    "print(\"Size of the DataFrame: {s}\\n\".format(s=raw_land_cover_dataset.shape))\n",
    "print(\"Variable types present in DataFrame: \\n{t}\".format(t=raw_land_cover_dataset.dtypes))"
   ]
  },
  {
   "cell_type": "code",
   "execution_count": null,
   "metadata": {},
   "outputs": [],
   "source": [
    "raw_land_cover_dataset.drop(index=raw_land_cover_dataset[raw_land_cover_dataset['Flag Description'].str.contains('Data not available')].index, inplace=True)"
   ]
  },
  {
   "cell_type": "code",
   "execution_count": null,
   "metadata": {},
   "outputs": [],
   "source": [
    "print(raw_land_cover_dataset.isnull().values.any(axis=0))  # --> PERFECT!"
   ]
  },
  {
   "cell_type": "code",
   "execution_count": null,
   "metadata": {},
   "outputs": [],
   "source": [
    "print(raw_land_cover_dataset['Domain'].unique())\n",
    "print(raw_land_cover_dataset['Area'].unique())\n",
    "print(raw_land_cover_dataset['Element'].unique())\n",
    "print(raw_land_cover_dataset['Item'].unique())\n",
    "print(raw_land_cover_dataset['Year'].unique())\n",
    "print(raw_land_cover_dataset['Unit'].unique())\n",
    "print(raw_land_cover_dataset['Flag Description'].unique())"
   ]
  },
  {
   "cell_type": "markdown",
   "metadata": {},
   "source": [
    "To get the surface, we need to multiply the Value by the unit"
   ]
  },
  {
   "cell_type": "code",
   "execution_count": null,
   "metadata": {},
   "outputs": [],
   "source": [
    "pd.options.mode.chained_assignment = None  # default='warn', Mutes warnings when copying a slice from a DataFrame.\n",
    "raw_land_cover_dataset[\"Surface\"] = raw_land_cover_dataset.Value.apply(lambda x: x*1000)\n",
    "raw_land_cover_dataset.drop(columns='Value')"
   ]
  },
  {
   "cell_type": "markdown",
   "metadata": {},
   "source": [
    "Let's compute the percentage of the superficy which are allocated to urbain zone so we can add it to our previous visualizations of the land distributions of switzerland.  "
   ]
  },
  {
   "cell_type": "code",
   "execution_count": null,
   "metadata": {},
   "outputs": [],
   "source": [
    "df_surface_country.head()"
   ]
  },
  {
   "cell_type": "markdown",
   "metadata": {},
   "source": [
    "get ridd off the multiple indexes"
   ]
  },
  {
   "cell_type": "code",
   "execution_count": null,
   "metadata": {},
   "outputs": [],
   "source": [
    "df_surface_country.columns = df_surface_country.columns.map(lambda x: x[1]) \n",
    "df_surface_country = df_surface_country.reset_index()"
   ]
  },
  {
   "cell_type": "code",
   "execution_count": null,
   "metadata": {},
   "outputs": [],
   "source": [
    "df_surface_country"
   ]
  },
  {
   "cell_type": "markdown",
   "metadata": {},
   "source": [
    "get access of the superficy of the country we are interested in\n"
   ]
  },
  {
   "cell_type": "code",
   "execution_count": null,
   "metadata": {},
   "outputs": [],
   "source": [
    "Switzerland_superficy=df_surface_country.loc[df_surface_country[\"Country Name\"]==\"Switzerland\"]\n",
    "Italy_superficy=df_surface_country.loc[df_surface_country[\"Country Name\"]==\"Italy\"]\n",
    "France_superficy=df_surface_country.loc[df_surface_country[\"Country Name\"]==\"France\"]\n",
    "Germany_superficy=df_surface_country.loc[df_surface_country[\"Country Name\"]==\"Germany\"]\n",
    "Austria_superficy=df_surface_country.loc[df_surface_country[\"Country Name\"]==\"Austria\"]\n",
    "Liechtenstein_superficy=df_surface_country.loc[df_surface_country[\"Country Name\"]==\"Liechtenstein\"]\n",
    "Liechtenstein_superficy"
   ]
  },
  {
   "cell_type": "markdown",
   "metadata": {},
   "source": [
    "<div class=\"alert alert-block alert-warning\">\n",
    "    \n",
    "    step to finish:\n",
    "Now we can compute the fraction for each country and add it to our dataframe and redo the previous plot"
   ]
  },
  {
   "cell_type": "markdown",
   "metadata": {},
   "source": [
    "## Data loading - Demographical data \n",
    "\n",
    "File contains data about Switzerland and neighbours (Italy, Germany, France, Austria but not Liechtenstein -data missing from dataset).\n",
    "These data will allow us to know the number of consumers in Switzerland and to compare the possible food self-sufficiency between Switzerland and its neighbours. we would like to answer questions as: With the growing population, can we feed everybody with Swiss agriculture in the next few years?\n",
    "\n",
    "Data exploration and pre-processing is very simmilar to first dataset. We will therefore not describe all steps as precisely as before."
   ]
  },
  {
   "cell_type": "code",
   "execution_count": null,
   "metadata": {},
   "outputs": [],
   "source": [
    "demography = pd.read_csv('../data/FAOSTAT_data_demography.csv')"
   ]
  },
  {
   "cell_type": "code",
   "execution_count": null,
   "metadata": {},
   "outputs": [],
   "source": [
    "demography"
   ]
  },
  {
   "cell_type": "code",
   "execution_count": null,
   "metadata": {
    "scrolled": true
   },
   "outputs": [],
   "source": [
    "for col in demography:\n",
    "    print (demography[col].unique())"
   ]
  },
  {
   "cell_type": "code",
   "execution_count": null,
   "metadata": {},
   "outputs": [],
   "source": [
    "demography = demography[['Area', 'Year', 'Value']]\n",
    "demography"
   ]
  },
  {
   "cell_type": "markdown",
   "metadata": {},
   "source": [
    "The value unit beeing 1000 persons, we adjust the number to display the population values in terms of individuals"
   ]
  },
  {
   "cell_type": "code",
   "execution_count": null,
   "metadata": {},
   "outputs": [],
   "source": [
    "pd.options.mode.chained_assignment = None  # default='warn', Mutes warnings when copying a slice from a DataFrame.\n",
    "demography[\"Population\"] = demography.Value.apply(lambda x: x*1000)\n",
    "demography.drop(columns='Value')"
   ]
  },
  {
   "cell_type": "code",
   "execution_count": null,
   "metadata": {},
   "outputs": [],
   "source": [
    "#plot of the evolution of the demography over the years\n",
    "from scipy.stats import linregress\n",
    "\n",
    "plt.figure(figsize=(20,10))\n",
    "plt.plot( 'Year', 'Population', data=demography.loc[demography['Area']=='Austria'], marker='', color='green',  label = 'Austria')\n",
    "plt.plot( 'Year', 'Population', data=demography.loc[demography['Area']=='France'], marker='', color='skyblue', label = 'France')\n",
    "plt.plot( 'Year', 'Population', data=demography.loc[demography['Area']=='Switzerland'], marker='', color='red', label = 'Switzerland', linewidth=3)\n",
    "plt.plot( 'Year', 'Population', data=demography.loc[demography['Area']=='Germany'], marker='', color='orange', label = 'Germany')\n",
    "plt.plot( 'Year', 'Population', data=demography.loc[demography['Area']=='Italy'], marker='', color='grey', label = 'Italy')\n",
    "    \n",
    "plt.legend() \n",
    "plt.title('Evolution of the demography over the years' , fontsize= 20)\n",
    "plt.xlabel(\"Year\", fontsize= 20)\n",
    "plt.ylabel(\"Population value\", fontsize= 20)\n",
    "plt.show()"
   ]
  },
  {
   "cell_type": "code",
   "execution_count": null,
   "metadata": {},
   "outputs": [],
   "source": [
    "min_swiss_demography = demography[demography.Area.str.contains('Switzerland')].Population.min()\n",
    "min_swiss_demography"
   ]
  },
  {
   "cell_type": "code",
   "execution_count": null,
   "metadata": {},
   "outputs": [],
   "source": [
    "max_swiss_demography = demography[demography.Area.str.contains('Switzerland')].Population.max()\n",
    "max_swiss_demography"
   ]
  },
  {
   "cell_type": "code",
   "execution_count": null,
   "metadata": {},
   "outputs": [],
   "source": [
    "delta_swiss_demography= max_swiss_demography - min_swiss_demography\n",
    "delta_swiss_demography"
   ]
  },
  {
   "cell_type": "markdown",
   "metadata": {},
   "source": [
    "<div class=\"alert alert-block alert-success\">\n",
    "    \n",
    "We can see that as expected, the population is growing in every country. From 1950 to 2018 the swiss population has increased by 0,38*10^7 persons. It has allmost double, so if the wold's predictions about demographic growth reveal to be true for the next years, how could Switzerland become self-sufficcient? \n",
    "    "
   ]
  },
  {
   "cell_type": "markdown",
   "metadata": {},
   "source": [
    "<div class=\"alert alert-block alert-warning\">\n",
    "    idea: we could make linear regression for each country so we get the slope of the demographic growth and we can compare and extrapolate it to further years for our predictive model? "
   ]
  },
  {
   "cell_type": "markdown",
   "metadata": {},
   "source": [
    "## Data loading - Swiss importations and exportations of agricultural goods \n",
    "\n",
    "Files contain data for Switzerland only. The data provide insight about the trade of agricultural goods, that is the importations and exportations for a given product.\n",
    "Data exploration and pre-processing is very simmilar to first dataset. We will therefore not describe all steps as precisely as before."
   ]
  },
  {
   "cell_type": "code",
   "execution_count": null,
   "metadata": {},
   "outputs": [],
   "source": [
    "CH_imports = pd.read_csv('../data/FAOSTAT_data_11-23-2019.csv')"
   ]
  },
  {
   "cell_type": "code",
   "execution_count": null,
   "metadata": {},
   "outputs": [],
   "source": [
    "CH_imports.head()"
   ]
  },
  {
   "cell_type": "code",
   "execution_count": null,
   "metadata": {},
   "outputs": [],
   "source": [
    "CH_exports = pd.read_csv('../data/FAOSTAT_data_exports.csv')"
   ]
  },
  {
   "cell_type": "code",
   "execution_count": null,
   "metadata": {},
   "outputs": [],
   "source": [
    "CH_exports.head()"
   ]
  },
  {
   "cell_type": "markdown",
   "metadata": {},
   "source": [
    "To make the data processing and analysis more simple and concise, we concatenate exportations and importations data (as both datasets have exactly the same structure)."
   ]
  },
  {
   "cell_type": "code",
   "execution_count": null,
   "metadata": {},
   "outputs": [],
   "source": [
    "CH_trade = pd.concat([CH_imports, CH_exports])"
   ]
  },
  {
   "cell_type": "code",
   "execution_count": null,
   "metadata": {
    "scrolled": true
   },
   "outputs": [],
   "source": [
    "CH_trade.dtypes"
   ]
  },
  {
   "cell_type": "code",
   "execution_count": null,
   "metadata": {
    "jupyter": {
     "source_hidden": true
    },
    "scrolled": true
   },
   "outputs": [],
   "source": [
    "for col in CH_trade:\n",
    "    print (CH_trade[col].unique())"
   ]
  },
  {
   "cell_type": "markdown",
   "metadata": {},
   "source": [
    "For maximizing reliability of later results, we discard the numbers that were obtained from an unofficial source."
   ]
  },
  {
   "cell_type": "code",
   "execution_count": null,
   "metadata": {},
   "outputs": [],
   "source": [
    "unofficial_stats_index = CH_trade.loc[CH_trade.Flag=='*'].index"
   ]
  },
  {
   "cell_type": "code",
   "execution_count": null,
   "metadata": {},
   "outputs": [],
   "source": [
    "# Drop the unofficial data\n",
    "CH_trade = CH_trade.drop(index = unofficial_stats_index)"
   ]
  },
  {
   "cell_type": "markdown",
   "metadata": {},
   "source": [
    "We keep only the importation and exportation values that are represented in tonnes, so that we can compare it with the agricultural production."
   ]
  },
  {
   "cell_type": "code",
   "execution_count": null,
   "metadata": {},
   "outputs": [],
   "source": [
    "CH_trade = CH_trade.loc[CH_imports.Unit=='tonnes']"
   ]
  },
  {
   "cell_type": "code",
   "execution_count": null,
   "metadata": {},
   "outputs": [],
   "source": [
    "#for further task\n",
    "CH_trade_network=CH_trade.copy()"
   ]
  },
  {
   "cell_type": "code",
   "execution_count": null,
   "metadata": {},
   "outputs": [],
   "source": [
    "CH_trade = CH_trade[['Element','Partner Countries', 'Item', 'Year', 'Unit', 'Value']]"
   ]
  },
  {
   "cell_type": "markdown",
   "metadata": {},
   "source": [
    "To keep the model simple, we sum the importations and exportations for a given product over all partner countries."
   ]
  },
  {
   "cell_type": "code",
   "execution_count": null,
   "metadata": {},
   "outputs": [],
   "source": [
    "CH_trade = CH_trade.groupby(['Item', 'Year', 'Element']).agg({'Value':'sum'})\\\n",
    "                                    .reset_index()"
   ]
  },
  {
   "cell_type": "markdown",
   "metadata": {},
   "source": [
    "We improve the structure of our dataframe by pivoting its values of importations and exportations."
   ]
  },
  {
   "cell_type": "code",
   "execution_count": null,
   "metadata": {},
   "outputs": [],
   "source": [
    "CH_trade_transformed = pd.pivot(CH_trade,columns = 'Element', values='Value')\\\n",
    "                .rename(columns={'Export Quantity':'Exported Quantity','Import Quantity':'Imported Quantity'})"
   ]
  },
  {
   "cell_type": "code",
   "execution_count": null,
   "metadata": {},
   "outputs": [],
   "source": [
    "CH_trade_transformed"
   ]
  },
  {
   "cell_type": "code",
   "execution_count": null,
   "metadata": {},
   "outputs": [],
   "source": [
    "CH_trade = pd.concat([CH_trade, CH_trade_transformed], axis=1, join='inner')"
   ]
  },
  {
   "cell_type": "code",
   "execution_count": null,
   "metadata": {},
   "outputs": [],
   "source": [
    "CH_trade.drop(columns=['Value', 'Element'], inplace=True)"
   ]
  },
  {
   "cell_type": "code",
   "execution_count": null,
   "metadata": {},
   "outputs": [],
   "source": [
    "CH_trade = CH_trade.groupby(['Item', 'Year'])\\\n",
    "                            .agg({'Exported Quantity':'mean','Imported Quantity':'mean'})\\\n",
    "                            .reset_index()\n",
    "                                    "
   ]
  },
  {
   "cell_type": "markdown",
   "metadata": {},
   "source": [
    "Combine production and trade data in one dataframe 'CH_data' so that we have all the information at the same place. Note that we don't have values of importations and exportations before 1986 so production of goods before 1986 will not be considered as from here."
   ]
  },
  {
   "cell_type": "code",
   "execution_count": null,
   "metadata": {},
   "outputs": [],
   "source": [
    "CH_crops = raw_CH_crops_dataset[['Area', 'Item','Element', 'Year', 'Unit', 'Value']]"
   ]
  },
  {
   "cell_type": "code",
   "execution_count": null,
   "metadata": {},
   "outputs": [],
   "source": [
    "# Merge importations data with production data\n",
    "CH_data = CH_crops.loc[CH_crops.Area=='Switzerland'].loc[CH_crops.Element=='Production'].loc[CH_crops.Year>= 1986]\\\n",
    "                                    .merge(CH_trade,on=['Item', 'Year'], how='inner')\\\n",
    "                                    .rename(columns={'Value':'Produced Quantity'})\n",
    "\n"
   ]
  },
  {
   "cell_type": "code",
   "execution_count": null,
   "metadata": {},
   "outputs": [],
   "source": [
    "CH_data"
   ]
  },
  {
   "cell_type": "markdown",
   "metadata": {},
   "source": [
    "Now, combine with the land analysis of Switzerland, the consumers trends and the Swiss demography we could estimate if the country has an interest of producing more of an item, if it is able to produce more of an item and stop its importation of the item. --> # Milestone 3"
   ]
  },
  {
   "cell_type": "markdown",
   "metadata": {},
   "source": [
    "### Plot production, exports and imports of items in Switzerland over years.\n",
    "\n",
    "This plot is interactive. It allows you to choose for an item (apples, berries..) and shows you its production, exportation and importation in Switzerland over years."
   ]
  },
  {
   "cell_type": "code",
   "execution_count": null,
   "metadata": {},
   "outputs": [],
   "source": [
    "#Interactive visualization\n",
    "\n",
    "#Plot the production of selected item for all countries over years\n",
    "def viz_evolution(item):\n",
    "    df_viz_evolution = CH_data.loc[CH_data['Item']==item]\n",
    "    \n",
    "    # multiple line plot\n",
    "    plt.figure(figsize=(20,10))\n",
    "    plt.plot( 'Year', 'Produced Quantity', data=df_viz_evolution, marker='', color='red', label = 'crops', linewidth=3)\n",
    "    plt.plot('Year', 'Imported Quantity', data=df_viz_evolution, marker='', color='blue', label = 'imports', linewidth=3)\n",
    "    plt.plot('Year', 'Exported Quantity', data=df_viz_evolution, marker='', color='green', label = 'exports', linewidth=3) \n",
    "    plt.legend() \n",
    "    plt.title(f'Production and imports of {item} in Switzerland throughout years', fontsize= 20)\n",
    "    plt.xlabel(\"Year\", fontsize= 20)\n",
    "    plt.ylabel(\"Values [tonnes]\", fontsize= 20)\n",
    "    plt.show()\n",
    "   \n",
    "items = CH_data.Item.unique()\n",
    "interact(viz_evolution, item = items)    "
   ]
  },
  {
   "cell_type": "markdown",
   "metadata": {},
   "source": [
    "**Most produced, imported and exported products :**\n",
    "\n",
    "- Most produced crops products"
   ]
  },
  {
   "cell_type": "code",
   "execution_count": null,
   "metadata": {},
   "outputs": [],
   "source": [
    "CH_data.loc[CH_data.Year == 2016].sort_values(by='Produced Quantity', ascending = False).head(10)"
   ]
  },
  {
   "cell_type": "markdown",
   "metadata": {},
   "source": [
    "- Most imported crops products"
   ]
  },
  {
   "cell_type": "code",
   "execution_count": null,
   "metadata": {},
   "outputs": [],
   "source": [
    "CH_data.loc[CH_data.Year == 2016].sort_values(by='Imported Quantity', ascending = False).head(10)"
   ]
  },
  {
   "cell_type": "markdown",
   "metadata": {},
   "source": [
    "- Most exported crops products"
   ]
  },
  {
   "cell_type": "code",
   "execution_count": null,
   "metadata": {},
   "outputs": [],
   "source": [
    "CH_data.loc[CH_data.Year == 2016].sort_values(by='Exported Quantity', ascending = False).head(10)"
   ]
  },
  {
   "cell_type": "code",
   "execution_count": null,
   "metadata": {},
   "outputs": [],
   "source": [
    "total_export_quantity = CH_data[\"Exported Quantity\"].sum()\n",
    "total_export_quantity"
   ]
  },
  {
   "cell_type": "code",
   "execution_count": null,
   "metadata": {},
   "outputs": [],
   "source": [
    "total_import_quantity = CH_data[\"Imported Quantity\"].sum()\n",
    "total_import_quantity"
   ]
  },
  {
   "cell_type": "code",
   "execution_count": null,
   "metadata": {},
   "outputs": [],
   "source": [
    "dv=total_import_quantity/total_export_quantity\n",
    "dv"
   ]
  },
  {
   "cell_type": "markdown",
   "metadata": {},
   "source": [
    "<div class=\"alert alert-block alert-success\">\n",
    "    \n",
    "We can see that some of the most produced items are alos some of the more imported like potatoes, wheat, maize, grappes, lettuce and chicory and sugar beet. This can show a high consumption of the item by the population and can indicate us that one of the priority could be to increase their production. In the more exported items, it is not suprising to find several items that are highly produced by Switzerland such as wheat, potatoes, apples, maise and Barley.  But we also find some strange items like oilseeds nes which are more imported than produced and then exported in a higher quantity than the one produce which indicates an economic advantage in this transition. \n",
    "    When summing the total amount of exported and imported products we can see that switzerland import 70 times more products. But is this in a transit goal ( see oilseeds ex) ? or for consumption? "
   ]
  },
  {
   "cell_type": "markdown",
   "metadata": {},
   "source": [
    "**Less produced, imported and exported products :**\n",
    "\n",
    "- Less produced crops products"
   ]
  },
  {
   "cell_type": "code",
   "execution_count": null,
   "metadata": {},
   "outputs": [],
   "source": [
    "CH_data.loc[CH_data.Year == 2016].sort_values(by='Produced Quantity', ascending = True).head(10)"
   ]
  },
  {
   "cell_type": "markdown",
   "metadata": {},
   "source": [
    "<div class=\"alert alert-block alert-success\">\n",
    "    Does the less produced items corresponds to the most imported ones? \n",
    "    we can see that none of these items figured in the most imported ones.. is it related to the consumption trends of swiss people? Is it necessary to increase their production if they do not seems necessary? \n",
    "    The only ecxeption is Oilseed nes but as discussed previously they are also exported. \n",
    "    \n",
    "    "
   ]
  },
  {
   "cell_type": "markdown",
   "metadata": {},
   "source": [
    "- Less imported products"
   ]
  },
  {
   "cell_type": "code",
   "execution_count": null,
   "metadata": {},
   "outputs": [],
   "source": [
    "CH_data.loc[CH_data.Year == 2016].sort_values(by='Imported Quantity', ascending = True).head(10)"
   ]
  },
  {
   "cell_type": "markdown",
   "metadata": {},
   "source": [
    "<div class=\"alert alert-block alert-success\">\n",
    "    Does the less imported items corresponds to the most produced and exported ones? which would suggest high sufficiency of the items. \n",
    "    we can see not math between the less imported and the most imported an produced items. \n",
    "    "
   ]
  },
  {
   "cell_type": "markdown",
   "metadata": {},
   "source": [
    "- less exported crops products"
   ]
  },
  {
   "cell_type": "code",
   "execution_count": null,
   "metadata": {},
   "outputs": [],
   "source": [
    "CH_data.loc[CH_data.Year == 2016].sort_values(by='Exported Quantity', ascending = True).head(10)"
   ]
  },
  {
   "cell_type": "markdown",
   "metadata": {},
   "source": [
    "<div class=\"alert alert-block alert-success\">\n",
    "\n",
    "Are the less exported items the less produced and the more imported ones? \n",
    "    No similarities between the less produced and the less exported items, same for importations. \n",
    "    "
   ]
  },
  {
   "cell_type": "markdown",
   "metadata": {},
   "source": [
    "<div class=\"alert alert-block alert-warning\">\n",
    "\n",
    "Idea: on pourrait faire des matrices de corrélations pour répondre à ces questions?"
   ]
  },
  {
   "cell_type": "markdown",
   "metadata": {},
   "source": [
    "### Plot most produced, exported and  imported items in Switzerland, year 2016.\n",
    "\n",
    "This plot is interactive. Shows values upon cursor selection."
   ]
  },
  {
   "cell_type": "code",
   "execution_count": null,
   "metadata": {},
   "outputs": [],
   "source": [
    "import plotly # conda install -c anaconda plotly #AND# jupyter labextension install @jupyterlab/plotly-extension\n",
    "import plotly.graph_objects as go\n",
    "y_wheat = CH_data.loc[CH_data.Year == 2016].loc[CH_data.Item=='Wheat'].values[0,-3:]\n",
    "y_potatoes = CH_data.loc[CH_data.Year == 2016].loc[CH_data.Item=='Potatoes'].values[0,-3:]\n",
    "y_beet = CH_data.loc[CH_data.Year == 2016].loc[CH_data.Item=='Sugar beet'].values[0,-3:]\n",
    "y_maize = CH_data.loc[CH_data.Year == 2016].loc[CH_data.Item=='Maize'].values[0,-3:]\n",
    "\n",
    "x=['Produced', 'Exported', 'Imported']\n",
    "fig = go.Figure(go.Bar(x=x, y=y_wheat, name='Wheat'))\n",
    "fig.add_trace(go.Bar(x=x, y=y_potatoes, name='Potatoes'))\n",
    "fig.add_trace(go.Bar(x=x, y=y_beet, name='Sugar beet'))\n",
    "fig.add_trace(go.Bar(x=x, y=y_maize, name='Maize'))\n",
    "\n",
    "fig.update_layout(\n",
    "    title='Most produced, exported and imported items in Switzerland in 2016',\n",
    "    yaxis_title=\"Values [tonnes]\",\n",
    "    barmode='stack', \n",
    "    font=dict(\n",
    "        family=\"Courier New, monospace\",\n",
    "        size=16,\n",
    "        color=\"#7f7f7f\")\n",
    "    )\n",
    "fig.show()\n"
   ]
  },
  {
   "cell_type": "markdown",
   "metadata": {},
   "source": [
    "<div class=\"alert alert-block alert-success\">\n",
    "\n",
    "We see that Switzerland is a very small exportator for wheat, potatoes, sugar beet and Maize. They also import some quantities of each items which mean that the country is not sufficient, maybe the production of these items have to be increased in priority in order to make Sitzerland food self sufficient. "
   ]
  },
  {
   "cell_type": "markdown",
   "metadata": {},
   "source": [
    "### Plot production, importation and exportation of agricultural goods in Switzerland throughout years\n",
    "\n",
    "This plot is interactive. Shows values upon cursor selection"
   ]
  },
  {
   "cell_type": "code",
   "execution_count": null,
   "metadata": {},
   "outputs": [],
   "source": [
    "import plotly.graph_objects as go\n",
    "\n",
    "def viz_potatoe(item):\n",
    "    y_wheat = CH_data.loc[CH_data.Item==item].values[:,-3:]\n",
    "    fig = go.Figure()\n",
    "    fig.add_trace(go.Scatter(x=CH_data.Year.unique(), y=y_wheat[:,0], fill='tonexty', name='Produced')) # fill down to xaxis\n",
    "    fig.add_trace(go.Scatter(x=CH_data.Year.unique(), y=y_wheat[:,1], fill='tozeroy', name='Exported')) # fill to trace0 y\n",
    "    fig.add_trace(go.Scatter(x=CH_data.Year.unique(), y=y_wheat[:,2], fill='tonexty', name='Imported')) # fill to trace0 y\n",
    "    fig.update_layout(\n",
    "        title=f\"{item} importations and productions throughout years in Switzerland\",\n",
    "        yaxis_title=\"Values [tonnes]\",\n",
    "        xaxis_title='Years'\n",
    "        )\n",
    "    fig.show()\n",
    "\n",
    "items = CH_data.Item.unique()\n",
    "interact(viz_potatoe, item = items)  \n"
   ]
  },
  {
   "cell_type": "markdown",
   "metadata": {},
   "source": [
    "### Plot production,  importation and exportation in Switzerland throughout years\n",
    "\n",
    "This plot is interactive. Shows values upon cursor selection. As reported before, values of exportations are much lower than those of production and importations. Hence, exportations values will now be plot separately, to better show their trend."
   ]
  },
  {
   "cell_type": "code",
   "execution_count": null,
   "metadata": {
    "scrolled": true
   },
   "outputs": [],
   "source": [
    "total_crops_imports = CH_data.groupby('Year').agg({'Produced Quantity':'sum', 'Exported Quantity':'sum', 'Imported Quantity':'sum'})"
   ]
  },
  {
   "cell_type": "code",
   "execution_count": null,
   "metadata": {},
   "outputs": [],
   "source": [
    "fig = go.Figure()\n",
    "fig.add_trace(go.Scatter(x=CH_data.Year.unique(), y=total_crops_imports['Produced Quantity'].values, fill='tonexty', name='Produced')) # fill down to xaxis\n",
    "fig.add_trace(go.Scatter(x=CH_data.Year.unique(), y=total_crops_imports['Imported Quantity'].values, fill='tozeroy', name='Imported')) # fill to trace0 y\n",
    "fig.add_trace(go.Scatter(x=CH_data.Year.unique(), y=total_crops_imports['Exported Quantity'].values, fill='tozeroy', name='Exported'))\n",
    "fig.update_layout(\n",
    "    title=\"Sum of all importations, exportations and productions throughout years in Switzerland\",\n",
    "    yaxis_title=\"Values [tonnes]\",\n",
    "    xaxis_title='Years'\n",
    "    )\n",
    "fig.show()"
   ]
  },
  {
   "cell_type": "markdown",
   "metadata": {},
   "source": [
    "<div class=\"alert alert-block alert-success\">\n",
    "    \n",
    "Here again we can see that Switzerland is a very small exporter and is quite constant with its importations. Nevertheless, its importations seems to be slightly increasing since 2005. Is it because of demand for food diversity or because of production issues? Since The production values through years seems constantly varying we could follow the first hypothesis (ask for food diversity as a consequence of the mondialisation). "
   ]
  },
  {
   "cell_type": "markdown",
   "metadata": {},
   "source": [
    "As the exportations are hardly visible on the previous graph due to scale differences, we will plot them alone."
   ]
  },
  {
   "cell_type": "code",
   "execution_count": null,
   "metadata": {},
   "outputs": [],
   "source": [
    "fig = go.Figure()\n",
    "fig.add_trace(go.Scatter(x=CH_data.Year.unique(), y=total_crops_imports['Exported Quantity'].values, fill='tozeroy', name='Exported')) # fill to trace0 y\n",
    "fig.update_layout(\n",
    "    title=\"Sum of exportations throughout years in Switzerland\",\n",
    "    yaxis_title=\"Values [tonnes]\",\n",
    "    xaxis_title='Years'\n",
    "    )\n",
    "fig.show()"
   ]
  },
  {
   "cell_type": "markdown",
   "metadata": {},
   "source": [
    "Maybe we could add here an intercative plot where we can select the item to see (but for now we are sure if we can/how to combine plotly and ipwidgets libraries)"
   ]
  },
  {
   "cell_type": "code",
   "execution_count": null,
   "metadata": {},
   "outputs": [],
   "source": [
    "CH_data2 = CH_data.copy().rename(columns={'Produced Quantity':'Country production', 'Imported Quantity':'Importation', 'Exported Quantity':'Exportation'})\n",
    "CH_data_transformed = pd.melt(CH_data2, value_vars=['Country production', 'Importation'], id_vars=['Area', 'Element','Item','Year','Unit'], var_name='Input', value_name='Value')"
   ]
  },
  {
   "cell_type": "code",
   "execution_count": null,
   "metadata": {},
   "outputs": [],
   "source": [
    "CH_data_transformed.loc[CH_data_transformed.Item=='Potatoes']"
   ]
  },
  {
   "cell_type": "markdown",
   "metadata": {},
   "source": [
    "<div class=\"alert alert-block alert-warning\">\n",
    "Step not finish: on voulait faire quoi avec CH2 deja ???"
   ]
  },
  {
   "cell_type": "markdown",
   "metadata": {},
   "source": [
    "### Plot evolution of production and importations for five most important items (Switzerland data only)\n",
    "\n",
    "This plot is interactive. Shows values upon cursor selection"
   ]
  },
  {
   "cell_type": "code",
   "execution_count": null,
   "metadata": {},
   "outputs": [],
   "source": [
    "CH_restrained = CH_data_transformed.loc[CH_data_transformed.Item.isin(['Apples','Wheat','Potatoes', 'Maize', 'Oats'])]\n",
    "\n"
   ]
  },
  {
   "cell_type": "code",
   "execution_count": null,
   "metadata": {},
   "outputs": [],
   "source": [
    "# Just trying a plot\n",
    "import plotly.express as px\n",
    "fig = px.area(CH_restrained, x=\"Year\", y=\"Value\", color='Item',\n",
    "      line_group='Input')\n",
    "fig.update_layout(\n",
    "    title=\"Switzerland's production/importation evolution for five most important items\",\n",
    "    yaxis_title=\"Values [tonnes]\",\n",
    "    xaxis_title='Years'\n",
    "    )\n",
    "fig.show()"
   ]
  },
  {
   "cell_type": "markdown",
   "metadata": {},
   "source": [
    "<div class=\"alert alert-block alert-success\">\n",
    "Since 2005, productions and importations of these five mains products are quite constant. "
   ]
  },
  {
   "cell_type": "code",
   "execution_count": null,
   "metadata": {},
   "outputs": [],
   "source": [
    "CH_data_transformed_exportations = pd.melt(CH_data2, value_vars='Exportation', id_vars=['Area', 'Element','Item','Year','Unit'], var_name='Input', value_name='Value')\n"
   ]
  },
  {
   "cell_type": "code",
   "execution_count": null,
   "metadata": {},
   "outputs": [],
   "source": [
    "CH_restrained_exportations = CH_data_transformed_exportations.loc[CH_data_transformed_exportations.Item.isin(['Apples','Wheat','Potatoes', 'Maize', 'Oats'])]"
   ]
  },
  {
   "cell_type": "code",
   "execution_count": null,
   "metadata": {},
   "outputs": [],
   "source": [
    "import plotly.express as px\n",
    "fig = px.area(CH_restrained_exportations, x=\"Year\", y=\"Value\", color='Item',\n",
    "      line_group='Input')\n",
    "fig.update_layout(\n",
    "    title=\"Switzerland's exportations evolution for five most important items over time\",\n",
    "    yaxis_title=\"Values [tonnes]\",\n",
    "    xaxis_title='Years'\n",
    "    )\n",
    "fig.show()"
   ]
  },
  {
   "cell_type": "markdown",
   "metadata": {},
   "source": [
    "<div class=\"alert alert-block alert-success\">\n",
    "\n",
    "The are fluctuating a lot. For the more recent years, only the exportations of potatoes are increasing. Are the other ones decreasing beacuse Switzerland is producing less of them? "
   ]
  },
  {
   "cell_type": "markdown",
   "metadata": {},
   "source": [
    "## Data loading - Italian importations and exportations of agricultural goods "
   ]
  },
  {
   "cell_type": "code",
   "execution_count": null,
   "metadata": {},
   "outputs": [],
   "source": [
    "Italy_trade = pd.read_csv('../data/FAOSTAT_data_italy.csv')\n",
    "Italy_trade.head()"
   ]
  },
  {
   "cell_type": "code",
   "execution_count": null,
   "metadata": {},
   "outputs": [],
   "source": [
    "Italy_trade.dtypes"
   ]
  },
  {
   "cell_type": "code",
   "execution_count": null,
   "metadata": {},
   "outputs": [],
   "source": [
    "unofficial_stats_index_it = Italy_trade.loc[Italy_trade.Flag=='*'].index"
   ]
  },
  {
   "cell_type": "code",
   "execution_count": null,
   "metadata": {},
   "outputs": [],
   "source": [
    "# Drop the unofficial data\n",
    "Italy_trade = Italy_trade.drop(index = unofficial_stats_index_it)"
   ]
  },
  {
   "cell_type": "code",
   "execution_count": null,
   "metadata": {},
   "outputs": [],
   "source": [
    "#we keep only tonnes units\n",
    "Italy_trade = Italy_trade.loc[Italy_trade.Unit=='tonnes']"
   ]
  },
  {
   "cell_type": "code",
   "execution_count": null,
   "metadata": {},
   "outputs": [],
   "source": [
    "Italy_trade.drop(index=Italy_trade[Italy_trade['Flag Description'].str.contains('Data not available')].index, inplace=True)"
   ]
  },
  {
   "cell_type": "code",
   "execution_count": null,
   "metadata": {},
   "outputs": [],
   "source": [
    "Italy_trade = Italy_trade[['Element','Area', 'Item', 'Year', 'Unit', 'Value']]\n",
    "Italy_trade.head()"
   ]
  },
  {
   "cell_type": "markdown",
   "metadata": {},
   "source": [
    "To keep the model simple, we sum the importations and exportations for a given product over all partner countries.\n"
   ]
  },
  {
   "cell_type": "code",
   "execution_count": null,
   "metadata": {},
   "outputs": [],
   "source": [
    "Italy_trade = Italy_trade.groupby(['Item', 'Year', 'Element']).agg({'Value':'sum'})\\\n",
    "                                    .reset_index()\n",
    "Italy_trade.head()"
   ]
  },
  {
   "cell_type": "markdown",
   "metadata": {},
   "source": [
    "We improve the structure of our dataframe by pivoting its values of importations and exportations."
   ]
  },
  {
   "cell_type": "code",
   "execution_count": null,
   "metadata": {},
   "outputs": [],
   "source": [
    "Italy_trade_transformed = pd.pivot(Italy_trade,columns = 'Element', values='Value')\\\n",
    "                .rename(columns={'Export Quantity':'Exported Quantity','Import Quantity':'Imported Quantity'})\n",
    "Italy_trade_transformed.head()"
   ]
  },
  {
   "cell_type": "code",
   "execution_count": null,
   "metadata": {},
   "outputs": [],
   "source": [
    "Italy_trade = pd.concat([Italy_trade, Italy_trade_transformed], axis=1, join='inner')\n",
    "Italy_trade.drop(columns=['Value', 'Element'], inplace=True)\n",
    "Italy_trade = Italy_trade.groupby(['Item', 'Year'])\\\n",
    "                            .agg({'Exported Quantity':'mean','Imported Quantity':'mean'})\\\n",
    "                            .reset_index()"
   ]
  },
  {
   "cell_type": "code",
   "execution_count": null,
   "metadata": {},
   "outputs": [],
   "source": [
    "Italy_trade.head()"
   ]
  },
  {
   "cell_type": "markdown",
   "metadata": {},
   "source": [
    "Combine production and trade data in one dataframe 'Italy_data' so that we have all the information at the same place. Note that we don't have values of importations and exportations before 1986 so production of goods before 1986 will not be considered as from here."
   ]
  },
  {
   "cell_type": "markdown",
   "metadata": {},
   "source": [
    "Italy_crops = raw_CH_crops_dataset[['Area', 'Item','Element', 'Year', 'Unit', 'Value']]"
   ]
  },
  {
   "cell_type": "code",
   "execution_count": null,
   "metadata": {},
   "outputs": [],
   "source": [
    "# Merge importations data with production data\n",
    "Italy_data = Italy_crops.loc[Italy_crops.Area=='Italy'].loc[Italy_crops.Element=='Production'].loc[Italy_crops.Year>= 1986]\\\n",
    "                                    .merge(Italy_trade,on=['Item', 'Year'], how='inner')\\\n",
    "                                    .rename(columns={'Value':'Produced Quantity'})\n",
    "\n"
   ]
  },
  {
   "cell_type": "code",
   "execution_count": null,
   "metadata": {},
   "outputs": [],
   "source": [
    "Italy_data.head()"
   ]
  },
  {
   "cell_type": "markdown",
   "metadata": {},
   "source": [
    "- Most produced Items"
   ]
  },
  {
   "cell_type": "code",
   "execution_count": null,
   "metadata": {},
   "outputs": [],
   "source": [
    "Italy_data.loc[Italy_data.Year == 2016].sort_values(by='Produced Quantity', ascending = False).head(10)"
   ]
  },
  {
   "cell_type": "markdown",
   "metadata": {},
   "source": [
    "- Most exported Items"
   ]
  },
  {
   "cell_type": "code",
   "execution_count": null,
   "metadata": {},
   "outputs": [],
   "source": [
    "Italy_data.loc[Italy_data.Year == 2016].sort_values(by='Exported Quantity', ascending = False).head(10)"
   ]
  },
  {
   "cell_type": "markdown",
   "metadata": {},
   "source": [
    "- Most imported Items"
   ]
  },
  {
   "cell_type": "code",
   "execution_count": null,
   "metadata": {},
   "outputs": [],
   "source": [
    "Italy_data.loc[Italy_data.Year == 2016].sort_values(by='Imported Quantity', ascending = False).head(10)"
   ]
  },
  {
   "cell_type": "markdown",
   "metadata": {},
   "source": [
    "## Data loading - French importations and exportations of agricultural goods "
   ]
  },
  {
   "cell_type": "code",
   "execution_count": null,
   "metadata": {},
   "outputs": [],
   "source": [
    "France_trade = pd.read_csv('../data/FAOSTAT_data_france.csv')\n",
    "France_trade.head()"
   ]
  },
  {
   "cell_type": "code",
   "execution_count": null,
   "metadata": {},
   "outputs": [],
   "source": [
    "France_trade.dtypes"
   ]
  },
  {
   "cell_type": "code",
   "execution_count": null,
   "metadata": {},
   "outputs": [],
   "source": [
    "unofficial_stats_index_fr = France_trade.loc[France_trade.Flag=='*'].index"
   ]
  },
  {
   "cell_type": "code",
   "execution_count": null,
   "metadata": {},
   "outputs": [],
   "source": [
    "# Drop the unofficial data\n",
    "France_trade = France_trade.drop(index = unofficial_stats_index_fr)"
   ]
  },
  {
   "cell_type": "code",
   "execution_count": null,
   "metadata": {},
   "outputs": [],
   "source": [
    "#we keep only tonnes units\n",
    "France_trade = France_trade.loc[France_trade.Unit=='tonnes']"
   ]
  },
  {
   "cell_type": "code",
   "execution_count": null,
   "metadata": {},
   "outputs": [],
   "source": [
    "France_trade.drop(index=France_trade[France_trade['Flag Description'].str.contains('Data not available')].index, inplace=True)"
   ]
  },
  {
   "cell_type": "code",
   "execution_count": null,
   "metadata": {},
   "outputs": [],
   "source": [
    "France_trade = France_trade[['Element','Area', 'Item', 'Year', 'Unit', 'Value']]\n",
    "France_trade.head()"
   ]
  },
  {
   "cell_type": "markdown",
   "metadata": {},
   "source": [
    "To keep the model simple, we sum the importations and exportations for a given product over all partner countries."
   ]
  },
  {
   "cell_type": "code",
   "execution_count": null,
   "metadata": {},
   "outputs": [],
   "source": [
    "France_trade = France_trade.groupby(['Item', 'Year', 'Element']).agg({'Value':'sum'})\\\n",
    "                                    .reset_index()\n",
    "France_trade.head()"
   ]
  },
  {
   "cell_type": "markdown",
   "metadata": {},
   "source": [
    "We improve the structure of our dataframe by pivoting its values of importations and exportations."
   ]
  },
  {
   "cell_type": "code",
   "execution_count": null,
   "metadata": {},
   "outputs": [],
   "source": [
    "France_trade_transformed = pd.pivot(France_trade,columns = 'Element', values='Value')\\\n",
    "                .rename(columns={'Export Quantity':'Exported Quantity','Import Quantity':'Imported Quantity'})\n",
    "France_trade_transformed.head()"
   ]
  },
  {
   "cell_type": "code",
   "execution_count": null,
   "metadata": {},
   "outputs": [],
   "source": [
    "France_trade = pd.concat([France_trade, France_trade_transformed], axis=1, join='inner')\n",
    "France_trade.drop(columns=['Value', 'Element'], inplace=True)\n",
    "France_trade = France_trade.groupby(['Item', 'Year'])\\\n",
    "                            .agg({'Exported Quantity':'mean','Imported Quantity':'mean'})\\\n",
    "                            .reset_index()\n",
    "France_trade.head()"
   ]
  },
  {
   "cell_type": "markdown",
   "metadata": {},
   "source": [
    "Combine production and trade data in one dataframe 'France_data' so that we have all the information at the same place. Note that we don't have values of importations and exportations before 1986 so production of goods before 1986 will not be considered as from here."
   ]
  },
  {
   "cell_type": "code",
   "execution_count": null,
   "metadata": {},
   "outputs": [],
   "source": [
    "France_crops = raw_CH_crops_dataset[['Area', 'Item','Element', 'Year', 'Unit', 'Value']]"
   ]
  },
  {
   "cell_type": "code",
   "execution_count": null,
   "metadata": {},
   "outputs": [],
   "source": [
    "# Merge importations data with production data\n",
    "France_data = France_crops.loc[France_crops.Area=='France'].loc[France_crops.Element=='Production'].loc[France_crops.Year>= 1986]\\\n",
    "                                    .merge(France_trade,on=['Item', 'Year'], how='inner')\\\n",
    "                                    .rename(columns={'Value':'Produced Quantity'})\n",
    "\n"
   ]
  },
  {
   "cell_type": "code",
   "execution_count": null,
   "metadata": {},
   "outputs": [],
   "source": [
    "France_data.head()"
   ]
  },
  {
   "cell_type": "markdown",
   "metadata": {},
   "source": [
    "- Most produced Items"
   ]
  },
  {
   "cell_type": "code",
   "execution_count": null,
   "metadata": {},
   "outputs": [],
   "source": [
    "France_data.loc[France_data.Year == 2016].sort_values(by='Produced Quantity', ascending = False).head(10)"
   ]
  },
  {
   "cell_type": "markdown",
   "metadata": {},
   "source": [
    "- Most exported Items"
   ]
  },
  {
   "cell_type": "code",
   "execution_count": null,
   "metadata": {},
   "outputs": [],
   "source": [
    "France_data.loc[France_data.Year == 2016].sort_values(by='Exported Quantity', ascending = False).head(10)"
   ]
  },
  {
   "cell_type": "markdown",
   "metadata": {},
   "source": [
    "- Most imported Items"
   ]
  },
  {
   "cell_type": "code",
   "execution_count": null,
   "metadata": {},
   "outputs": [],
   "source": [
    "France_data.loc[France_data.Year == 2016].sort_values(by='Imported Quantity', ascending = False).head(10)"
   ]
  },
  {
   "cell_type": "markdown",
   "metadata": {},
   "source": [
    "## Data loading - Austrian importations and exportations of agricultural goods "
   ]
  },
  {
   "cell_type": "code",
   "execution_count": null,
   "metadata": {},
   "outputs": [],
   "source": [
    "Austria_trade = pd.read_csv('../data/FAOSTAT_data_austria.csv')\n",
    "Austria_trade.head()"
   ]
  },
  {
   "cell_type": "code",
   "execution_count": null,
   "metadata": {},
   "outputs": [],
   "source": [
    "Austria_trade.dtypes"
   ]
  },
  {
   "cell_type": "code",
   "execution_count": null,
   "metadata": {},
   "outputs": [],
   "source": [
    "unofficial_stats_index_au = Austria_trade.loc[Austria_trade.Flag=='*'].index"
   ]
  },
  {
   "cell_type": "code",
   "execution_count": null,
   "metadata": {},
   "outputs": [],
   "source": [
    "# Drop the unofficial data\n",
    "Austria_trade = Austria_trade.drop(index = unofficial_stats_index_au)"
   ]
  },
  {
   "cell_type": "code",
   "execution_count": null,
   "metadata": {},
   "outputs": [],
   "source": [
    "#we keep only tonnes units\n",
    "Austria_trade = Austria_trade.loc[Austria_trade.Unit=='tonnes']"
   ]
  },
  {
   "cell_type": "code",
   "execution_count": null,
   "metadata": {},
   "outputs": [],
   "source": [
    "Austria_trade.drop(index=Austria_trade[Austria_trade['Flag Description'].str.contains('Data not available')].index, inplace=True)"
   ]
  },
  {
   "cell_type": "code",
   "execution_count": null,
   "metadata": {},
   "outputs": [],
   "source": [
    "Austria_trade = Austria_trade[['Element','Area', 'Item', 'Year', 'Unit', 'Value']]\n",
    "Austria_trade.head()"
   ]
  },
  {
   "cell_type": "markdown",
   "metadata": {},
   "source": [
    "To keep the model simple, we sum the importations and exportations for a given product over all partner countries."
   ]
  },
  {
   "cell_type": "code",
   "execution_count": null,
   "metadata": {},
   "outputs": [],
   "source": [
    "Austria_trade = Austria_trade.groupby(['Item', 'Year', 'Element']).agg({'Value':'sum'})\\\n",
    "                                    .reset_index()\n",
    "Austria_trade.head()"
   ]
  },
  {
   "cell_type": "markdown",
   "metadata": {},
   "source": [
    "We improve the structure of our dataframe by pivoting its values of importations and exportations."
   ]
  },
  {
   "cell_type": "code",
   "execution_count": null,
   "metadata": {},
   "outputs": [],
   "source": [
    "Austria_trade_transformed = pd.pivot(Austria_trade,columns = 'Element', values='Value')\\\n",
    "                .rename(columns={'Export Quantity':'Exported Quantity','Import Quantity':'Imported Quantity'})\n",
    "Austria_trade_transformed.head()"
   ]
  },
  {
   "cell_type": "code",
   "execution_count": null,
   "metadata": {},
   "outputs": [],
   "source": [
    "Austria_trade = pd.concat([Austria_trade, Austria_trade_transformed], axis=1, join='inner')\n",
    "Austria_trade.drop(columns=['Value', 'Element'], inplace=True)\n",
    "Austria_trade = Austria_trade.groupby(['Item', 'Year'])\\\n",
    "                            .agg({'Exported Quantity':'mean','Imported Quantity':'mean'})\\\n",
    "                            .reset_index()\n",
    "Austria_trade.head()"
   ]
  },
  {
   "cell_type": "markdown",
   "metadata": {},
   "source": [
    "Combine production and trade data in one dataframe 'Austria_data' so that we have all the information at the same place. Note that we don't have values of importations and exportations before 1986 so production of goods before 1986 will not be considered as from here."
   ]
  },
  {
   "cell_type": "code",
   "execution_count": null,
   "metadata": {},
   "outputs": [],
   "source": [
    "Austria_crops = raw_CH_crops_dataset[['Area', 'Item','Element', 'Year', 'Unit', 'Value']]"
   ]
  },
  {
   "cell_type": "code",
   "execution_count": null,
   "metadata": {},
   "outputs": [],
   "source": [
    "# Merge importations data with production data\n",
    "Austria_data = Austria_crops.loc[Austria_crops.Area=='Austria'].loc[Austria_crops.Element=='Production'].loc[Austria_crops.Year>= 1986]\\\n",
    "                                    .merge(Austria_trade,on=['Item', 'Year'], how='inner')\\\n",
    "                                    .rename(columns={'Value':'Produced Quantity'})"
   ]
  },
  {
   "cell_type": "code",
   "execution_count": null,
   "metadata": {},
   "outputs": [],
   "source": [
    "Austria_data.head()"
   ]
  },
  {
   "cell_type": "markdown",
   "metadata": {},
   "source": [
    "- Most produced items"
   ]
  },
  {
   "cell_type": "code",
   "execution_count": null,
   "metadata": {},
   "outputs": [],
   "source": [
    "Austria_data.loc[Austria_data.Year == 2016].sort_values(by='Produced Quantity', ascending = False).head(10)"
   ]
  },
  {
   "cell_type": "markdown",
   "metadata": {},
   "source": [
    "- Most exported items"
   ]
  },
  {
   "cell_type": "code",
   "execution_count": null,
   "metadata": {},
   "outputs": [],
   "source": [
    "Austria_data.loc[Austria_data.Year == 2016].sort_values(by='Exported Quantity', ascending = False).head(10)"
   ]
  },
  {
   "cell_type": "markdown",
   "metadata": {},
   "source": [
    "- Most imported items"
   ]
  },
  {
   "cell_type": "code",
   "execution_count": null,
   "metadata": {},
   "outputs": [],
   "source": [
    "Austria_data.loc[Austria_data.Year == 2016].sort_values(by='Imported Quantity', ascending = False).head(10)"
   ]
  },
  {
   "cell_type": "markdown",
   "metadata": {},
   "source": [
    "## Data loading - German importations and exportations of agricultural goods "
   ]
  },
  {
   "cell_type": "code",
   "execution_count": null,
   "metadata": {},
   "outputs": [],
   "source": [
    "Germany_trade = pd.read_csv('../data/FAOSTAT_data_germany.csv')\n",
    "Germany_trade.head()"
   ]
  },
  {
   "cell_type": "code",
   "execution_count": null,
   "metadata": {},
   "outputs": [],
   "source": [
    "Germany_trade.dtypes"
   ]
  },
  {
   "cell_type": "code",
   "execution_count": null,
   "metadata": {},
   "outputs": [],
   "source": [
    "unofficial_stats_index_ge = Germany_trade.loc[Germany_trade.Flag=='*'].index"
   ]
  },
  {
   "cell_type": "code",
   "execution_count": null,
   "metadata": {},
   "outputs": [],
   "source": [
    "# Drop the unofficial data\n",
    "Germany_trade = Germany_trade.drop(index = unofficial_stats_index_ge)"
   ]
  },
  {
   "cell_type": "code",
   "execution_count": null,
   "metadata": {},
   "outputs": [],
   "source": [
    "#we keep only tonnes units\n",
    "Germany_trade = Germany_trade.loc[Germany_trade.Unit=='tonnes']"
   ]
  },
  {
   "cell_type": "code",
   "execution_count": null,
   "metadata": {},
   "outputs": [],
   "source": [
    "Germany_trade.drop(index=Germany_trade[Germany_trade['Flag Description'].str.contains('Data not available')].index, inplace=True)"
   ]
  },
  {
   "cell_type": "code",
   "execution_count": null,
   "metadata": {},
   "outputs": [],
   "source": [
    "Germany_trade = Germany_trade[['Element','Area', 'Item', 'Year', 'Unit', 'Value']]\n",
    "Germany_trade.head()"
   ]
  },
  {
   "cell_type": "markdown",
   "metadata": {},
   "source": [
    "To keep the model simple, we sum the importations and exportations for a given product over all partner countries."
   ]
  },
  {
   "cell_type": "code",
   "execution_count": null,
   "metadata": {},
   "outputs": [],
   "source": [
    "Germany_trade = Germany_trade.groupby(['Item', 'Year', 'Element']).agg({'Value':'sum'})\\\n",
    "                                    .reset_index()\n",
    "Germany_trade.head()"
   ]
  },
  {
   "cell_type": "markdown",
   "metadata": {},
   "source": [
    "We improve the structure of our dataframe by pivoting its values of importations and exportations."
   ]
  },
  {
   "cell_type": "code",
   "execution_count": null,
   "metadata": {},
   "outputs": [],
   "source": [
    "Germany_trade_transformed = pd.pivot(Germany_trade,columns = 'Element', values='Value')\\\n",
    "                .rename(columns={'Export Quantity':'Exported Quantity','Import Quantity':'Imported Quantity'})\n",
    "Germany_trade_transformed.head()"
   ]
  },
  {
   "cell_type": "code",
   "execution_count": null,
   "metadata": {},
   "outputs": [],
   "source": [
    "Germany_trade = pd.concat([Germany_trade, Germany_trade_transformed], axis=1, join='inner')\n",
    "Germany_trade.drop(columns=['Value', 'Element'], inplace=True)\n",
    "Germany_trade = Germany_trade.groupby(['Item', 'Year'])\\\n",
    "                            .agg({'Exported Quantity':'mean','Imported Quantity':'mean'})\\\n",
    "                            .reset_index()\n",
    "Germany_trade.head()"
   ]
  },
  {
   "cell_type": "markdown",
   "metadata": {},
   "source": [
    "Combine production and trade data in one dataframe 'Germany_data' so that we have all the information at the same place. Note that we don't have values of importations and exportations before 1986 so production of goods before 1986 will not be considered as from here."
   ]
  },
  {
   "cell_type": "code",
   "execution_count": null,
   "metadata": {},
   "outputs": [],
   "source": [
    "Germany_crops = raw_CH_crops_dataset[['Area', 'Item','Element', 'Year', 'Unit', 'Value']]"
   ]
  },
  {
   "cell_type": "code",
   "execution_count": null,
   "metadata": {},
   "outputs": [],
   "source": [
    "# Merge importations data with production data\n",
    "Germany_data = Germany_crops.loc[Germany_crops.Area=='Germany'].loc[Germany_crops.Element=='Production'].loc[Germany_crops.Year>= 1986]\\\n",
    "                                    .merge(Germany_trade,on=['Item', 'Year'], how='inner')\\\n",
    "                                    .rename(columns={'Value':'Produced Quantity'})"
   ]
  },
  {
   "cell_type": "code",
   "execution_count": null,
   "metadata": {},
   "outputs": [],
   "source": [
    "Germany_data.head()"
   ]
  },
  {
   "cell_type": "markdown",
   "metadata": {},
   "source": [
    "- Most produceditems"
   ]
  },
  {
   "cell_type": "code",
   "execution_count": null,
   "metadata": {},
   "outputs": [],
   "source": [
    "Germany_data.loc[Germany_data.Year == 2016].sort_values(by='Produced Quantity', ascending = False).head(10)"
   ]
  },
  {
   "cell_type": "markdown",
   "metadata": {},
   "source": [
    "- Most exported items"
   ]
  },
  {
   "cell_type": "code",
   "execution_count": null,
   "metadata": {},
   "outputs": [],
   "source": [
    "Germany_data.loc[Germany_data.Year == 2016].sort_values(by='Exported Quantity', ascending = False).head(10)"
   ]
  },
  {
   "cell_type": "markdown",
   "metadata": {},
   "source": [
    "- Most imported items"
   ]
  },
  {
   "cell_type": "code",
   "execution_count": null,
   "metadata": {},
   "outputs": [],
   "source": [
    "Germany_data.loc[Germany_data.Year == 2016].sort_values(by='Imported Quantity', ascending = False).head(10)"
   ]
  },
  {
   "cell_type": "markdown",
   "metadata": {},
   "source": [
    "<div class=\"alert alert-block alert-success\">\n",
    "\n",
    "We can observe that apples, maize, potatoes and wheats are important items for all countries as they are often amoung the most produced, exported and imported items. \n",
    "So we can focus our study on those products to answer the question of swiss food suficiency. \n",
    "\n",
    "    on devrait remplacer oat par autre chose... What about Sugar beet??"
   ]
  },
  {
   "cell_type": "markdown",
   "metadata": {},
   "source": [
    "## Data loading - leichtenstein importations and exportations of agricultural goods "
   ]
  },
  {
   "cell_type": "markdown",
   "metadata": {},
   "source": [
    "no data found on FAO"
   ]
  },
  {
   "cell_type": "markdown",
   "metadata": {},
   "source": [
    "## Data Loading -  Switzerland temperatures\n",
    "\n",
    "This dataset does not come from FAOSTATS but from : __[MeteoSwiss](https://www.meteoswiss.admin.ch/home/climate/swiss-climate-in-detail/Swiss-temperature-mean/Data-on-the-Swiss-temperature-mean.html)__"
   ]
  },
  {
   "cell_type": "code",
   "execution_count": null,
   "metadata": {},
   "outputs": [],
   "source": [
    "CH_temperatures = pd.read_csv('../data/10.18751-Climate-Timeseries-CHTM-1.1-swiss.txt', sep=\"\\t\", header=0, skiprows=15)"
   ]
  },
  {
   "cell_type": "code",
   "execution_count": null,
   "metadata": {},
   "outputs": [],
   "source": [
    "CH_temperatures = CH_temperatures.loc[CH_temperatures.time>=1986].loc[CH_temperatures.time<=2017]"
   ]
  },
  {
   "cell_type": "code",
   "execution_count": null,
   "metadata": {},
   "outputs": [],
   "source": [
    "CH_temperatures = CH_temperatures.iloc[:,-3:]"
   ]
  },
  {
   "cell_type": "code",
   "execution_count": null,
   "metadata": {},
   "outputs": [],
   "source": [
    "CH_temperatures"
   ]
  },
  {
   "cell_type": "markdown",
   "metadata": {},
   "source": [
    "### Plot : Is there a correlation between production and temperature?\n"
   ]
  },
  {
   "cell_type": "code",
   "execution_count": null,
   "metadata": {},
   "outputs": [],
   "source": [
    "CH_data.head()"
   ]
  },
  {
   "cell_type": "code",
   "execution_count": null,
   "metadata": {},
   "outputs": [],
   "source": [
    "#we should make an interactive plot so we can select a food element and see how its production is affected\n",
    "#by temperatures changes. \n",
    "years = np.sort(CH_data.Year.unique())\n",
    "fig, ax1 = plt.subplots()\n",
    "data1 = CH_data.loc[CH_data.Item=='Potatoes']['Produced Quantity']\n",
    "data2 = CH_temperatures.year\n",
    "\n",
    "color = 'tab:red'\n",
    "ax1.set_xlabel('year')\n",
    "ax1.set_ylabel('production', color=color)\n",
    "ax1.plot(years, data1, color=color)\n",
    "ax1.tick_params(axis='y', labelcolor=color)\n",
    "\n",
    "ax2 = ax1.twinx()  # instantiate a second axes that shares the same x-axis\n",
    "\n",
    "color = 'tab:blue'\n",
    "ax2.set_ylabel('temperature', color=color)  # we already handled the x-label with ax1\n",
    "ax2.plot(years, data2, color=color)\n",
    "ax2.tick_params(axis='y', labelcolor=color)\n",
    "\n",
    "fig.tight_layout()  # otherwise the right y-label is slightly clipped\n",
    "plt.title('Potatoes production and temperatures every year')\n",
    "plt.show()"
   ]
  },
  {
   "cell_type": "markdown",
   "metadata": {},
   "source": [
    "<div class=\"alert alert-block alert-success\">\n",
    "As temperature increase, the production decrease. \n"
   ]
  },
  {
   "cell_type": "markdown",
   "metadata": {},
   "source": [
    "<div class=\"alert alert-block alert-warning\">\n",
    "For our predictive model we will need a way to estimate the future temperatures. If we base our reasoning on +1.5°C in 2050, we can make linear regression? "
   ]
  },
  {
   "cell_type": "markdown",
   "metadata": {},
   "source": [
    "## Switzerland importations and exportations network\n",
    "\n",
    "We want to know which country are the main partners of Switzerland "
   ]
  },
  {
   "cell_type": "code",
   "execution_count": null,
   "metadata": {},
   "outputs": [],
   "source": [
    "CH_trade_network = CH_trade_network[['Element','Reporter Countries','Partner Countries', 'Item', 'Year', 'Unit', 'Value']]\n",
    "CH_trade_network.head()"
   ]
  },
  {
   "cell_type": "code",
   "execution_count": null,
   "metadata": {},
   "outputs": [],
   "source": [
    "CH_trade_network.Unit.unique()"
   ]
  },
  {
   "cell_type": "markdown",
   "metadata": {},
   "source": [
    "We can make 3 differents networks graphes, weighted in different manners:\n",
    "\n",
    "    - according to quantity exchanged\n",
    "    -according to number of times they are linked\n",
    "    -accrding by the variety of products exchanged\n",
    "    \n",
    "I choose the first one. So i can get rid off the columns year, units, and item. The network will show the best partners from 1985 to 2016 for all products. \n",
    "\n",
    "The netork graph is also directed (Importation towards Switzerland and Exportations towards the partner country)   "
   ]
  },
  {
   "cell_type": "code",
   "execution_count": null,
   "metadata": {},
   "outputs": [],
   "source": [
    "CH_trade_network = CH_trade_network[['Element','Reporter Countries','Partner Countries', 'Value']]\n",
    "CH_trade_network.head()"
   ]
  },
  {
   "cell_type": "code",
   "execution_count": null,
   "metadata": {},
   "outputs": [],
   "source": [
    "#compute the weights\n",
    "weights= CH_trade_network.groupby([\"Element\",\"Partner Countries\",\"Reporter Countries\"]).agg({'Value':'sum'})\\\n",
    "                                    .reset_index()\n",
    "\n",
    "weights.sort_values(by='Value', ascending = False).head(20)"
   ]
  },
  {
   "cell_type": "markdown",
   "metadata": {},
   "source": [
    "<div class=\"alert alert-block alert-success\">\n",
    "\n",
    "France, Italy, Germany, Spain an Netherlands are the biggest Importer countries for Switzerland when we look at the quantity imported over the years. \n",
    "France, Germany, Austria Italy and the United States are the biggest partner exporters of Switzerland. \n",
    "    "
   ]
  },
  {
   "cell_type": "code",
   "execution_count": null,
   "metadata": {},
   "outputs": [],
   "source": [
    "# Helper function for printing various graph properties\n",
    "def describe_graph(G):\n",
    "    print(nx.info(G))\n",
    "    if nx.is_connected(G):\n",
    "        print(\"Avg. Shortest Path Length: %.4f\" %nx.average_shortest_path_length(G))\n",
    "        print(\"Diameter: %.4f\" %nx.diameter(G)) # Longest shortest path\n",
    "    else:\n",
    "        print(\"Graph is not connected\")\n",
    "        print(\"Diameter and Avg shortest path length are not defined!\")\n",
    "    print(\"Sparsity: %.4f\" %nx.density(G))  # #edges/#edges-complete-graph\n",
    "    # #closed-triplets(3*#triangles)/#all-triplets\n",
    "    print(\"Global clustering coefficient aka Transitivity: %.4f\" %nx.transitivity(G))"
   ]
  },
  {
   "cell_type": "code",
   "execution_count": null,
   "metadata": {},
   "outputs": [],
   "source": [
    "import networkx as nx\n",
    "\n",
    "G=nx.from_pandas_edgelist(weights, 'Reporter Countries', 'Partner Countries', edge_attr=['Value'], create_using=nx.Graph())\n",
    " \n",
    "# Plot it\n",
    "nx.draw(G, with_labels=True, k=1, alpha=0.8)\n",
    "#plt.size(18.5, 10.5)\n",
    "plt.show()\n"
   ]
  },
  {
   "cell_type": "code",
   "execution_count": null,
   "metadata": {},
   "outputs": [],
   "source": [
    "print(nx.info(G))"
   ]
  },
  {
   "cell_type": "code",
   "execution_count": null,
   "metadata": {},
   "outputs": [],
   "source": [
    "describe_graph(G)  "
   ]
  },
  {
   "cell_type": "markdown",
   "metadata": {},
   "source": [
    "To make it more readable, we decide to keep only the 20 biggest partners in exportations and importations."
   ]
  },
  {
   "cell_type": "code",
   "execution_count": null,
   "metadata": {},
   "outputs": [],
   "source": [
    "weights = weights.sort_values(by='Value', ascending = False).head(20)\n",
    "\n",
    "G2=nx.from_pandas_edgelist(weights[:20], 'Reporter Countries', 'Partner Countries', edge_attr=['Value'], create_using=nx.Graph())\n",
    " \n",
    "# Plot it\n",
    "nx.draw(G2, with_labels=True, k=0.05, alpha=0.8)\n",
    "#plt.size(18.5, 10.5)\n",
    "plt.show()\n",
    "\n"
   ]
  },
  {
   "cell_type": "code",
   "execution_count": null,
   "metadata": {},
   "outputs": [],
   "source": [
    "print(nx.info(G2))"
   ]
  },
  {
   "cell_type": "code",
   "execution_count": null,
   "metadata": {},
   "outputs": [],
   "source": [
    "describe_graph(G2) "
   ]
  },
  {
   "cell_type": "markdown",
   "metadata": {},
   "source": [
    "<div class=\"alert alert-block alert-warning\">\n",
    "    Pas fini j'ai pas reussi a faire directed parce que j'ai dans la meme colonne du tableau imported and exported il faudrait séparer en 2 differentes colones ds le genre :\n",
    "create new_df avec colonne from et colonne to et colone weight\n",
    "    \n",
    "    iterate on the old dataframe raws:\n",
    "    if imported :  to = Switzerland and from = Partner country and weight = value\n",
    "    if exported : to= Partner country and from = Switzerland and weight = value \n",
    "    et apres faire \n",
    "    G=nx.from_pandas_edgelist(new_df, 'from', 'to', edge_attr=['weight'], create_using=nx.DiGraph())\n",
    "    \n",
    "    et la ca serait juste\n",
    "    et on garderai seulement les 20 plus importants sinon c'est ilisible. \n",
    "    Vous pensez ca vaut la peine de faire ou on va pas utiliser????\n",
    "    \n",
    "    "
   ]
  },
  {
   "cell_type": "markdown",
   "metadata": {},
   "source": [
    "## Plan - What's coming next?"
   ]
  },
  {
   "cell_type": "markdown",
   "metadata": {},
   "source": [
    "<div class=\"alert alert-block alert-info\">\n",
    "    \n",
    "1. Defining what is food self-sufficiency\n",
    "    1. $ SSR = Production * 100 / (Production + Imports - Exports)$ to develop\n",
    "    2. Addapt it to the Swiss case : take a look to what we import (basic needs ?), export (top exports ? by far ?) and production graphs\n",
    "    3. __[Ref. Paper \"Food self-sufficiency: Making sense of it, and when it makes sense\" By Jennifer Clapp](https://www.sciencedirect.com/science/article/pii/S0306919216305851#b0240)__. <br> Résumé : __[Résumé par le site Resilience du paper de Clapp](https://www.resilience.org/stories/2018-03-13/food-self-sufficiency-does-it-make-sense/)__\n",
    "    4. Compare our results with other sources just to know if we share the same results (e.g. selfsufficiency switzerland on wikipedia __[List of countries by food self-sufficieent rate](https://en.wikipedia.org/wiki/List_of_countries_by_food_self-sufficiency_rate)__)\n",
    "\n",
    "    \n",
    "2. Food situation of Switzerland from 1986 to 2017.\n",
    "    1. Is/was it food self-sufficient ? SSR scores over the years.\n",
    "    2. Comapre to neighbours\n",
    "\n",
    "    \n",
    "3. Will it be **physically** possible for Switzerland in a near future to be food self-sufficient (in the sense of the 2018 initiative bc we have seen that definition is relative) taking into account its population growth (hesimated increase in consumption computation)? What would it imply/take into account in terms of :\n",
    "    1. Area harvested (actual ratio and estimation of its evolution)\n",
    "    2. Farmers population \n",
    "    3. Temperature (climate impact food production correlation)\n",
    "    4. Environment (use of fertilizers needed ? depends on productivity)\n",
    "\n",
    "    \n",
    "4. Attempt on **economy** consequences analysis ?\n",
    "    1. Complicated ... What about looking at what happended in countries that adopted food self-sufficient policies such as Senegal, India, the Philippines, Qatar, Bolivia, and Russia ? (Jaccard and correlations?)\n",
    "    2. Jaccard similarity of country based on SSR to see which country should adopt more food self-sufficient policies ?"
   ]
  },
  {
   "cell_type": "markdown",
   "metadata": {},
   "source": [
    "# 1. food self-sufficiency : food situation in Switzerland from 1986 to 2017"
   ]
  },
  {
   "cell_type": "markdown",
   "metadata": {},
   "source": [
    "## Compute SSR for Switzerland and its neighbour over the years then plot? Analysis"
   ]
  },
  {
   "cell_type": "markdown",
   "metadata": {},
   "source": [
    "<div class=\"alert alert-block alert-warning\">\n",
    "TO DO : $ SSR = Production * 100 / (Production + Imports - Exports)"
   ]
  },
  {
   "cell_type": "markdown",
   "metadata": {},
   "source": [
    "## What doees Switzerland import and export? Is it different from its neighbours in items or quantities ?"
   ]
  },
  {
   "cell_type": "markdown",
   "metadata": {},
   "source": [
    "<div class=\"alert alert-block alert-success\">\n",
    "Allready done need to decide how to presents our results and do the analysis (see points C and D in the plan)\n",
    "\n",
    "Answer the questions:\n",
    "What does Switzerland produce and in which quantity?\n",
    "Does CH import more than its neighbours (due to its small size ?) "
   ]
  },
  {
   "cell_type": "markdown",
   "metadata": {},
   "source": [
    "<div class=\"alert alert-block alert-warning\">\n",
    "Idea: use a Network map to show the main partners?? "
   ]
  },
  {
   "cell_type": "markdown",
   "metadata": {},
   "source": [
    "# 2. Will it be physically possible for Switzerland in a near future to be food self-sufficient? Predictive Model\n"
   ]
  },
  {
   "cell_type": "markdown",
   "metadata": {},
   "source": [
    "## A. Area harvested (actual ratio and estimation of its evolution)"
   ]
  },
  {
   "cell_type": "markdown",
   "metadata": {},
   "source": [
    "<div class=\"alert alert-block alert-success\">\n",
    "Started: see land attribution and interactive map of the words. + demographic map\n",
    "\n",
    "Compute the switzerland potential in term of agriculture. Does the country use all his land or not? Demography of Switzerland: with the growing population, can we feed everybody with Swiss agriculture in the next few years for example?\n",
    "    \n",
    "TO DO: finishing step of adding urban areas and redo plots of land attribustions + map of the area harvested/total area ratio for Switzerland and its neighbours\n",
    "    \n",
    "Analysis: strated"
   ]
  },
  {
   "cell_type": "markdown",
   "metadata": {},
   "source": [
    "## B. Farmers population "
   ]
  },
  {
   "cell_type": "markdown",
   "metadata": {},
   "source": [
    "<div class=\"alert alert-block alert-warning\">\n",
    "TO DO: need to find dataset, clear it and plot the farmer population through years. Is it increasing or decreasing? Why? (new machines, not apealing job anymore....)\n",
    "\n",
    "Answer the question: Is food selfsuffience of CH realistic ? How many farmer would it need ? \n",
    "    "
   ]
  },
  {
   "cell_type": "markdown",
   "metadata": {},
   "source": [
    "## C. temperature : climate impact and correlations with food production\n"
   ]
  },
  {
   "cell_type": "markdown",
   "metadata": {},
   "source": [
    "<div class=\"alert alert-block alert-success\">\n",
    "Started\n",
    "\n",
    "Answer the question:\n",
    "How's been the productivity over the years? Is it growing, decreasing? What are the factors correlated with the trend? Temperature rise, fertilizer usage?"
   ]
  },
  {
   "cell_type": "markdown",
   "metadata": {},
   "source": [
    "## D. Environment (use of fertilizers needed ? depends on productivity)"
   ]
  },
  {
   "cell_type": "markdown",
   "metadata": {},
   "source": [
    "<div class=\"alert alert-block alert-warning\">\n",
    "TO DO: need to find dataset, clear it and plot the correlation between fertilizers use and production. Analysis"
   ]
  },
  {
   "cell_type": "markdown",
   "metadata": {},
   "source": [
    "## E. Compute the predictive model (ReadMe)"
   ]
  },
  {
   "cell_type": "markdown",
   "metadata": {},
   "source": [
    "<div class=\"alert alert-block alert-warning\">\n",
    "TO DO :  The model should return the percentage of land that could be allocated for each element in addition of the already existing lands. To compute this, the model will take into account the different food elements, the available land for agriculture, the temperatues and the demography. <br> Once we get this percentage, we can add it to the land already used for each country and calculate the increase in production for each food elements. Thus we could see if the importations can be reduce and conclude about the self food sufficiency of Switzerland. This model will be run on every years until 2030. "
   ]
  },
  {
   "cell_type": "markdown",
   "metadata": {},
   "source": [
    "# 3. Economic consequences analysis? "
   ]
  },
  {
   "cell_type": "markdown",
   "metadata": {},
   "source": [
    "<div class=\"alert alert-block alert-warning\">\n",
    "Honnetement ca c'est si on a le temps .... "
   ]
  },
  {
   "cell_type": "code",
   "execution_count": null,
   "metadata": {},
   "outputs": [],
   "source": []
  }
 ],
 "metadata": {
  "kernelspec": {
   "display_name": "Python 3",
   "language": "python",
   "name": "python3"
  },
  "language_info": {
   "codemirror_mode": {
    "name": "ipython",
    "version": 3
   },
   "file_extension": ".py",
   "mimetype": "text/x-python",
   "name": "python",
   "nbconvert_exporter": "python",
   "pygments_lexer": "ipython3",
   "version": "3.7.4"
  }
 },
 "nbformat": 4,
 "nbformat_minor": 4
}

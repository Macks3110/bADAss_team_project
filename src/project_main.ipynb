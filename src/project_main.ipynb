{
 "cells": [
  {
   "cell_type": "code",
   "execution_count": null,
   "metadata": {},
   "outputs": [],
   "source": [
    "%matplotlib inline\n",
    "import numpy as np\n",
    "import matplotlib.pyplot as plt\n",
    "import pandas as pd\n",
    "import folium"
   ]
  },
  {
   "cell_type": "markdown",
   "metadata": {},
   "source": [
    "## Load data  into a Pandas dataframe"
   ]
  },
  {
   "cell_type": "code",
   "execution_count": null,
   "metadata": {
    "scrolled": true
   },
   "outputs": [],
   "source": [
    "complete_dataset = pd.read_csv('../data/fao_data_crops_data.csv')\n",
    "\n",
    "\n"
   ]
  },
  {
   "cell_type": "code",
   "execution_count": null,
   "metadata": {},
   "outputs": [],
   "source": [
    "# We split the data and metadata and store them in 'crops' and 'flags' dataframe, respecitvely.\n",
    "crops = complete_dataset.loc[:2255342].copy() \n",
    "flags = complete_dataset.loc[2255344:2255348].copy() \n",
    "# 'flags' contains correspondance list of acronyms that describe how a given sample was acquired --> only informative\n",
    "flags.drop(['element','year','unit','value','value_footnotes','category'], axis=1, inplace = True) \n",
    "flags.rename(columns={'country_or_area':'acronym', 'element_code':'description'}, inplace=True) \n",
    "flags.set_index('acronym', inplace=True)\n",
    "flags"
   ]
  },
  {
   "cell_type": "markdown",
   "metadata": {},
   "source": [
    "## Exploratory data analysis"
   ]
  },
  {
   "cell_type": "code",
   "execution_count": null,
   "metadata": {
    "scrolled": true
   },
   "outputs": [],
   "source": [
    "crops.head()"
   ]
  },
  {
   "cell_type": "code",
   "execution_count": null,
   "metadata": {
    "scrolled": false
   },
   "outputs": [],
   "source": [
    "print(\"Size of the DataFrame: {s}\\n\".format(s=crops.shape))\n",
    "print(\"Variable types present in DataFrame: \\n{t}\".format(t=crops.dtypes))"
   ]
  },
  {
   "cell_type": "code",
   "execution_count": null,
   "metadata": {
    "scrolled": true
   },
   "outputs": [],
   "source": [
    "# List all the different footnotes values present in the dataset\n",
    "footnotes = crops['value_footnotes'].unique() \n",
    "print(footnotes)\n",
    "# Display dataframe that only contains one given value of 'value_footnotes'\n",
    "display(crops.query('value_footnotes==@footnotes[4]')) \n",
    "# Return dataframe that only contains samples having NaN as value for 'value_footnotes'\n",
    "crops[crops.value_footnotes.isnull()] "
   ]
  },
  {
   "cell_type": "code",
   "execution_count": null,
   "metadata": {},
   "outputs": [],
   "source": [
    "print(crops['element'].unique())\n",
    "print(crops['year'].unique())\n",
    "print(crops['unit'].unique())\n",
    "print(crops['category'].unique())\n",
    "print(crops['element_code'].unique())\n",
    "print(crops['country_or_area'].unique())"
   ]
  },
  {
   "cell_type": "markdown",
   "metadata": {},
   "source": [
    "## Data preprocessing"
   ]
  },
  {
   "cell_type": "code",
   "execution_count": null,
   "metadata": {
    "scrolled": true
   },
   "outputs": [],
   "source": [
    "# Returns a boolean of whether a column contains NaN (True) or not (False).\n",
    "print(crops.isnull().values.any(axis=0)) \n",
    "\n",
    "# Drop rows which contain only missing values.\n",
    "crops.dropna(how='all', inplace=True) \n",
    "\n"
   ]
  },
  {
   "cell_type": "code",
   "execution_count": null,
   "metadata": {},
   "outputs": [],
   "source": [
    "# We drop the samples where 'value' is unknown (NaN) because they are of no utility    \n",
    "crops.dropna(subset=['value', 'value_footnotes'], inplace=True) \n",
    "\n",
    "# Let's drop also all the samples that have 'NR' as a 'value_footnotes' value or 0 as 'value'\n",
    "crops.drop(index=crops[crops['value_footnotes'].str.contains('NR')].index, inplace=True)\n",
    "crops.drop(index=crops[crops['value']==0].index, inplace=True)\n"
   ]
  },
  {
   "cell_type": "markdown",
   "metadata": {},
   "source": [
    "Separate regions from countries"
   ]
  },
  {
   "cell_type": "code",
   "execution_count": null,
   "metadata": {},
   "outputs": [],
   "source": [
    "regions_bool = crops['country_or_area'].str.contains('\\+')\n",
    "crops_regions = crops[regions_bool].copy()\n",
    "crops_countries = crops[~regions_bool].copy()\n",
    "crops_countries[crops_countries.country_or_area.str.contains('China')].tail(60)"
   ]
  },
  {
   "cell_type": "code",
   "execution_count": null,
   "metadata": {},
   "outputs": [],
   "source": [
    "crops_countries_by_country_year = crops_countries.groupby(['country_or_area', 'element']) \\\n",
    "                            .agg({'value':'mean'}) \\\n",
    "                            .rename(columns={'value':'mean_'}) \n",
    "                            #.sort_values(by='value',ascending=False)\n",
    "crops_countries_by_country_year"
   ]
  },
  {
   "cell_type": "code",
   "execution_count": null,
   "metadata": {},
   "outputs": [],
   "source": [
    "area_harvested = crops_countries_by_country_year.loc[(slice(None),'Area Harvested'), :]\n",
    "#area_harvested.mean_.argmax()\n",
    "area_harvested.loc['United States of America']"
   ]
  },
  {
   "cell_type": "code",
   "execution_count": null,
   "metadata": {},
   "outputs": [],
   "source": [
    "surface_country = pd.read_csv('../data/API_AG.LND.TOTL.K2_DS2_en_csv_v2_422954.csv', skiprows=3)\n",
    "surface_country.set_index('Country Name', inplace = True)\n",
    "crops_countries_area = area_harvested.join(surface_country['2018'], on='country_or_area', how='left')\n",
    "crops_countries_area['ratio'] = area_harvested['mean_']/(crops_countries_area['2018']*100)\n",
    "crops_countries_area.dropna(inplace=True)\n",
    "#plt.bar(crops_countries_area_mean_nobermuda.index.get_level_values(level='country_or_area').values, height='ratio')\n",
    "#plt.show()\n",
    "pl = crops_countries_area.plot(kind=\"bar\", \n",
    "                             y=\"ratio\", \n",
    "                            figsize=(10, 7), alpha=0.5, color=\"olive\")"
   ]
  },
  {
   "cell_type": "code",
   "execution_count": null,
   "metadata": {
    "scrolled": true
   },
   "outputs": [],
   "source": [
    "crops_countries_area"
   ]
  },
  {
   "cell_type": "code",
   "execution_count": null,
   "metadata": {},
   "outputs": [],
   "source": [
    "m = folium.Map()\n",
    "world_geo = 'https://raw.githubusercontent.com/johan/world.geo.json/master/countries.geo.json'\n",
    "folium.Choropleth(\n",
    "    geo_data=world_geo,\n",
    "    name='choropleth',\n",
    "    data=crops_countries_area.ratio,\n",
    "    columns=[crops_countries_area.index.get_level_values(level='country_or_area').values, 'ratio'],\n",
    "    key_on='feature.properties.name',\n",
    "    bins = [np.histogram_bin_edges(crops_countries_area.ratio, bins=10)],\n",
    "    #fill_color='GnBu',\n",
    "    #fill_opacity=0.9,\n",
    "    #line_opacity=0.2,\n",
    "    #highlight = True,\n",
    ").add_to(m)\n",
    "#https://github.com/johan/world.geo.json/blob/master/countries.geo.json\n",
    "m"
   ]
  },
  {
   "cell_type": "code",
   "execution_count": null,
   "metadata": {},
   "outputs": [],
   "source": []
  }
 ],
 "metadata": {
  "kernelspec": {
   "display_name": "Python 3",
   "language": "python",
   "name": "python3"
  },
  "language_info": {
   "codemirror_mode": {
    "name": "ipython",
    "version": 3
   },
   "file_extension": ".py",
   "mimetype": "text/x-python",
   "name": "python",
   "nbconvert_exporter": "python",
   "pygments_lexer": "ipython3",
   "version": "3.7.3"
  }
 },
 "nbformat": 4,
 "nbformat_minor": 2
}

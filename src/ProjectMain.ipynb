{
 "cells": [
  {
   "cell_type": "markdown",
   "metadata": {},
   "source": [
    "# ADA Project - Food self-sufficiency :   what about Switzerland?"
   ]
  },
  {
   "cell_type": "markdown",
   "metadata": {},
   "source": [
    "<h1>Table of Contents<span class=\"tocSkip\"></span></h1>\n",
    "\n",
    "<div class=\"toc\">  \n",
    "    <ul class=\"toc-item\">\n",
    "        <li><span><a href=\"#Libraries-importation\" data-toc-modified-id=\"Libraries-importation-0\">Environment set up and libraries </a></span></li>\n",
    "        <li><span><a href=\"#World-global-view\" data-toc-modified-id=\"World-global-view-1\">World global view</a></span>\n",
    "            <ul class=\"toc-item\">\n",
    "                <li><span><a href=\"#Data-loading\" data-toc-modified-id=\"Data-loading-1.1\">Data loading and preprocessing</a></span>  \n",
    "                    <ul class=\"toc-item\"><li><span><a href=\"#Series\" data-toc-modified-id=\"Series-1.1.1\">subpart if needed (just for me to know how this works)</a></span></li></ul> \n",
    "                    <ul class=\"toc-item\">\n",
    "                        <li><span><a href=\"#Series\" data-toc-modified-id=\"Series-1.1.1\">subpart if needed</a></span></li>\n",
    "                        <ul class=\"toc-item\"><li><span><a href=\"#Missing-Values\" data-toc-modified-id=\"Missing-Values-1.2.0.1\">Subsub</a></span></li></ul>\n",
    "                    </ul>\n",
    "                </li>\n",
    "                <li><span><a href=\"#Insights\" data-toc-modified-id=\"Insights-1.2\">Insights</a></span></li>\n",
    "            </ul>\n",
    "       </li>\n",
    "    </ul>\n",
    "    <ul class=\"toc-item\">\n",
    "        <li>\n",
    "            <span><a href=\"#Switzerland\" data-toc-modified-id=\"Switzerland-2\">Switzerland</a></span>\n",
    "            <ul class=\"toc-item\"><li><span><a href=\"#Data-loading-and-cleaning\" data-toc-modified-id=\"Data-loading-and-cleaning-2.1\">Data loading and cleaning</a></span>\n",
    "                <ul class=\"toc-item\"><li><span><a href=\"#Crops-Dataset\" data-toc-modified-id=\"Crops-Dataset-2.1.1\">Dataset : crops</a></span></li></ul>\n",
    "                <ul class=\"toc-item\"><li><span><a href=\"#Land-Use-Areas-Dataset\" data-toc-modified-id=\"Land-Use-Areas-Dataset-2.1.2\">Dataset : land use (area)</a></span></li></ul>\n",
    "                <ul class=\"toc-item\"><li><span><a href=\"#Land-Use-Indicators-Dataset\" data-toc-modified-id=\"Land-Use-Indicators-Dataset-2.1.3\">Dataset : land use (indicators)</a></span></li></ul>\n",
    "                <ul class=\"toc-item\"><li><span><a href=\"#Land-Cover-Dataset\" data-toc-modified-id=\"Land-Cover-Dataset-2.1.4\">Dataset : land cover</a></span></li></ul>\n",
    "                <ul class=\"toc-item\"><li><span><a href=\"#Demography-Dataset\" data-toc-modified-id=\"Demography-Dataset-2.1.5\">Dataset : demography</a></span></li></ul>\n",
    "                <ul class=\"toc-item\"><li><span><a href=\"#Swiss-importations-and-exportations-of-agricultural-goods-Dataset\" data-toc-modified-id=\"Swiss-importations-and-exportations-of-agricultural-goods-Dataset-2.1.6\">Dataset : importation/exportation (CH)</a></span></li></ul>\n",
    "                <ul class=\"toc-item\"><li><span><a href=\"#Italian-importations-and-exportations-of-agricultural-goods-Dataset\" data-toc-modified-id=\"Italian-importations-and-exportations-of-agricultural-goods-Dataset-2.1.7\">Dataset : importation/exportation (I)</a></span></li></ul>\n",
    "                <ul class=\"toc-item\"><li><span><a href=\"#French-importations-and-exportations-of-agricultural-goods-Dataset\" data-toc-modified-id=\"French-importations-and-exportations-of-agricultural-goods-Dataset-2.1.8\">Dataset : importation/exportation (FR)</a></span></li></ul>\n",
    "                <ul class=\"toc-item\"><li><span><a href=\"#Austrian-importations-and-exportations-of-agricultural-goods-Dataset\" data-toc-modified-id=\"Austrian-importations-and-exportations-of-agricultural-goods-Dataset-2.1.9\">Dataset : importation/exportation (AU)</a></span></li></ul>\n",
    "                <ul class=\"toc-item\"><li><span><a href=\"#German-importations-and-exportations-of-agricultural-goods-Dataset\" data-toc-modified-id=\"German-importations-and-exportations-of-agricultural-goods-Dataset-2.1.10\">Dataset : importation/exportation (G)</a></span></li></ul>\n",
    "                <ul class=\"toc-item\"><li><span><a href=\"#Swiss-temperatures-Dataset\" data-toc-modified-id=\"Swiss-temperatures-Dataset-2.1.11\">Dataset : swiss temperatures</a></span></li></ul>\n",
    "                <ul class=\"toc-item\"><li><span><a href=\"#Farmers-population-Dataset\" data-toc-modified-id=\"Farmers-population-Dataset-2.1.12\">Dataset : farmers population</a></span></li></ul>\n",
    "                <ul class=\"toc-item\"><li><span><a href=\"#Fertilizers-and-Pesticides-Dataset\" data-toc-modified-id=\"Fertilizers-and-Pesticides-Dataset-2.1.13\">Dataset : fertilizers and pesticides</a></span></li></ul>\n",
    "                </li></ul>\n",
    "            <ul class=\"toc-item\"><li><span><a href=\"#Investigation-plots\" data-toc-modified-id=\"Investigation-plots-2.2\">Investigation plots</a></span></li></ul>\n",
    "            <ul class=\"toc-item\"><li><span><a href=\"#Main-results\" data-toc-modified-id=\"Main-results-2.3\">Main results</a></span>\n",
    "                <ul class=\"toc-item\"><li><span><a href=\"#SSR-score\" data-toc-modified-id=\"SSR-score-2.3.1\">SSR score</a></span></li></ul>\n",
    "            </li></ul>"
   ]
  },
  {
   "cell_type": "markdown",
   "metadata": {},
   "source": [
    "# Libraries importation"
   ]
  },
  {
   "cell_type": "code",
   "execution_count": null,
   "metadata": {},
   "outputs": [],
   "source": [
    "%matplotlib inline\n",
    "import numpy as np\n",
    "import matplotlib.pyplot as plt\n",
    "import pandas as pd\n",
    "import folium"
   ]
  },
  {
   "cell_type": "markdown",
   "metadata": {},
   "source": [
    "- `conda install -c conda-forge ipywidgets`  --> installs ipwydgets\n",
    "\n",
    "- `conda install nodejs` --> required to run the following line\n",
    "\n",
    "- `jupyter labextension install @jupyter-widgets/jupyterlab-manager` --> enables interactive visualization for jupyter lab also"
   ]
  },
  {
   "cell_type": "code",
   "execution_count": null,
   "metadata": {},
   "outputs": [],
   "source": [
    "import ipywidgets as widgets\n",
    "from ipywidgets import interact, interactive, fixed, interact_manual"
   ]
  },
  {
   "cell_type": "code",
   "execution_count": null,
   "metadata": {},
   "outputs": [],
   "source": [
    "import plotly.offline as py\n",
    "py.init_notebook_mode(connected=False)\n",
    "import plotly.graph_objs as go\n",
    "import plotly.express as px\n",
    "\n",
    "from scipy.stats import linregress"
   ]
  },
  {
   "cell_type": "code",
   "execution_count": null,
   "metadata": {},
   "outputs": [],
   "source": [
    "import warnings\n",
    "warnings.filterwarnings(\"ignore\", category=UserWarning) #mutes warnings"
   ]
  },
  {
   "cell_type": "code",
   "execution_count": null,
   "metadata": {},
   "outputs": [],
   "source": [
    "from ipywidgets import IntSlider\n",
    "from ipywidgets.embed import embed_minimal_html\n",
    "\n",
    "slider = IntSlider(value=40)\n",
    "embed_minimal_html('export.html', views=[slider], title='Widgets export')"
   ]
  },
  {
   "cell_type": "markdown",
   "metadata": {},
   "source": [
    "# World global view"
   ]
  },
  {
   "cell_type": "markdown",
   "metadata": {},
   "source": [
    "<div class=\"alert alert-block alert-success\">\n",
    "    \n",
    "## We first investigated the dataset chosen from the proposed list : \"Global Food & Agriculture Statistics\"\n",
    "\n",
    "Our aim was initially to link food production to hunger in some areas. An other idea was to found the possible causes for food insufficiency (natural disasters, wars...). <br>\n",
    "\n",
    "The FAO dataset is the one we dowloaded from the course's link. It contains all the FAO data for world crops production. We started our analysis with this file but realized that given the diversity of the data, we should rather focus our project on a region or country. Moreover, this data is somehow out of date. <br>\n",
    "\n",
    "You will find right bellow our data investigation for \"Global Food & Agriculture Statistics\" dataset as we want to explicit our reasoning."
   ]
  },
  {
   "cell_type": "markdown",
   "metadata": {},
   "source": [
    "## Data loading\n",
    "\n",
    "\n",
    "<span style='background :gray' > Load Data into a pandas dataframe </span>"
   ]
  },
  {
   "cell_type": "code",
   "execution_count": null,
   "metadata": {
    "scrolled": true
   },
   "outputs": [],
   "source": [
    "complete_dataset = pd.read_csv('../data/fao_data_crops_data.csv')"
   ]
  },
  {
   "cell_type": "code",
   "execution_count": null,
   "metadata": {},
   "outputs": [],
   "source": [
    "# We split the data and metadata and store them in 'crops' and 'flags' dataframe, respecitvely.\n",
    "crops = complete_dataset.loc[:2255342].copy() \n",
    "flags = complete_dataset.loc[2255344:2255348].copy() \n",
    "# 'flags' contains correspondance list of acronyms that describe how a given sample was acquired --> only informative\n",
    "flags.drop(['element','year','unit','value','value_footnotes','category'], axis=1, inplace = True) \n",
    "flags.rename(columns={'country_or_area':'acronym', 'element_code':'description'}, inplace=True) \n",
    "flags.set_index('acronym', inplace=True)\n",
    "flags"
   ]
  },
  {
   "cell_type": "markdown",
   "metadata": {},
   "source": [
    "<span style='background :gray' > Exploratory data analysis </span>"
   ]
  },
  {
   "cell_type": "code",
   "execution_count": null,
   "metadata": {},
   "outputs": [],
   "source": [
    "crops.head()"
   ]
  },
  {
   "cell_type": "code",
   "execution_count": null,
   "metadata": {},
   "outputs": [],
   "source": [
    "print(\"Size of the DataFrame: {s}\\n\".format(s=crops.shape))\n",
    "print(\"Variable types present in DataFrame: \\n{t}\".format(t=crops.dtypes))"
   ]
  },
  {
   "cell_type": "code",
   "execution_count": null,
   "metadata": {
    "scrolled": true
   },
   "outputs": [],
   "source": [
    "# List all the different footnotes values present in the dataset\n",
    "footnotes = crops['value_footnotes'].unique() \n",
    "print(footnotes)\n",
    "# Display dataframe that only contains one given value of 'value_footnotes'\n",
    "display(crops.query('value_footnotes==@footnotes[4]')) \n",
    "# Return dataframe that only contains samples having NaN as value for 'value_footnotes'\n",
    "crops[crops.value_footnotes.isnull()] "
   ]
  },
  {
   "cell_type": "code",
   "execution_count": null,
   "metadata": {
    "scrolled": true
   },
   "outputs": [],
   "source": [
    "print(crops['element'].unique())\n",
    "print(crops['year'].unique())\n",
    "print(crops['unit'].unique())\n",
    "print(crops['category'].unique())\n",
    "print(crops['element_code'].unique())\n",
    "print(crops['country_or_area'].unique())"
   ]
  },
  {
   "cell_type": "markdown",
   "metadata": {},
   "source": [
    "\n",
    "<span style='background :gray' > Data preprocessing </span>\n",
    "\n",
    "We clear the data by dropping all the row containing only NAN values. \n",
    "We also clear the raw where value_footnotes is NR as it means not repported by country, so it won't be usefull for our analysis."
   ]
  },
  {
   "cell_type": "code",
   "execution_count": null,
   "metadata": {
    "scrolled": true
   },
   "outputs": [],
   "source": [
    "# Returns a boolean of whether a column contains NaN (True) or not (False).\n",
    "print(crops.isnull().values.any(axis=0)) \n",
    "\n",
    "# Drop rows which contain only missing values.\n",
    "crops.dropna(how='all', inplace=True) "
   ]
  },
  {
   "cell_type": "code",
   "execution_count": null,
   "metadata": {},
   "outputs": [],
   "source": [
    "# We drop the samples where 'value' is unknown (NaN) because they are of no utility    \n",
    "crops.dropna(subset=['value', 'value_footnotes'], inplace=True) \n",
    "\n",
    "# Let's drop also all the samples that have 'NR' as a 'value_footnotes' value or 0 as 'value'\n",
    "crops.drop(index=crops[crops['value_footnotes'].str.contains('NR')].index, inplace=True)\n",
    "crops.drop(index=crops[crops['value']==0].index, inplace=True)\n"
   ]
  },
  {
   "cell_type": "markdown",
   "metadata": {},
   "source": [
    "In our dataset, regions are indicated by a \"+\" at the end of their names. We want to separate regions from countries to facilitate our analysis so we can be more precise. "
   ]
  },
  {
   "cell_type": "code",
   "execution_count": null,
   "metadata": {},
   "outputs": [],
   "source": [
    "regions_bool = crops['country_or_area'].str.contains('\\+')\n",
    "crops_regions = crops[regions_bool].copy()\n",
    "crops_countries = crops[~regions_bool].copy()"
   ]
  },
  {
   "cell_type": "markdown",
   "metadata": {},
   "source": [
    "We calculate the mean of all the elements for every country so we can compare the area harvested, seed or yield between each country. The mean is calculated over all years. "
   ]
  },
  {
   "cell_type": "code",
   "execution_count": null,
   "metadata": {},
   "outputs": [],
   "source": [
    "#calculate the mean of all the elements for every country.  \n",
    "crops_countries_by_country_year = crops_countries.groupby(['country_or_area', 'element']) \\\n",
    "                            .agg({'value':'mean'}) \\\n",
    "                            .rename(columns={'value':'mean_element'}) \n",
    "crops_countries_by_country_year"
   ]
  },
  {
   "cell_type": "code",
   "execution_count": null,
   "metadata": {},
   "outputs": [],
   "source": [
    "area_harvested = crops_countries_by_country_year.loc[(slice(None),'Area Harvested'), :]\n",
    "#area_harvested.loc['United States of America']\n",
    "area_harvested.head()"
   ]
  },
  {
   "cell_type": "markdown",
   "metadata": {},
   "source": [
    "## Insights\n",
    "\n",
    "### <span style='background :gray' >Create a map showing yield by country (average over all years) </span>\n",
    "\n",
    "The following maps provide an insight of agricultural yield and area harvested in World countries.\n"
   ]
  },
  {
   "cell_type": "code",
   "execution_count": null,
   "metadata": {},
   "outputs": [],
   "source": [
    "yield_df= crops_countries_by_country_year.loc[(slice(None),'Yield'), :]\n",
    "#we take the log value for the following plot, so our quantile a more equilibrate\n",
    "log_yield_df=pd.DataFrame(yield_df.mean_element.map(lambda x:np.log(x)))\n",
    "log_yield_df.head()"
   ]
  },
  {
   "cell_type": "code",
   "execution_count": null,
   "metadata": {},
   "outputs": [],
   "source": [
    "m1 = folium.Map(location=[48, -102], zoom_start=3)\n",
    "\n",
    "world_geo = 'https://raw.githubusercontent.com/johan/world.geo.json/master/countries.geo.json'\n",
    "Bins = list(yield_df.mean_element.quantile([0, 0.25, 0.5, 0.75, 1]))\n",
    "\n",
    "m1 = folium.Map(zoom_start=3)\n",
    "\n",
    "folium.Choropleth(\n",
    "    geo_data=world_geo,\n",
    "    name='choropleth',\n",
    "    data=log_yield_df,\n",
    "    columns=[log_yield_df.index.get_level_values(level='country_or_area').values,'mean_element'],\n",
    "    key_on='feature.properties.name',\n",
    "    fill_color='BuPu',\n",
    "    fill_opacity=0.7,\n",
    "    line_opacity=0.2,\n",
    "    legend_name='yield',\n",
    "    #bins = Bins,\n",
    "    reset=True\n",
    ").add_to(m1)\n",
    "\n",
    "folium.LayerControl().add_to(m1)\n",
    "\n",
    "m1"
   ]
  },
  {
   "cell_type": "code",
   "execution_count": null,
   "metadata": {},
   "outputs": [],
   "source": []
  },
  {
   "cell_type": "code",
   "execution_count": null,
   "metadata": {},
   "outputs": [],
   "source": [
    "m1.save('../doc/map_yield.html') #map saved as html file in doc folder."
   ]
  },
  {
   "cell_type": "markdown",
   "metadata": {},
   "source": [
    "The countries having the most important yield are Iceland and Danemark. We can also see that in many countries of Africa the yield is very low. Mongolia has also a very low yield. We can see the yield of Switzerland is higher than its neighbours (averaged over years)."
   ]
  },
  {
   "cell_type": "markdown",
   "metadata": {},
   "source": [
    "<div class=\"alert alert-block alert-warning\">\n",
    "\n",
    "Add more stuff of our \"world analysis\" if notebook stills run well after I put all the important steps\n",
    "    "
   ]
  },
  {
   "cell_type": "markdown",
   "metadata": {},
   "source": [
    "# Switzerland"
   ]
  },
  {
   "cell_type": "markdown",
   "metadata": {},
   "source": [
    "<div class=\"alert alert-block alert-success\">\n",
    "\n",
    "# Project Update - Insight into Switzerland agriculture production \n",
    "\n",
    "We will focus on Switzerland compared to its neighbours. We would like to know if Switzerland could be self-sufficient in term of food production. \n",
    "\n",
    "## Abstract\n",
    "\n",
    "In the wake of the the years 2007-08, food self-sufficiency policies have gained increased attention in a number of coutries following the international food crisis that triggered great volatilities on the world food markets causing important economic and social damages. <br>\n",
    "Since then, diverse countries have expressed interest in improving their levels of food self-sufficiency arising controversy into a massive economically connected world.\n",
    "\n",
    "On the 23th september of 2018, in the small country of Switzerland, the debate is materialized into a popular referendum submitted to its population asking wherever a food self-sufficiency politic should be adopted or not. Such a politic could have unexpected consequences considering a country as Switzerland with many neighbours and such a small area capacity. <br>\n",
    "This paper aims to analyse the questions surrounding the debate over food self-sufficiency in Switzerland. \n",
    "\n",
    "- What does Switzerland produce and in which quantity? \n",
    "- What about the amount of importations/exportations?\n",
    "- Are all Switzerland areas optimally harvested?\n",
    "- Links to population size\n",
    "- How is the Swiss productiviy trend evolving, is it correlated with external factors such as temperature, fertilizer use, ...?\n",
    "\n",
    "Then we will make comparaisons between Switzerland and its neighbours. Does Switzerland import more than its neighbours (due to its small size ?) ? Is food self-suffience of Switzerland realistic ? How many farms/farmers would it need ?\n"
   ]
  },
  {
   "cell_type": "markdown",
   "metadata": {},
   "source": [
    "## **Data loading and cleaning**\n",
    "\n",
    "\n",
    "<span style='background :gray' > Load Data into pandas dataframes </span>"
   ]
  },
  {
   "cell_type": "markdown",
   "metadata": {},
   "source": [
    "### Crops Dataset"
   ]
  },
  {
   "cell_type": "markdown",
   "metadata": {},
   "source": [
    "This dataset represents our new start line, it contains almost the same informations as the \"Global Food & Agriculture Statistics\" we already used. However, the data are more recent.  \n",
    "\n",
    "We found the majority of our following data on the __[Food And Agriculture Organization of the United Nations Datasets](http://www.fao.org/faostat/en/#data)__ website (we will precise later if one dataset does not come from this link).\n",
    "\n",
    "File contains data about Switzerland and neighbours (Italy, Germany, France, Austria and Liechtenstein)"
   ]
  },
  {
   "cell_type": "code",
   "execution_count": null,
   "metadata": {},
   "outputs": [],
   "source": [
    "raw_CH_crops_dataset = pd.read_csv('../data/FAOSTAT_data_crops_CHandNeighbours.csv')"
   ]
  },
  {
   "cell_type": "code",
   "execution_count": null,
   "metadata": {},
   "outputs": [],
   "source": [
    "raw_CH_crops_dataset =raw_CH_crops_dataset[['Domain', 'Area', 'Element', 'Item', 'Year', 'Unit', 'Value', 'Flag Description']]\n",
    "raw_CH_crops_dataset.drop(index=raw_CH_crops_dataset[raw_CH_crops_dataset['Flag Description'].str.contains('Data not available')].index, inplace=True)"
   ]
  },
  {
   "cell_type": "code",
   "execution_count": null,
   "metadata": {},
   "outputs": [],
   "source": [
    "raw_CH_crops_dataset.head()"
   ]
  },
  {
   "cell_type": "code",
   "execution_count": null,
   "metadata": {},
   "outputs": [],
   "source": [
    "print(\"Size of the DataFrame: {s}\\n\".format(s=raw_CH_crops_dataset.shape))\n",
    "print(\"Variable types present in DataFrame: \\n{t}\".format(t=raw_CH_crops_dataset.dtypes))"
   ]
  },
  {
   "cell_type": "code",
   "execution_count": null,
   "metadata": {},
   "outputs": [],
   "source": [
    "print(raw_CH_crops_dataset.isna().values.any(axis=0)) "
   ]
  },
  {
   "cell_type": "markdown",
   "metadata": {},
   "source": [
    "What about the categories listed in our columns?"
   ]
  },
  {
   "cell_type": "code",
   "execution_count": null,
   "metadata": {
    "scrolled": true
   },
   "outputs": [],
   "source": [
    "print(raw_CH_crops_dataset['Domain'].unique())\n",
    "print(raw_CH_crops_dataset['Area'].unique())\n",
    "print(raw_CH_crops_dataset['Element'].unique())\n",
    "print(raw_CH_crops_dataset['Item'].unique())\n",
    "print(raw_CH_crops_dataset['Year'].unique())\n",
    "print(raw_CH_crops_dataset['Unit'].unique())\n",
    "print(raw_CH_crops_dataset['Flag Description'].unique())"
   ]
  },
  {
   "cell_type": "markdown",
   "metadata": {},
   "source": [
    "### Land Use Areas Dataset\n",
    "\n",
    "File contains data about Switzerland and neighbours (Italy, Germany, France, Austria and Liechtenstein).\n",
    "This file will allows us to know the potential of Switzerland in term of agriculture. Does the country use all its land or not? \n",
    "\n",
    "Data exploration and pre-processing is very simmilar to first dataset. We will therefore not describe all steps as precisely as before."
   ]
  },
  {
   "cell_type": "code",
   "execution_count": null,
   "metadata": {},
   "outputs": [],
   "source": [
    "dist_land_dataset = pd.read_csv('../data/FAOSTAT_data_NEWLandUse.csv')"
   ]
  },
  {
   "cell_type": "code",
   "execution_count": null,
   "metadata": {},
   "outputs": [],
   "source": [
    "dist_land_dataset = dist_land_dataset[['Domain','Area','Element','Item','Year','Value','Flag Description']]"
   ]
  },
  {
   "cell_type": "code",
   "execution_count": null,
   "metadata": {},
   "outputs": [],
   "source": [
    "pd.options.mode.chained_assignment = None  # default='warn', Mutes warnings when copying a slice from a DataFrame.\n",
    "dist_land_dataset['Value'] = dist_land_dataset['Value'].apply(lambda x: x*1000)"
   ]
  },
  {
   "cell_type": "code",
   "execution_count": null,
   "metadata": {},
   "outputs": [],
   "source": [
    "dist_land_dataset.head()"
   ]
  },
  {
   "cell_type": "markdown",
   "metadata": {},
   "source": [
    "### Land Use Indicators Dataset\n",
    "\n",
    "File contains data about Switzerland and neighbours (Italy, Germany, France, Austria and Liechtenstein).\n",
    "This file will allows us to know the potential of Switzerland in term of agriculture. Does the country use all its land or not? \n",
    "\n",
    "Data exploration and pre-processing is very simmilar to first dataset. We will therefore not describe all steps as precisely as before."
   ]
  },
  {
   "cell_type": "code",
   "execution_count": null,
   "metadata": {},
   "outputs": [],
   "source": [
    "raw_land_use_dataset = pd.read_csv('../data/FAOSTAT_data_LandUseIndicators.csv')"
   ]
  },
  {
   "cell_type": "code",
   "execution_count": null,
   "metadata": {},
   "outputs": [],
   "source": [
    "raw_land_use_dataset =raw_land_use_dataset[['Domain', 'Area', 'Element', 'Item', 'Year', 'Unit', 'Value', 'Flag Description']]\n",
    "print(raw_land_use_dataset.isnull().values.any(axis=0))  # --> PERFECT!\n",
    "raw_land_use_dataset.head()"
   ]
  },
  {
   "cell_type": "code",
   "execution_count": null,
   "metadata": {},
   "outputs": [],
   "source": [
    "print(\"Size of the DataFrame: {s}\\n\".format(s=raw_land_use_dataset.shape))\n",
    "print(\"Variable types present in DataFrame: \\n{t}\".format(t=raw_land_use_dataset.dtypes))"
   ]
  },
  {
   "cell_type": "code",
   "execution_count": null,
   "metadata": {},
   "outputs": [],
   "source": [
    "print(raw_land_use_dataset['Domain'].unique())\n",
    "print(raw_land_use_dataset['Area'].unique())\n",
    "print(raw_land_use_dataset['Element'].unique())\n",
    "print(raw_land_use_dataset['Item'].unique())\n",
    "print(raw_land_use_dataset['Year'].unique())\n",
    "print(raw_land_use_dataset['Unit'].unique())\n",
    "print(raw_land_use_dataset['Flag Description'].unique())"
   ]
  },
  {
   "cell_type": "markdown",
   "metadata": {},
   "source": [
    "### Land Cover Dataset\n",
    "\n",
    "File contains data about Switzerland and neighbours (Italy, Germany, France, Austria and Liechtenstein). It is complementary to the previous one, since it **also references urban areas**.\n",
    "\n",
    "Data exploration and pre-processing is very simmilar to first dataset. We will therefore not describe all steps as precisely as before."
   ]
  },
  {
   "cell_type": "code",
   "execution_count": null,
   "metadata": {},
   "outputs": [],
   "source": [
    "raw_land_cover_dataset = pd.read_csv('../data/FAOSTAT_data_LandCover.csv')"
   ]
  },
  {
   "cell_type": "code",
   "execution_count": null,
   "metadata": {},
   "outputs": [],
   "source": [
    "raw_land_cover_dataset =raw_land_cover_dataset[['Domain', 'Area', 'Element', 'Item', 'Year', 'Unit', 'Value', 'Flag Description']]\n",
    "raw_land_cover_dataset.drop(index=raw_land_cover_dataset[raw_land_cover_dataset['Flag Description'].str.contains('Data not available')].index, inplace=True)\n",
    "print(raw_land_cover_dataset.isnull().values.any(axis=0))  # --> PERFECT!"
   ]
  },
  {
   "cell_type": "code",
   "execution_count": null,
   "metadata": {},
   "outputs": [],
   "source": [
    "pd.options.mode.chained_assignment = None  # default='warn', Mutes warnings when copying a slice from a DataFrame.\n",
    "raw_land_cover_dataset[\"Surface\"] = raw_land_cover_dataset.Value.apply(lambda x: x*1000)\n",
    "raw_land_cover_dataset = raw_land_cover_dataset.drop(columns='Value')\n",
    "raw_land_cover_dataset['Unit'] = 'ha'\n",
    "raw_land_cover_dataset.head()"
   ]
  },
  {
   "cell_type": "code",
   "execution_count": null,
   "metadata": {},
   "outputs": [],
   "source": [
    "print(\"Size of the DataFrame: {s}\\n\".format(s=raw_land_cover_dataset.shape))\n",
    "print(\"Variable types present in DataFrame: \\n{t}\".format(t=raw_land_cover_dataset.dtypes))"
   ]
  },
  {
   "cell_type": "code",
   "execution_count": null,
   "metadata": {},
   "outputs": [],
   "source": [
    "print(raw_land_cover_dataset['Domain'].unique())\n",
    "print(raw_land_cover_dataset['Area'].unique())\n",
    "print(raw_land_cover_dataset['Element'].unique())\n",
    "print(raw_land_cover_dataset['Item'].unique())\n",
    "print(raw_land_cover_dataset['Year'].unique())\n",
    "print(raw_land_cover_dataset['Unit'].unique())\n",
    "print(raw_land_cover_dataset['Flag Description'].unique())"
   ]
  },
  {
   "cell_type": "markdown",
   "metadata": {},
   "source": [
    "### Demography Dataset\n",
    "\n",
    "File contains data about Switzerland and neighbours (Italy, Germany, France, Austria but not Liechtenstein -data missing from dataset).\n",
    "These data will allow us to know the number of consumers in Switzerland and to compare the possible food self-sufficiency between Switzerland and its neighbours. we would like to answer questions as: With the growing population, can we feed everybody with Swiss agriculture in the next few years?\n",
    "\n",
    "Data exploration and pre-processing is very simmilar to first dataset. We will therefore not describe all steps as precisely as before."
   ]
  },
  {
   "cell_type": "code",
   "execution_count": null,
   "metadata": {},
   "outputs": [],
   "source": [
    "demography = pd.read_csv('../data/FAOSTAT_data_demography.csv')"
   ]
  },
  {
   "cell_type": "code",
   "execution_count": null,
   "metadata": {},
   "outputs": [],
   "source": [
    "demography = demography[['Area', 'Year','Unit', 'Value']]"
   ]
  },
  {
   "cell_type": "code",
   "execution_count": null,
   "metadata": {},
   "outputs": [],
   "source": [
    "pd.options.mode.chained_assignment = None  # default='warn', Mutes warnings when copying a slice from a DataFrame.\n",
    "demography[\"Population\"] = demography.Value.apply(lambda x: x*1000)\n",
    "demography=demography.drop(columns='Value')\n",
    "demography['Unit'] = 'persons'\n",
    "demography.head()"
   ]
  },
  {
   "cell_type": "code",
   "execution_count": null,
   "metadata": {
    "scrolled": true
   },
   "outputs": [],
   "source": [
    "for col in demography:\n",
    "    print (demography[col].unique())"
   ]
  },
  {
   "cell_type": "code",
   "execution_count": null,
   "metadata": {},
   "outputs": [],
   "source": [
    "data_demography = demography.loc[demography.Area=='Switzerland'].loc[demography.Year>=1986].loc[demography.Year<=2017].Population"
   ]
  },
  {
   "cell_type": "markdown",
   "metadata": {},
   "source": [
    "### Swiss importations and exportations of agricultural goods Dataset\n",
    "\n",
    "Files contain data for Switzerland only. The data provide insight about the trade of agricultural goods, that is the importations and exportations for a given product.\n",
    "Data exploration and pre-processing is very simmilar to first dataset. We will therefore not describe all steps as precisely as before."
   ]
  },
  {
   "cell_type": "code",
   "execution_count": null,
   "metadata": {},
   "outputs": [],
   "source": [
    "CH_imports = pd.read_csv('../data/FAOSTAT_data_11-23-2019.csv')"
   ]
  },
  {
   "cell_type": "code",
   "execution_count": null,
   "metadata": {},
   "outputs": [],
   "source": [
    "CH_imports = CH_imports[['Reporter Countries', 'Partner Countries','Element','Item','Year','Unit','Value','Flag Description']]\n",
    "CH_imports"
   ]
  },
  {
   "cell_type": "code",
   "execution_count": null,
   "metadata": {},
   "outputs": [],
   "source": [
    "CH_exports = pd.read_csv('../data/FAOSTAT_data_exports.csv')"
   ]
  },
  {
   "cell_type": "code",
   "execution_count": null,
   "metadata": {},
   "outputs": [],
   "source": [
    "CH_exports = CH_exports[['Reporter Countries', 'Partner Countries','Element','Item','Year','Unit','Value','Flag Description']]\n",
    "CH_exports"
   ]
  },
  {
   "cell_type": "code",
   "execution_count": null,
   "metadata": {},
   "outputs": [],
   "source": [
    "CH_trade = pd.concat([CH_imports, CH_exports])"
   ]
  },
  {
   "cell_type": "code",
   "execution_count": null,
   "metadata": {
    "scrolled": true
   },
   "outputs": [],
   "source": [
    "for col in CH_trade:\n",
    "    print (CH_trade[col].unique())"
   ]
  },
  {
   "cell_type": "markdown",
   "metadata": {},
   "source": [
    "For maximizing reliability of later results, we discard the numbers that were obtained from an unofficial source."
   ]
  },
  {
   "cell_type": "code",
   "execution_count": null,
   "metadata": {},
   "outputs": [],
   "source": [
    "unofficial_stats_index = CH_trade.loc[CH_trade['Flag Description']=='Unofficial figure'].index\n",
    "# Drop the unofficial data\n",
    "CH_trade = CH_trade.drop(index = unofficial_stats_index)"
   ]
  },
  {
   "cell_type": "markdown",
   "metadata": {},
   "source": [
    "We keep only the importation and exportation values that are represented in tonnes, so that we can compare it with the agricultural production."
   ]
  },
  {
   "cell_type": "code",
   "execution_count": null,
   "metadata": {},
   "outputs": [],
   "source": [
    "CH_trade = CH_trade.loc[CH_imports.Unit=='tonnes']"
   ]
  },
  {
   "cell_type": "code",
   "execution_count": null,
   "metadata": {},
   "outputs": [],
   "source": [
    "#for further task\n",
    "CH_trade_network=CH_trade.copy()"
   ]
  },
  {
   "cell_type": "code",
   "execution_count": null,
   "metadata": {},
   "outputs": [],
   "source": [
    "CH_trade = CH_trade[['Element','Partner Countries', 'Item', 'Year', 'Unit', 'Value']]"
   ]
  },
  {
   "cell_type": "code",
   "execution_count": null,
   "metadata": {},
   "outputs": [],
   "source": [
    "CH_trade_network = CH_trade_network[['Element','Reporter Countries','Partner Countries', 'Item', 'Year', 'Unit', 'Value']]"
   ]
  },
  {
   "cell_type": "code",
   "execution_count": null,
   "metadata": {},
   "outputs": [],
   "source": [
    "#CH_trade_network = CH_trade_network[['Element','Reporter Countries','Partner Countries', 'Value']]"
   ]
  },
  {
   "cell_type": "markdown",
   "metadata": {},
   "source": [
    "To keep the model simple, we sum the importations and exportations for a given product over all partner countries."
   ]
  },
  {
   "cell_type": "code",
   "execution_count": null,
   "metadata": {},
   "outputs": [],
   "source": [
    "CH_trade = CH_trade.groupby(['Item', 'Year', 'Element']).agg({'Value':'sum'})\\\n",
    "                                    .reset_index()"
   ]
  },
  {
   "cell_type": "code",
   "execution_count": null,
   "metadata": {},
   "outputs": [],
   "source": [
    "CH_trade2 = CH_trade.copy()"
   ]
  },
  {
   "cell_type": "code",
   "execution_count": null,
   "metadata": {},
   "outputs": [],
   "source": [
    "CH_trade2.head()"
   ]
  },
  {
   "cell_type": "markdown",
   "metadata": {},
   "source": [
    "We improve the structure of our dataframe by pivoting its values of importations and exportations."
   ]
  },
  {
   "cell_type": "code",
   "execution_count": null,
   "metadata": {},
   "outputs": [],
   "source": [
    "CH_trade_transformed = pd.pivot(CH_trade,columns = 'Element', values='Value')\\\n",
    "                .rename(columns={'Export Quantity':'Exported Quantity','Import Quantity':'Imported Quantity'})"
   ]
  },
  {
   "cell_type": "code",
   "execution_count": null,
   "metadata": {},
   "outputs": [],
   "source": [
    "CH_trade_transformed"
   ]
  },
  {
   "cell_type": "code",
   "execution_count": null,
   "metadata": {},
   "outputs": [],
   "source": [
    "CH_trade = pd.concat([CH_trade, CH_trade_transformed], axis=1, join='inner')"
   ]
  },
  {
   "cell_type": "code",
   "execution_count": null,
   "metadata": {},
   "outputs": [],
   "source": [
    "CH_trade.drop(columns=['Value', 'Element'], inplace=True)"
   ]
  },
  {
   "cell_type": "code",
   "execution_count": null,
   "metadata": {},
   "outputs": [],
   "source": [
    "CH_trade = CH_trade.groupby(['Item', 'Year'])\\\n",
    "                            .agg({'Exported Quantity':'mean','Imported Quantity':'mean'})\\\n",
    "                            .reset_index()\n",
    "                                    "
   ]
  },
  {
   "cell_type": "markdown",
   "metadata": {},
   "source": [
    "Combine production and trade data in one dataframe 'CH_data' so that we have all the information at the same place. Note that we don't have values of importations and exportations before 1986 so production of goods before 1986 will not be considered as from here."
   ]
  },
  {
   "cell_type": "code",
   "execution_count": null,
   "metadata": {},
   "outputs": [],
   "source": [
    "CH_crops = raw_CH_crops_dataset[['Area', 'Item','Element', 'Year', 'Unit', 'Value']]"
   ]
  },
  {
   "cell_type": "code",
   "execution_count": null,
   "metadata": {},
   "outputs": [],
   "source": [
    "# Merge importations data with production data\n",
    "CH_data = CH_crops.loc[CH_crops.Area=='Switzerland'].loc[CH_crops.Element=='Production'].loc[CH_crops.Year>= 1986]\\\n",
    "                                    .merge(CH_trade,on=['Item', 'Year'], how='inner')\\\n",
    "                                    .rename(columns={'Value':'Produced Quantity'})\n",
    "\n"
   ]
  },
  {
   "cell_type": "code",
   "execution_count": null,
   "metadata": {},
   "outputs": [],
   "source": [
    "CH_data.head()"
   ]
  },
  {
   "cell_type": "markdown",
   "metadata": {},
   "source": [
    "Now, combine with the land analysis of Switzerland, the consumers trends and the Swiss demography we could estimate if the country has an interest of producing more of an item, if it is able to produce more of an item and stop its importation of the item. --> # Milestone 3"
   ]
  },
  {
   "cell_type": "code",
   "execution_count": null,
   "metadata": {
    "scrolled": true
   },
   "outputs": [],
   "source": [
    "total_crops_imports = CH_data.groupby('Year').agg({'Produced Quantity':'sum', 'Exported Quantity':'sum', 'Imported Quantity':'sum'})"
   ]
  },
  {
   "cell_type": "code",
   "execution_count": null,
   "metadata": {},
   "outputs": [],
   "source": [
    "CH_data2 = CH_data.copy().rename(columns={'Produced Quantity':'Country production', 'Imported Quantity':'Importation', 'Exported Quantity':'Exportation'})\n",
    "CH_data_transformed = pd.melt(CH_data2, value_vars=['Country production', 'Importation'], id_vars=['Area', 'Element','Item','Year','Unit'], var_name='Input', value_name='Value')"
   ]
  },
  {
   "cell_type": "code",
   "execution_count": null,
   "metadata": {},
   "outputs": [],
   "source": [
    "CH_restrained = CH_data_transformed.loc[CH_data_transformed.Item.isin(['Apples','Wheat','Potatoes', 'Maize', 'Maize', 'Grapes', 'Barley'])]"
   ]
  },
  {
   "cell_type": "code",
   "execution_count": null,
   "metadata": {},
   "outputs": [],
   "source": [
    "CH_data_transformed_exportations = pd.melt(CH_data2, value_vars='Exportation', id_vars=['Area', 'Element','Item','Year','Unit'], var_name='Input', value_name='Value')"
   ]
  },
  {
   "cell_type": "code",
   "execution_count": null,
   "metadata": {},
   "outputs": [],
   "source": [
    "CH_restrained_exportations = CH_data_transformed_exportations.loc[CH_data_transformed_exportations.Item.isin(['Apples','Wheat','Potatoes', 'Maize', 'Sugar beet','Grapes','Barley'])]"
   ]
  },
  {
   "cell_type": "code",
   "execution_count": null,
   "metadata": {},
   "outputs": [],
   "source": [
    "CH_trade_network = CH_trade_network[['Element','Reporter Countries','Partner Countries', 'Item', 'Year', 'Unit', 'Value']]\n",
    "CH_trade_network.head()"
   ]
  },
  {
   "cell_type": "markdown",
   "metadata": {},
   "source": [
    "### Italian importations and exportations of agricultural goods Dataset\n"
   ]
  },
  {
   "cell_type": "code",
   "execution_count": null,
   "metadata": {},
   "outputs": [],
   "source": [
    "Italy_trade = pd.read_csv('../data/FAOSTAT_data_italy.csv')"
   ]
  },
  {
   "cell_type": "code",
   "execution_count": null,
   "metadata": {},
   "outputs": [],
   "source": [
    "Italy_trade.dtypes"
   ]
  },
  {
   "cell_type": "code",
   "execution_count": null,
   "metadata": {},
   "outputs": [],
   "source": [
    "unofficial_stats_index_it = Italy_trade.loc[Italy_trade.Flag=='*'].index"
   ]
  },
  {
   "cell_type": "code",
   "execution_count": null,
   "metadata": {},
   "outputs": [],
   "source": [
    "# Drop the unofficial data\n",
    "Italy_trade = Italy_trade.drop(index = unofficial_stats_index_it)"
   ]
  },
  {
   "cell_type": "code",
   "execution_count": null,
   "metadata": {},
   "outputs": [],
   "source": [
    "#we keep only tonnes units\n",
    "Italy_trade = Italy_trade.loc[Italy_trade.Unit=='tonnes']"
   ]
  },
  {
   "cell_type": "code",
   "execution_count": null,
   "metadata": {},
   "outputs": [],
   "source": [
    "Italy_trade.drop(index=Italy_trade[Italy_trade['Flag Description'].str.contains('Data not available')].index, inplace=True)"
   ]
  },
  {
   "cell_type": "code",
   "execution_count": null,
   "metadata": {},
   "outputs": [],
   "source": [
    "Italy_trade = Italy_trade[['Element','Area', 'Item', 'Year', 'Unit', 'Value']]"
   ]
  },
  {
   "cell_type": "markdown",
   "metadata": {},
   "source": [
    "To keep the model simple, we sum the importations and exportations for a given product over all partner countries.\n"
   ]
  },
  {
   "cell_type": "code",
   "execution_count": null,
   "metadata": {},
   "outputs": [],
   "source": [
    "Italy_trade = Italy_trade.groupby(['Item', 'Year', 'Element']).agg({'Value':'sum'})\\\n",
    "                                    .reset_index()\n",
    "Italy_trade.head()"
   ]
  },
  {
   "cell_type": "markdown",
   "metadata": {},
   "source": [
    "We improve the structure of our dataframe by pivoting its values of importations and exportations."
   ]
  },
  {
   "cell_type": "code",
   "execution_count": null,
   "metadata": {},
   "outputs": [],
   "source": [
    "Italy_trade_transformed = pd.pivot(Italy_trade,columns = 'Element', values='Value')\\\n",
    "                .rename(columns={'Export Quantity':'Exported Quantity','Import Quantity':'Imported Quantity'})\n",
    "Italy_trade_transformed.head()"
   ]
  },
  {
   "cell_type": "code",
   "execution_count": null,
   "metadata": {},
   "outputs": [],
   "source": [
    "Italy_trade = pd.concat([Italy_trade, Italy_trade_transformed], axis=1, join='inner')\n",
    "Italy_trade.drop(columns=['Value', 'Element'], inplace=True)\n",
    "Italy_trade = Italy_trade.groupby(['Item', 'Year'])\\\n",
    "                            .agg({'Exported Quantity':'mean','Imported Quantity':'mean'})\\\n",
    "                            .reset_index()"
   ]
  },
  {
   "cell_type": "code",
   "execution_count": null,
   "metadata": {},
   "outputs": [],
   "source": [
    "Italy_trade.head()"
   ]
  },
  {
   "cell_type": "markdown",
   "metadata": {},
   "source": [
    "Combine production and trade data in one dataframe 'Italy_data' so that we have all the information at the same place. Note that we don't have values of importations and exportations before 1986 so production of goods before 1986 will not be considered as from here."
   ]
  },
  {
   "cell_type": "code",
   "execution_count": null,
   "metadata": {},
   "outputs": [],
   "source": [
    "Italy_crops = raw_CH_crops_dataset[['Area', 'Item','Element', 'Year', 'Unit', 'Value']]"
   ]
  },
  {
   "cell_type": "code",
   "execution_count": null,
   "metadata": {},
   "outputs": [],
   "source": [
    "# Merge importations data with production data\n",
    "Italy_data = Italy_crops.loc[Italy_crops.Area=='Italy'].loc[Italy_crops.Element=='Production'].loc[Italy_crops.Year>= 1986]\\\n",
    "                                    .merge(Italy_trade,on=['Item', 'Year'], how='inner')\\\n",
    "                                    .rename(columns={'Value':'Produced Quantity'})\n",
    "\n"
   ]
  },
  {
   "cell_type": "code",
   "execution_count": null,
   "metadata": {},
   "outputs": [],
   "source": [
    "Italy_data.head()"
   ]
  },
  {
   "cell_type": "markdown",
   "metadata": {},
   "source": [
    "### French importations and exportations of agricultural goods Dataset\n"
   ]
  },
  {
   "cell_type": "code",
   "execution_count": null,
   "metadata": {},
   "outputs": [],
   "source": [
    "France_trade = pd.read_csv('../data/FAOSTAT_data_france.csv')"
   ]
  },
  {
   "cell_type": "code",
   "execution_count": null,
   "metadata": {},
   "outputs": [],
   "source": [
    "France_trade.dtypes"
   ]
  },
  {
   "cell_type": "code",
   "execution_count": null,
   "metadata": {},
   "outputs": [],
   "source": [
    "unofficial_stats_index_fr = France_trade.loc[France_trade.Flag=='*'].index"
   ]
  },
  {
   "cell_type": "code",
   "execution_count": null,
   "metadata": {},
   "outputs": [],
   "source": [
    "# Drop the unofficial data\n",
    "France_trade = France_trade.drop(index = unofficial_stats_index_fr)"
   ]
  },
  {
   "cell_type": "code",
   "execution_count": null,
   "metadata": {},
   "outputs": [],
   "source": [
    "#we keep only tonnes units\n",
    "France_trade = France_trade.loc[France_trade.Unit=='tonnes']"
   ]
  },
  {
   "cell_type": "code",
   "execution_count": null,
   "metadata": {},
   "outputs": [],
   "source": [
    "France_trade.drop(index=France_trade[France_trade['Flag Description'].str.contains('Data not available')].index, inplace=True)"
   ]
  },
  {
   "cell_type": "code",
   "execution_count": null,
   "metadata": {},
   "outputs": [],
   "source": [
    "France_trade = France_trade[['Element','Area', 'Item', 'Year', 'Unit', 'Value']]"
   ]
  },
  {
   "cell_type": "markdown",
   "metadata": {},
   "source": [
    "To keep the model simple, we sum the importations and exportations for a given product over all partner countries."
   ]
  },
  {
   "cell_type": "code",
   "execution_count": null,
   "metadata": {},
   "outputs": [],
   "source": [
    "France_trade = France_trade.groupby(['Item', 'Year', 'Element']).agg({'Value':'sum'})\\\n",
    "                                    .reset_index()\n",
    "France_trade.head()"
   ]
  },
  {
   "cell_type": "markdown",
   "metadata": {},
   "source": [
    "We improve the structure of our dataframe by pivoting its values of importations and exportations."
   ]
  },
  {
   "cell_type": "code",
   "execution_count": null,
   "metadata": {},
   "outputs": [],
   "source": [
    "France_trade_transformed = pd.pivot(France_trade,columns = 'Element', values='Value')\\\n",
    "                .rename(columns={'Export Quantity':'Exported Quantity','Import Quantity':'Imported Quantity'})\n",
    "France_trade_transformed.head()"
   ]
  },
  {
   "cell_type": "code",
   "execution_count": null,
   "metadata": {},
   "outputs": [],
   "source": [
    "France_trade = pd.concat([France_trade, France_trade_transformed], axis=1, join='inner')\n",
    "France_trade.drop(columns=['Value', 'Element'], inplace=True)\n",
    "France_trade = France_trade.groupby(['Item', 'Year'])\\\n",
    "                            .agg({'Exported Quantity':'mean','Imported Quantity':'mean'})\\\n",
    "                            .reset_index()\n",
    "France_trade.head()"
   ]
  },
  {
   "cell_type": "markdown",
   "metadata": {},
   "source": [
    "Combine production and trade data in one dataframe 'France_data' so that we have all the information at the same place. Note that we don't have values of importations and exportations before 1986 so production of goods before 1986 will not be considered as from here."
   ]
  },
  {
   "cell_type": "code",
   "execution_count": null,
   "metadata": {},
   "outputs": [],
   "source": [
    "France_crops = raw_CH_crops_dataset[['Area', 'Item','Element', 'Year', 'Unit', 'Value']]"
   ]
  },
  {
   "cell_type": "code",
   "execution_count": null,
   "metadata": {},
   "outputs": [],
   "source": [
    "# Merge importations data with production data\n",
    "France_data = France_crops.loc[France_crops.Area=='France'].loc[France_crops.Element=='Production'].loc[France_crops.Year>= 1986]\\\n",
    "                                    .merge(France_trade,on=['Item', 'Year'], how='inner')\\\n",
    "                                    .rename(columns={'Value':'Produced Quantity'})"
   ]
  },
  {
   "cell_type": "code",
   "execution_count": null,
   "metadata": {},
   "outputs": [],
   "source": [
    "France_data.head()"
   ]
  },
  {
   "cell_type": "markdown",
   "metadata": {},
   "source": [
    "### Austrian importations and exportations of agricultural goods Dataset"
   ]
  },
  {
   "cell_type": "code",
   "execution_count": null,
   "metadata": {},
   "outputs": [],
   "source": [
    "Austria_trade = pd.read_csv('../data/FAOSTAT_data_austria.csv')"
   ]
  },
  {
   "cell_type": "code",
   "execution_count": null,
   "metadata": {},
   "outputs": [],
   "source": [
    "Austria_trade.dtypes"
   ]
  },
  {
   "cell_type": "code",
   "execution_count": null,
   "metadata": {},
   "outputs": [],
   "source": [
    "unofficial_stats_index_au = Austria_trade.loc[Austria_trade.Flag=='*'].index"
   ]
  },
  {
   "cell_type": "code",
   "execution_count": null,
   "metadata": {},
   "outputs": [],
   "source": [
    "# Drop the unofficial data\n",
    "Austria_trade = Austria_trade.drop(index = unofficial_stats_index_au)"
   ]
  },
  {
   "cell_type": "code",
   "execution_count": null,
   "metadata": {},
   "outputs": [],
   "source": [
    "#we keep only tonnes units\n",
    "Austria_trade = Austria_trade.loc[Austria_trade.Unit=='tonnes']"
   ]
  },
  {
   "cell_type": "code",
   "execution_count": null,
   "metadata": {},
   "outputs": [],
   "source": [
    "Austria_trade.drop(index=Austria_trade[Austria_trade['Flag Description'].str.contains('Data not available')].index, inplace=True)"
   ]
  },
  {
   "cell_type": "code",
   "execution_count": null,
   "metadata": {},
   "outputs": [],
   "source": [
    "Austria_trade = Austria_trade[['Element','Area', 'Item', 'Year', 'Unit', 'Value']]"
   ]
  },
  {
   "cell_type": "markdown",
   "metadata": {},
   "source": [
    "To keep the model simple, we sum the importations and exportations for a given product over all partner countries."
   ]
  },
  {
   "cell_type": "code",
   "execution_count": null,
   "metadata": {},
   "outputs": [],
   "source": [
    "Austria_trade = Austria_trade.groupby(['Item', 'Year', 'Element']).agg({'Value':'sum'})\\\n",
    "                                    .reset_index()\n",
    "Austria_trade.head()"
   ]
  },
  {
   "cell_type": "markdown",
   "metadata": {},
   "source": [
    "We improve the structure of our dataframe by pivoting its values of importations and exportations."
   ]
  },
  {
   "cell_type": "code",
   "execution_count": null,
   "metadata": {},
   "outputs": [],
   "source": [
    "Austria_trade_transformed = pd.pivot(Austria_trade,columns = 'Element', values='Value')\\\n",
    "                .rename(columns={'Export Quantity':'Exported Quantity','Import Quantity':'Imported Quantity'})\n",
    "Austria_trade_transformed.head()"
   ]
  },
  {
   "cell_type": "code",
   "execution_count": null,
   "metadata": {},
   "outputs": [],
   "source": [
    "Austria_trade = pd.concat([Austria_trade, Austria_trade_transformed], axis=1, join='inner')\n",
    "Austria_trade.drop(columns=['Value', 'Element'], inplace=True)\n",
    "Austria_trade = Austria_trade.groupby(['Item', 'Year'])\\\n",
    "                            .agg({'Exported Quantity':'mean','Imported Quantity':'mean'})\\\n",
    "                            .reset_index()\n",
    "Austria_trade.head()"
   ]
  },
  {
   "cell_type": "markdown",
   "metadata": {},
   "source": [
    "Combine production and trade data in one dataframe 'Austria_data' so that we have all the information at the same place. Note that we don't have values of importations and exportations before 1986 so production of goods before 1986 will not be considered as from here."
   ]
  },
  {
   "cell_type": "code",
   "execution_count": null,
   "metadata": {},
   "outputs": [],
   "source": [
    "Austria_crops = raw_CH_crops_dataset[['Area', 'Item','Element', 'Year', 'Unit', 'Value']]"
   ]
  },
  {
   "cell_type": "code",
   "execution_count": null,
   "metadata": {},
   "outputs": [],
   "source": [
    "# Merge importations data with production data\n",
    "Austria_data = Austria_crops.loc[Austria_crops.Area=='Austria'].loc[Austria_crops.Element=='Production'].loc[Austria_crops.Year>= 1986]\\\n",
    "                                    .merge(Austria_trade,on=['Item', 'Year'], how='inner')\\\n",
    "                                    .rename(columns={'Value':'Produced Quantity'})"
   ]
  },
  {
   "cell_type": "code",
   "execution_count": null,
   "metadata": {},
   "outputs": [],
   "source": [
    "Austria_data.head()"
   ]
  },
  {
   "cell_type": "markdown",
   "metadata": {},
   "source": [
    "### German importations and exportations of agricultural goods Dataset"
   ]
  },
  {
   "cell_type": "code",
   "execution_count": null,
   "metadata": {},
   "outputs": [],
   "source": [
    "Germany_trade = pd.read_csv('../data/FAOSTAT_data_germany.csv')"
   ]
  },
  {
   "cell_type": "code",
   "execution_count": null,
   "metadata": {},
   "outputs": [],
   "source": [
    "Germany_trade.dtypes"
   ]
  },
  {
   "cell_type": "code",
   "execution_count": null,
   "metadata": {},
   "outputs": [],
   "source": [
    "unofficial_stats_index_ge = Germany_trade.loc[Germany_trade.Flag=='*'].index"
   ]
  },
  {
   "cell_type": "code",
   "execution_count": null,
   "metadata": {},
   "outputs": [],
   "source": [
    "# Drop the unofficial data\n",
    "Germany_trade = Germany_trade.drop(index = unofficial_stats_index_ge)"
   ]
  },
  {
   "cell_type": "code",
   "execution_count": null,
   "metadata": {},
   "outputs": [],
   "source": [
    "#we keep only tonnes units\n",
    "Germany_trade = Germany_trade.loc[Germany_trade.Unit=='tonnes']"
   ]
  },
  {
   "cell_type": "code",
   "execution_count": null,
   "metadata": {},
   "outputs": [],
   "source": [
    "Germany_trade.drop(index=Germany_trade[Germany_trade['Flag Description'].str.contains('Data not available')].index, inplace=True)"
   ]
  },
  {
   "cell_type": "code",
   "execution_count": null,
   "metadata": {},
   "outputs": [],
   "source": [
    "Germany_trade = Germany_trade[['Element','Area', 'Item', 'Year', 'Unit', 'Value']]\n",
    "Germany_trade.head()"
   ]
  },
  {
   "cell_type": "markdown",
   "metadata": {},
   "source": [
    "To keep the model simple, we sum the importations and exportations for a given product over all partner countries."
   ]
  },
  {
   "cell_type": "code",
   "execution_count": null,
   "metadata": {},
   "outputs": [],
   "source": [
    "Germany_trade = Germany_trade.groupby(['Item', 'Year', 'Element']).agg({'Value':'sum'})\\\n",
    "                                    .reset_index()\n",
    "Germany_trade.head()"
   ]
  },
  {
   "cell_type": "markdown",
   "metadata": {},
   "source": [
    "We improve the structure of our dataframe by pivoting its values of importations and exportations."
   ]
  },
  {
   "cell_type": "code",
   "execution_count": null,
   "metadata": {},
   "outputs": [],
   "source": [
    "Germany_trade_transformed = pd.pivot(Germany_trade,columns = 'Element', values='Value')\\\n",
    "                .rename(columns={'Export Quantity':'Exported Quantity','Import Quantity':'Imported Quantity'})\n",
    "Germany_trade_transformed.head()"
   ]
  },
  {
   "cell_type": "code",
   "execution_count": null,
   "metadata": {},
   "outputs": [],
   "source": [
    "Germany_trade = pd.concat([Germany_trade, Germany_trade_transformed], axis=1, join='inner')\n",
    "Germany_trade.drop(columns=['Value', 'Element'], inplace=True)\n",
    "Germany_trade = Germany_trade.groupby(['Item', 'Year'])\\\n",
    "                            .agg({'Exported Quantity':'mean','Imported Quantity':'mean'})\\\n",
    "                            .reset_index()\n",
    "Germany_trade.head()"
   ]
  },
  {
   "cell_type": "markdown",
   "metadata": {},
   "source": [
    "Combine production and trade data in one dataframe 'Germany_data' so that we have all the information at the same place. Note that we don't have values of importations and exportations before 1986 so production of goods before 1986 will not be considered as from here."
   ]
  },
  {
   "cell_type": "code",
   "execution_count": null,
   "metadata": {},
   "outputs": [],
   "source": [
    "Germany_crops = raw_CH_crops_dataset[['Area', 'Item','Element', 'Year', 'Unit', 'Value']]"
   ]
  },
  {
   "cell_type": "code",
   "execution_count": null,
   "metadata": {},
   "outputs": [],
   "source": [
    "# Merge importations data with production data\n",
    "Germany_data = Germany_crops.loc[Germany_crops.Area=='Germany'].loc[Germany_crops.Element=='Production'].loc[Germany_crops.Year>= 1986]\\\n",
    "                                    .merge(Germany_trade,on=['Item', 'Year'], how='inner')\\\n",
    "                                    .rename(columns={'Value':'Produced Quantity'})"
   ]
  },
  {
   "cell_type": "code",
   "execution_count": null,
   "metadata": {},
   "outputs": [],
   "source": [
    "Germany_data.head()"
   ]
  },
  {
   "cell_type": "markdown",
   "metadata": {},
   "source": [
    "### Swiss temperatures Dataset\n",
    "\n",
    "This dataset does not come from FAOSTATS but from : __[MeteoSwiss](https://www.meteoswiss.admin.ch/home/climate/swiss-climate-in-detail/Swiss-temperature-mean/Data-on-the-Swiss-temperature-mean.html)__"
   ]
  },
  {
   "cell_type": "code",
   "execution_count": null,
   "metadata": {},
   "outputs": [],
   "source": [
    "CH_temperatures = pd.read_csv('../data/10.18751-Climate-Timeseries-CHTM-1.1-swiss.txt', sep=\"\\t\", header=0, skiprows=15)"
   ]
  },
  {
   "cell_type": "code",
   "execution_count": null,
   "metadata": {},
   "outputs": [],
   "source": [
    "CH_temperatures = CH_temperatures.loc[CH_temperatures.time>=1986].loc[CH_temperatures.time<=2017]"
   ]
  },
  {
   "cell_type": "code",
   "execution_count": null,
   "metadata": {},
   "outputs": [],
   "source": [
    "CH_temperatures.head()"
   ]
  },
  {
   "cell_type": "code",
   "execution_count": null,
   "metadata": {},
   "outputs": [],
   "source": [
    "CH_temperatures = CH_temperatures[[\"time\",\"winter\",\"summer\"]]"
   ]
  },
  {
   "cell_type": "code",
   "execution_count": null,
   "metadata": {},
   "outputs": [],
   "source": [
    "CH_temperatures = CH_temperatures.rename(columns={\"time\":\"Year\"})\n",
    "CH_temperatures.head()"
   ]
  },
  {
   "cell_type": "markdown",
   "metadata": {},
   "source": [
    "### Farmers population Dataset"
   ]
  },
  {
   "cell_type": "markdown",
   "metadata": {},
   "source": [
    "<div class=\"alert alert-block alert-warning\">\n",
    "TO DO: ANALYSIS: Is it increasing or decreasing? Why? (new machines, not apealing job anymore....)\n",
    "\n",
    "Answer the question: Is food selfsuffience of CH realistic ? How many farmer would it need ? \n",
    "    "
   ]
  },
  {
   "cell_type": "code",
   "execution_count": null,
   "metadata": {},
   "outputs": [],
   "source": [
    "df_employ_basic = pd.read_csv('../data/FAOSTAT_data_12-10-2019_employment.csv')"
   ]
  },
  {
   "cell_type": "code",
   "execution_count": null,
   "metadata": {},
   "outputs": [],
   "source": [
    "df_employ_basic.columns = map(str.lower, df_employ_basic.columns)\n",
    "df_employ = df_employ_basic.drop(columns={'domain code','domain','area code','indicator code','source code',\\\n",
    "                              'year code'}).copy()\n",
    "df_employ.head()"
   ]
  },
  {
   "cell_type": "code",
   "execution_count": null,
   "metadata": {},
   "outputs": [],
   "source": [
    "df_employ.indicator.unique()"
   ]
  },
  {
   "cell_type": "markdown",
   "metadata": {},
   "source": [
    "### Fertilizers and Pesticides Dataset"
   ]
  },
  {
   "cell_type": "code",
   "execution_count": null,
   "metadata": {},
   "outputs": [],
   "source": [
    "fertilizers_dataset = pd.read_csv('../data/FAOSTAT_data_fertilizers.csv')"
   ]
  },
  {
   "cell_type": "code",
   "execution_count": null,
   "metadata": {},
   "outputs": [],
   "source": [
    "fertilizers_dataset =fertilizers_dataset[['Domain', 'Area', 'Element', 'Item', 'Year', 'Unit', 'Value', 'Flag Description']]"
   ]
  },
  {
   "cell_type": "code",
   "execution_count": null,
   "metadata": {},
   "outputs": [],
   "source": [
    "fertilizers_dataset.head()"
   ]
  },
  {
   "cell_type": "code",
   "execution_count": null,
   "metadata": {},
   "outputs": [],
   "source": [
    "fertilizers_dataset.Area.unique() #No data available for Germany and Liechstenstein "
   ]
  },
  {
   "cell_type": "code",
   "execution_count": null,
   "metadata": {},
   "outputs": [],
   "source": [
    "#Compute total use of fertilizer by year (=combine all types)\n",
    "fert_sum = fertilizers_dataset.groupby(['Area','Year'])\\\n",
    "                              .agg({'Value':'sum'})\\\n",
    "                              .rename(columns={'Value':'Sum'})\\\n",
    "                              .reset_index()                            \n",
    "fert_sum.head()"
   ]
  },
  {
   "cell_type": "code",
   "execution_count": null,
   "metadata": {},
   "outputs": [],
   "source": [
    "pesticides_dataset = pd.read_csv('../data/FAOSTAT_data_pesticides.csv')"
   ]
  },
  {
   "cell_type": "code",
   "execution_count": null,
   "metadata": {},
   "outputs": [],
   "source": [
    "pesticides_dataset = pesticides_dataset[['Domain', 'Area', 'Element', 'Item', 'Year', 'Unit', 'Value', 'Flag Description']]"
   ]
  },
  {
   "cell_type": "code",
   "execution_count": null,
   "metadata": {},
   "outputs": [],
   "source": [
    "pesticides_dataset.head()"
   ]
  },
  {
   "cell_type": "markdown",
   "metadata": {},
   "source": [
    "## **Investigation plots**\n",
    "\n",
    "\n",
    "<span style='background :gray' > These are very general plots. </span>\n",
    "\n",
    "We use them to get a quick look at our data."
   ]
  },
  {
   "cell_type": "markdown",
   "metadata": {},
   "source": [
    "### <span style='background :gray' > - Production of all countries over time for a selected crop - </span>\n",
    "\n",
    "**Dataset :** Crops\n",
    "\n",
    "**Data :** Production of particular item over years by countries.\n",
    "\n",
    "**Notes :** This plot is interactive. It allows you to select for an item (apples, berries..) and shows you its production over years for the 6 countries (CH + Neighbours as listed above).\n"
   ]
  },
  {
   "cell_type": "code",
   "execution_count": null,
   "metadata": {},
   "outputs": [],
   "source": [
    "#Interactive visualization\n",
    "\n",
    "#Plot the production of selected item for all countries over years\n",
    "def viz_evolution(item):\n",
    "    df_viz_evolution = raw_CH_crops_dataset.loc[raw_CH_crops_dataset['Element']=='Production'].loc[raw_CH_crops_dataset['Item']==item]\n",
    "    \n",
    "    # multiple line plot\n",
    "    plt.figure(figsize=(20,10))\n",
    "    plt.plot( 'Year', 'Value', data=df_viz_evolution.loc[df_viz_evolution['Area']=='Austria'], marker='', color='green',  label = 'Austria')\n",
    "    plt.plot( 'Year', 'Value', data=df_viz_evolution.loc[df_viz_evolution['Area']=='France'], marker='', color='skyblue', label = 'France')\n",
    "    plt.plot( 'Year', 'Value', data=df_viz_evolution.loc[df_viz_evolution['Area']=='Switzerland'], marker='', color='red', label = 'Switzerland', linewidth=3)\n",
    "    plt.plot( 'Year', 'Value', data=df_viz_evolution.loc[df_viz_evolution['Area']=='Germany'], marker='', color='orange', label = 'Germany')\n",
    "    plt.plot( 'Year', 'Value', data=df_viz_evolution.loc[df_viz_evolution['Area']=='Italy'], marker='', color='grey', label = 'Italy')\n",
    "    \n",
    "    plt.legend() \n",
    "    plt.title(f'Production of {item} in Switzerland and its neighbours throughout years', fontsize= 20)\n",
    "    plt.xlabel(\"Year\", fontsize= 20)\n",
    "    plt.ylabel(\"Values\", fontsize= 20)\n",
    "    plt.show()\n",
    "   \n",
    "items = raw_CH_crops_dataset.Item.unique()\n",
    "interact(viz_evolution, item = items)    "
   ]
  },
  {
   "cell_type": "markdown",
   "metadata": {},
   "source": [
    "<div class=\"alert alert-block alert-success\">\n",
    "    For most of the items, Switzerland has the lowest production values. This can be explained by the small size of this country but to better understand those values and to know if their are sufficient to feed the Swiss population we will analyse how the swiss lands are used and occupied and look at the swiss demography. \n",
    "    We will also analyse swiss importations and exportations to know what Switzerland need and try to estimate if the country could produce it by it self. "
   ]
  },
  {
   "cell_type": "markdown",
   "metadata": {},
   "source": [
    "### <span style='background :gray' > - Plot production/area_harvested for all items of all countries over time - </span>\n",
    "\n",
    "**Dataset :** Crops\n",
    "\n",
    "**Data :** Ration of production over area harvested for all items over years by countries.\n",
    "\n",
    "**Notes :** This plot is interactive. It allows you to select for an element (production, area harvested or yield) and shows you the sum for all items for each country over years (CH & Co).\n"
   ]
  },
  {
   "cell_type": "code",
   "execution_count": null,
   "metadata": {},
   "outputs": [],
   "source": [
    "# Sum of area/yiel/production of items by country and year\n",
    "crops_sum = raw_CH_crops_dataset.groupby(['Area', 'Element','Year']) \\\n",
    "                                .agg({'Value':'sum'}) \\\n",
    "                                .rename(columns={'Value':'Sum'}) \\\n",
    "                                .reset_index()"
   ]
  },
  {
   "cell_type": "code",
   "execution_count": null,
   "metadata": {},
   "outputs": [],
   "source": [
    "#Interactive visualization\n",
    "\n",
    "#Plot the area harvested (sum of all items) for all countries over years\n",
    "def viz_sum_evolution(element):\n",
    "    df_viz_sum_evolution = crops_sum.loc[crops_sum['Element']== element]\n",
    "    \n",
    "    # multiple line plot\n",
    "    plt.figure(figsize=(20,10))\n",
    "    plt.plot( 'Year', 'Sum', data=df_viz_sum_evolution.loc[df_viz_sum_evolution['Area']=='Austria'], marker='', color='green',  label = 'Austria')\n",
    "    plt.plot( 'Year', 'Sum', data=df_viz_sum_evolution.loc[df_viz_sum_evolution['Area']=='France'], marker='', color='skyblue', label = 'France')\n",
    "    plt.plot( 'Year', 'Sum', data=df_viz_sum_evolution.loc[df_viz_sum_evolution['Area']=='Switzerland'], marker='', color='red', label = 'Switzerland', linewidth=3)\n",
    "    plt.plot( 'Year', 'Sum', data=df_viz_sum_evolution.loc[df_viz_sum_evolution['Area']=='Germany'], marker='', color='orange', label = 'Germany')\n",
    "    plt.plot( 'Year', 'Sum', data=df_viz_sum_evolution.loc[df_viz_sum_evolution['Area']=='Italy'], marker='', color='grey', label = 'Italy')\n",
    "    \n",
    "    plt.legend() \n",
    "    plt.title(f'{element} of all items in Switzerland and its neighbours throughout years', fontsize= 20)\n",
    "    plt.xlabel(\"Year\", fontsize= 20)\n",
    "    plt.ylabel(\"Values\", fontsize= 20)\n",
    "    plt.show()\n",
    "   \n",
    "elements = crops_sum.Element.unique()\n",
    "interact(viz_sum_evolution, element = elements)  "
   ]
  },
  {
   "cell_type": "markdown",
   "metadata": {},
   "source": [
    "<div class=\"alert alert-block alert-success\">\n",
    "    \n",
    "   Switzerland has the lowest production and area harvested of all items throughout years but it allways have one of the higher yield and it is increasing. \n",
    "   "
   ]
  },
  {
   "cell_type": "markdown",
   "metadata": {},
   "source": [
    "### <span style='background :gray' > - Switzerland land area distribution, year 2017 - </span>\n",
    "\n",
    "**Dataset :** Land Use Area\n",
    "\n",
    "**Data :** Area for different categories\n",
    "\n",
    "**Notes :** This plot is interactive. Shows values when cursor passes over the graph.\n"
   ]
  },
  {
   "cell_type": "code",
   "execution_count": null,
   "metadata": {},
   "outputs": [],
   "source": [
    "dist_land_CH_2017= dist_land_dataset.loc[dist_land_dataset['Area']=='Switzerland'].loc[dist_land_dataset['Year']==2017]"
   ]
  },
  {
   "cell_type": "code",
   "execution_count": null,
   "metadata": {},
   "outputs": [],
   "source": [
    "parent = [np.NaN, 'Country area', 'Land area', 'Agriculture', 'Agricultural land', 'Cropland', 'Arable land', 'Arable land', 'Arable land', 'Cropland', 'Agriculural land',\n",
    "    'Land under perm. meadows and pastures', 'Land under perm. meadows and pastures', 'Agriculture','Land area', 'Forestry', 'Forest land', 'Forest land', 'Forest land',\n",
    "    'Land area', 'Country area', np.NaN, np.NaN,np.NaN,np.NaN,np.NaN,np.NaN]\n",
    "dist_land_CH_2017['Parent'] = parent\n",
    "dist_land_CH_2017"
   ]
  },
  {
   "cell_type": "code",
   "execution_count": null,
   "metadata": {},
   "outputs": [],
   "source": [
    "fig =go.Figure(go.Sunburst(\n",
    "    labels=['Country area','Land area', 'Agriculture', 'Agricultural land', 'Cropland', 'Arable land', 'Land under temporary crops',\n",
    "       'Land under temp. meadows and pastures', 'Land with temporary fallow', 'Land under permanent crops',\n",
    "       'Land under perm. meadows and pastures', 'Perm. meadows & pastures - Cultivated',\n",
    "       'Perm. meadows & pastures - Nat. growing', 'Land under protective cover', 'Forestry', 'Forest land',\n",
    "       'Primary Forest', 'Other naturally regenerated forest', 'Planted Forest', 'Other land','Inland waters'],\n",
    "    parents=['','Country area', 'Land area', 'Agriculture', 'Agricultural land', 'Cropland', 'Arable land',\n",
    "       'Arable land', 'Arable land', 'Cropland', 'Agricultural land', 'Land under perm. meadows and pastures',\n",
    "       'Land under perm. meadows and pastures', 'Agriculture', 'Land area', 'Forestry',\n",
    "       'Forest land', 'Forest land', 'Forest land', 'Land area','Country area'],\n",
    "    values=[4.1290390e+06, 3.9516030e+06, 1.5398066e+06, 1.5129990e+06,\n",
    "       4.2308850e+05, 3.9818400e+05, 2.7100630e+05, 1.2422920e+05,\n",
    "       2.9484000e+03, 2.4904500e+04, 1.0899105e+06, 6.1734310e+05,\n",
    "       4.7256740e+05, 2.6807600e+04, 1.2540000e+06, 1.2540000e+06, 4.0000000e+04,\n",
    "       1.0420000e+06, 1.7200000e+05, 1.1577964e+06, 1.7743600e+05],\n",
    "))\n",
    "# Update layout for tight margin\n",
    "fig.update_layout(margin = dict(t=0, l=0, r=0, b=0))\n",
    "\n",
    "fig.show()"
   ]
  },
  {
   "cell_type": "markdown",
   "metadata": {},
   "source": [
    "<div class=\"alert alert-block alert-success\">\n",
    "\n",
    "**Country area =** Land area + Inland waters\n",
    "    \n",
    "**Land area =** Forestry + Agriculture + Other lands\n",
    "\n",
    "**Forestry =** Forest land\n",
    "    \n",
    "**Agriculture =** Land under protective cover + Agricultural land\n",
    "    \n",
    "**Forest land =** Primary forset + Planted forest + Other naturally regenerated forest\n",
    "    \n",
    "**Agricultural land =** Cropland + Land under perm. meadows and pastures\n",
    "    \n",
    "**Cropland =** Arable land + Land under permanent crops\n",
    "    \n",
    "**Land under perm. meadows and pastures =** Perm. meadows and pastures Cultivated + Perm. meadows and pastures Nat. growing\n",
    "    \n",
    "**Arable land =** Land under temp. meadows and pastures + Land under temporary crops + Land under temp. fallow\n",
    "    "
   ]
  },
  {
   "cell_type": "markdown",
   "metadata": {},
   "source": [
    "### <span style='background :gray' > - Switzerland land area and agricultral land distribution, year 2017 - </span>\n",
    "\n",
    "**Dataset :** Land Use Area\n",
    "\n",
    "**Data :** Area for different categories\n",
    "\n",
    "**Notes :** None.\n"
   ]
  },
  {
   "cell_type": "code",
   "execution_count": null,
   "metadata": {},
   "outputs": [],
   "source": [
    "fig, (ax1,ax2) = plt.subplots(1,2,figsize=(30,10))\n",
    "\n",
    "size = 0.25\n",
    "\n",
    "cmap1 = plt.cm.Reds\n",
    "cmap2 = plt.cm.Greens\n",
    "cmap3 = plt.cm.Purples\n",
    "cmap4 = plt.cm.Oranges\n",
    "\n",
    "outer_colors = [cmap1(.8), cmap2(.8), cmap3(.8)]\n",
    "inner_colors = [*cmap1(np.linspace(.6, .1, 3)), *cmap2(np.linspace(.6, .2, 2)), *cmap3(np.linspace(.6, .2, 2))]\n",
    "labels_1o = ['Forest land','Agriculture','Other land']\n",
    "labels_1 = ['PF','NRF','PF','PC','AL','','OL','','']\n",
    "labels_1i = ['Primary Forest','Other naturally regenerated forest','Planted Forest','Land under protective cover','Agricultural land','','Other land','','']\n",
    "vals1 = np.array([[40000,1042000,172000], [26807.6,1512999,0], [1157796.4,0,0]])\n",
    "\n",
    "ax1.axis('equal')\n",
    "ax1.pie(vals1.sum(axis=1), radius=1, colors=outer_colors,labels=labels_1o, labeldistance=0.8, wedgeprops=dict(width=size, edgecolor='w'))\n",
    "ax1.pie(vals1.flatten(), radius=1-size, colors=inner_colors, labels=labels_1, labeldistance=0.6, wedgeprops=dict(width=size, edgecolor='w'))\n",
    "plt.margins(0,0)\n",
    "ax1.set(aspect=\"equal\", title='Land area distribution')\n",
    "\n",
    "\n",
    "labels_2o = ['Cropland','Land under perm. meadows & pastures']\n",
    "labels_2 = ['AL','Pc','C','Ng']\n",
    "labels_2i = ['Arable land','Land under perm. crops','Cultivated','Naturaly growing']\n",
    "vals2 = np.array([[398184,24904.5], [617343.1,472567.4]])\n",
    "              \n",
    "ax2.axis('equal')\n",
    "ax2.pie(vals2.sum(axis=1), radius=1, colors=[cmap2(.8), cmap4(.8)], labels=labels_2o, labeldistance=0.8, wedgeprops=dict(width=size, edgecolor='w'))\n",
    "ax2.pie(vals2.flatten(), radius=1-size, colors=[*cmap2(np.linspace(.6, .1, 2)), *cmap4(np.linspace(.6, .2, 2))], labels=labels_2, labeldistance=0.6, wedgeprops=dict(width=size, edgecolor='w'))\n",
    "plt.margins(0,0)\n",
    "ax2.set(aspect=\"equal\", title='Agricultural land distribution') \n",
    "\n",
    "fig.set_facecolor('white') #backgroung color\n",
    "plt.legend(loc=(0.9, 0.1))\n",
    "\n",
    "handles, labels = ax1.get_legend_handles_labels()\n",
    "ax1.legend(handles[3:], labels_1i, loc=(0.9, 0.1))\n",
    "handles, labels = ax2.get_legend_handles_labels()\n",
    "ax2.legend(handles[2:], labels_2i, loc=(0.9, 0.1))\n",
    "\n",
    "plt.show()\n"
   ]
  },
  {
   "cell_type": "markdown",
   "metadata": {},
   "source": [
    "<div class=\"alert alert-block alert-success\">\n",
    "\n",
    "There are large parts of land that are unproper to agricultural use in Switzerland.    \n",
    "Howerver, if Switzerland wanted to increase its area harvested, it could use all the fiels dedicated to animal husbandry (in a future were we would all be vegetarian), or at least make a better use of arable lands and/or land under permanent meadows and pastures (could be reduced a bit without much consequences).\n",
    "    \n",
    "    Should we estimate the rise in production if those lands were used for food production instead of animal husbandery?"
   ]
  },
  {
   "cell_type": "markdown",
   "metadata": {},
   "source": [
    "### <span style='background :gray' > - Switzerland land area and agricultral land distribution, year 2016 - </span> \n",
    "#### <span style='background :red' > **Maybe to delete** car les chiffres sont moyens</span>  \n",
    "\n",
    "\n",
    "**Dataset :** Land Use Indicators\n",
    "\n",
    "**Data :** Land use and agricultural land use indicators\n",
    "\n",
    "**Notes :** None.\n"
   ]
  },
  {
   "cell_type": "code",
   "execution_count": null,
   "metadata": {},
   "outputs": [],
   "source": [
    "import matplotlib.pyplot as plt\n",
    "\n",
    "# DataFrames to plot\n",
    "df_land = raw_land_use_dataset.loc[raw_land_use_dataset['Area']=='Switzerland'].loc[raw_land_use_dataset['Year']==2016].loc[raw_land_use_dataset['Element']=='Share in Land area']\n",
    "df_agri = raw_land_use_dataset.loc[raw_land_use_dataset['Area']=='Switzerland'].loc[raw_land_use_dataset['Year']==2016].loc[raw_land_use_dataset['Element']=='Share in Agricultural land']\n",
    "\n",
    "# Pie plot #1\n",
    "labels1 = df_land.Item\n",
    "sizes1 = df_land.Value\n",
    "explode = (0, 0, 0.1, 0)  # only \"explode\" the 3rd slice\n",
    "\n",
    "fig1, ax1 = plt.subplots()\n",
    "ax1.pie(sizes1, explode=explode, labels=labels1, autopct='%1.1f%%',\n",
    "        shadow=True, startangle=90)\n",
    "#ax1.axis('equal')  # Equal aspect ratio ensures that pie is drawn as a circle.\n",
    "ax1.title.set_text('Distribution of lands in Switzerland, year 2016')\n",
    "fig1.set_facecolor('white')\n",
    "\n",
    "# Pie plot #2\n",
    "labels2 = df_agri.Item\n",
    "sizes2 = df_agri.Value\n",
    "fig1, ax2 = plt.subplots()\n",
    "ax2.pie(sizes2, labels=labels2, autopct='%1.1f%%',\n",
    "        shadow=True, startangle=90)\n",
    "ax2.axis('equal')  # Equal aspect ratio ensures that pie is drawn as a circle.\n",
    "ax2.title.set_text('Distribution of agricultural lands in Switzerland, year 2016')\n",
    "\n",
    "# General settings\n",
    "fig1.set_facecolor('white')\n",
    "plt.show()\n",
    "df_land"
   ]
  },
  {
   "cell_type": "markdown",
   "metadata": {},
   "source": [
    "<div class=\"alert alert-block alert-info\">\n",
    "\n",
    "From the first graphes (distribution of lands) we can see that only 45,2% of Switzerland lands are used in agriculture compared to Frane, Italy or Germany where around 64% of lands are exploited in agriculture. Lands expoited in agriculture are the sum of cropland and agriculture land. We can see that the percentage of forest is quite similar between those three countries and that the main difference reside in the percentage of lands attribuated to meadows and pastures. For example France use half land less than Switzerland for meadows and pastures, Germany more than half less and Italy use only one third of what Switzerland attribute. We can deduce from these plots that Switzerland is more dedicated to dairy products and breeding. \n",
    "    When comparing Sxitzerland with Liechtenstein, we find more similarities as the percentage of land used in agriculture is 42,5%.\n",
    "    From the second graphes (distribution of agricultural lands) we can see that the majority of Switzerland agricultural lands are under permanant meadows and pastures. This is a huge amount compared to the other countries which promote crop and arable lands. This suit our previous conviction than Switzerland is more dedicated to dairy products and breedings. We could hypothetize that Switzerland may be obligated to reduce this part of dedicated land to meadows and pastures in order to become food self efficient. This would also induce work  and policy transitions and impact the Swiss economy. \n",
    "    However an important aspect which is not shown by this data are the part of urban lands. We should add it to our analysis. \n",
    "    \n",
    "ps: Arable lands are lands that can or are cultivable"
   ]
  },
  {
   "cell_type": "markdown",
   "metadata": {},
   "source": [
    "### <span style='background :gray' > - Switzerland land cover, with artificial areas, year 2016 - </span>  \n",
    "\n",
    "\n",
    "**Dataset :** Land Cover\n",
    "\n",
    "**Data :** Ditribution of land between artificial and natural areas\n",
    "\n",
    "**Notes :** This plot overlaps a bit the others, but contains additional information about atrificial areas.\n"
   ]
  },
  {
   "cell_type": "code",
   "execution_count": null,
   "metadata": {},
   "outputs": [],
   "source": [
    "import matplotlib.pyplot as plt\n",
    "\n",
    "# DataFrames to plot\n",
    "df_artificial_surface = raw_land_cover_dataset.loc[raw_land_cover_dataset['Area']=='Switzerland'].loc[raw_land_cover_dataset['Year']==2016].loc[raw_land_cover_dataset['Element']=='Area from MODIS']\n",
    "# Pie plot #1\n",
    "labels1 = df_artificial_surface.Item\n",
    "sizes1 = df_artificial_surface.Surface\n",
    "\n",
    "fig1, ax1 = plt.subplots(figsize=(30,15))\n",
    "ax1.pie(sizes1, labels=labels1, labeldistance=1.05, autopct='%1.1f%%', shadow=True, startangle=45)\n",
    "ax1.axis('equal')  # Equal aspect ratio ensures that pie is drawn as a circle.\n",
    "ax1.title.set_text('Distribution of artificial lands in Switzerland, year 2016')\n",
    "fig1.set_facecolor('white')\n",
    "\n",
    "# General settings\n",
    "fig1.set_facecolor('white')\n",
    "plt.show()\n",
    "df_artificial_surface"
   ]
  },
  {
   "cell_type": "markdown",
   "metadata": {},
   "source": [
    "<div class=\"alert alert-block alert-info\">\n",
    "    \n",
    "        Comparison with neighbours:\n",
    "    \n",
    "In Switzerland, 60,5 % of the lands are not usable for agriculture (sum of artificial, inland water bodies,snow and tree-covered areas).\n",
    "    \n",
    "In France, 51 % of the lands are not usable for agriculture. \n",
    "    \n",
    "In Germany, 52,6 %\n",
    "    \n",
    "In Italy only 41,7%\n",
    "    \n",
    "In Austria 66,8 %\n",
    "    \n",
    "In Leichtenstein: no datas\n",
    "    \n",
    "So compared to its neighbours Switzerland have one of the smallest ratio of usable lands for Agriculture but still manage to have the best yields. \n",
    "    \n",
    "Now that we have the general distribution of lands for each country, lets focus our plots on the agriculture lands. "
   ]
  },
  {
   "cell_type": "markdown",
   "metadata": {},
   "source": [
    "<div class=\"alert alert-block alert-success\">\n",
    "    \n",
    "    Around 60 % of Switzerland land are unusable for agriculture (sum of forests, shrub covered areas,  inland water bodies, permanent snow and glaciers and artificial surfaces). \n",
    "    Inland water bodies are lakes and  artificial areas are urban areas. \n",
    "    This percentage can be increased via deforestation but it is not in the Interest of the country for environmental issues. "
   ]
  },
  {
   "cell_type": "markdown",
   "metadata": {},
   "source": [
    "### <span style='background :gray' > - Domographic evolution of Switzerland over the years - </span>\n",
    "\n",
    "**Dataset :** Demography\n",
    "\n",
    "**Data :** Population for different countries over years\n",
    "\n",
    "**Notes :** None.\n"
   ]
  },
  {
   "cell_type": "code",
   "execution_count": null,
   "metadata": {},
   "outputs": [],
   "source": [
    "#plot of the evolution of the demography over the years\n",
    "\n",
    "plt.figure(figsize=(20,10))\n",
    "plt.plot( 'Year', 'Population', data=demography.loc[demography['Area']=='Austria'], marker='', color='green',  label = 'Austria')\n",
    "plt.plot( 'Year', 'Population', data=demography.loc[demography['Area']=='France'], marker='', color='skyblue', label = 'France')\n",
    "plt.plot( 'Year', 'Population', data=demography.loc[demography['Area']=='Switzerland'], marker='', color='red', label = 'Switzerland', linewidth=3)\n",
    "plt.plot( 'Year', 'Population', data=demography.loc[demography['Area']=='Germany'], marker='', color='orange', label = 'Germany')\n",
    "plt.plot( 'Year', 'Population', data=demography.loc[demography['Area']=='Italy'], marker='', color='grey', label = 'Italy')\n",
    "    \n",
    "plt.legend() \n",
    "plt.title('Evolution of the demography over the years' , fontsize= 20)\n",
    "plt.xlabel(\"Year\", fontsize= 20)\n",
    "plt.ylabel(\"Population value\", fontsize= 20)\n",
    "plt.show()"
   ]
  },
  {
   "cell_type": "code",
   "execution_count": null,
   "metadata": {},
   "outputs": [],
   "source": [
    "min_swiss_demography = demography[demography.Area.str.contains('Switzerland')].Population.min()\n",
    "min_swiss_demography"
   ]
  },
  {
   "cell_type": "code",
   "execution_count": null,
   "metadata": {},
   "outputs": [],
   "source": [
    "max_swiss_demography = demography[demography.Area.str.contains('Switzerland')].Population.max()\n",
    "max_swiss_demography"
   ]
  },
  {
   "cell_type": "code",
   "execution_count": null,
   "metadata": {},
   "outputs": [],
   "source": [
    "delta_swiss_demography= max_swiss_demography - min_swiss_demography\n",
    "delta_swiss_demography"
   ]
  },
  {
   "cell_type": "markdown",
   "metadata": {},
   "source": [
    "<div class=\"alert alert-block alert-success\">\n",
    "    \n",
    "We can see that as expected, the population is growing in every country. From 1950 to 2018 the swiss population has increased by 0,38*10^7 persons. It has allmost double, so if the wold's predictions about demographic growth reveal to be true for the next years, how could Switzerland become self-sufficcient? \n",
    "    "
   ]
  },
  {
   "cell_type": "markdown",
   "metadata": {},
   "source": [
    "<div class=\"alert alert-block alert-warning\">\n",
    "    idea: we could make linear regression for each country so we get the slope of the demographic growth and we can compare and extrapolate it to further years for our predictive model? "
   ]
  },
  {
   "cell_type": "markdown",
   "metadata": {},
   "source": [
    "### <span style='background :gray' > - Production, exports and imports of items in Switzerland over years. - </span>\n",
    "\n",
    "**Dataset :** Importaions/Exportations (CH)\n",
    "\n",
    "**Data :** Importation and Exportations of different items \n",
    "\n",
    "**Notes :** This plot is interactive. It allows you to choose for an item (apples, berries..) and shows you its production, exportation and importation in Switzerland over years.\n"
   ]
  },
  {
   "cell_type": "code",
   "execution_count": null,
   "metadata": {},
   "outputs": [],
   "source": [
    "#Interactive visualization\n",
    "\n",
    "#Plot the production of selected item for all countries over years\n",
    "def viz_evolution(item):\n",
    "    df_viz_evolution = CH_data.loc[CH_data['Item']==item]\n",
    "    \n",
    "    # multiple line plot\n",
    "    plt.figure(figsize=(20,10))\n",
    "    plt.plot( 'Year', 'Produced Quantity', data=df_viz_evolution, marker='', color='red', label = 'production', linewidth=3)\n",
    "    plt.plot('Year', 'Imported Quantity', data=df_viz_evolution, marker='', color='blue', label = 'imports', linewidth=3)\n",
    "    plt.plot('Year', 'Exported Quantity', data=df_viz_evolution, marker='', color='green', label = 'exports', linewidth=3) \n",
    "    plt.legend() \n",
    "    plt.title(f'Production and imports of {item} in Switzerland throughout years', fontsize= 20)\n",
    "    plt.xlabel(\"Year\", fontsize= 20)\n",
    "    plt.ylabel(\"Values [tonnes]\", fontsize= 20)\n",
    "    plt.show()\n",
    "   \n",
    "items = CH_data.Item.unique()\n",
    "interact(viz_evolution, item = items)    "
   ]
  },
  {
   "cell_type": "markdown",
   "metadata": {},
   "source": [
    "**Most produced, imported and exported products :**\n",
    "\n",
    "- Most produced crops products"
   ]
  },
  {
   "cell_type": "code",
   "execution_count": null,
   "metadata": {},
   "outputs": [],
   "source": [
    "CH_data.loc[CH_data.Year == 2016].sort_values(by='Produced Quantity', ascending = False).head(10)"
   ]
  },
  {
   "cell_type": "markdown",
   "metadata": {},
   "source": [
    "- Most imported crops products"
   ]
  },
  {
   "cell_type": "code",
   "execution_count": null,
   "metadata": {},
   "outputs": [],
   "source": [
    "CH_data.loc[CH_data.Year == 2016].sort_values(by='Imported Quantity', ascending = False).head(10)"
   ]
  },
  {
   "cell_type": "markdown",
   "metadata": {},
   "source": [
    "- Most exported crops products"
   ]
  },
  {
   "cell_type": "code",
   "execution_count": null,
   "metadata": {},
   "outputs": [],
   "source": [
    "CH_data.loc[CH_data.Year == 2016].sort_values(by='Exported Quantity', ascending = False).head(10)"
   ]
  },
  {
   "cell_type": "code",
   "execution_count": null,
   "metadata": {},
   "outputs": [],
   "source": [
    "total_export_quantity = CH_data[\"Exported Quantity\"].sum()\n",
    "total_export_quantity"
   ]
  },
  {
   "cell_type": "code",
   "execution_count": null,
   "metadata": {},
   "outputs": [],
   "source": [
    "total_import_quantity = CH_data[\"Imported Quantity\"].sum()\n",
    "total_import_quantity"
   ]
  },
  {
   "cell_type": "code",
   "execution_count": null,
   "metadata": {},
   "outputs": [],
   "source": [
    "dv=total_import_quantity/total_export_quantity\n",
    "dv"
   ]
  },
  {
   "cell_type": "markdown",
   "metadata": {},
   "source": [
    "<div class=\"alert alert-block alert-success\">\n",
    "    \n",
    "We can see that some of the most produced items are also some of the more imported like potatoes, wheat, maize, grappes, lettuce and chicory and sugar beet. This can show a high consumption of the item by the population and can indicate us that one of the priority could be to increase their production. In the more exported items, it is not suprising to find several items that are highly produced by Switzerland such as wheat, potatoes, apples, maise and Barley.  But we also find some strange items like oilseeds nes which are more imported than produced and then exported in a higher quantity than the one produce which indicates an economic advantage in this transition. \n",
    "    When summing the total amount of exported and imported products we can see that switzerland import 70 times more products. But is this in a transit goal ( see oilseeds ex) ? or for consumption? "
   ]
  },
  {
   "cell_type": "markdown",
   "metadata": {},
   "source": [
    "**Less produced, imported and exported products :**\n",
    "\n",
    "- Less produced crops products"
   ]
  },
  {
   "cell_type": "code",
   "execution_count": null,
   "metadata": {},
   "outputs": [],
   "source": [
    "CH_data.loc[CH_data.Year == 2016].sort_values(by='Produced Quantity', ascending = True).head(10)"
   ]
  },
  {
   "cell_type": "markdown",
   "metadata": {},
   "source": [
    "<div class=\"alert alert-block alert-success\">\n",
    "    Does the less produced items corresponds to the most imported ones? \n",
    "    we can see that none of these items figured in the most imported ones.. is it related to the consumption trends of swiss people? Is it necessary to increase their production if they do not seems necessary? \n",
    "    The only ecxeption is Oilseed nes but as discussed previously they are also exported. \n",
    "    \n",
    "    "
   ]
  },
  {
   "cell_type": "markdown",
   "metadata": {},
   "source": [
    "- Less imported products"
   ]
  },
  {
   "cell_type": "code",
   "execution_count": null,
   "metadata": {},
   "outputs": [],
   "source": [
    "CH_data.loc[CH_data.Year == 2016].sort_values(by='Imported Quantity', ascending = True).head(10)"
   ]
  },
  {
   "cell_type": "markdown",
   "metadata": {},
   "source": [
    "<div class=\"alert alert-block alert-success\">\n",
    "    Does the less imported items corresponds to the most produced and exported ones? which would suggest high sufficiency of the items. \n",
    "    we can see not math between the less imported and the most imported an produced items. \n",
    "    "
   ]
  },
  {
   "cell_type": "markdown",
   "metadata": {},
   "source": [
    "- less exported crops products"
   ]
  },
  {
   "cell_type": "code",
   "execution_count": null,
   "metadata": {},
   "outputs": [],
   "source": [
    "CH_data.loc[CH_data.Year == 2016].sort_values(by='Exported Quantity', ascending = True).head(10)"
   ]
  },
  {
   "cell_type": "markdown",
   "metadata": {},
   "source": [
    "<div class=\"alert alert-block alert-success\">\n",
    "\n",
    "Are the less exported items the less produced and the more imported ones? \n",
    "    No similarities between the less produced and the less exported items, same for importations. \n",
    "    "
   ]
  },
  {
   "cell_type": "markdown",
   "metadata": {},
   "source": [
    "<div class=\"alert alert-block alert-warning\">\n",
    "\n",
    "Idea: on pourrait faire des matrices de corrélations pour répondre à ces questions?"
   ]
  },
  {
   "cell_type": "markdown",
   "metadata": {},
   "source": [
    "### <span style='background :gray' > - Production, exports and imports of items for CH neigbours over years. - </span>\n",
    "\n",
    "**Dataset :** Importaions/Exportations (I)(FR)(G)(AU) + crops\n",
    "\n",
    "**Data :**  Most produced/imported/expoted items \n",
    "\n",
    "**Notes :** \n"
   ]
  },
  {
   "cell_type": "markdown",
   "metadata": {},
   "source": [
    "#### Italy"
   ]
  },
  {
   "cell_type": "markdown",
   "metadata": {},
   "source": [
    "- Most produced Items"
   ]
  },
  {
   "cell_type": "code",
   "execution_count": null,
   "metadata": {},
   "outputs": [],
   "source": [
    "Italy_data.loc[Italy_data.Year == 2016].sort_values(by='Produced Quantity', ascending = False).head(10)"
   ]
  },
  {
   "cell_type": "markdown",
   "metadata": {},
   "source": [
    "- Most exported Items"
   ]
  },
  {
   "cell_type": "code",
   "execution_count": null,
   "metadata": {},
   "outputs": [],
   "source": [
    "Italy_data.loc[Italy_data.Year == 2016].sort_values(by='Exported Quantity', ascending = False).head(10)"
   ]
  },
  {
   "cell_type": "markdown",
   "metadata": {},
   "source": [
    "- Most imported Items"
   ]
  },
  {
   "cell_type": "code",
   "execution_count": null,
   "metadata": {},
   "outputs": [],
   "source": [
    "Italy_data.loc[Italy_data.Year == 2016].sort_values(by='Imported Quantity', ascending = False).head(10)"
   ]
  },
  {
   "cell_type": "markdown",
   "metadata": {},
   "source": [
    "#### France"
   ]
  },
  {
   "cell_type": "markdown",
   "metadata": {},
   "source": [
    "- Most produced Items"
   ]
  },
  {
   "cell_type": "code",
   "execution_count": null,
   "metadata": {},
   "outputs": [],
   "source": [
    "France_data.loc[France_data.Year == 2016].sort_values(by='Produced Quantity', ascending = False).head(10)"
   ]
  },
  {
   "cell_type": "markdown",
   "metadata": {},
   "source": [
    "- Most exported Items"
   ]
  },
  {
   "cell_type": "code",
   "execution_count": null,
   "metadata": {},
   "outputs": [],
   "source": [
    "France_data.loc[France_data.Year == 2016].sort_values(by='Exported Quantity', ascending = False).head(10)"
   ]
  },
  {
   "cell_type": "markdown",
   "metadata": {},
   "source": [
    "- Most imported Items"
   ]
  },
  {
   "cell_type": "code",
   "execution_count": null,
   "metadata": {},
   "outputs": [],
   "source": [
    "France_data.loc[France_data.Year == 2016].sort_values(by='Imported Quantity', ascending = False).head(10)"
   ]
  },
  {
   "cell_type": "markdown",
   "metadata": {},
   "source": [
    "#### Austria"
   ]
  },
  {
   "cell_type": "markdown",
   "metadata": {},
   "source": [
    "- Most produced items"
   ]
  },
  {
   "cell_type": "code",
   "execution_count": null,
   "metadata": {},
   "outputs": [],
   "source": [
    "Austria_data.loc[Austria_data.Year == 2016].sort_values(by='Produced Quantity', ascending = False).head(10)"
   ]
  },
  {
   "cell_type": "markdown",
   "metadata": {},
   "source": [
    "- Most exported items"
   ]
  },
  {
   "cell_type": "code",
   "execution_count": null,
   "metadata": {},
   "outputs": [],
   "source": [
    "Austria_data.loc[Austria_data.Year == 2016].sort_values(by='Exported Quantity', ascending = False).head(10)"
   ]
  },
  {
   "cell_type": "markdown",
   "metadata": {},
   "source": [
    "- Most imported items"
   ]
  },
  {
   "cell_type": "code",
   "execution_count": null,
   "metadata": {},
   "outputs": [],
   "source": [
    "Austria_data.loc[Austria_data.Year == 2016].sort_values(by='Imported Quantity', ascending = False).head(10)"
   ]
  },
  {
   "cell_type": "markdown",
   "metadata": {},
   "source": [
    "#### Germany"
   ]
  },
  {
   "cell_type": "markdown",
   "metadata": {},
   "source": [
    "- Most produceditems"
   ]
  },
  {
   "cell_type": "code",
   "execution_count": null,
   "metadata": {},
   "outputs": [],
   "source": [
    "Germany_data.loc[Germany_data.Year == 2016].sort_values(by='Produced Quantity', ascending = False).head(10)"
   ]
  },
  {
   "cell_type": "markdown",
   "metadata": {},
   "source": [
    "- Most exported items"
   ]
  },
  {
   "cell_type": "code",
   "execution_count": null,
   "metadata": {},
   "outputs": [],
   "source": [
    "Germany_data.loc[Germany_data.Year == 2016].sort_values(by='Exported Quantity', ascending = False).head(10)"
   ]
  },
  {
   "cell_type": "markdown",
   "metadata": {},
   "source": [
    "- Most imported items"
   ]
  },
  {
   "cell_type": "code",
   "execution_count": null,
   "metadata": {},
   "outputs": [],
   "source": [
    "Germany_data.loc[Germany_data.Year == 2016].sort_values(by='Imported Quantity', ascending = False).head(10)"
   ]
  },
  {
   "cell_type": "markdown",
   "metadata": {},
   "source": [
    "<div class=\"alert alert-block alert-success\">\n",
    "\n",
    "We can observe that apples, maize, potatoes wheats and Sugar beet are important items for all countries as they are often amoung the most produced, exported and imported items. \n",
    "So we can focus our study on those products to answer the question of swiss food suficiency. \n",
    "\n",
    "    on devrait remplacer oat par autre chose... What about Sugar beet??"
   ]
  },
  {
   "cell_type": "markdown",
   "metadata": {},
   "source": [
    "### <span style='background :gray' > - TITLE - </span>\n",
    "\n",
    "**Dataset :** \n",
    "\n",
    "**Data :** \n",
    "\n",
    "**Notes :** "
   ]
  },
  {
   "cell_type": "code",
   "execution_count": null,
   "metadata": {},
   "outputs": [],
   "source": [
    "import plotly # conda install -c anaconda plotly #AND# jupyter labextension install @jupyterlab/plotly-extension\n",
    "import plotly.graph_objects as go\n",
    "y_wheat = CH_data.loc[CH_data.Year == 2016].loc[CH_data.Item=='Wheat'].values[0,-3:]\n",
    "y_potatoes = CH_data.loc[CH_data.Year == 2016].loc[CH_data.Item=='Potatoes'].values[0,-3:]\n",
    "y_beet = CH_data.loc[CH_data.Year == 2016].loc[CH_data.Item=='Sugar beet'].values[0,-3:]\n",
    "y_maize = CH_data.loc[CH_data.Year == 2016].loc[CH_data.Item=='Maize'].values[0,-3:]\n",
    "y_apples = CH_data.loc[CH_data.Year == 2016].loc[CH_data.Item=='Apples'].values[0,-3:]\n",
    "y_barley = CH_data.loc[CH_data.Year == 2016].loc[CH_data.Item=='Barley'].values[0,-3:]\n",
    "y_grapes = CH_data.loc[CH_data.Year == 2016].loc[CH_data.Item=='Grapes'].values[0,-3:]\n",
    "\n",
    "\n",
    "\n",
    "x=['Produced', 'Exported', 'Imported']\n",
    "fig = go.Figure(go.Bar(x=x, y=y_wheat, name='Wheat'))\n",
    "fig.add_trace(go.Bar(x=x, y=y_potatoes, name='Potatoes'))\n",
    "fig.add_trace(go.Bar(x=x, y=y_beet, name='Sugar beet'))\n",
    "fig.add_trace(go.Bar(x=x, y=y_maize, name='Maize'))\n",
    "fig.add_trace(go.Bar(x=x, y=y_apples, name='Apples'))\n",
    "fig.add_trace(go.Bar(x=x, y=y_barley, name='Barley'))\n",
    "fig.add_trace(go.Bar(x=x, y=y_grapes, name='Grapes'))\n",
    "\n",
    "fig.update_layout(\n",
    "    title='Most produced, exported and imported items in Switzerland in 2016',\n",
    "    yaxis_title=\"Values [tonnes]\",\n",
    "    barmode='stack', \n",
    "    font=dict(\n",
    "        family=\"Courier New, monospace\",\n",
    "        size=16,\n",
    "        color=\"#7f7f7f\")\n",
    "    )\n",
    "fig.show()"
   ]
  },
  {
   "cell_type": "markdown",
   "metadata": {},
   "source": [
    "### <span style='background :gray' > - Plot production,  importation and exportation of selected item in Switzerland throughout years - </span>\n",
    "\n",
    "**Dataset :** Importaions/Exportations (CH)\n",
    "\n",
    "**Data :** Importation and Exportations of different items \n",
    "\n",
    "**Notes :** This plot is interactive. \n"
   ]
  },
  {
   "cell_type": "code",
   "execution_count": null,
   "metadata": {},
   "outputs": [],
   "source": [
    "import plotly.graph_objects as go\n",
    "\n",
    "def viz_potatoe(item):\n",
    "    y_wheat = CH_data.loc[CH_data.Item==item].values[:,-3:]\n",
    "    fig = go.Figure()\n",
    "    fig.add_trace(go.Scatter(x=CH_data.Year.unique(), y=y_wheat[:,0], fill='tonexty', name='Produced')) # fill down to xaxis\n",
    "    fig.add_trace(go.Scatter(x=CH_data.Year.unique(), y=y_wheat[:,1], fill='tozeroy', name='Exported')) # fill to trace0 y\n",
    "    fig.add_trace(go.Scatter(x=CH_data.Year.unique(), y=y_wheat[:,2], fill='tonexty', name='Imported')) # fill to trace0 y\n",
    "    fig.update_layout(\n",
    "        title=f\"{item} importations and productions throughout years in Switzerland\",\n",
    "        yaxis_title=\"Values [tonnes]\",\n",
    "        xaxis_title='Years'\n",
    "        )\n",
    "    fig.show()\n",
    "\n",
    "items = CH_data.Item.unique()\n",
    "interact(viz_potatoe, item = items)  \n"
   ]
  },
  {
   "cell_type": "markdown",
   "metadata": {},
   "source": [
    "### <span style='background :gray' > - Plot production,  importation and exportation in Switzerland throughout years - </span>\n",
    "\n",
    "**Dataset :** Importaions/Exportations (CH)\n",
    "\n",
    "**Data :** Importation and Exportations of different items \n",
    "\n",
    "**Notes :** This plot is interactive. Shows values upon cursor selection. As reported before, values of exportations are much lower than those of production and importations. Hence, exportations values will now be plot separately, to better show their trend.\n"
   ]
  },
  {
   "cell_type": "code",
   "execution_count": null,
   "metadata": {},
   "outputs": [],
   "source": [
    "fig = go.Figure()\n",
    "fig.add_trace(go.Scatter(x=CH_data.Year.unique(), y=total_crops_imports['Produced Quantity'].values, fill='tonexty', name='Produced')) # fill down to xaxis\n",
    "fig.add_trace(go.Scatter(x=CH_data.Year.unique(), y=total_crops_imports['Imported Quantity'].values, fill='tozeroy', name='Imported')) # fill to trace0 y\n",
    "fig.add_trace(go.Scatter(x=CH_data.Year.unique(), y=total_crops_imports['Exported Quantity'].values, fill='tozeroy', name='Exported'))\n",
    "fig.update_layout(\n",
    "    title=\"Sum of all importations, exportations and productions throughout years in Switzerland\",\n",
    "    yaxis_title=\"Values [tonnes]\",\n",
    "    xaxis_title='Years'\n",
    "    )\n",
    "fig.show()"
   ]
  },
  {
   "cell_type": "markdown",
   "metadata": {},
   "source": [
    "<div class=\"alert alert-block alert-success\">\n",
    "    \n",
    "Here again we can see that Switzerland is a very small exporter and is quite constant with its importations. Nevertheless, its importations seems to be slightly increasing since 2005. Is it because of demand for food diversity or because of production issues? Since The production values through years seems constantly varying we could follow the first hypothesis (ask for food diversity as a consequence of the mondialisation). \n",
    "    \n",
    "    For the analysis + writing of report, I would say that:\n",
    "        - CH is  a good player after all, since produces way more that imports (ratio 3:1)\n",
    "        - For in raise in importations: I would say that a higher demand on diversity would not affect the curve since diversity does not mean quantity (actually we like chocolate but still eat more rice+ \"common food products\" ) --> To me it would rather reflect the fact that demography increases linearly and CH is ~cst in production = need to import more!"
   ]
  },
  {
   "cell_type": "markdown",
   "metadata": {},
   "source": [
    "As the exportations are hardly visible on the previous graph due to scale differences, we will plot them alone."
   ]
  },
  {
   "cell_type": "markdown",
   "metadata": {},
   "source": [
    "Maybe we could add here an intercative plot where we can select the item to see (but for now we are sure if we can/how to combine plotly and ipwidgets libraries)"
   ]
  },
  {
   "cell_type": "code",
   "execution_count": null,
   "metadata": {},
   "outputs": [],
   "source": [
    "fig = px.area(CH_restrained, x=\"Year\", y=\"Value\", color='Item',\n",
    "      line_group='Input')\n",
    "fig.update_layout(\n",
    "    title=\"Switzerland's production evolution for 6 most important items (no sugar beet)\",\n",
    "    yaxis_title=\"Values [tonnes]\",\n",
    "    xaxis_title='Years'\n",
    "    )\n",
    "fig.show()"
   ]
  },
  {
   "cell_type": "code",
   "execution_count": null,
   "metadata": {},
   "outputs": [],
   "source": [
    "fig = px.area(CH_restrained, x=\"Year\", y=\"Value\", color='Item',\n",
    "      line_group='Input')\n",
    "\n",
    "fig.update_layout(\n",
    "    title=\"Switzerland's importation evolution for 6 most important items (no sugar beet)\",\n",
    "    yaxis_title=\"Values [tonnes]\",\n",
    "    xaxis_title='Years'\n",
    "    )\n",
    "fig.show()"
   ]
  },
  {
   "cell_type": "code",
   "execution_count": null,
   "metadata": {},
   "outputs": [],
   "source": [
    "fig = px.area(CH_restrained, x=\"Year\", y=\"Value\", color='Item',\n",
    "      line_group='Input')\n",
    "\n",
    "fig.update_layout(\n",
    "    title=\"Switzerland's importation and production evolution for 6 most important items (no sugar beet)\",\n",
    "    yaxis_title=\"Values [tonnes]\",\n",
    "    xaxis_title='Years'\n",
    "    )\n",
    "fig.show()"
   ]
  },
  {
   "cell_type": "code",
   "execution_count": null,
   "metadata": {},
   "outputs": [],
   "source": [
    "import plotly.express as px\n",
    "fig = px.area(CH_restrained_exportations, x=\"Year\", y=\"Value\", color='Item',\n",
    "      line_group='Input')\n",
    "fig.update_layout(\n",
    "    title=\"Switzerland's exportations evolution for five most important items over time\",\n",
    "    yaxis_title=\"Values [tonnes]\",\n",
    "    xaxis_title='Years'\n",
    "    )\n",
    "fig.show()"
   ]
  },
  {
   "cell_type": "code",
   "execution_count": null,
   "metadata": {},
   "outputs": [],
   "source": [
    "CH_restrained = CH_crops.loc[CH_crops.Area=='Switzerland'].loc[CH_crops.Item.isin(['Apples','Wheat','Potatoes', 'Maize', 'Grapes', 'Barley'])].loc[CH_crops.Element=='Yield']\n",
    "\n",
    "import plotly.express as px\n",
    "fig = px.area(CH_restrained, x=\"Year\", y=\"Value\", color='Item',\n",
    "      line_group='Item')\n",
    "fig.update_layout(\n",
    "    title=\"Switzerland's yield evolution for 6 most important items (no sugar beet)\",\n",
    "    yaxis_title=\"Values [hg/ha]\",\n",
    "    xaxis_title='Years'\n",
    "    )\n",
    "fig.show()"
   ]
  },
  {
   "cell_type": "markdown",
   "metadata": {},
   "source": [
    "### <span style='background :gray' > -  Plot : Is there a correlation between production and temperature? - </span>\n",
    "\n",
    "**Dataset :** Swiss temperatures\n",
    "\n",
    "**Data :** \n",
    "\n",
    "**Notes :** \n"
   ]
  },
  {
   "cell_type": "code",
   "execution_count": null,
   "metadata": {},
   "outputs": [],
   "source": [
    "CH_temperatures.head()"
   ]
  },
  {
   "cell_type": "code",
   "execution_count": null,
   "metadata": {},
   "outputs": [],
   "source": [
    "#we should make an interactive plot so we can select a food element and see how its production is affected\n",
    "#by temperatures changes. \n",
    "years = np.sort(CH_data.Year.unique())\n",
    "fig, ax1 = plt.subplots()\n",
    "data1 = CH_data.loc[CH_data.Item=='Potatoes']['Produced Quantity']\n",
    "data2 = CH_temperatures.summer\n",
    "\n",
    "color = 'tab:red'\n",
    "ax1.set_xlabel('year')\n",
    "ax1.set_ylabel('production', color=color)\n",
    "ax1.plot(years, data1, color=color)\n",
    "ax1.tick_params(axis='y', labelcolor=color)\n",
    "\n",
    "ax2 = ax1.twinx()  # instantiate a second axes that shares the same x-axis\n",
    "\n",
    "color = 'tab:blue'\n",
    "ax2.set_ylabel('temperature', color=color)  # we already handled the x-label with ax1\n",
    "ax2.plot(years, data2, color=color)\n",
    "ax2.tick_params(axis='y', labelcolor=color)\n",
    "\n",
    "fig.tight_layout()  # otherwise the right y-label is slightly clipped\n",
    "plt.title('Potatoes production and temperatures every year')\n",
    "plt.show()"
   ]
  },
  {
   "cell_type": "markdown",
   "metadata": {},
   "source": [
    "<div class=\"alert alert-block alert-success\">\n",
    "As temperature increase, the production decrease. \n"
   ]
  },
  {
   "cell_type": "markdown",
   "metadata": {},
   "source": [
    "<div class=\"alert alert-block alert-info\">\n",
    "As temperature increase, the potatoes, maize and apples production decreases.\n",
    "Wheat production is less affected by tempearture changes. \n",
    "Sugar beet production increase with temperatures, so this item need heat to be grown. \n",
    "    "
   ]
  },
  {
   "cell_type": "markdown",
   "metadata": {},
   "source": [
    "<div class=\"alert alert-block alert-info\">\n",
    "\n",
    "The Pearson correlation coefficient measures the linear relationship\n",
    " between two datasets. Strictly speaking, Pearson's correlation requires\n",
    " that each dataset be normally distributed. Like other correlation\n",
    " coefficients, this one varies between -1 and +1 with 0 implying no\n",
    " correlation. Correlations of -1 or +1 imply an exact linear\n",
    " relationship. Positive correlations imply that as x increases, so does\n",
    " y. Negative correlations imply that as x increases, y decreases.\n",
    "\n",
    "calculation of the Pearson correlation between temperatures and the production of our 7 main items "
   ]
  },
  {
   "cell_type": "markdown",
   "metadata": {},
   "source": [
    "Lets check our temperatures our normaly distributed"
   ]
  },
  {
   "cell_type": "code",
   "execution_count": null,
   "metadata": {},
   "outputs": [],
   "source": [
    "plt.hist(CH_temperatures['summer'], bins=10)"
   ]
  },
  {
   "cell_type": "code",
   "execution_count": null,
   "metadata": {},
   "outputs": [],
   "source": [
    "plt.hist(CH_temperatures['winter'], bins=10)"
   ]
  },
  {
   "cell_type": "markdown",
   "metadata": {},
   "source": [
    "<div class=\"alert alert-block info-alert\">\n",
    "Moyen donc je sais pas si on peut parler des coeff de Pearson mais regardons quand meme"
   ]
  },
  {
   "cell_type": "code",
   "execution_count": null,
   "metadata": {},
   "outputs": [],
   "source": [
    "CH_corr_Apples_temp = CH_data_transformed.loc[CH_data_transformed.Item.str.contains(\"Apples\")].loc[CH_data_transformed.Input=='Country production']\n",
    "CH_corr_Apples_temp = CH_corr_Apples_temp[[\"Year\",\"Value\"]]"
   ]
  },
  {
   "cell_type": "code",
   "execution_count": null,
   "metadata": {},
   "outputs": [],
   "source": [
    "CH_corr_Apples_temp = CH_corr_Apples_temp.rename(columns={\"Value\":\"Apples production\"})"
   ]
  },
  {
   "cell_type": "code",
   "execution_count": null,
   "metadata": {},
   "outputs": [],
   "source": [
    "CH_corr_Grapes_temp = CH_data_transformed.loc[CH_data_transformed.Item.str.contains(\"Grapes\")].loc[CH_data_transformed.Input=='Country production']\n",
    "CH_corr_Grapes_temp = CH_corr_Grapes_temp[[\"Year\",\"Value\"]]\n",
    "CH_corr_Grapes_temp = CH_corr_Grapes_temp.rename(columns={\"Value\":\"Grapes production\"})\n",
    "\n",
    "CH_corr_Wheat_temp = CH_data_transformed.loc[CH_data_transformed.Item.str.contains(\"Wheat\")].loc[CH_data_transformed.Input=='Country production']\n",
    "CH_corr_Wheat_temp = CH_corr_Wheat_temp[[\"Year\",\"Value\"]]\n",
    "CH_corr_Wheat_temp = CH_corr_Wheat_temp.rename(columns={\"Value\":\"Wheat production\"})\n",
    "\n",
    "CH_corr_Potatoes_temp = CH_data_transformed.loc[CH_data_transformed.Item.str.contains(\"Potatoes\")].loc[CH_data_transformed.Input=='Country production']\n",
    "CH_corr_Potatoes_temp = CH_corr_Potatoes_temp[[\"Year\",\"Value\"]]\n",
    "CH_corr_Potatoes_temp = CH_corr_Potatoes_temp.rename(columns={\"Value\":\"Potatoes production\"})\n",
    "\n",
    "CH_corr_Barley_temp = CH_data_transformed.loc[CH_data_transformed.Item.str.contains(\"Barley\")].loc[CH_data_transformed.Input=='Country production']\n",
    "CH_corr_Barley_temp = CH_corr_Barley_temp[[\"Year\",\"Value\"]]\n",
    "CH_corr_Barley_temp = CH_corr_Barley_temp.rename(columns={\"Value\":\"Barley production\"})\n",
    "\n",
    "CH_corr_Maize_temp = CH_data_transformed.loc[CH_data_transformed.Item.str.contains(\"Maize\")].loc[CH_data_transformed.Input=='Country production']\n",
    "CH_corr_Maize_temp = CH_corr_Maize_temp[[\"Year\",\"Value\"]]\n",
    "CH_corr_Maize_temp = CH_corr_Maize_temp.rename(columns={\"Value\":\"Maize production\"})"
   ]
  },
  {
   "cell_type": "code",
   "execution_count": null,
   "metadata": {},
   "outputs": [],
   "source": [
    "CH_corr_SB_temp = CH_data_transformed.loc[CH_data_transformed.Item.str.contains(\"Sugar beet\")].loc[CH_data_transformed.Input=='Country production']\n",
    "CH_corr_SB_temp = CH_corr_SB_temp[[\"Year\",\"Value\"]]\n",
    "CH_corr_SB_temp = CH_corr_SB_temp.rename(columns={\"Value\":\"Sugar beet production\"})"
   ]
  },
  {
   "cell_type": "code",
   "execution_count": null,
   "metadata": {},
   "outputs": [],
   "source": [
    "plt.hist(CH_corr_Potatoes_temp['Potatoes production'], bins=10)"
   ]
  },
  {
   "cell_type": "code",
   "execution_count": null,
   "metadata": {},
   "outputs": [],
   "source": [
    "plt.hist(CH_corr_Grapes_temp['Grapes production'], bins=10)"
   ]
  },
  {
   "cell_type": "code",
   "execution_count": null,
   "metadata": {},
   "outputs": [],
   "source": [
    "plt.hist(CH_corr_Apples_temp['Apples production'], bins=10)"
   ]
  },
  {
   "cell_type": "code",
   "execution_count": null,
   "metadata": {},
   "outputs": [],
   "source": [
    "plt.hist(CH_corr_Wheat_temp['Wheat production'], bins=10)"
   ]
  },
  {
   "cell_type": "code",
   "execution_count": null,
   "metadata": {},
   "outputs": [],
   "source": [
    "plt.hist(CH_corr_Barley_temp['Barley production'], bins=10)"
   ]
  },
  {
   "cell_type": "code",
   "execution_count": null,
   "metadata": {},
   "outputs": [],
   "source": [
    "plt.hist(CH_corr_SB_temp['Sugar beet production'], bins=10)"
   ]
  },
  {
   "cell_type": "code",
   "execution_count": null,
   "metadata": {},
   "outputs": [],
   "source": [
    "plt.hist(CH_corr_Maize_temp['Maize production'], bins=10)"
   ]
  },
  {
   "cell_type": "code",
   "execution_count": null,
   "metadata": {},
   "outputs": [],
   "source": [
    "CH_summer_temp=CH_temperatures[[\"Year\",\"summer\"]]\n",
    "CH_winter_temp=CH_temperatures[[\"Year\",\"winter\"]]"
   ]
  },
  {
   "cell_type": "code",
   "execution_count": null,
   "metadata": {},
   "outputs": [],
   "source": [
    "df_winter=CH_winter_temp.merge(CH_corr_SB_temp,on='Year').merge(CH_corr_Apples_temp,on='Year').merge(CH_corr_Grapes_temp,on='Year').merge(CH_corr_Wheat_temp,on='Year').merge(CH_corr_Potatoes_temp,on='Year').merge(CH_corr_Barley_temp,on='Year').merge(CH_corr_Maize_temp,on='Year')\n",
    "df_winter.head()"
   ]
  },
  {
   "cell_type": "code",
   "execution_count": null,
   "metadata": {},
   "outputs": [],
   "source": [
    "df_summer=CH_summer_temp.merge(CH_corr_SB_temp,on='Year').merge(CH_corr_Apples_temp,on='Year').merge(CH_corr_Grapes_temp,on='Year').merge(CH_corr_Wheat_temp,on='Year').merge(CH_corr_Potatoes_temp,on='Year').merge(CH_corr_Barley_temp,on='Year').merge(CH_corr_Maize_temp,on='Year')\n",
    "df_summer.head()"
   ]
  },
  {
   "cell_type": "code",
   "execution_count": null,
   "metadata": {},
   "outputs": [],
   "source": [
    "df_corr_summer=df_summer.drop(columns={\"Year\"})\n",
    "coeff_summer=df_corr_summer.corr().iloc[0][1:]#.sort_values(ascending=False)\n",
    "coeff_summer=pd.DataFrame(coeff_summer).T\n",
    "coeff_summer.head()"
   ]
  },
  {
   "cell_type": "code",
   "execution_count": null,
   "metadata": {},
   "outputs": [],
   "source": [
    "df_corr_winter=df_winter.drop(columns={\"Year\"})\n",
    "coeff_winter=df_corr_winter.corr().iloc[0][1:].sort_values(ascending=False)\n",
    "coeff_winter=pd.DataFrame(coeff_winter).T\n",
    "coeff_winter.head()"
   ]
  },
  {
   "cell_type": "code",
   "execution_count": null,
   "metadata": {},
   "outputs": [],
   "source": [
    "import seaborn as sns\n",
    "import pandas as pd\n",
    "\n",
    "plt.figure(figsize=(5,5)) \n",
    "\n",
    "sns.heatmap(coeff_summer.T)"
   ]
  },
  {
   "cell_type": "code",
   "execution_count": null,
   "metadata": {},
   "outputs": [],
   "source": [
    "plt.figure(figsize=(5,5)) \n",
    "\n",
    "sns.heatmap(coeff_winter.T)"
   ]
  },
  {
   "cell_type": "markdown",
   "metadata": {},
   "source": [
    "### <span style='background :gray' > -   - </span>\n",
    "\n",
    "**Dataset :**\n",
    "\n",
    "**Data :** \n",
    "\n",
    "**Notes :** \n"
   ]
  },
  {
   "cell_type": "code",
   "execution_count": null,
   "metadata": {},
   "outputs": [],
   "source": [
    "df_employ_newind = df_employ.copy()\n",
    "df_employ_newind = df_employ.set_index(['area','indicator'])\n",
    "df_employ_newind = df_employ_newind.sort_index()\n",
    "df_employ_newind.head(2)"
   ]
  },
  {
   "cell_type": "code",
   "execution_count": null,
   "metadata": {},
   "outputs": [],
   "source": [
    "ax = plt.gca()\n",
    "df_employ_newind.loc[('Austria','Employment in agriculture')].plot(kind='scatter',color='cyan',x='year',y='value',ax=ax, label='Austria')\n",
    "df_employ_newind.loc[('Germany','Employment in agriculture')].plot(kind='scatter',color='black',x='year',y='value',ax=ax, label='Germany')\n",
    "df_employ_newind.loc[('France','Employment in agriculture')].plot(kind='scatter',color='blue',x='year',y='value',ax=ax, label='France')\n",
    "df_employ_newind.loc[('Switzerland','Employment in agriculture')].plot(kind='scatter',color='red',x='year',y='value',ax=ax, label='Switzerland')\n",
    "df_employ_newind.loc[('Italy','Employment in agriculture')].plot(kind='scatter',color='green',x='year',y='value',ax=ax, label='Italy',\n",
    "                                                                 figsize=(15,10))\n",
    "ax.set(title='Employment in Agriculture (1969-2017)',\n",
    "ylabel='Nb persons /1000',\n",
    "xlabel='Years')\n",
    "ax.yaxis.label.set_size(30)\n",
    "ax.xaxis.label.set_size(30)\n",
    "ax.title.set_size(30)\n",
    "plt.show()"
   ]
  },
  {
   "cell_type": "markdown",
   "metadata": {},
   "source": [
    "<div class=\"alert alert-block alert-info\">\n",
    "    \n",
    "Employment in agriculture are decreasing a lot in France, Germany and Italy but are constants in Austria and Switzerland. \n",
    "The number of employes in the agriculture sector are very small in Switzerland, only around 200 000 employes. why? \n",
    "    "
   ]
  },
  {
   "cell_type": "markdown",
   "metadata": {},
   "source": [
    "### <span style='background :gray' > -  Plot :  - </span>\n",
    "\n",
    "**Dataset :**\n",
    "\n",
    "**Data :** \n",
    "\n",
    "**Notes :** \n"
   ]
  },
  {
   "cell_type": "code",
   "execution_count": null,
   "metadata": {},
   "outputs": [],
   "source": [
    "ax = plt.gca()\n",
    "df_employ_newind.loc[('Austria','Share of employees in agriculture (% of total employees)')].plot(kind='scatter',color='cyan',x='year',y='value',ax=ax, label='Austria')\n",
    "df_employ_newind.loc[('Germany','Share of employees in agriculture (% of total employees)')].plot(kind='scatter',color='black',x='year',y='value',ax=ax, label='Germany')\n",
    "df_employ_newind.loc[('France','Share of employees in agriculture (% of total employees)')].plot(kind='scatter',color='blue',x='year',y='value',ax=ax, label='France')\n",
    "df_employ_newind.loc[('Switzerland','Share of employees in agriculture (% of total employees)')].plot(kind='scatter',color='red',x='year',y='value',ax=ax, label='Switzerland')\n",
    "df_employ_newind.loc[('Italy','Share of employees in agriculture (% of total employees)')].plot(kind='scatter',color='green',x='year',y='value',ax=ax, label='Italy',\n",
    "                                                                                                figsize=(17,10))\n",
    "ax.set(title='Share of employees in agriculture',\n",
    "ylabel='% of total employees',\n",
    "xlabel='Years')\n",
    "ax.yaxis.label.set_size(30)\n",
    "ax.xaxis.label.set_size(30)\n",
    "ax.title.set_size(30)\n",
    "plt.show()"
   ]
  },
  {
   "cell_type": "markdown",
   "metadata": {},
   "source": [
    "<div class=\"alert alert-block alert-info\">\n",
    "Agriculture represents a very small part employment, around 1%. But it is approximatively the same fo its neighbours: France Germany and Austria.\n",
    "Only Italy has a relatively high percentage of employes in agriculture but it can be correlated with the fact that they also have the highest number of employees in this sector. "
   ]
  },
  {
   "cell_type": "markdown",
   "metadata": {},
   "source": [
    "### <span style='background :gray' > -  Plot :  - </span>\n",
    "\n",
    "**Dataset :** \n",
    "\n",
    "**Data :** \n",
    "\n",
    "**Notes :** \n"
   ]
  },
  {
   "cell_type": "code",
   "execution_count": null,
   "metadata": {},
   "outputs": [],
   "source": [
    "ax = plt.gca()\n",
    "df_employ_newind.loc[('Austria','Employment-to-population ratio, rural areas')].plot(kind='scatter',color='cyan',x='year',y='value',ax=ax, label='Austria')\n",
    "df_employ_newind.loc[('Germany','Employment-to-population ratio, rural areas')].plot(kind='scatter',color='black',x='year',y='value',ax=ax, label='Germany')\n",
    "df_employ_newind.loc[('France','Employment-to-population ratio, rural areas')].plot(kind='scatter',color='blue',x='year',y='value',ax=ax, label='France')\n",
    "df_employ_newind.loc[('Switzerland','Employment-to-population ratio, rural areas')].plot(kind='scatter',color='red',x='year',y='value',ax=ax, label='Switzerland')\n",
    "df_employ_newind.loc[('Italy','Employment-to-population ratio, rural areas')].plot(kind='scatter',color='green',x='year',y='value',ax=ax, label='Italy',\n",
    "                                                                                                figsize=(17,10))\n",
    "ax.set(title='Employment-to-population ratio, RURAL AREAS',\n",
    "ylabel='share of the employed population in total working-age population',\n",
    "xlabel='Years')\n",
    "ax.yaxis.label.set_size(13)\n",
    "ax.xaxis.label.set_size(30)\n",
    "ax.title.set_size(30)\n",
    "plt.show()"
   ]
  },
  {
   "cell_type": "markdown",
   "metadata": {},
   "source": [
    "<div class=\"alert alert-block alert-info\">\n",
    "When looking to the employment to population ration we can see that it is Switzerland that have the higher one, meaning that Switzerland have the biggest population part working in Agriculture. So Agriculture represents an important employment sector. \n",
    "We also remark that this ratio is increasing this past few years meaning that this work sector is attractive."
   ]
  },
  {
   "cell_type": "markdown",
   "metadata": {},
   "source": [
    "### <span style='background :gray' > -  Plot : Use of fertilizers and production over years in Switzerland - </span>\n",
    "\n",
    "**Dataset :** fertilizers, pesticides and crops\n",
    "\n",
    "**Data :** \n",
    "\n",
    "**Notes :** \n"
   ]
  },
  {
   "cell_type": "code",
   "execution_count": null,
   "metadata": {},
   "outputs": [],
   "source": [
    "#Next : add the production for those years \n",
    "#Lest's try with CH:\n",
    "fert_ch = fert_sum.loc[fert_sum['Area']=='Switzerland']"
   ]
  },
  {
   "cell_type": "code",
   "execution_count": null,
   "metadata": {},
   "outputs": [],
   "source": [
    "pest_ch = pesticides_dataset.loc[pesticides_dataset['Area']=='Switzerland'].loc[pesticides_dataset['Item']=='Pesticides (total)']\n",
    "pest_ch = pest_ch[['Year','Value']]"
   ]
  },
  {
   "cell_type": "code",
   "execution_count": null,
   "metadata": {},
   "outputs": [],
   "source": [
    "prod_ch = crops_sum.loc[crops_sum['Element']== 'Production'].loc[crops_sum['Area']== 'Switzerland']"
   ]
  },
  {
   "cell_type": "code",
   "execution_count": null,
   "metadata": {},
   "outputs": [],
   "source": [
    "#pd.concat([prod_ch, fert_ch], sort=False).tail(60)\n",
    "combo_ch = pd.merge(prod_ch, fert_ch, how='inner', on=['Year'])\\\n",
    "                .rename(columns={'Area_x':'Area'})\\\n",
    "                .rename(columns={'Sum_x':'Production'})\\\n",
    "                .rename(columns={'Sum_y':'Fertilizers'})\\\n",
    "                .drop(columns=['Area_y','Element'])"
   ]
  },
  {
   "cell_type": "code",
   "execution_count": null,
   "metadata": {},
   "outputs": [],
   "source": [
    "combo_ch = pd.merge(combo_ch, pest_ch, how='inner', on=['Year'])\\\n",
    "                .rename(columns={'Value':'Pesticides'})\n",
    "combo_ch.head()"
   ]
  },
  {
   "cell_type": "code",
   "execution_count": null,
   "metadata": {},
   "outputs": [],
   "source": [
    "plt.figure(figsize=(20,10))\n",
    "plt.plot( 'Year', 'Production', data=combo_ch, marker='', color='green', label = 'Production', linewidth=3)\n",
    "plt.plot( 'Year', 'Fertilizers', data=combo_ch, marker='', color='blue', label = 'Fertilizers', linewidth=3)\n",
    "plt.plot( 'Year', 'Pesticides', data=combo_ch, marker='', color='red', label = 'Pesticides', linewidth=3)\n",
    "plt.legend() \n",
    "plt.title(f'Use of fertilizers and production over years in Switzerland', fontsize= 20)\n",
    "plt.xlabel(\"Year\", fontsize= 20)\n",
    "plt.ylabel(\"Values [tonnes]\", fontsize= 20)\n",
    "plt.show()"
   ]
  },
  {
   "cell_type": "code",
   "execution_count": null,
   "metadata": {},
   "outputs": [],
   "source": []
  },
  {
   "cell_type": "code",
   "execution_count": null,
   "metadata": {},
   "outputs": [],
   "source": []
  },
  {
   "cell_type": "code",
   "execution_count": null,
   "metadata": {},
   "outputs": [],
   "source": []
  },
  {
   "cell_type": "markdown",
   "metadata": {},
   "source": [
    "# Main results\n",
    "\n",
    "What's next:"
   ]
  },
  {
   "cell_type": "markdown",
   "metadata": {},
   "source": [
    "<div class=\"alert alert-block alert-info\">\n",
    "    \n",
    "1. Defining what is food self-sufficiency\n",
    "    1. $ SSR = Production * 100 / (Production + Imports - Exports)$ to develop\n",
    "    2. Addapt it to the Swiss case : take a look to what we import (basic needs ?), export (top exports ? by far ?) and production graphs\n",
    "    3. __[Ref. Paper \"Food self-sufficiency: Making sense of it, and when it makes sense\" By Jennifer Clapp](https://www.sciencedirect.com/science/article/pii/S0306919216305851#b0240)__. <br> Résumé : __[Résumé par le site Resilience du paper de Clapp](https://www.resilience.org/stories/2018-03-13/food-self-sufficiency-does-it-make-sense/)__\n",
    "    4. Compare our results with other sources just to know if we share the same results (e.g. selfsufficiency switzerland on wikipedia __[List of countries by food self-sufficieent rate](https://en.wikipedia.org/wiki/List_of_countries_by_food_self-sufficiency_rate)__)\n",
    "\n",
    "    \n",
    "2. Food situation of Switzerland from 1986 to 2017.\n",
    "    1. Is/was it food self-sufficient ? SSR scores over the years.\n",
    "    2. Comapre to neighbours\n",
    "\n",
    "    \n",
    "3. Will it be **physically** possible for Switzerland in a near future to be food self-sufficient (in the sense of the 2018 initiative bc we have seen that definition is relative) taking into account its population growth (hesimated increase in consumption computation)? What would it imply/take into account in terms of :\n",
    "    1. Area harvested (actual ratio and estimation of its evolution)\n",
    "    2. Farmers population \n",
    "    3. Temperature (climate impact food production correlation)\n",
    "    4. Environment (use of fertilizers needed ? depends on productivity)\n",
    "\n",
    "    \n",
    "4. Attempt on **economy** consequences analysis ?\n",
    "    1. Complicated ... What about looking at what happended in countries that adopted food self-sufficient policies such as Senegal, India, the Philippines, Qatar, Bolivia, and Russia ? (Jaccard and correlations?)\n",
    "    2. Jaccard similarity of country based on SSR to see which country should adopt more food self-sufficient policies ?"
   ]
  },
  {
   "cell_type": "markdown",
   "metadata": {},
   "source": [
    "## SSR score\n"
   ]
  },
  {
   "cell_type": "markdown",
   "metadata": {},
   "source": [
    "##### <span style='background :gray' >Compute SSR for Switzerland and its neighbour over the years then plot - Analysis</span>"
   ]
  },
  {
   "cell_type": "code",
   "execution_count": null,
   "metadata": {},
   "outputs": [],
   "source": [
    "CH_clear = CH_data[[\"Year\", \"Produced Quantity\", \"Exported Quantity\", \"Imported Quantity\"]]"
   ]
  },
  {
   "cell_type": "code",
   "execution_count": null,
   "metadata": {},
   "outputs": [],
   "source": [
    "CH_ssr = CH_clear.groupby(\"Year\")\\\n",
    "                .agg({'Produced Quantity':'sum','Exported Quantity':'sum','Imported Quantity':'sum'})\\\n",
    "                .reset_index()"
   ]
  },
  {
   "cell_type": "code",
   "execution_count": null,
   "metadata": {},
   "outputs": [],
   "source": [
    "SSR_list=[]\n",
    "for i in range(0, CH_ssr.shape[0]):\n",
    "    SSR_list.append((CH_ssr[\"Produced Quantity\"].iloc[i]*100)/(CH_ssr[\"Produced Quantity\"].iloc[i] + CH_ssr[\"Imported Quantity\"].iloc[i]-CH_ssr[\"Exported Quantity\"].iloc[i]))\n",
    "\n",
    "CH_ssr[\"SSR\"]=SSR_list"
   ]
  },
  {
   "cell_type": "markdown",
   "metadata": {},
   "source": [
    "Now we do the same for Switzerland's neighbours"
   ]
  },
  {
   "cell_type": "code",
   "execution_count": null,
   "metadata": {},
   "outputs": [],
   "source": [
    "France_clear = France_data[[\"Year\", \"Produced Quantity\", \"Exported Quantity\", \"Imported Quantity\"]]\n",
    "France_ssr = France_clear.groupby(\"Year\")\\\n",
    "                .agg({'Produced Quantity':'sum','Exported Quantity':'sum','Imported Quantity':'sum'})\\\n",
    "                .reset_index()\n",
    "SSR_list_F=[]\n",
    "for i in range(0, France_ssr.shape[0]):\n",
    "    SSR_list_F.append((France_ssr[\"Produced Quantity\"].iloc[i]*100)/(France_ssr[\"Produced Quantity\"].iloc[i] + France_ssr[\"Imported Quantity\"].iloc[i] - France_ssr[\"Exported Quantity\"].iloc[i]))\n",
    "\n",
    "France_ssr[\"SSR\"]=SSR_list_F"
   ]
  },
  {
   "cell_type": "code",
   "execution_count": null,
   "metadata": {},
   "outputs": [],
   "source": [
    "Germany_clear = Germany_data[[\"Year\", \"Produced Quantity\", \"Exported Quantity\", \"Imported Quantity\"]]\n",
    "Germany_ssr = Germany_clear.groupby(\"Year\")\\\n",
    "                .agg({'Produced Quantity':'sum','Exported Quantity':'sum','Imported Quantity':'sum'})\\\n",
    "                .reset_index()\n",
    "SSR_list_G=[]\n",
    "for i in range(0, Germany_ssr.shape[0]):\n",
    "    SSR_list_G.append((Germany_ssr[\"Produced Quantity\"].iloc[i]*100)/(Germany_ssr[\"Produced Quantity\"].iloc[i] + Germany_ssr[\"Imported Quantity\"].iloc[i]-France_ssr[\"Exported Quantity\"].iloc[i]))\n",
    "\n",
    "Germany_ssr[\"SSR\"]=SSR_list_G"
   ]
  },
  {
   "cell_type": "code",
   "execution_count": null,
   "metadata": {},
   "outputs": [],
   "source": [
    "Italy_clear = Italy_data[[\"Year\", \"Produced Quantity\", \"Exported Quantity\", \"Imported Quantity\"]]\n",
    "Italy_ssr = Italy_clear.groupby(\"Year\")\\\n",
    "                .agg({'Produced Quantity':'sum','Exported Quantity':'sum','Imported Quantity':'sum'})\\\n",
    "                .reset_index()\n",
    "SSR_list_I=[]\n",
    "for i in range(0, Italy_ssr.shape[0]):\n",
    "    SSR_list_I.append((Italy_ssr[\"Produced Quantity\"].iloc[i]*100)/(Italy_ssr[\"Produced Quantity\"].iloc[i] + Italy_ssr[\"Imported Quantity\"].iloc[i] - Italy_ssr[\"Exported Quantity\"].iloc[i]))\n",
    "\n",
    "Italy_ssr[\"SSR\"]=SSR_list_I"
   ]
  },
  {
   "cell_type": "code",
   "execution_count": null,
   "metadata": {},
   "outputs": [],
   "source": [
    "Austria_clear = Austria_data[[\"Year\", \"Produced Quantity\", \"Exported Quantity\", \"Imported Quantity\"]]\n",
    "Austria_ssr = Austria_clear.groupby(\"Year\")\\\n",
    "                .agg({'Produced Quantity':'sum','Exported Quantity':'sum','Imported Quantity':'sum'})\\\n",
    "                .reset_index()\n",
    "SSR_list_A=[]\n",
    "for i in range(0, Austria_ssr.shape[0]):\n",
    "    SSR_list_A.append((Austria_ssr[\"Produced Quantity\"].iloc[i]*100)/(Austria_ssr[\"Produced Quantity\"].iloc[i] + Austria_ssr[\"Imported Quantity\"].iloc[i] - Austria_ssr[\"Exported Quantity\"].iloc[i]))\n",
    "\n",
    "Austria_ssr[\"SSR\"]=SSR_list_A"
   ]
  },
  {
   "cell_type": "code",
   "execution_count": null,
   "metadata": {},
   "outputs": [],
   "source": [
    "plt.figure(figsize=(20,10))\n",
    "plt.plot( 'Year', 'SSR', data=Austria_ssr, marker='', color='green',  label = 'Austria')\n",
    "plt.plot( 'Year', 'SSR', data=France_ssr, marker='', color='skyblue', label = 'France')\n",
    "plt.plot( 'Year', 'SSR', data=CH_ssr, marker='', color='red', label = 'Switzerland', linewidth=3)\n",
    "plt.plot( 'Year', 'SSR', data=Germany_ssr, marker='', color='orange', label = 'Germany')\n",
    "plt.plot( 'Year', 'SSR', data=Italy_ssr, marker='', color='grey', label = 'Italy')\n",
    "    \n",
    "plt.legend() \n",
    "plt.title('Evolution of the SSR over the years' , fontsize= 20)\n",
    "plt.xlabel(\"Year\", fontsize= 20)\n",
    "plt.ylabel(\"SSR value in %\", fontsize= 20)\n",
    "plt.show()"
   ]
  },
  {
   "cell_type": "markdown",
   "metadata": {},
   "source": [
    "<div class=\"alert alert-block alert-info\">\n",
    "    \n",
    "We can see that Switzerland has the smallers SSR ratio. It oscillates between 90 and 70% over the years.\n",
    "This indicates that Switzerland has never been food self-sufficient.\n",
    "We can also observe that Germany, France and sometimes Austria have SSR superior than 100% this can be explained by the fact that our dataset contains mostly items producted in our country so we are missing a lot of importations. Mathematically this means that those countries have high exports value and low import values. \n",
    "    \n",
    "We will now try to recompute those SSR with only our 5 main items:\n",
    "    potatoes, Wheat, Sugar beet, apples and maize. "
   ]
  },
  {
   "cell_type": "code",
   "execution_count": null,
   "metadata": {},
   "outputs": [],
   "source": [
    "keep=[\"Potatoes\",\"Apples\",\"Maize\",\"Sugar beet\",\"Wheat\", \"Barley\", \"Grapes\"]\n",
    "CH_clear_ = CH_data[CH_data.Item.isin(keep)]"
   ]
  },
  {
   "cell_type": "code",
   "execution_count": null,
   "metadata": {},
   "outputs": [],
   "source": [
    "CH_ssr_5 = CH_clear_.groupby(\"Year\")\\\n",
    "                .agg({'Produced Quantity':'sum','Exported Quantity':'sum','Imported Quantity':'sum'})\\\n",
    "                .reset_index()\n",
    "SSR_list_CH_5=[]\n",
    "for i in range(0, CH_ssr_5.shape[0]):\n",
    "    SSR_list_CH_5.append((CH_ssr_5[\"Produced Quantity\"].iloc[i]*100)/(CH_ssr_5[\"Produced Quantity\"].iloc[i] + CH_ssr_5[\"Imported Quantity\"].iloc[i] - CH_ssr_5[\"Exported Quantity\"].iloc[i]))\n",
    "\n",
    "CH_ssr_5[\"SSR\"]=SSR_list_CH_5"
   ]
  },
  {
   "cell_type": "code",
   "execution_count": null,
   "metadata": {},
   "outputs": [],
   "source": [
    "France_clear_ = France_data[France_data.Item.isin(keep)]\n",
    "\n",
    "France_ssr_5 = France_clear_.groupby(\"Year\")\\\n",
    "                .agg({'Produced Quantity':'sum','Exported Quantity':'sum','Imported Quantity':'sum'})\\\n",
    "                .reset_index()\n",
    "SSR_list_FR_5=[]\n",
    "for i in range(0, France_ssr_5.shape[0]):\n",
    "    SSR_list_FR_5.append((France_ssr_5[\"Produced Quantity\"].iloc[i]*100)/(France_ssr_5[\"Produced Quantity\"].iloc[i] + France_ssr_5[\"Imported Quantity\"].iloc[i] - France_ssr_5[\"Exported Quantity\"].iloc[i]))\n",
    "\n",
    "France_ssr_5[\"SSR\"]=SSR_list_FR_5"
   ]
  },
  {
   "cell_type": "code",
   "execution_count": null,
   "metadata": {},
   "outputs": [],
   "source": [
    "Germany_clear_ = Germany_data[Germany_data.Item.isin(keep)]\n",
    "\n",
    "Germany_ssr_5 = Germany_clear_.groupby(\"Year\")\\\n",
    "                .agg({'Produced Quantity':'sum','Exported Quantity':'sum','Imported Quantity':'sum'})\\\n",
    "                .reset_index()\n",
    "SSR_list_G_5=[]\n",
    "for i in range(0, Germany_ssr_5.shape[0]):\n",
    "    SSR_list_G_5.append((Germany_ssr_5[\"Produced Quantity\"].iloc[i]*100)/(Germany_ssr_5[\"Produced Quantity\"].iloc[i] + Germany_ssr_5[\"Imported Quantity\"].iloc[i] - Germany_ssr_5[\"Exported Quantity\"].iloc[i]))\n",
    "\n",
    "Germany_ssr_5[\"SSR\"]=SSR_list_G_5"
   ]
  },
  {
   "cell_type": "code",
   "execution_count": null,
   "metadata": {},
   "outputs": [],
   "source": [
    "Italy_clear_ = Italy_data[Italy_data.Item.isin(keep)]\n",
    "\n",
    "Italy_ssr_5 = Italy_clear_.groupby(\"Year\")\\\n",
    "                .agg({'Produced Quantity':'sum','Exported Quantity':'sum','Imported Quantity':'sum'})\\\n",
    "                .reset_index()\n",
    "SSR_list_I_5=[]\n",
    "for i in range(0, Italy_ssr_5.shape[0]):\n",
    "    SSR_list_I_5.append((Italy_ssr_5[\"Produced Quantity\"].iloc[i]*100)/(Italy_ssr_5[\"Produced Quantity\"].iloc[i] + Italy_ssr_5[\"Imported Quantity\"].iloc[i] - Italy_ssr_5[\"Exported Quantity\"].iloc[i]))\n",
    "\n",
    "Italy_ssr_5[\"SSR\"]=SSR_list_I_5"
   ]
  },
  {
   "cell_type": "code",
   "execution_count": null,
   "metadata": {},
   "outputs": [],
   "source": [
    "Austria_clear_ = Austria_data[Austria_data.Item.isin(keep)]\n",
    "\n",
    "Austria_ssr_5 = Austria_clear_.groupby(\"Year\")\\\n",
    "                .agg({'Produced Quantity':'sum','Exported Quantity':'sum','Imported Quantity':'sum'})\\\n",
    "                .reset_index()\n",
    "SSR_list_A_5=[]\n",
    "for i in range(0, Austria_ssr_5.shape[0]):\n",
    "    SSR_list_A_5.append((Austria_ssr_5[\"Produced Quantity\"].iloc[i]*100)/(Austria_ssr_5[\"Produced Quantity\"].iloc[i] + Austria_ssr_5[\"Imported Quantity\"].iloc[i] - Austria_ssr_5[\"Exported Quantity\"].iloc[i]))\n",
    "\n",
    "Austria_ssr_5[\"SSR\"]=SSR_list_A_5"
   ]
  },
  {
   "cell_type": "code",
   "execution_count": null,
   "metadata": {},
   "outputs": [],
   "source": [
    "plt.figure(figsize=(20,10))\n",
    "plt.plot( 'Year', 'SSR', data=Austria_ssr_5, marker='', color='green',  label = 'Austria')\n",
    "plt.plot( 'Year', 'SSR', data=France_ssr_5, marker='', color='skyblue', label = 'France')\n",
    "plt.plot( 'Year', 'SSR', data=CH_ssr_5, marker='', color='red', label = 'Switzerland', linewidth=3)\n",
    "plt.plot( 'Year', 'SSR', data=Germany_ssr_5, marker='', color='orange', label = 'Germany')\n",
    "plt.plot( 'Year', 'SSR', data=Italy_ssr_5, marker='', color='grey', label = 'Italy')\n",
    "    \n",
    "plt.legend() \n",
    "plt.title('Evolution of the SSR over the years for the 7 main proucts' , fontsize= 20)\n",
    "plt.xlabel(\"Year\", fontsize= 20)\n",
    "plt.ylabel(\"SSR value in %\", fontsize= 20)\n",
    "plt.show()"
   ]
  },
  {
   "cell_type": "markdown",
   "metadata": {},
   "source": [
    "<div class=\"alert alert-block alert-info\">\n",
    "    \n",
    "This time it is Italy which have the lower SSR over the years. The SSR of Switzerland is still around 90 % but seems to decrease during the last years. \n",
    "    \n",
    "The SSR of France is still very high, same possible explanations as before. \n",
    "    \n",
    "Germany and Austria have similar SSR.\n",
    "    \n",
    "Which version do you want to keep????"
   ]
  },
  {
   "cell_type": "code",
   "execution_count": null,
   "metadata": {},
   "outputs": [],
   "source": []
  },
  {
   "cell_type": "code",
   "execution_count": null,
   "metadata": {},
   "outputs": [],
   "source": []
  },
  {
   "cell_type": "code",
   "execution_count": null,
   "metadata": {},
   "outputs": [],
   "source": []
  },
  {
   "cell_type": "code",
   "execution_count": null,
   "metadata": {},
   "outputs": [],
   "source": []
  },
  {
   "cell_type": "markdown",
   "metadata": {},
   "source": [
    "## Switzerland importations and exportations network\n",
    "\n",
    "We want to know which country are the main partners of Switzerland "
   ]
  },
  {
   "cell_type": "markdown",
   "metadata": {},
   "source": [
    " </div> <div class=\"alert alert-block alert-danger\">\n",
    "Select all the products that Switzerland only produces and doesn't export."
   ]
  },
  {
   "cell_type": "code",
   "execution_count": null,
   "metadata": {
    "scrolled": true
   },
   "outputs": [],
   "source": [
    "CH_imports.loc[~CH_imports.Item.isin(CH_data_transformed.Item.unique())].Item.unique()"
   ]
  },
  {
   "cell_type": "code",
   "execution_count": null,
   "metadata": {},
   "outputs": [],
   "source": [
    "CH_data_transformed.Item.unique()"
   ]
  },
  {
   "cell_type": "markdown",
   "metadata": {},
   "source": [
    " </div> <div class=\"alert alert-block alert-danger\">\n",
    "    \n",
    "Select only the ones that are non-processed and non-animal food"
   ]
  },
  {
   "cell_type": "code",
   "execution_count": null,
   "metadata": {},
   "outputs": [],
   "source": [
    "import_selection = [\n",
    "        'Grapefruit (inc. pomelos)', 'Oranges',\n",
    "       'Pineapples', 'Anise, badian, fennel, coriander', \n",
    "        'Avocados', 'Bananas','Cashew nuts, with shell', \n",
    "        'Dates', 'Eggplants (aubergines)',\n",
    "        'Lemons and limes', 'Lentils','Nutmeg, mace and cardamoms',\n",
    "        'Persimmons','Rice - total  (Rice milled equivalent)', 'Rice, milled',\n",
    "       'Roots and tubers nes','Watermelons','Coconuts',\n",
    "       'Figs', 'Mangoes, mangosteens, guavas', \n",
    "       'Plantains and others', 'Sweet potatoes','Cranberries'\n",
    "       'Fruit, tropical fresh nes', 'Sesame seed', 'Sorghum',\n",
    "        'Chick peas', 'Cocoa, beans', 'Ginger','Hazelnuts, with shell',\n",
    "        'Nuts nes','Papayas','Quinoa', \n",
    "        'Tangerines, mandarins, clementines, satsumas',\n",
    "        'Almonds, with shell', 'Bambara beans', 'Brazil nuts, shelled',\n",
    "       'Cashew nuts, shelled','Mustard seed','Vanilla',\n",
    "        'Cinnamon (cannella)','Cloves', 'Olives', \n",
    "        'Pistachios', 'Kola nuts', 'Areca nuts',\n",
    "    \n",
    "\n",
    "     ]"
   ]
  },
  {
   "cell_type": "markdown",
   "metadata": {},
   "source": [
    " </div> <div class=\"alert alert-block alert-danger\">\n",
    "This selection is if you want to plot the biggest partner countries for products that are also produced in Switzerland (you need to change the variable below accordingly then)"
   ]
  },
  {
   "cell_type": "code",
   "execution_count": null,
   "metadata": {},
   "outputs": [],
   "source": [
    "production_selection = ['Apples', 'Apricots', 'Artichokes', 'Asparagus', 'Barley',\n",
    "       'Beans, green', 'Broad beans, horse beans, dry',\n",
    "       'Cabbages and other brassicas', 'Carrots and turnips',\n",
    "       'Cauliflowers and broccoli', 'Cherries', 'Chestnut',\n",
    "       'Chillies and peppers, green', 'Cucumbers and gherkins',\n",
    "       'Currants', 'Fruit, fresh nes', 'Garlic', 'Gooseberries', 'Grapes',\n",
    "       'Hops', 'Kiwi fruit', 'Leeks, other alliaceous vegetables',\n",
    "       'Lettuce and chicory', 'Linseed', 'Maize',\n",
    "       'Melons, other (inc.cantaloupes)', 'Millet',\n",
    "       'Mushrooms and truffles', 'Oats', 'Oilseeds nes', 'Onions, dry',\n",
    "       'Onions, shallots, green', 'Peaches and nectarines', 'Pears',\n",
    "       'Peas, dry', 'Peas, green', 'Plums and sloes', 'Potatoes',\n",
    "       'Pumpkins, squash and gourds', 'Quinces', 'Rapeseed', 'Rye',\n",
    "       'Soybeans', 'Spinach', 'Strawberries', 'Sugar beet',\n",
    "       'Sunflower seed', 'Tobacco, unmanufactured', 'Tomatoes',\n",
    "       'Triticale', 'Vegetables, fresh nes', 'Walnuts, with shell',\n",
    "       'Wheat']"
   ]
  },
  {
   "cell_type": "markdown",
   "metadata": {},
   "source": [
    " </div> <div class=\"alert alert-block alert-danger\">\n",
    "    \n",
    "This below allows to plot the imporations for the top 6 products produced in Switzerland (don't run the cell below if you want to show the most imported products)"
   ]
  },
  {
   "cell_type": "code",
   "execution_count": null,
   "metadata": {},
   "outputs": [],
   "source": [
    "# run only if needed!\n",
    "top6=['Maize','Sugar beet','Potatoes','Wheat','Barley','Grapes', 'Apples']\n",
    "import_selection = top6"
   ]
  },
  {
   "cell_type": "code",
   "execution_count": null,
   "metadata": {},
   "outputs": [],
   "source": [
    "CH_trade_import_selection = CH_trade_network.loc[CH_trade_network.Item.isin(import_selection)]"
   ]
  },
  {
   "cell_type": "code",
   "execution_count": null,
   "metadata": {},
   "outputs": [],
   "source": [
    "CH_trade_import_selection = CH_trade_import_selection[['Element','Reporter Countries','Partner Countries', 'Item', 'Value', 'Year']]"
   ]
  },
  {
   "cell_type": "markdown",
   "metadata": {},
   "source": [
    " </div> <div class=\"alert alert-block alert-danger\">\n",
    "\n",
    "Sum all these items importations for each year"
   ]
  },
  {
   "cell_type": "code",
   "execution_count": null,
   "metadata": {},
   "outputs": [],
   "source": [
    "sum_trade = CH_trade_import_selection.groupby([\"Element\",\"Partner Countries\",\"Reporter Countries\", 'Year']).agg({'Value':'sum'})\\\n",
    "                                    .reset_index()\n",
    "sum_trade.sort_values(by='Value', ascending=False).head()\n"
   ]
  },
  {
   "cell_type": "markdown",
   "metadata": {},
   "source": [
    " </div> <div class=\"alert alert-block alert-danger\">\n",
    "    \n",
    "Display the countries 20 with which Switzerland imports the most of theses products in 2017"
   ]
  },
  {
   "cell_type": "code",
   "execution_count": null,
   "metadata": {},
   "outputs": [],
   "source": [
    "import networkx as nx\n",
    "\n",
    "G=nx.from_pandas_edgelist(sum_trade.loc[sum_trade.Element=='Import Quantity'].loc[sum_trade.Year==2017].sort_values(by='Value', ascending=False)[:20], 'Reporter Countries', 'Partner Countries', edge_attr=['Value'], create_using=nx.Graph())\n",
    " \n",
    "# Plot it\n",
    "nx.draw(G, with_labels=True, k=1, alpha=0.8, node_size=(sum_trade.loc[sum_trade.Element=='Import Quantity'].loc[sum_trade.Year==2017].sort_values(by='Value', ascending=False)[:21].Value)/50)\n",
    "plt.show()\n",
    "limits=plt.axis('off')\n"
   ]
  },
  {
   "cell_type": "markdown",
   "metadata": {},
   "source": [
    " </div> <div class=\"alert alert-block alert-danger\">\n",
    "    \n",
    " Display the countries 20 with which Switzerland imports the most of theses products in each year (interactive)"
   ]
  },
  {
   "cell_type": "code",
   "execution_count": null,
   "metadata": {},
   "outputs": [],
   "source": [
    "world_countries_path = '../data/countries.csv'\n",
    "world_countries = pd.read_csv(world_countries_path)\n",
    "world_countries.rename(columns={'name':'Partner Countries'}, inplace=True)\n"
   ]
  },
  {
   "cell_type": "markdown",
   "metadata": {},
   "source": [
    " </div> <div class=\"alert alert-block alert-danger\">\n",
    "    \n",
    "Modify the names of some countries which don't correspond to their names in the trade dataset"
   ]
  },
  {
   "cell_type": "code",
   "execution_count": null,
   "metadata": {},
   "outputs": [],
   "source": [
    "world_countries.at[235, 'Partner Countries']='Viet Nam'\n",
    "world_countries.at[27, 'Partner Countries']= 'Bolivia (Plurinational State of)'\n",
    "world_countries.at[92, 'Partner Countries']= 'China, Hong Kong SAR'\n",
    "world_countries.at[222, 'Partner Countries']= 'China, Taiwan Province of'\n",
    "world_countries.at[45, 'Partner Countries']= 'China, mainland'\n",
    "world_countries.at[37, 'Partner Countries']= 'Democratic Republic of the Congo'\n",
    "world_countries.at[52, 'Partner Countries']= 'Czechia'\n",
    "world_countries.at[39, 'Partner Countries']= 'Congo'\n",
    "world_countries.at[41, 'Partner Countries']= \"Côte d'Ivoire\"\n",
    "world_countries.at[207, 'Partner Countries']= 'Eswatini'\n",
    "world_countries.at[105, 'Partner Countries']= 'Iran (Islamic Republic of)'\n",
    "world_countries.at[142, 'Partner Countries']= 'Myanmar'\n",
    "world_countries.at[140, 'Partner Countries']= 'North Macedonia'\n",
    "world_countries.at[179, 'Partner Countries']= 'Palestine'\n",
    "world_countries.at[119, 'Partner Countries']= 'Republic of Korea'\n",
    "world_countries.at[136, 'Partner Countries']= 'Republic of Moldova'\n",
    "world_countries.at[187, 'Partner Countries']= 'Russian Federation'\n",
    "world_countries.at[206, 'Partner Countries']= 'Syrian Arab Republic'\n",
    "world_countries.at[223, 'Partner Countries']= 'United Republic of Tanzania'\n",
    "world_countries.at[227, 'Partner Countries']= 'United States of America'\n",
    "world_countries.at[232, 'Partner Countries']= 'Venezuela (Bolivarian Republic of)'"
   ]
  },
  {
   "cell_type": "code",
   "execution_count": null,
   "metadata": {},
   "outputs": [],
   "source": [
    "world_countries.set_index('Partner Countries', inplace=True)\n",
    "world_countries.drop(columns='country', inplace=True)"
   ]
  },
  {
   "cell_type": "code",
   "execution_count": null,
   "metadata": {},
   "outputs": [],
   "source": [
    "sum_trade_geo = sum_trade.join(world_countries,on='Partner Countries', how='left')\n",
    "sum_trade_geo.dropna(how='any', inplace=True)"
   ]
  },
  {
   "cell_type": "code",
   "execution_count": null,
   "metadata": {},
   "outputs": [],
   "source": [
    "sum_import_geo= sum_trade_geo.loc[sum_trade_geo.Element=='Import Quantity']"
   ]
  },
  {
   "cell_type": "code",
   "execution_count": null,
   "metadata": {},
   "outputs": [],
   "source": [
    "sum_trade_geo = sum_trade.join(world_countries,on='Partner Countries', how='left')\n",
    "sum_trade_geo.dropna(how='any', inplace=True)"
   ]
  },
  {
   "cell_type": "code",
   "execution_count": null,
   "metadata": {},
   "outputs": [],
   "source": [
    "sum_import_geo= sum_trade_geo.loc[sum_trade_geo.Element=='Import Quantity']"
   ]
  },
  {
   "cell_type": "code",
   "execution_count": null,
   "metadata": {},
   "outputs": [],
   "source": [
    "# just useful for the size of the circles on the map\n",
    "sum_import_geo['stroke'] = sum_import_geo.Value.apply(lambda x: False if x==0 else True)"
   ]
  },
  {
   "cell_type": "code",
   "execution_count": null,
   "metadata": {},
   "outputs": [],
   "source": [
    " def viz_evolution(year):\n",
    "    df_viz_evolution = sum_import_geo.loc[sum_import_geo['Year']==year].sort_values(by='Value', ascending=False)[:10]\n",
    "    \n",
    "    # multiple line plot\n",
    "    plt.figure(figsize=(20,10))\n",
    "    plt.barh(df_viz_evolution['Partner Countries'][::-1].values, df_viz_evolution.Value[::-1])\n",
    "    \n",
    "    plt.title(f'Imports of Switzerland in {year}', fontsize= 20)\n",
    "    plt.xlabel(\"Quantity (in tonnes)\", fontsize= 20)\n",
    "    plt.ylabel(\"Country\", fontsize= 20)\n",
    "    plt.show()\n",
    "\n",
    "\n",
    "years = sum_import_geo.sort_values(by='Year').Year.unique()\n",
    "interact(viz_evolution, year = years)    "
   ]
  },
  {
   "cell_type": "markdown",
   "metadata": {},
   "source": [
    " </div> <div class=\"alert alert-block alert-danger\">\n",
    "    \n",
    "Now display those on a map"
   ]
  },
  {
   "cell_type": "markdown",
   "metadata": {},
   "source": [
    " </div> <div class=\"alert alert-block alert-danger\">\n",
    "    \n",
    "The map is for year 2017."
   ]
  },
  {
   "cell_type": "code",
   "execution_count": null,
   "metadata": {},
   "outputs": [],
   "source": [
    "sum_import_geo_2017 = sum_import_geo.loc[sum_import_geo['Year']==2017]"
   ]
  },
  {
   "cell_type": "code",
   "execution_count": null,
   "metadata": {},
   "outputs": [],
   "source": [
    "m2 = folium.Map(location=[48, 0], zoom_start=2)\n",
    "#world_geo_path = '../data/countries.geo.json'\n",
    "#world_geo = json.load(open(world_geo_path))\n",
    "for i in range(0,len(sum_import_geo_2017)):\n",
    "    folium.Circle(\n",
    "      location= [sum_import_geo_2017.iloc[i]['latitude'], str(sum_import_geo_2017.iloc[i]['longitude'])],\n",
    "      tooltip='%s : %s' %(sum_import_geo_2017.iloc[i]['Partner Countries'],str(sum_import_geo_2017.iloc[i]['Value'])),\n",
    "      radius=int(sum_import_geo_2017.iloc[i]['Value'])*8,\n",
    "      color='crimson',\n",
    "      stroke= bool(sum_import_geo_2017.iloc[i]['stroke']),\n",
    "      fill=True,\n",
    "      fill_color='crimson' \n",
    "    ).add_to(m2)\n",
    "\n",
    "folium.LayerControl().add_to(m2)\n",
    "\n",
    "m2"
   ]
  },
  {
   "cell_type": "code",
   "execution_count": null,
   "metadata": {},
   "outputs": [],
   "source": [
    "m2.save('../doc/map_import.html') #map saved as html file in doc folder."
   ]
  },
  {
   "cell_type": "code",
   "execution_count": null,
   "metadata": {},
   "outputs": [],
   "source": []
  },
  {
   "cell_type": "code",
   "execution_count": null,
   "metadata": {},
   "outputs": [],
   "source": []
  },
  {
   "cell_type": "code",
   "execution_count": null,
   "metadata": {},
   "outputs": [],
   "source": [
    "CH_trade_selection_sum = CH_trade2.loc[CH_trade2.Item.isin(import_selection)].groupby(['Element','Year']) \\\n",
    "                                .agg({'Value':'sum'}) \\\n",
    "                                .rename(columns={'Value':'Sum'}) \\\n",
    "                                .reset_index()"
   ]
  },
  {
   "cell_type": "markdown",
   "metadata": {},
   "source": [
    " </div> <div class=\"alert alert-block alert-danger\">\n",
    "    \n",
    "The top 6 is what is used by the functions below to produce the plot, but you can change it to plot top_traditional, or top_fancy"
   ]
  },
  {
   "cell_type": "code",
   "execution_count": null,
   "metadata": {},
   "outputs": [],
   "source": [
    "top6 = ['Apples','Wheat','Potatoes', 'Maize', 'Apples', 'Barley','Grapes']"
   ]
  },
  {
   "cell_type": "code",
   "execution_count": null,
   "metadata": {},
   "outputs": [],
   "source": [
    "top_traditional = ['Cabbages and other brassicas', 'Carrots and turnips', 'Cauliflowers and broccoli', 'Leeks, other alliaceous vegetables', 'Lettuce and chicory', 'Onions, dry','Onions, shallots, green', 'Apples','Wheat','Potatoes', 'Maize', 'Grapes', 'Barley', 'Sugar beet']\n"
   ]
  },
  {
   "cell_type": "code",
   "execution_count": null,
   "metadata": {},
   "outputs": [],
   "source": [
    "top_fancy = ['Apricots', 'Artichokes', 'Asparagus',\n",
    "       'Cherries',\n",
    "       'Chillies and peppers, green', 'Cucumbers and gherkins',\n",
    "       'Garlic',\n",
    "       'Kiwi fruit', 'Melons, other (inc.cantaloupes)',\n",
    "       'Mushrooms and truffles',\n",
    "       'Peaches and nectarines', 'Pears',\n",
    "       'Spinach', 'Strawberries',\n",
    "       'Tomatoes']"
   ]
  },
  {
   "cell_type": "code",
   "execution_count": null,
   "metadata": {},
   "outputs": [],
   "source": [
    "CH_top6_production = CH_data_transformed.loc[CH_data_transformed.Item.isin(top6)].loc[CH_data_transformed.Input=='Country production']\n",
    "CH_top6_production_sum = CH_top6_production.groupby(['Area', 'Element','Year']) \\\n",
    "                                .agg({'Value':'sum'}) \\\n",
    "                                .rename(columns={'Value':'Sum'}) \\\n",
    "                                .reset_index()\n",
    "\n",
    "CH_top6_importation = CH_data_transformed.loc[CH_data_transformed.Item.isin(top6)].loc[CH_data_transformed.Input=='Importation']\n",
    "CH_top6_importation_sum = CH_top6_importation.groupby(['Area', 'Element','Year']) \\\n",
    "                                .agg({'Value':'sum'}) \\\n",
    "                                .rename(columns={'Value':'Sum'}) \\\n",
    "                                .reset_index()"
   ]
  },
  {
   "cell_type": "code",
   "execution_count": null,
   "metadata": {},
   "outputs": [],
   "source": [
    "CH_top6_exportation = CH_data_transformed_exportations.loc[CH_data_transformed_exportations.Item.isin(top6)]\n",
    "CH_top6_exportation_sum = CH_top6_exportation.groupby(['Area', 'Element','Year']) \\\n",
    "                                .agg({'Value':'sum'}) \\\n",
    "                                .rename(columns={'Value':'Sum'}) \\\n",
    "                                .reset_index()\n"
   ]
  },
  {
   "cell_type": "code",
   "execution_count": null,
   "metadata": {},
   "outputs": [],
   "source": [
    "crops_sum_item = raw_CH_crops_dataset.groupby(['Area', 'Element','Year', 'Item']) \\\n",
    "                                .agg({'Value':'sum'}) \\\n",
    "                                .rename(columns={'Value':'Sum'}) \\\n",
    "                                .reset_index()"
   ]
  },
  {
   "cell_type": "code",
   "execution_count": null,
   "metadata": {},
   "outputs": [],
   "source": [
    "area_yield_top6 = crops_sum_item.loc[crops_sum_item.Area=='Switzerland'].loc[crops_sum_item.Item.isin(top6)].loc[crops_sum_item.Year>=1986].loc[crops_sum_item.Year<=2017]"
   ]
  },
  {
   "cell_type": "code",
   "execution_count": null,
   "metadata": {},
   "outputs": [],
   "source": [
    "area_yield_top6_sum = area_yield_top6.groupby(['Element', 'Year'])\\\n",
    "                                .agg({'Sum':'sum'})\\\n",
    "                                .reset_index()"
   ]
  },
  {
   "cell_type": "code",
   "execution_count": null,
   "metadata": {},
   "outputs": [],
   "source": [
    "CH_urban_land = raw_land_cover_dataset.loc[raw_land_cover_dataset.Area=='Switzerland'].loc[raw_land_cover_dataset.Item=='Artificial surfaces (including urban and associated areas)'].loc[raw_land_cover_dataset.Element=='Area from CCI_LC'].Surface\n",
    "CH_urban_land=CH_urban_land*1000"
   ]
  },
  {
   "cell_type": "code",
   "execution_count": null,
   "metadata": {},
   "outputs": [],
   "source": [
    "start_CH_urban_land = pd.Series([0,0,0,0,0,0])\n",
    "end_CH_urban_land = pd.Series([0,0])\n",
    "CH_urban_land_completed = start_CH_urban_land.append(CH_urban_land).append(end_CH_urban_land)"
   ]
  },
  {
   "cell_type": "code",
   "execution_count": null,
   "metadata": {},
   "outputs": [],
   "source": [
    "fig, ax1 = plt.subplots(figsize=(12,8))\n",
    "\n",
    "ind = CH_top6_production_sum.Year\n",
    "width = 0.35       # the width of the bars: can also be len(x) sequence\n",
    "\n",
    "p1 = ax1.bar(ind, CH_top6_production_sum.Sum, width)\n",
    "p2 = ax1.bar(ind, CH_top6_importation_sum.Sum, width,\n",
    "             bottom=CH_top6_production_sum.Sum)\n",
    "p3 = ax1.bar(ind, CH_top6_exportation_sum.Sum, width, bottom=CH_top6_importation_sum.Sum+CH_top6_production_sum.Sum)\n",
    "ax2=ax1.twinx()\n",
    "p4 = ax2.plot(ind, data_demography, color='red')\n",
    "\n",
    "ax3 = ax1.twinx()\n",
    "ax3.spines[\"right\"].set_position((\"axes\", 1.2))\n",
    "p5 = ax3.plot(ind, area_yield_top6_sum.loc[area_yield_top6_sum.Element=='Area harvested'].Sum, color='lime')\n",
    "\n",
    "ax4 = ax3.twiny()\n",
    "ax4.tick_params(axis='x', which='both', top='off', bottom='off', labelbottom='off', labeltop='off')\n",
    "#ax4.spines[\"right\"].set_position((\"axes\", 1.2))\n",
    "p6 = ax4.plot(ind, CH_urban_land_completed, color='black')\n",
    "\n",
    "ax1.set_ylabel('Quantity [tonnes]')\n",
    "ax2.set_ylabel('Population')\n",
    "ax3.set_ylabel('Area harvested [Ha]')\n",
    "ax4.set_ylabel('Urban area')\n",
    "ax1.set_title('Parts of production and importations of 7 main products and population')\n",
    "plt.xticks()\n",
    "plt.yticks()\n",
    "plt.legend((p1[0], p2[0], p3[0], p4[0], p5[0], p6[0]), ('Production', 'Importation', 'Exportation', 'Population', 'Area harvested', 'Urban area'))\n",
    "\n",
    "plt.show()"
   ]
  },
  {
   "cell_type": "code",
   "execution_count": null,
   "metadata": {},
   "outputs": [],
   "source": [
    "fig, ax1 = plt.subplots(figsize=(12,8))\n",
    "\n",
    "ind = CH_trade_selection_sum.Year.unique()\n",
    "width = 0.35       # the width of the bars: can also be len(x) sequence\n",
    "\n",
    "p1 = ax1.bar(ind, CH_trade_selection_sum.loc[CH_trade_selection_sum.Element=='Import Quantity'].Sum, width, color='darkorange')\n",
    "p2 = ax1.bar(ind, CH_trade_selection_sum.loc[CH_trade_selection_sum.Element=='Export Quantity'].Sum, width, color='green',\n",
    "             bottom=CH_trade_selection_sum.loc[CH_trade_selection_sum.Element=='Import Quantity'].Sum)\n",
    "\n",
    "ax2=ax1.twinx()\n",
    "p3 = ax2.plot(ind, data_demography, color='blue')\n",
    "\n",
    "\n",
    "\n",
    "ax1.set_ylabel('Quantity [tonnes]')\n",
    "ax2.set_ylabel('Population')\n",
    "ax1.set_title('Parts of importations and exportations of more exotic products and population')\n",
    "plt.xticks()\n",
    "plt.yticks()\n",
    "plt.legend((p1[0], p2[0], p3[0]), ('Importation', 'Exportation', 'Population'))\n",
    "\n",
    "plt.show()"
   ]
  },
  {
   "cell_type": "code",
   "execution_count": null,
   "metadata": {},
   "outputs": [],
   "source": []
  },
  {
   "cell_type": "code",
   "execution_count": null,
   "metadata": {},
   "outputs": [],
   "source": []
  },
  {
   "cell_type": "code",
   "execution_count": null,
   "metadata": {},
   "outputs": [],
   "source": []
  },
  {
   "cell_type": "markdown",
   "metadata": {},
   "source": [
    "\n",
    "We can make 3 differents networks graphes, weighted in different manners:\n",
    "\n",
    "    - according to quantity exchanged\n",
    "    -according to number of times they are linked\n",
    "    -accrding by the variety of products exchanged\n",
    "    \n",
    "I choose the first one. So i can get rid off the columns year, units, and item. The network will show the best partners from 1985 to 2016 for all products. \n",
    "\n",
    "The netork graph is also directed (Importation towards Switzerland and Exportations towards the partner country)   "
   ]
  },
  {
   "cell_type": "code",
   "execution_count": null,
   "metadata": {},
   "outputs": [],
   "source": [
    "#compute the weights\n",
    "weights= CH_trade_network.groupby([\"Element\",\"Partner Countries\",\"Reporter Countries\"]).agg({'Value':'sum'})\\\n",
    "                                    .reset_index()\n",
    "\n",
    "weights.sort_values(by='Value', ascending = False).head(20)"
   ]
  },
  {
   "cell_type": "markdown",
   "metadata": {},
   "source": [
    "<div class=\"alert alert-block alert-success\">\n",
    "\n",
    "France, Italy, Germany, Spain an Netherlands are the biggest Importer countries for Switzerland when we look at the quantity imported over the years. \n",
    "France, Germany, Austria Italy and the United States are the biggest partner exporters of Switzerland. \n",
    "    "
   ]
  },
  {
   "cell_type": "code",
   "execution_count": null,
   "metadata": {},
   "outputs": [],
   "source": [
    "# Helper function for printing various graph properties\n",
    "def describe_graph(G):\n",
    "    print(nx.info(G))\n",
    "    if nx.is_connected(G):\n",
    "        print(\"Avg. Shortest Path Length: %.4f\" %nx.average_shortest_path_length(G))\n",
    "        print(\"Diameter: %.4f\" %nx.diameter(G)) # Longest shortest path\n",
    "    else:\n",
    "        print(\"Graph is not connected\")\n",
    "        print(\"Diameter and Avg shortest path length are not defined!\")\n",
    "    print(\"Sparsity: %.4f\" %nx.density(G))  # #edges/#edges-complete-graph\n",
    "    # #closed-triplets(3*#triangles)/#all-triplets\n",
    "    print(\"Global clustering coefficient aka Transitivity: %.4f\" %nx.transitivity(G))"
   ]
  },
  {
   "cell_type": "code",
   "execution_count": null,
   "metadata": {},
   "outputs": [],
   "source": [
    "import networkx as nx\n",
    "\n",
    "G=nx.from_pandas_edgelist(weights, 'Reporter Countries', 'Partner Countries', edge_attr=['Value'], create_using=nx.Graph())\n",
    " \n",
    "# Plot it\n",
    "nx.draw(G, with_labels=True, k=1, alpha=0.8)\n",
    "#plt.size(18.5, 10.5)\n",
    "plt.show()\n"
   ]
  },
  {
   "cell_type": "code",
   "execution_count": null,
   "metadata": {},
   "outputs": [],
   "source": [
    "print(nx.info(G))"
   ]
  },
  {
   "cell_type": "code",
   "execution_count": null,
   "metadata": {},
   "outputs": [],
   "source": [
    "describe_graph(G)  "
   ]
  },
  {
   "cell_type": "markdown",
   "metadata": {},
   "source": [
    "To make it more readable, we decide to keep only the 20 biggest partners in exportations and importations."
   ]
  },
  {
   "cell_type": "code",
   "execution_count": null,
   "metadata": {},
   "outputs": [],
   "source": [
    "weights = weights.sort_values(by='Value', ascending = False).head(20)\n",
    "\n",
    "G2=nx.from_pandas_edgelist(weights[:20], 'Reporter Countries', 'Partner Countries', edge_attr=['Value'], create_using=nx.Graph())\n",
    " \n",
    "# Plot it\n",
    "nx.draw(G2, with_labels=True, k=0.05, alpha=0.8)\n",
    "#plt.size(18.5, 10.5)\n",
    "plt.show()"
   ]
  },
  {
   "cell_type": "code",
   "execution_count": null,
   "metadata": {},
   "outputs": [],
   "source": [
    "print(nx.info(G2))"
   ]
  },
  {
   "cell_type": "code",
   "execution_count": null,
   "metadata": {},
   "outputs": [],
   "source": [
    "describe_graph(G2) "
   ]
  },
  {
   "cell_type": "markdown",
   "metadata": {},
   "source": [
    "<div class=\"alert alert-block alert-warning\">\n",
    "    Pas fini j'ai pas reussi a faire directed parce que j'ai dans la meme colonne du tableau imported and exported il faudrait séparer en 2 differentes colones ds le genre :\n",
    "create new_df avec colonne from et colonne to et colone weight\n",
    "    \n",
    "    iterate on the old dataframe raws:\n",
    "    if imported :  to = Switzerland and from = Partner country and weight = value\n",
    "    if exported : to= Partner country and from = Switzerland and weight = value \n",
    "    et apres faire \n",
    "    G=nx.from_pandas_edgelist(new_df, 'from', 'to', edge_attr=['weight'], create_using=nx.DiGraph())\n",
    "    \n",
    "    et la ca serait juste\n",
    "    et on garderai seulement les 20 plus importants sinon c'est ilisible. \n",
    "    Vous pensez ca vaut la peine de faire ou on va pas utiliser????\n",
    "    \n",
    "    "
   ]
  },
  {
   "cell_type": "code",
   "execution_count": null,
   "metadata": {},
   "outputs": [],
   "source": [
    "To_list=[]\n",
    "From_list=[]\n",
    "Weight_list=[]\n",
    "\n",
    "for i in range(0, weights.shape[0]):\n",
    "    if weights.Element.iloc[i] == \"Import Quantity\":\n",
    "        To_list.append(\"Switzerland\")\n",
    "        From_list.append(weights[\"Partner Countries\"].iloc[i])\n",
    "        Weight_list.append(weights.Value.iloc[i])\n",
    "    if weights.Element.iloc[i] == \"Export Quantity\":\n",
    "        To_list.append(weights[\"Partner Countries\"].iloc[i])\n",
    "        From_list.append(\"Switzerland\")\n",
    "        Weight_list.append(weights.Value.iloc[i])\n",
    "        \n",
    "trade_network_df= pd.DataFrame({'To': To_list, 'From': From_list, 'weight': Weight_list})\n",
    "trade_network_df = trade_network_df.sort_values(by='weight', ascending = False)\n",
    "trade_network_df[\"Logarithmic weight\"] = trade_network_df.weight.apply(lambda x: np.log(x))"
   ]
  },
  {
   "cell_type": "markdown",
   "metadata": {},
   "source": [
    "<div class=\"alert alert-block alert-info\">\n",
    "\n",
    "Main importation partners are: France, Germany, Italy, Spain, Netherlands, Brasil and Austria.\n",
    "    \n",
    "Main exportation partners are : France, Germany, Austria, United States and Italy.\n"
   ]
  },
  {
   "cell_type": "code",
   "execution_count": null,
   "metadata": {},
   "outputs": [],
   "source": [
    "G3=nx.from_pandas_edgelist(trade_network_df[:10], 'To', 'From', edge_attr=['Logarithmic weight'], create_using=nx.DiGraph())\n",
    "\n",
    "fig = plt.figure()\n",
    "nx.draw_networkx(G3, node_size=500, with_labels=True, k=0.05, alpha=0.8)\n",
    "limits=plt.axis('off')\n",
    "fig.set_facecolor(\"white\")\n",
    "plt.show()"
   ]
  },
  {
   "cell_type": "markdown",
   "metadata": {},
   "source": [
    "# Trade partners of Switzerland"
   ]
  },
  {
   "cell_type": "markdown",
   "metadata": {},
   "source": [
    "<div class=\"alert alert-block alert-info\">\n",
    "\n",
    "Main importation partners are: France, Germany, Italy, Spain, Netherlands, Brasil and Austria.\n",
    "    \n",
    "Main exportation partners are : France, Germany, Austria, United States and Italy.\n",
    "\n"
   ]
  },
  {
   "cell_type": "code",
   "execution_count": null,
   "metadata": {},
   "outputs": [],
   "source": [
    "G4=nx.from_pandas_edgelist(trade_network_df[:20], 'To', 'From', edge_attr=['Logarithmic weight'], create_using=nx.DiGraph())\n",
    " \n",
    "fig = plt.figure()\n",
    "nx.draw_shell(G4, node_size=500, with_labels=True, k=0.05, alpha=0.8)\n",
    "limits=plt.axis('off')\n",
    "fig.set_facecolor(\"white\")\n",
    "plt.show()"
   ]
  },
  {
   "cell_type": "markdown",
   "metadata": {},
   "source": [
    "<div class=\"alert alert-block alert-info\">\n",
    "The weight of the link between countries is given by the thickness of the edge. "
   ]
  },
  {
   "cell_type": "markdown",
   "metadata": {},
   "source": [
    "## E. Compute the predictive model (ReadMe)"
   ]
  }
 ],
 "metadata": {
  "kernelspec": {
   "display_name": "Python 3",
   "language": "python",
   "name": "python3"
  },
  "language_info": {
   "codemirror_mode": {
    "name": "ipython",
    "version": 3
   },
   "file_extension": ".py",
   "mimetype": "text/x-python",
   "name": "python",
   "nbconvert_exporter": "python",
   "pygments_lexer": "ipython3",
   "version": "3.7.4"
  }
 },
 "nbformat": 4,
 "nbformat_minor": 4
}

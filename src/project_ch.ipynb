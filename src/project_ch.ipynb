{
 "cells": [
  {
   "cell_type": "markdown",
   "metadata": {},
   "source": [
    "# ADA Project - Insight into Switzerland agriculture production \n",
    "\n",
    "We will focus on Switzerland compared to its neighbours. We would like to know if Switzerland could be self-sufficient in term of food production. \n",
    "\n",
    "- What does Switzerland produce and in which quantity? \n",
    "- What about the amount of importations/exportations?\n",
    "- Are all Switzerland areas optimally harvested?\n",
    "- Limks to population size\n",
    "- How is the Swiss productiviy trend evolving, is it correlated with external factors such as temperature, fertilizer use?\n",
    "\n",
    "Then we will make comparaisons between Switzerland and its neighbours. Does CH import more than its neighbours (due to its small size ?) ?\n",
    "\n",
    "Is food selfsuffience of CH realistic ? How many farmer would it need ?\n"
   ]
  },
  {
   "cell_type": "code",
   "execution_count": null,
   "metadata": {},
   "outputs": [],
   "source": [
    "%matplotlib inline\n",
    "import numpy as np\n",
    "import matplotlib.pyplot as plt\n",
    "import pandas as pd\n",
    "import folium"
   ]
  },
  {
   "cell_type": "markdown",
   "metadata": {},
   "source": [
    "## Data loading - Crops \n",
    "\n",
    "This dataset represents our start line, as it is the one we choose from the course's list.\n",
    "\n",
    "File contains data about Switzerland and neighbours (Italy, Germany, France, Austria and Liechtenstein)"
   ]
  },
  {
   "cell_type": "code",
   "execution_count": null,
   "metadata": {},
   "outputs": [],
   "source": [
    "raw_CH_crops_dataset = pd.read_csv('../data/FAOSTAT_data_crops_CHandNeighbours.csv')"
   ]
  },
  {
   "cell_type": "markdown",
   "metadata": {},
   "source": [
    "Let's explore the structure of our dataset :"
   ]
  },
  {
   "cell_type": "code",
   "execution_count": null,
   "metadata": {},
   "outputs": [],
   "source": [
    "raw_CH_crops_dataset.head()"
   ]
  },
  {
   "cell_type": "markdown",
   "metadata": {},
   "source": [
    "Keep only relevant information."
   ]
  },
  {
   "cell_type": "code",
   "execution_count": null,
   "metadata": {},
   "outputs": [],
   "source": [
    "raw_CH_crops_dataset =raw_CH_crops_dataset[['Domain', 'Area', 'Element', 'Item', 'Year', 'Unit', 'Value', 'Flag Description']]"
   ]
  },
  {
   "cell_type": "code",
   "execution_count": null,
   "metadata": {},
   "outputs": [],
   "source": [
    "raw_CH_crops_dataset.drop(index=raw_CH_crops_dataset[raw_CH_crops_dataset['Flag Description'].str.contains('Data not available')].index, inplace=True)"
   ]
  },
  {
   "cell_type": "code",
   "execution_count": null,
   "metadata": {},
   "outputs": [],
   "source": [
    "raw_CH_crops_dataset.head()"
   ]
  },
  {
   "cell_type": "markdown",
   "metadata": {},
   "source": [
    "Let's also load the flags dataset, in case we need it later (very small size --> doesn't cost anything)"
   ]
  },
  {
   "cell_type": "code",
   "execution_count": null,
   "metadata": {},
   "outputs": [],
   "source": [
    "flags = pd.read_csv('../data/FAOSTAT_data_flags.csv')\n",
    "flags"
   ]
  },
  {
   "cell_type": "code",
   "execution_count": null,
   "metadata": {},
   "outputs": [],
   "source": [
    "print(\"Size of the DataFrame: {s}\\n\".format(s=raw_CH_crops_dataset.shape))\n",
    "print(\"Variable types present in DataFrame: \\n{t}\".format(t=raw_CH_crops_dataset.dtypes))"
   ]
  },
  {
   "cell_type": "markdown",
   "metadata": {},
   "source": [
    "Null values investigation:"
   ]
  },
  {
   "cell_type": "code",
   "execution_count": null,
   "metadata": {},
   "outputs": [],
   "source": [
    "print(raw_CH_crops_dataset.isnull().values.any(axis=0)) "
   ]
  },
  {
   "cell_type": "markdown",
   "metadata": {},
   "source": [
    "No NaN values found. Perfect.\n",
    "\n",
    "What about the categories listed in our columns?"
   ]
  },
  {
   "cell_type": "code",
   "execution_count": null,
   "metadata": {
    "scrolled": true
   },
   "outputs": [],
   "source": [
    "print(raw_CH_crops_dataset['Domain'].unique())\n",
    "print(raw_CH_crops_dataset['Area'].unique())\n",
    "print(raw_CH_crops_dataset['Element'].unique())\n",
    "print(raw_CH_crops_dataset['Item'].unique())\n",
    "print(raw_CH_crops_dataset['Year'].unique())\n",
    "print(raw_CH_crops_dataset['Unit'].unique())\n",
    "print(raw_CH_crops_dataset['Flag Description'].unique())"
   ]
  },
  {
   "cell_type": "markdown",
   "metadata": {},
   "source": [
    "**Quick view of the crops dataset ready to be used**"
   ]
  },
  {
   "cell_type": "code",
   "execution_count": null,
   "metadata": {},
   "outputs": [],
   "source": [
    "raw_CH_crops_dataset.head()"
   ]
  },
  {
   "cell_type": "markdown",
   "metadata": {},
   "source": [
    "## **Crops plots :** what we can already see/investigate with this first dataset\n",
    "\n",
    "Even if we will probably not use those plots for final presentation/analysis, it helps us to see what's inside our data. It is quick and very visual."
   ]
  },
  {
   "cell_type": "markdown",
   "metadata": {},
   "source": [
    "### Plot production of all countries over time for a selected crop\n",
    "\n",
    "This plot is interactive. It allows you to choose for an item (apples, berries..) and shows you its production over years for the 6 countries (CH + Neighbours as listed above)."
   ]
  },
  {
   "cell_type": "code",
   "execution_count": null,
   "metadata": {},
   "outputs": [],
   "source": [
    "import ipywidgets as widgets\n",
    "from ipywidgets import interact, interactive, fixed, interact_manual\n",
    "# All those  library importations would probably be at the begining for the final version of te notebook, \n",
    "# but for now, we just kee them where we use them since we don't know what we will keep or not."
   ]
  },
  {
   "cell_type": "code",
   "execution_count": null,
   "metadata": {},
   "outputs": [],
   "source": [
    "#Interactive visualization\n",
    "\n",
    "#Plot the production of selected item for all countries over years\n",
    "def viz_evolution(item):\n",
    "    df_viz_evolution = raw_CH_crops_dataset.loc[raw_CH_crops_dataset['Element']=='Production'].loc[raw_CH_crops_dataset['Item']==item]\n",
    "    \n",
    "    # multiple line plot\n",
    "    plt.figure(figsize=(20,10))\n",
    "    plt.plot( 'Year', 'Value', data=df_viz_evolution.loc[df_viz_evolution['Area']=='Austria'], marker='', color='green',  label = 'Austria')\n",
    "    plt.plot( 'Year', 'Value', data=df_viz_evolution.loc[df_viz_evolution['Area']=='France'], marker='', color='skyblue', label = 'France')\n",
    "    plt.plot( 'Year', 'Value', data=df_viz_evolution.loc[df_viz_evolution['Area']=='Switzerland'], marker='', color='red', label = 'Switzerland', linewidth=3)\n",
    "    plt.plot( 'Year', 'Value', data=df_viz_evolution.loc[df_viz_evolution['Area']=='Germany'], marker='', color='orange', label = 'Germany')\n",
    "    plt.plot( 'Year', 'Value', data=df_viz_evolution.loc[df_viz_evolution['Area']=='Italy'], marker='', color='grey', label = 'Italy')\n",
    "    \n",
    "    plt.legend() \n",
    "    plt.title(f'Production of {item} in Switzerland and its neighbours throughout years', fontsize= 20)\n",
    "    plt.xlabel(\"Year\", fontsize= 20)\n",
    "    plt.ylabel(\"Values\", fontsize= 20)\n",
    "    plt.show()\n",
    "   \n",
    "items = raw_CH_crops_dataset.Item.unique()\n",
    "interact(viz_evolution, item = items)    "
   ]
  },
  {
   "cell_type": "markdown",
   "metadata": {},
   "source": [
    "### Plot production/area_harvested for all items of all countries over time.\n",
    "\n",
    "This plot is interactive. It allows you to choose for an element (production/area harvested/yield) and shows you the sum of all items for each country over years (CH & Co)"
   ]
  },
  {
   "cell_type": "code",
   "execution_count": null,
   "metadata": {},
   "outputs": [],
   "source": [
    "# plot area harvested of each country over years\n",
    "crops_sum = raw_CH_crops_dataset.groupby(['Area', 'Element','Year']) \\\n",
    "                                .agg({'Value':'sum'}) \\\n",
    "                                .rename(columns={'Value':'Sum'}) \\\n",
    "                                .reset_index()\n",
    "crops_sum.head() # Sum of area/yiel/production of items by country and year"
   ]
  },
  {
   "cell_type": "code",
   "execution_count": null,
   "metadata": {},
   "outputs": [],
   "source": [
    "#Interactive visualization\n",
    "\n",
    "#Plot the area harvested (sum of all items) for all countries over years\n",
    "def viz_sum_evolution(element):\n",
    "    df_viz_sum_evolution = crops_sum.loc[crops_sum['Element']== element]\n",
    "    \n",
    "    # multiple line plot\n",
    "    plt.figure(figsize=(20,10))\n",
    "    plt.plot( 'Year', 'Sum', data=df_viz_sum_evolution.loc[df_viz_sum_evolution['Area']=='Austria'], marker='', color='green',  label = 'Austria')\n",
    "    plt.plot( 'Year', 'Sum', data=df_viz_sum_evolution.loc[df_viz_sum_evolution['Area']=='France'], marker='', color='skyblue', label = 'France')\n",
    "    plt.plot( 'Year', 'Sum', data=df_viz_sum_evolution.loc[df_viz_sum_evolution['Area']=='Switzerland'], marker='', color='red', label = 'Switzerland', linewidth=3)\n",
    "    plt.plot( 'Year', 'Sum', data=df_viz_sum_evolution.loc[df_viz_sum_evolution['Area']=='Germany'], marker='', color='orange', label = 'Germany')\n",
    "    plt.plot( 'Year', 'Sum', data=df_viz_sum_evolution.loc[df_viz_sum_evolution['Area']=='Italy'], marker='', color='grey', label = 'Italy')\n",
    "    \n",
    "    plt.legend() \n",
    "    plt.title(f'{element} of all items in Switzerland and its neighbours throughout years', fontsize= 20)\n",
    "    plt.xlabel(\"Year\", fontsize= 20)\n",
    "    plt.ylabel(\"Values\", fontsize= 20)\n",
    "    plt.show()\n",
    "   \n",
    "elements = crops_sum.Element.unique()\n",
    "interact(viz_sum_evolution, element = elements)  "
   ]
  },
  {
   "cell_type": "markdown",
   "metadata": {},
   "source": [
    "## Data loading - Land use indicators \n",
    "\n",
    "File contains data about Switzerland and neighbours (Italy, Germany, France, Austria and Liechtenstein).\n",
    "\n",
    "Data exploration and pre-processing is very simmilar to first dataset. We will therefore not describe all steps as precisely as before."
   ]
  },
  {
   "cell_type": "code",
   "execution_count": null,
   "metadata": {},
   "outputs": [],
   "source": [
    "raw_land_use_dataset = pd.read_csv('../data/FAOSTAT_data_LandUseIndicators.csv')"
   ]
  },
  {
   "cell_type": "code",
   "execution_count": null,
   "metadata": {},
   "outputs": [],
   "source": [
    "raw_land_use_dataset.head()"
   ]
  },
  {
   "cell_type": "code",
   "execution_count": null,
   "metadata": {},
   "outputs": [],
   "source": [
    "raw_land_use_dataset =raw_land_use_dataset[['Domain', 'Area', 'Element', 'Item', 'Year', 'Unit', 'Value', 'Flag Description']]"
   ]
  },
  {
   "cell_type": "code",
   "execution_count": null,
   "metadata": {},
   "outputs": [],
   "source": [
    "print(\"Size of the DataFrame: {s}\\n\".format(s=raw_land_use_dataset.shape))\n",
    "print(\"Variable types present in DataFrame: \\n{t}\".format(t=raw_land_use_dataset.dtypes))"
   ]
  },
  {
   "cell_type": "code",
   "execution_count": null,
   "metadata": {},
   "outputs": [],
   "source": [
    "print(raw_land_use_dataset.isnull().values.any(axis=0))  # --> PERFECT!"
   ]
  },
  {
   "cell_type": "code",
   "execution_count": null,
   "metadata": {},
   "outputs": [],
   "source": [
    "print(raw_land_use_dataset['Domain'].unique())\n",
    "print(raw_land_use_dataset['Area'].unique())\n",
    "print(raw_land_use_dataset['Element'].unique())\n",
    "print(raw_land_use_dataset['Item'].unique())\n",
    "print(raw_land_use_dataset['Year'].unique())\n",
    "print(raw_land_use_dataset['Unit'].unique())\n",
    "print(raw_land_use_dataset['Flag Description'].unique())"
   ]
  },
  {
   "cell_type": "markdown",
   "metadata": {},
   "source": [
    "## **Land use indicators plots :** what we can already see/investigate with this second dataset\n",
    "\n",
    "Even if we will probably not use those plots for final presentation/analysis, it helps us to see what's inside our data. It is quick and very visual."
   ]
  },
  {
   "cell_type": "markdown",
   "metadata": {},
   "source": [
    "### Plot the lands distribution in Switzerland\n",
    "\n",
    "We would like to precise those data (with more datasets) by including also urban areas to the distribution."
   ]
  },
  {
   "cell_type": "code",
   "execution_count": null,
   "metadata": {},
   "outputs": [],
   "source": [
    "import matplotlib.pyplot as plt\n",
    "\n",
    "# DataFrames to plot\n",
    "df_land = raw_land_use_dataset.loc[raw_land_use_dataset['Area']=='Switzerland'].loc[raw_land_use_dataset['Year']==2016].loc[raw_land_use_dataset['Element']=='Share in Land area']\n",
    "df_agri = raw_land_use_dataset.loc[raw_land_use_dataset['Area']=='Switzerland'].loc[raw_land_use_dataset['Year']==2016].loc[raw_land_use_dataset['Element']=='Share in Agricultural land']\n",
    "\n",
    "# Pie plot #1\n",
    "labels1 = df_land.Item\n",
    "sizes1 = df_land.Value\n",
    "explode = (0, 0, 0.1, 0)  # only \"explode\" the 3rd slice\n",
    "\n",
    "fig1, ax1 = plt.subplots()\n",
    "ax1.pie(sizes1, explode=explode,labels=labels1, autopct='%1.1f%%',\n",
    "        shadow=True, startangle=90)\n",
    "ax1.axis('equal')  # Equal aspect ratio ensures that pie is drawn as a circle.\n",
    "ax1.title.set_text('Distribution of lands in Switzerland, year 2016')\n",
    "fig1.set_facecolor('white')\n",
    "\n",
    "# Pie plot #2\n",
    "labels2 = df_agri.Item\n",
    "sizes2 = df_agri.Value\n",
    "fig1, ax2 = plt.subplots()\n",
    "ax2.pie(sizes2, labels=labels2, autopct='%1.1f%%',\n",
    "        shadow=True, startangle=90)\n",
    "ax2.axis('equal')  # Equal aspect ratio ensures that pie is drawn as a circle.\n",
    "ax2.title.set_text('Distribution of agricultural lands in Switzerland, year 2016')\n",
    "\n",
    "# General settings\n",
    "fig1.set_facecolor('white')\n",
    "plt.show()"
   ]
  },
  {
   "cell_type": "markdown",
   "metadata": {},
   "source": [
    "## Data loading - Demographical data \n",
    "\n",
    "File contains data about Switzerland and neighbours (Italy, Germany, France, Austria and Liechtenstein).\n",
    "\n",
    "Data exploration and pre-processing is very simmilar to first dataset. We will therefore not describe all steps as precisely as before."
   ]
  },
  {
   "cell_type": "code",
   "execution_count": null,
   "metadata": {},
   "outputs": [],
   "source": [
    "demography = pd.read_csv('../data/FAOSTAT_data_demography.csv')"
   ]
  },
  {
   "cell_type": "code",
   "execution_count": null,
   "metadata": {},
   "outputs": [],
   "source": [
    "demography"
   ]
  },
  {
   "cell_type": "code",
   "execution_count": null,
   "metadata": {
    "scrolled": true
   },
   "outputs": [],
   "source": [
    "for col in demography:\n",
    "    print (demography[col].unique())"
   ]
  },
  {
   "cell_type": "code",
   "execution_count": null,
   "metadata": {},
   "outputs": [],
   "source": [
    "demography = demography[['Area', 'Year', 'Value']]\n",
    "demography"
   ]
  },
  {
   "cell_type": "markdown",
   "metadata": {},
   "source": [
    "The value unit beeing 1000 persons, we adjust the number to display the population values in terms of individuals"
   ]
  },
  {
   "cell_type": "code",
   "execution_count": null,
   "metadata": {},
   "outputs": [],
   "source": [
    "pd.options.mode.chained_assignment = None  # default='warn', Mutes warnings when copying a slice from a DataFrame.\n",
    "demography[\"Population\"] = demography.Value.apply(lambda x: x*1000)\n",
    "demography.drop(columns='Value')"
   ]
  },
  {
   "cell_type": "markdown",
   "metadata": {},
   "source": [
    "## Data loading - Importations for Switerland data \n",
    "\n",
    "File contains data about Switzerland only.\n",
    "\n",
    "Data exploration and pre-processing is very simmilar to first dataset. We will therefore not describe all steps as precisely as before."
   ]
  },
  {
   "cell_type": "code",
   "execution_count": null,
   "metadata": {},
   "outputs": [],
   "source": [
    "CH_imports = pd.read_csv('../data/FAOSTAT_data_11-23-2019.csv')"
   ]
  },
  {
   "cell_type": "code",
   "execution_count": null,
   "metadata": {},
   "outputs": [],
   "source": [
    "CH_imports.shape"
   ]
  },
  {
   "cell_type": "code",
   "execution_count": null,
   "metadata": {},
   "outputs": [],
   "source": [
    "CH_imports"
   ]
  },
  {
   "cell_type": "code",
   "execution_count": null,
   "metadata": {},
   "outputs": [],
   "source": [
    "CH_imports.dtypes"
   ]
  },
  {
   "cell_type": "code",
   "execution_count": null,
   "metadata": {},
   "outputs": [],
   "source": [
    "CH_imports.Year.min()"
   ]
  },
  {
   "cell_type": "code",
   "execution_count": null,
   "metadata": {
    "scrolled": true
   },
   "outputs": [],
   "source": [
    "for col in CH_imports:\n",
    "    print (CH_imports[col].unique())"
   ]
  },
  {
   "cell_type": "code",
   "execution_count": null,
   "metadata": {},
   "outputs": [],
   "source": [
    "unofficial_stats_index = CH_imports.loc[CH_imports.Flag=='*'].index"
   ]
  },
  {
   "cell_type": "code",
   "execution_count": null,
   "metadata": {},
   "outputs": [],
   "source": [
    "# Drop the unofficial data\n",
    "CH_imports = CH_imports.drop(index = unofficial_stats_index)"
   ]
  },
  {
   "cell_type": "code",
   "execution_count": null,
   "metadata": {},
   "outputs": [],
   "source": [
    "# Select only the data with Unit 'tonnes'\n",
    "CH_imports = CH_imports.loc[CH_imports.Unit=='tonnes']"
   ]
  },
  {
   "cell_type": "code",
   "execution_count": null,
   "metadata": {},
   "outputs": [],
   "source": [
    "CH_imports = CH_imports[['Partner Countries', 'Item', 'Year', 'Unit', 'Value']]"
   ]
  },
  {
   "cell_type": "code",
   "execution_count": null,
   "metadata": {},
   "outputs": [],
   "source": [
    "# Sum the importations over all the partner countries\n",
    "CH_imports = CH_imports.groupby(['Item', 'Year']).agg({'Value':'sum'})\\\n",
    "                                    .reset_index()"
   ]
  },
  {
   "cell_type": "code",
   "execution_count": null,
   "metadata": {},
   "outputs": [],
   "source": [
    "CH_crops = raw_CH_crops_dataset[['Area', 'Element', 'Item', 'Year', 'Unit', 'Value']]"
   ]
  },
  {
   "cell_type": "markdown",
   "metadata": {},
   "source": [
    "Combine production and importation data"
   ]
  },
  {
   "cell_type": "code",
   "execution_count": null,
   "metadata": {},
   "outputs": [],
   "source": [
    "# Merge importations data with production data\n",
    "CH_data = CH_crops.loc[CH_crops.Area=='Switzerland'].loc[CH_crops.Element=='Production'].loc[CH_crops.Year>= 1986]\\\n",
    "                                    .merge(CH_imports,on=['Item', 'Year'], how='left', suffixes=('_crops', '_imports'))"
   ]
  },
  {
   "cell_type": "code",
   "execution_count": null,
   "metadata": {},
   "outputs": [],
   "source": [
    "CH_data"
   ]
  },
  {
   "cell_type": "markdown",
   "metadata": {},
   "source": [
    "### Plot production and import of items in Switzerland over years.\n",
    "\n",
    "This plot is interactive. It allows you to choose for an item (apples, berries..) and shows you its production and importation in Switzerland over years."
   ]
  },
  {
   "cell_type": "code",
   "execution_count": null,
   "metadata": {},
   "outputs": [],
   "source": [
    "#Interactive visualization\n",
    "\n",
    "#Plot the production of selected item for all countries over years\n",
    "def viz_evolution(item):\n",
    "    df_viz_evolution = CH_data.loc[CH_data['Item']==item]\n",
    "    \n",
    "    # multiple line plot\n",
    "    plt.figure(figsize=(20,10))\n",
    "    plt.plot( 'Year', 'Value_crops', data=df_viz_evolution, marker='', color='red', label = 'crops', linewidth=3)\n",
    "    plt.plot('Year', 'Value_imports', data=df_viz_evolution, marker='', color='blue', label = 'imports', linewidth=3) \n",
    "    plt.legend() \n",
    "    plt.title(f'Production and imports of {item} in Switzerland throughout years', fontsize= 20)\n",
    "    plt.xlabel(\"Year\", fontsize= 20)\n",
    "    plt.ylabel(\"Values [tonnes]\", fontsize= 20)\n",
    "    plt.show()\n",
    "   \n",
    "items = CH_data.Item.unique()\n",
    "interact(viz_evolution, item = items)    "
   ]
  },
  {
   "cell_type": "markdown",
   "metadata": {},
   "source": [
    "**Most produced and imported products :**\n",
    "\n",
    "- Most produced crops products"
   ]
  },
  {
   "cell_type": "code",
   "execution_count": null,
   "metadata": {},
   "outputs": [],
   "source": [
    "CH_data.loc[CH_data.Year == 2016].sort_values(by='Value_crops', ascending = False).head(20)"
   ]
  },
  {
   "cell_type": "markdown",
   "metadata": {},
   "source": [
    "- Most imported crops products"
   ]
  },
  {
   "cell_type": "code",
   "execution_count": null,
   "metadata": {},
   "outputs": [],
   "source": [
    "CH_data.loc[CH_data.Year == 2016].sort_values(by='Value_imports', ascending = False).head(20)"
   ]
  },
  {
   "cell_type": "markdown",
   "metadata": {},
   "source": [
    "### Plot most produced and imported items in Switzerland, year 2016.\n",
    "\n",
    "This plot is interactive. Shows values upon cursor selection."
   ]
  },
  {
   "cell_type": "code",
   "execution_count": null,
   "metadata": {},
   "outputs": [],
   "source": [
    "import plotly # conda install -c anaconda plotly #AND# jupyter labextension install @jupyterlab/plotly-extension\n",
    "import plotly.graph_objects as go\n",
    "y_wheat = CH_data.loc[CH_data.Year == 2016].loc[CH_data.Item=='Wheat'].values[0,-2:]\n",
    "y_potatoes = CH_data.loc[CH_data.Year == 2016].loc[CH_data.Item=='Potatoes'].values[0,-2:]\n",
    "y_beet = CH_data.loc[CH_data.Year == 2016].loc[CH_data.Item=='Sugar beet'].values[0,-2:]\n",
    "#y_wheat = CH_data.loc[CH_data.Year == 2016].loc[CH_data.Item=='Wheat'].Value_crops.values\n",
    "#y_potatoes = CH_data.loc[CH_data.Year == 2016].loc[CH_data.Item=='Potatoes'].Value_crops.values\n",
    "#y_beet = CH_data.loc[CH_data.Year == 2016].loc[CH_data.Item=='Sugar beet'].Value_crops.values\n",
    "x=['Produced', 'Imported']\n",
    "fig = go.Figure(go.Bar(x=x, y=y_wheat, name='Wheat'))\n",
    "fig.add_trace(go.Bar(x=x, y=y_potatoes, name='Potatoes'))\n",
    "fig.add_trace(go.Bar(x=x, y=y_beet, name='Sugar beet'))\n",
    "\n",
    "fig.update_layout(\n",
    "    title='Most Imported and Produced items in Switzerland for year 2016',\n",
    "    yaxis_title=\"Values [tonnes]\",\n",
    "    barmode='stack', \n",
    "    xaxis={'categoryorder':'category ascending'},\n",
    "    font=dict(\n",
    "        family=\"Courier New, monospace\",\n",
    "        size=18,\n",
    "        color=\"#7f7f7f\")\n",
    "    )\n",
    "fig.show()\n"
   ]
  },
  {
   "cell_type": "markdown",
   "metadata": {},
   "source": [
    "### Plot importation/production of potatoes in Switzerland throughout years\n",
    "\n",
    "This plot is interactive. Shows values upon cursor selection"
   ]
  },
  {
   "cell_type": "code",
   "execution_count": null,
   "metadata": {},
   "outputs": [],
   "source": [
    "import plotly.graph_objects as go\n",
    "\n",
    "y_wheat = CH_data.loc[CH_data.Item=='Potatoes'].values[:,-2:]\n",
    "fig = go.Figure()\n",
    "fig.add_trace(go.Scatter(x=CH_data.Year.unique(), y=y_wheat[:,0], fill='tonexty', name='Produced')) # fill down to xaxis\n",
    "fig.add_trace(go.Scatter(x=CH_data.Year.unique(), y=y_wheat[:,1], fill='tozeroy', name='Imported')) # fill to trace0 y\n",
    "fig.update_layout(\n",
    "    title=\"Potatoes importations and productions throughout years in Switzerland\",\n",
    "    yaxis_title=\"Values [tonnes]\",\n",
    "    xaxis_title='Years'\n",
    "    )\n",
    "fig.show()\n"
   ]
  },
  {
   "cell_type": "markdown",
   "metadata": {},
   "source": [
    "### Plot importation/production of potatoes in Switzerland throughout years --> WHHATS THE DIFFERENCE WITH FORMER PLOT?\n",
    "\n",
    "This plot is interactive. Shows values upon cursor selection"
   ]
  },
  {
   "cell_type": "code",
   "execution_count": null,
   "metadata": {
    "scrolled": true
   },
   "outputs": [],
   "source": [
    "total_crops_imports = CH_data.groupby('Year').agg({'Value_crops':'sum', 'Value_imports':'sum'})"
   ]
  },
  {
   "cell_type": "code",
   "execution_count": null,
   "metadata": {},
   "outputs": [],
   "source": [
    "total_crops_imports.Value_crops.values"
   ]
  },
  {
   "cell_type": "code",
   "execution_count": null,
   "metadata": {},
   "outputs": [],
   "source": [
    "fig = go.Figure()\n",
    "fig.add_trace(go.Scatter(x=CH_data.Year.unique(), y=total_crops_imports.Value_crops.values, fill='tonexty', name='Produced')) # fill down to xaxis\n",
    "fig.add_trace(go.Scatter(x=CH_data.Year.unique(), y=total_crops_imports.Value_imports.values, fill='tozeroy', name='Imported')) # fill to trace0 y\n",
    "fig.update_layout(\n",
    "    title=\"Potatoes importations and productions throughout years in Switzerland\",\n",
    "    yaxis_title=\"Values [tonnes]\",\n",
    "    xaxis_title='Years'\n",
    "    )\n",
    "fig.show()\n"
   ]
  },
  {
   "cell_type": "code",
   "execution_count": null,
   "metadata": {},
   "outputs": [],
   "source": [
    "CH_data2 = CH_data.copy().rename(columns={'Value_crops':'Country production', 'Value_imports':'Importation'})\n",
    "CH_data_transformed = pd.melt(CH_data2, value_vars=['Country production', 'Importation'], id_vars=['Area', 'Element','Item','Year','Unit'], var_name='Input', value_name='Value')"
   ]
  },
  {
   "cell_type": "code",
   "execution_count": null,
   "metadata": {},
   "outputs": [],
   "source": [
    "CH_data_transformed.loc[CH_data_transformed.Item=='Potatoes']"
   ]
  },
  {
   "cell_type": "markdown",
   "metadata": {},
   "source": [
    "### Plot --> Je te laisse ecrire Max, pas trop sure là si cest only CH.. etc\n",
    "\n",
    "This plot is interactive. Shows values upon cursor selection"
   ]
  },
  {
   "cell_type": "code",
   "execution_count": null,
   "metadata": {},
   "outputs": [],
   "source": [
    "CH_restrained = CH_data_transformed.loc[CH_data_transformed.Item.isin(['Apples','Wheat','Potatoes', 'Maize', 'Oats'])]"
   ]
  },
  {
   "cell_type": "code",
   "execution_count": null,
   "metadata": {},
   "outputs": [],
   "source": [
    "# Just trying a plot\n",
    "import plotly.express as px\n",
    "gapminder = px.data.gapminder()\n",
    "fig = px.area(CH_restrained, x=\"Year\", y=\"Value\", color='Item',\n",
    "      line_group=\"Input\")\n",
    "fig.update_layout(\n",
    "    title=\"Add title\",\n",
    "    yaxis_title=\"Add y label\",\n",
    "    xaxis_title='Years'\n",
    "    )\n",
    "fig.show()"
   ]
  },
  {
   "cell_type": "markdown",
   "metadata": {},
   "source": [
    "**Load Switzerland temperatures**"
   ]
  },
  {
   "cell_type": "code",
   "execution_count": null,
   "metadata": {},
   "outputs": [],
   "source": [
    "CH_temperatures = pd.read_csv('../data/10.18751-Climate-Timeseries-CHTM-1.1-swiss.txt', sep=\"\\t\", header=0, skiprows=15)"
   ]
  },
  {
   "cell_type": "code",
   "execution_count": null,
   "metadata": {},
   "outputs": [],
   "source": [
    "CH_temperatures = CH_temperatures.loc[CH_temperatures.time>=1986].loc[CH_temperatures.time<=2017]"
   ]
  },
  {
   "cell_type": "code",
   "execution_count": null,
   "metadata": {},
   "outputs": [],
   "source": [
    "CH_temperatures = CH_temperatures.iloc[:,-3:]"
   ]
  },
  {
   "cell_type": "code",
   "execution_count": null,
   "metadata": {},
   "outputs": [],
   "source": [
    "CH_temperatures"
   ]
  },
  {
   "cell_type": "markdown",
   "metadata": {},
   "source": [
    "### Plot : Is there a correlation between production and temperature?\n"
   ]
  },
  {
   "cell_type": "code",
   "execution_count": null,
   "metadata": {},
   "outputs": [],
   "source": [
    "years = np.sort(CH_data.Year.unique())\n",
    "fig, ax1 = plt.subplots()\n",
    "data1 = CH_data.loc[CH_data.Item=='Potatoes'].Value_crops\n",
    "data2 = CH_temperatures.year\n",
    "\n",
    "color = 'tab:red'\n",
    "ax1.set_xlabel('year')\n",
    "ax1.set_ylabel('production', color=color)\n",
    "ax1.plot(years, data1, color=color)\n",
    "ax1.tick_params(axis='y', labelcolor=color)\n",
    "\n",
    "ax2 = ax1.twinx()  # instantiate a second axes that shares the same x-axis\n",
    "\n",
    "color = 'tab:blue'\n",
    "ax2.set_ylabel('temperature', color=color)  # we already handled the x-label with ax1\n",
    "ax2.plot(years, data2, color=color)\n",
    "ax2.tick_params(axis='y', labelcolor=color)\n",
    "\n",
    "fig.tight_layout()  # otherwise the right y-label is slightly clipped\n",
    "plt.title('Potatoes production and temperatures every year')\n",
    "plt.show()"
   ]
  },
  {
   "cell_type": "code",
   "execution_count": null,
   "metadata": {},
   "outputs": [],
   "source": []
  }
 ],
 "metadata": {
  "kernelspec": {
   "display_name": "Python 3",
   "language": "python",
   "name": "python3"
  },
  "language_info": {
   "codemirror_mode": {
    "name": "ipython",
    "version": 3
   },
   "file_extension": ".py",
   "mimetype": "text/x-python",
   "name": "python",
   "nbconvert_exporter": "python",
   "pygments_lexer": "ipython3",
   "version": "3.7.4"
  }
 },
 "nbformat": 4,
 "nbformat_minor": 4
}

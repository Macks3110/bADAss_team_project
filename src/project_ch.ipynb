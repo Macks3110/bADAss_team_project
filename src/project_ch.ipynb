{
 "cells": [
  {
   "cell_type": "markdown",
   "metadata": {},
   "source": [
    "# ADA Project - Insight into Switzerland agriculture production \n",
    "\n",
    "We will focus on Switzerland compared to its neighbours. We would like to know if Switzerland could be self-sufficient in term of food production. \n",
    "\n",
    "- What does Switzerland produce and in which quantity? \n",
    "- What about the amount of importations/exportations?\n",
    "- Are all Switzerland areas optimally harvested?\n",
    "- Limks to population size\n",
    "- How is the Swiss productiviy trend evolving, is it correlated with external factors such as temperature, fertilizer use?\n",
    "\n",
    "Then we will make comparaisons between Switzerland and its neighbours. Does CH import more than its neighbours (due to its small size ?) ?\n",
    "\n",
    "Is food selfsuffience of CH realistic ? How many farmer would it need ?\n"
   ]
  },
  {
   "cell_type": "code",
   "execution_count": 1,
   "metadata": {},
   "outputs": [],
   "source": [
    "%matplotlib inline\n",
    "import numpy as np\n",
    "import matplotlib.pyplot as plt\n",
    "import pandas as pd\n",
    "import folium"
   ]
  },
  {
   "cell_type": "markdown",
   "metadata": {},
   "source": [
    "## Data loading - Crops \n",
    "\n",
    "This dataset represents our start line, as it is the one we choose from the course's list.\n",
    "\n",
    "File contains data about Switzerland and neighbours (Italy, Germany, France, Austria and Liechtenstein)"
   ]
  },
  {
   "cell_type": "code",
   "execution_count": 2,
   "metadata": {},
   "outputs": [],
   "source": [
    "raw_CH_crops_dataset = pd.read_csv('../data/FAOSTAT_data_crops_CHandNeighbours.csv')"
   ]
  },
  {
   "cell_type": "markdown",
   "metadata": {},
   "source": [
    "Let's explore the structure of our dataset :"
   ]
  },
  {
   "cell_type": "code",
   "execution_count": 3,
   "metadata": {},
   "outputs": [
    {
     "data": {
      "text/html": [
       "<div>\n",
       "<style scoped>\n",
       "    .dataframe tbody tr th:only-of-type {\n",
       "        vertical-align: middle;\n",
       "    }\n",
       "\n",
       "    .dataframe tbody tr th {\n",
       "        vertical-align: top;\n",
       "    }\n",
       "\n",
       "    .dataframe thead th {\n",
       "        text-align: right;\n",
       "    }\n",
       "</style>\n",
       "<table border=\"1\" class=\"dataframe\">\n",
       "  <thead>\n",
       "    <tr style=\"text-align: right;\">\n",
       "      <th></th>\n",
       "      <th>Domain Code</th>\n",
       "      <th>Domain</th>\n",
       "      <th>Area Code</th>\n",
       "      <th>Area</th>\n",
       "      <th>Element Code</th>\n",
       "      <th>Element</th>\n",
       "      <th>Item Code</th>\n",
       "      <th>Item</th>\n",
       "      <th>Year Code</th>\n",
       "      <th>Year</th>\n",
       "      <th>Unit</th>\n",
       "      <th>Value</th>\n",
       "      <th>Flag</th>\n",
       "      <th>Flag Description</th>\n",
       "    </tr>\n",
       "  </thead>\n",
       "  <tbody>\n",
       "    <tr>\n",
       "      <td>0</td>\n",
       "      <td>QC</td>\n",
       "      <td>Crops</td>\n",
       "      <td>11</td>\n",
       "      <td>Austria</td>\n",
       "      <td>5312</td>\n",
       "      <td>Area harvested</td>\n",
       "      <td>515</td>\n",
       "      <td>Apples</td>\n",
       "      <td>1961</td>\n",
       "      <td>1961</td>\n",
       "      <td>ha</td>\n",
       "      <td>NaN</td>\n",
       "      <td>M</td>\n",
       "      <td>Data not available</td>\n",
       "    </tr>\n",
       "    <tr>\n",
       "      <td>1</td>\n",
       "      <td>QC</td>\n",
       "      <td>Crops</td>\n",
       "      <td>11</td>\n",
       "      <td>Austria</td>\n",
       "      <td>5312</td>\n",
       "      <td>Area harvested</td>\n",
       "      <td>515</td>\n",
       "      <td>Apples</td>\n",
       "      <td>1962</td>\n",
       "      <td>1962</td>\n",
       "      <td>ha</td>\n",
       "      <td>NaN</td>\n",
       "      <td>M</td>\n",
       "      <td>Data not available</td>\n",
       "    </tr>\n",
       "    <tr>\n",
       "      <td>2</td>\n",
       "      <td>QC</td>\n",
       "      <td>Crops</td>\n",
       "      <td>11</td>\n",
       "      <td>Austria</td>\n",
       "      <td>5312</td>\n",
       "      <td>Area harvested</td>\n",
       "      <td>515</td>\n",
       "      <td>Apples</td>\n",
       "      <td>1963</td>\n",
       "      <td>1963</td>\n",
       "      <td>ha</td>\n",
       "      <td>NaN</td>\n",
       "      <td>M</td>\n",
       "      <td>Data not available</td>\n",
       "    </tr>\n",
       "    <tr>\n",
       "      <td>3</td>\n",
       "      <td>QC</td>\n",
       "      <td>Crops</td>\n",
       "      <td>11</td>\n",
       "      <td>Austria</td>\n",
       "      <td>5312</td>\n",
       "      <td>Area harvested</td>\n",
       "      <td>515</td>\n",
       "      <td>Apples</td>\n",
       "      <td>1964</td>\n",
       "      <td>1964</td>\n",
       "      <td>ha</td>\n",
       "      <td>NaN</td>\n",
       "      <td>M</td>\n",
       "      <td>Data not available</td>\n",
       "    </tr>\n",
       "    <tr>\n",
       "      <td>4</td>\n",
       "      <td>QC</td>\n",
       "      <td>Crops</td>\n",
       "      <td>11</td>\n",
       "      <td>Austria</td>\n",
       "      <td>5312</td>\n",
       "      <td>Area harvested</td>\n",
       "      <td>515</td>\n",
       "      <td>Apples</td>\n",
       "      <td>1965</td>\n",
       "      <td>1965</td>\n",
       "      <td>ha</td>\n",
       "      <td>NaN</td>\n",
       "      <td>M</td>\n",
       "      <td>Data not available</td>\n",
       "    </tr>\n",
       "  </tbody>\n",
       "</table>\n",
       "</div>"
      ],
      "text/plain": [
       "  Domain Code Domain  Area Code     Area  Element Code         Element  \\\n",
       "0          QC  Crops         11  Austria          5312  Area harvested   \n",
       "1          QC  Crops         11  Austria          5312  Area harvested   \n",
       "2          QC  Crops         11  Austria          5312  Area harvested   \n",
       "3          QC  Crops         11  Austria          5312  Area harvested   \n",
       "4          QC  Crops         11  Austria          5312  Area harvested   \n",
       "\n",
       "   Item Code    Item  Year Code  Year Unit  Value Flag    Flag Description  \n",
       "0        515  Apples       1961  1961   ha    NaN    M  Data not available  \n",
       "1        515  Apples       1962  1962   ha    NaN    M  Data not available  \n",
       "2        515  Apples       1963  1963   ha    NaN    M  Data not available  \n",
       "3        515  Apples       1964  1964   ha    NaN    M  Data not available  \n",
       "4        515  Apples       1965  1965   ha    NaN    M  Data not available  "
      ]
     },
     "execution_count": 3,
     "metadata": {},
     "output_type": "execute_result"
    }
   ],
   "source": [
    "raw_CH_crops_dataset.head()"
   ]
  },
  {
   "cell_type": "markdown",
   "metadata": {},
   "source": [
    "Keep only relevant information."
   ]
  },
  {
   "cell_type": "code",
   "execution_count": 4,
   "metadata": {},
   "outputs": [],
   "source": [
    "raw_CH_crops_dataset =raw_CH_crops_dataset[['Domain', 'Area', 'Element', 'Item', 'Year', 'Unit', 'Value', 'Flag Description']]"
   ]
  },
  {
   "cell_type": "code",
   "execution_count": 5,
   "metadata": {},
   "outputs": [],
   "source": [
    "raw_CH_crops_dataset.drop(index=raw_CH_crops_dataset[raw_CH_crops_dataset['Flag Description'].str.contains('Data not available')].index, inplace=True)"
   ]
  },
  {
   "cell_type": "code",
   "execution_count": 6,
   "metadata": {},
   "outputs": [
    {
     "data": {
      "text/html": [
       "<div>\n",
       "<style scoped>\n",
       "    .dataframe tbody tr th:only-of-type {\n",
       "        vertical-align: middle;\n",
       "    }\n",
       "\n",
       "    .dataframe tbody tr th {\n",
       "        vertical-align: top;\n",
       "    }\n",
       "\n",
       "    .dataframe thead th {\n",
       "        text-align: right;\n",
       "    }\n",
       "</style>\n",
       "<table border=\"1\" class=\"dataframe\">\n",
       "  <thead>\n",
       "    <tr style=\"text-align: right;\">\n",
       "      <th></th>\n",
       "      <th>Domain</th>\n",
       "      <th>Area</th>\n",
       "      <th>Element</th>\n",
       "      <th>Item</th>\n",
       "      <th>Year</th>\n",
       "      <th>Unit</th>\n",
       "      <th>Value</th>\n",
       "      <th>Flag Description</th>\n",
       "    </tr>\n",
       "  </thead>\n",
       "  <tbody>\n",
       "    <tr>\n",
       "      <td>24</td>\n",
       "      <td>Crops</td>\n",
       "      <td>Austria</td>\n",
       "      <td>Area harvested</td>\n",
       "      <td>Apples</td>\n",
       "      <td>1985</td>\n",
       "      <td>ha</td>\n",
       "      <td>16100.0</td>\n",
       "      <td>FAO estimate</td>\n",
       "    </tr>\n",
       "    <tr>\n",
       "      <td>25</td>\n",
       "      <td>Crops</td>\n",
       "      <td>Austria</td>\n",
       "      <td>Area harvested</td>\n",
       "      <td>Apples</td>\n",
       "      <td>1986</td>\n",
       "      <td>ha</td>\n",
       "      <td>16120.0</td>\n",
       "      <td>FAO estimate</td>\n",
       "    </tr>\n",
       "    <tr>\n",
       "      <td>26</td>\n",
       "      <td>Crops</td>\n",
       "      <td>Austria</td>\n",
       "      <td>Area harvested</td>\n",
       "      <td>Apples</td>\n",
       "      <td>1987</td>\n",
       "      <td>ha</td>\n",
       "      <td>16700.0</td>\n",
       "      <td>FAO estimate</td>\n",
       "    </tr>\n",
       "    <tr>\n",
       "      <td>27</td>\n",
       "      <td>Crops</td>\n",
       "      <td>Austria</td>\n",
       "      <td>Area harvested</td>\n",
       "      <td>Apples</td>\n",
       "      <td>1988</td>\n",
       "      <td>ha</td>\n",
       "      <td>16720.0</td>\n",
       "      <td>FAO estimate</td>\n",
       "    </tr>\n",
       "    <tr>\n",
       "      <td>28</td>\n",
       "      <td>Crops</td>\n",
       "      <td>Austria</td>\n",
       "      <td>Area harvested</td>\n",
       "      <td>Apples</td>\n",
       "      <td>1989</td>\n",
       "      <td>ha</td>\n",
       "      <td>17330.0</td>\n",
       "      <td>FAO estimate</td>\n",
       "    </tr>\n",
       "  </tbody>\n",
       "</table>\n",
       "</div>"
      ],
      "text/plain": [
       "   Domain     Area         Element    Item  Year Unit    Value  \\\n",
       "24  Crops  Austria  Area harvested  Apples  1985   ha  16100.0   \n",
       "25  Crops  Austria  Area harvested  Apples  1986   ha  16120.0   \n",
       "26  Crops  Austria  Area harvested  Apples  1987   ha  16700.0   \n",
       "27  Crops  Austria  Area harvested  Apples  1988   ha  16720.0   \n",
       "28  Crops  Austria  Area harvested  Apples  1989   ha  17330.0   \n",
       "\n",
       "   Flag Description  \n",
       "24     FAO estimate  \n",
       "25     FAO estimate  \n",
       "26     FAO estimate  \n",
       "27     FAO estimate  \n",
       "28     FAO estimate  "
      ]
     },
     "execution_count": 6,
     "metadata": {},
     "output_type": "execute_result"
    }
   ],
   "source": [
    "raw_CH_crops_dataset.head()"
   ]
  },
  {
   "cell_type": "markdown",
   "metadata": {},
   "source": [
    "Let's also load the flags dataset, in case we need it later (very small size --> doesn't cost anything)"
   ]
  },
  {
   "cell_type": "code",
   "execution_count": 7,
   "metadata": {},
   "outputs": [
    {
     "data": {
      "text/html": [
       "<div>\n",
       "<style scoped>\n",
       "    .dataframe tbody tr th:only-of-type {\n",
       "        vertical-align: middle;\n",
       "    }\n",
       "\n",
       "    .dataframe tbody tr th {\n",
       "        vertical-align: top;\n",
       "    }\n",
       "\n",
       "    .dataframe thead th {\n",
       "        text-align: right;\n",
       "    }\n",
       "</style>\n",
       "<table border=\"1\" class=\"dataframe\">\n",
       "  <thead>\n",
       "    <tr style=\"text-align: right;\">\n",
       "      <th></th>\n",
       "      <th>Flag</th>\n",
       "      <th>Flags</th>\n",
       "    </tr>\n",
       "  </thead>\n",
       "  <tbody>\n",
       "    <tr>\n",
       "      <td>0</td>\n",
       "      <td>A</td>\n",
       "      <td>Aggregate, may include official, semi-official...</td>\n",
       "    </tr>\n",
       "    <tr>\n",
       "      <td>1</td>\n",
       "      <td>C</td>\n",
       "      <td>Calculated</td>\n",
       "    </tr>\n",
       "    <tr>\n",
       "      <td>2</td>\n",
       "      <td>Fc</td>\n",
       "      <td>Calculated data</td>\n",
       "    </tr>\n",
       "    <tr>\n",
       "      <td>3</td>\n",
       "      <td>M</td>\n",
       "      <td>Data not available</td>\n",
       "    </tr>\n",
       "    <tr>\n",
       "      <td>4</td>\n",
       "      <td>Im</td>\n",
       "      <td>FAO data based on imputation methodology</td>\n",
       "    </tr>\n",
       "    <tr>\n",
       "      <td>5</td>\n",
       "      <td>F</td>\n",
       "      <td>FAO estimate</td>\n",
       "    </tr>\n",
       "    <tr>\n",
       "      <td>6</td>\n",
       "      <td>NaN</td>\n",
       "      <td>Official data</td>\n",
       "    </tr>\n",
       "    <tr>\n",
       "      <td>7</td>\n",
       "      <td>/</td>\n",
       "      <td>Symbol for indigenous or liveweight meat</td>\n",
       "    </tr>\n",
       "    <tr>\n",
       "      <td>8</td>\n",
       "      <td>T</td>\n",
       "      <td>Trend</td>\n",
       "    </tr>\n",
       "    <tr>\n",
       "      <td>9</td>\n",
       "      <td>*</td>\n",
       "      <td>Unofficial figure</td>\n",
       "    </tr>\n",
       "  </tbody>\n",
       "</table>\n",
       "</div>"
      ],
      "text/plain": [
       "  Flag                                              Flags\n",
       "0    A  Aggregate, may include official, semi-official...\n",
       "1    C                                         Calculated\n",
       "2   Fc                                    Calculated data\n",
       "3    M                                 Data not available\n",
       "4   Im           FAO data based on imputation methodology\n",
       "5    F                                       FAO estimate\n",
       "6  NaN                                      Official data\n",
       "7    /           Symbol for indigenous or liveweight meat\n",
       "8    T                                              Trend\n",
       "9    *                                  Unofficial figure"
      ]
     },
     "execution_count": 7,
     "metadata": {},
     "output_type": "execute_result"
    }
   ],
   "source": [
    "flags = pd.read_csv('../data/FAOSTAT_data_flags.csv')\n",
    "flags"
   ]
  },
  {
   "cell_type": "code",
   "execution_count": 8,
   "metadata": {},
   "outputs": [
    {
     "name": "stdout",
     "output_type": "stream",
     "text": [
      "Size of the DataFrame: (50563, 8)\n",
      "\n",
      "Variable types present in DataFrame: \n",
      "Domain               object\n",
      "Area                 object\n",
      "Element              object\n",
      "Item                 object\n",
      "Year                  int64\n",
      "Unit                 object\n",
      "Value               float64\n",
      "Flag Description     object\n",
      "dtype: object\n"
     ]
    }
   ],
   "source": [
    "print(\"Size of the DataFrame: {s}\\n\".format(s=raw_CH_crops_dataset.shape))\n",
    "print(\"Variable types present in DataFrame: \\n{t}\".format(t=raw_CH_crops_dataset.dtypes))"
   ]
  },
  {
   "cell_type": "markdown",
   "metadata": {},
   "source": [
    "Null values investigation:"
   ]
  },
  {
   "cell_type": "code",
   "execution_count": 9,
   "metadata": {},
   "outputs": [
    {
     "name": "stdout",
     "output_type": "stream",
     "text": [
      "[False False False False False False False False]\n"
     ]
    }
   ],
   "source": [
    "print(raw_CH_crops_dataset.isnull().values.any(axis=0)) "
   ]
  },
  {
   "cell_type": "markdown",
   "metadata": {},
   "source": [
    "No NaN values found. Perfect.\n",
    "\n",
    "What about the categories listed in our columns?"
   ]
  },
  {
   "cell_type": "code",
   "execution_count": 10,
   "metadata": {
    "scrolled": true
   },
   "outputs": [
    {
     "name": "stdout",
     "output_type": "stream",
     "text": [
      "['Crops']\n",
      "['Austria' 'France' 'Germany' 'Italy' 'Liechtenstein' 'Switzerland']\n",
      "['Area harvested' 'Yield' 'Production']\n",
      "['Apples' 'Apricots' 'Asparagus' 'Barley' 'Beans, dry' 'Beans, green'\n",
      " 'Berries nes' 'Broad beans, horse beans, dry' 'Buckwheat'\n",
      " 'Cabbages and other brassicas' 'Carrots and turnips'\n",
      " 'Cauliflowers and broccoli' 'Cereals, nes' 'Cherries' 'Cherries, sour'\n",
      " 'Chillies and peppers, green' 'Cucumbers and gherkins' 'Currants'\n",
      " 'Eggplants (aubergines)' 'Flax fibre and tow' 'Garlic' 'Gooseberries'\n",
      " 'Grain, mixed' 'Grapes' 'Hemp tow waste' 'Hops'\n",
      " 'Leeks, other alliaceous vegetables' 'Lettuce and chicory' 'Linseed'\n",
      " 'Lupins' 'Maize' 'Maize, green' 'Millet' 'Mushrooms and truffles' 'Oats'\n",
      " 'Oilseeds nes' 'Onions, dry' 'Peaches and nectarines' 'Pears' 'Peas, dry'\n",
      " 'Peas, green' 'Plums and sloes' 'Poppy seed' 'Potatoes' 'Pulses, nes'\n",
      " 'Pumpkins, squash and gourds' 'Rapeseed' 'Raspberries' 'Rye' 'Sorghum'\n",
      " 'Soybeans' 'Spinach' 'Strawberries' 'Sugar beet' 'Sunflower seed'\n",
      " 'Tobacco, unmanufactured' 'Tomatoes' 'Triticale' 'Vegetables, fresh nes'\n",
      " 'Vegetables, leguminous nes' 'Vetches' 'Walnuts, with shell'\n",
      " 'Watermelons' 'Wheat' 'Almonds, with shell' 'Artichokes' 'Avocados'\n",
      " 'Blueberries' 'Chestnut' 'Chicory roots' 'Coconuts' 'Cranberries' 'Figs'\n",
      " 'Fruit, fresh nes' 'Fruit, stone nes' 'Grapefruit (inc. pomelos)'\n",
      " 'Hazelnuts, with shell' 'Hempseed' 'Kiwi fruit' 'Lemons and limes'\n",
      " 'Lentils' 'Melons, other (inc.cantaloupes)' 'Mustard seed' 'Olives'\n",
      " 'Onions, shallots, green' 'Oranges' 'Quinces' 'Rice, paddy'\n",
      " 'Roots and tubers, nes' 'String beans'\n",
      " 'Tangerines, mandarins, clementines, satsumas' 'Agave fibres nes'\n",
      " 'Anise, badian, fennel, coriander' 'Bananas' 'Carobs' 'Castor oil seed'\n",
      " 'Chick peas' 'Cotton lint' 'Cottonseed' 'Fruit, citrus nes'\n",
      " 'Groundnuts, with shell' 'Nuts, nes' 'Persimmons' 'Pistachios'\n",
      " 'Pyrethrum, dried' 'Seed cotton' 'Sesame seed' 'Spices, nes'\n",
      " 'Sweet potatoes']\n",
      "[1985 1986 1987 1988 1989 1990 1961 1962 1963 1964 1965 1966 1967 1968\n",
      " 1969 1970 1971 1972 1973 1974 1975 1976 1977 1978 1979 1980 1981 1982\n",
      " 1983 1984 1991 1992 1993 1994 1995 1996 1997 1998 1999 2000 2001 2002\n",
      " 2003 2004 2005 2006 2007 2008 2009 2010 2011 2012 2013 2014 2015 2016\n",
      " 2017]\n",
      "['ha' 'hg/ha' 'tonnes']\n",
      "['FAO estimate' 'Official data' 'Calculated data'\n",
      " 'FAO data based on imputation methodology' 'Unofficial figure']\n"
     ]
    }
   ],
   "source": [
    "print(raw_CH_crops_dataset['Domain'].unique())\n",
    "print(raw_CH_crops_dataset['Area'].unique())\n",
    "print(raw_CH_crops_dataset['Element'].unique())\n",
    "print(raw_CH_crops_dataset['Item'].unique())\n",
    "print(raw_CH_crops_dataset['Year'].unique())\n",
    "print(raw_CH_crops_dataset['Unit'].unique())\n",
    "print(raw_CH_crops_dataset['Flag Description'].unique())"
   ]
  },
  {
   "cell_type": "markdown",
   "metadata": {},
   "source": [
    "**Quick view of the crops dataset ready to be used**"
   ]
  },
  {
   "cell_type": "code",
   "execution_count": 11,
   "metadata": {},
   "outputs": [
    {
     "data": {
      "text/html": [
       "<div>\n",
       "<style scoped>\n",
       "    .dataframe tbody tr th:only-of-type {\n",
       "        vertical-align: middle;\n",
       "    }\n",
       "\n",
       "    .dataframe tbody tr th {\n",
       "        vertical-align: top;\n",
       "    }\n",
       "\n",
       "    .dataframe thead th {\n",
       "        text-align: right;\n",
       "    }\n",
       "</style>\n",
       "<table border=\"1\" class=\"dataframe\">\n",
       "  <thead>\n",
       "    <tr style=\"text-align: right;\">\n",
       "      <th></th>\n",
       "      <th>Domain</th>\n",
       "      <th>Area</th>\n",
       "      <th>Element</th>\n",
       "      <th>Item</th>\n",
       "      <th>Year</th>\n",
       "      <th>Unit</th>\n",
       "      <th>Value</th>\n",
       "      <th>Flag Description</th>\n",
       "    </tr>\n",
       "  </thead>\n",
       "  <tbody>\n",
       "    <tr>\n",
       "      <td>24</td>\n",
       "      <td>Crops</td>\n",
       "      <td>Austria</td>\n",
       "      <td>Area harvested</td>\n",
       "      <td>Apples</td>\n",
       "      <td>1985</td>\n",
       "      <td>ha</td>\n",
       "      <td>16100.0</td>\n",
       "      <td>FAO estimate</td>\n",
       "    </tr>\n",
       "    <tr>\n",
       "      <td>25</td>\n",
       "      <td>Crops</td>\n",
       "      <td>Austria</td>\n",
       "      <td>Area harvested</td>\n",
       "      <td>Apples</td>\n",
       "      <td>1986</td>\n",
       "      <td>ha</td>\n",
       "      <td>16120.0</td>\n",
       "      <td>FAO estimate</td>\n",
       "    </tr>\n",
       "    <tr>\n",
       "      <td>26</td>\n",
       "      <td>Crops</td>\n",
       "      <td>Austria</td>\n",
       "      <td>Area harvested</td>\n",
       "      <td>Apples</td>\n",
       "      <td>1987</td>\n",
       "      <td>ha</td>\n",
       "      <td>16700.0</td>\n",
       "      <td>FAO estimate</td>\n",
       "    </tr>\n",
       "    <tr>\n",
       "      <td>27</td>\n",
       "      <td>Crops</td>\n",
       "      <td>Austria</td>\n",
       "      <td>Area harvested</td>\n",
       "      <td>Apples</td>\n",
       "      <td>1988</td>\n",
       "      <td>ha</td>\n",
       "      <td>16720.0</td>\n",
       "      <td>FAO estimate</td>\n",
       "    </tr>\n",
       "    <tr>\n",
       "      <td>28</td>\n",
       "      <td>Crops</td>\n",
       "      <td>Austria</td>\n",
       "      <td>Area harvested</td>\n",
       "      <td>Apples</td>\n",
       "      <td>1989</td>\n",
       "      <td>ha</td>\n",
       "      <td>17330.0</td>\n",
       "      <td>FAO estimate</td>\n",
       "    </tr>\n",
       "  </tbody>\n",
       "</table>\n",
       "</div>"
      ],
      "text/plain": [
       "   Domain     Area         Element    Item  Year Unit    Value  \\\n",
       "24  Crops  Austria  Area harvested  Apples  1985   ha  16100.0   \n",
       "25  Crops  Austria  Area harvested  Apples  1986   ha  16120.0   \n",
       "26  Crops  Austria  Area harvested  Apples  1987   ha  16700.0   \n",
       "27  Crops  Austria  Area harvested  Apples  1988   ha  16720.0   \n",
       "28  Crops  Austria  Area harvested  Apples  1989   ha  17330.0   \n",
       "\n",
       "   Flag Description  \n",
       "24     FAO estimate  \n",
       "25     FAO estimate  \n",
       "26     FAO estimate  \n",
       "27     FAO estimate  \n",
       "28     FAO estimate  "
      ]
     },
     "execution_count": 11,
     "metadata": {},
     "output_type": "execute_result"
    }
   ],
   "source": [
    "raw_CH_crops_dataset.head()"
   ]
  },
  {
   "cell_type": "markdown",
   "metadata": {},
   "source": [
    "## **Crops plots :** what we can already see/investigate with this first dataset\n",
    "\n",
    "Even if we will probably not use those plots for final presentation/analysis, it helps us to see what's inside our data. It is quick and very visual."
   ]
  },
  {
   "cell_type": "markdown",
   "metadata": {},
   "source": [
    "### Plot production of all countries over time for a selected crop\n",
    "\n",
    "This plot is interactive. It allows you to choose for an item (apples, berries..) and shows you its production over years for the 6 countries (CH + Neighbours as listed above)."
   ]
  },
  {
   "cell_type": "code",
   "execution_count": 12,
   "metadata": {},
   "outputs": [],
   "source": [
    "import ipywidgets as widgets\n",
    "from ipywidgets import interact, interactive, fixed, interact_manual\n",
    "# All those  library importations would probably be at the begining for the final version of te notebook, \n",
    "# but for now, we just kee them where we use them since we don't know what we will keep or not."
   ]
  },
  {
   "cell_type": "code",
   "execution_count": 13,
   "metadata": {},
   "outputs": [
    {
     "data": {
      "application/vnd.jupyter.widget-view+json": {
       "model_id": "96ca1926cc7d4fec887063ca556eb530",
       "version_major": 2,
       "version_minor": 0
      },
      "text/plain": [
       "interactive(children=(Dropdown(description='item', options=('Apples', 'Apricots', 'Asparagus', 'Barley', 'Bean…"
      ]
     },
     "metadata": {},
     "output_type": "display_data"
    },
    {
     "data": {
      "text/plain": [
       "<function __main__.viz_evolution(item)>"
      ]
     },
     "execution_count": 13,
     "metadata": {},
     "output_type": "execute_result"
    }
   ],
   "source": [
    "#Interactive visualization\n",
    "\n",
    "#Plot the production of selected item for all countries over years\n",
    "def viz_evolution(item):\n",
    "    df_viz_evolution = raw_CH_crops_dataset.loc[raw_CH_crops_dataset['Element']=='Production'].loc[raw_CH_crops_dataset['Item']==item]\n",
    "    \n",
    "    # multiple line plot\n",
    "    plt.figure(figsize=(20,10))\n",
    "    plt.plot( 'Year', 'Value', data=df_viz_evolution.loc[df_viz_evolution['Area']=='Austria'], marker='', color='green',  label = 'Austria')\n",
    "    plt.plot( 'Year', 'Value', data=df_viz_evolution.loc[df_viz_evolution['Area']=='France'], marker='', color='skyblue', label = 'France')\n",
    "    plt.plot( 'Year', 'Value', data=df_viz_evolution.loc[df_viz_evolution['Area']=='Switzerland'], marker='', color='red', label = 'Switzerland', linewidth=3)\n",
    "    plt.plot( 'Year', 'Value', data=df_viz_evolution.loc[df_viz_evolution['Area']=='Germany'], marker='', color='orange', label = 'Germany')\n",
    "    plt.plot( 'Year', 'Value', data=df_viz_evolution.loc[df_viz_evolution['Area']=='Italy'], marker='', color='grey', label = 'Italy')\n",
    "    \n",
    "    plt.legend() \n",
    "    plt.title(f'Production of {item} in Switzerland and its neighbours throughout years', fontsize= 20)\n",
    "    plt.xlabel(\"Year\", fontsize= 20)\n",
    "    plt.ylabel(\"Values\", fontsize= 20)\n",
    "    plt.show()\n",
    "   \n",
    "items = raw_CH_crops_dataset.Item.unique()\n",
    "interact(viz_evolution, item = items)    "
   ]
  },
  {
   "cell_type": "markdown",
   "metadata": {},
   "source": [
    "For some datas we can see that we miss datas along some years. \n",
    "ex: item=Artichokes\n",
    "What do we do? linear interpolation? drop this item? "
   ]
  },
  {
   "cell_type": "markdown",
   "metadata": {},
   "source": [
    "### Plot production/area_harvested for all items of all countries over time.\n",
    "\n",
    "This plot is interactive. It allows you to choose for an element (production/area harvested/yield) and shows you the sum of all items for each country over years (CH & Co)"
   ]
  },
  {
   "cell_type": "code",
   "execution_count": 14,
   "metadata": {},
   "outputs": [
    {
     "data": {
      "text/html": [
       "<div>\n",
       "<style scoped>\n",
       "    .dataframe tbody tr th:only-of-type {\n",
       "        vertical-align: middle;\n",
       "    }\n",
       "\n",
       "    .dataframe tbody tr th {\n",
       "        vertical-align: top;\n",
       "    }\n",
       "\n",
       "    .dataframe thead th {\n",
       "        text-align: right;\n",
       "    }\n",
       "</style>\n",
       "<table border=\"1\" class=\"dataframe\">\n",
       "  <thead>\n",
       "    <tr style=\"text-align: right;\">\n",
       "      <th></th>\n",
       "      <th>Area</th>\n",
       "      <th>Element</th>\n",
       "      <th>Year</th>\n",
       "      <th>Sum</th>\n",
       "    </tr>\n",
       "  </thead>\n",
       "  <tbody>\n",
       "    <tr>\n",
       "      <td>0</td>\n",
       "      <td>Austria</td>\n",
       "      <td>Area harvested</td>\n",
       "      <td>1961</td>\n",
       "      <td>1179403.0</td>\n",
       "    </tr>\n",
       "    <tr>\n",
       "      <td>1</td>\n",
       "      <td>Austria</td>\n",
       "      <td>Area harvested</td>\n",
       "      <td>1962</td>\n",
       "      <td>1181222.0</td>\n",
       "    </tr>\n",
       "    <tr>\n",
       "      <td>2</td>\n",
       "      <td>Austria</td>\n",
       "      <td>Area harvested</td>\n",
       "      <td>1963</td>\n",
       "      <td>1174324.0</td>\n",
       "    </tr>\n",
       "    <tr>\n",
       "      <td>3</td>\n",
       "      <td>Austria</td>\n",
       "      <td>Area harvested</td>\n",
       "      <td>1964</td>\n",
       "      <td>1183615.0</td>\n",
       "    </tr>\n",
       "    <tr>\n",
       "      <td>4</td>\n",
       "      <td>Austria</td>\n",
       "      <td>Area harvested</td>\n",
       "      <td>1965</td>\n",
       "      <td>1133820.0</td>\n",
       "    </tr>\n",
       "  </tbody>\n",
       "</table>\n",
       "</div>"
      ],
      "text/plain": [
       "      Area         Element  Year        Sum\n",
       "0  Austria  Area harvested  1961  1179403.0\n",
       "1  Austria  Area harvested  1962  1181222.0\n",
       "2  Austria  Area harvested  1963  1174324.0\n",
       "3  Austria  Area harvested  1964  1183615.0\n",
       "4  Austria  Area harvested  1965  1133820.0"
      ]
     },
     "execution_count": 14,
     "metadata": {},
     "output_type": "execute_result"
    }
   ],
   "source": [
    "# plot area harvested of each country over years\n",
    "crops_sum = raw_CH_crops_dataset.groupby(['Area', 'Element','Year']) \\\n",
    "                                .agg({'Value':'sum'}) \\\n",
    "                                .rename(columns={'Value':'Sum'}) \\\n",
    "                                .reset_index()\n",
    "crops_sum.head() # Sum of area/yiel/production of items by country and year"
   ]
  },
  {
   "cell_type": "code",
   "execution_count": 15,
   "metadata": {},
   "outputs": [
    {
     "data": {
      "application/vnd.jupyter.widget-view+json": {
       "model_id": "51acba5c3cbb4f7c83c69c345b4fb63f",
       "version_major": 2,
       "version_minor": 0
      },
      "text/plain": [
       "interactive(children=(Dropdown(description='element', options=('Area harvested', 'Production', 'Yield'), value…"
      ]
     },
     "metadata": {},
     "output_type": "display_data"
    },
    {
     "data": {
      "text/plain": [
       "<function __main__.viz_sum_evolution(element)>"
      ]
     },
     "execution_count": 15,
     "metadata": {},
     "output_type": "execute_result"
    }
   ],
   "source": [
    "#Interactive visualization\n",
    "\n",
    "#Plot the area harvested (sum of all items) for all countries over years\n",
    "def viz_sum_evolution(element):\n",
    "    df_viz_sum_evolution = crops_sum.loc[crops_sum['Element']== element]\n",
    "    \n",
    "    # multiple line plot\n",
    "    plt.figure(figsize=(20,10))\n",
    "    plt.plot( 'Year', 'Sum', data=df_viz_sum_evolution.loc[df_viz_sum_evolution['Area']=='Austria'], marker='', color='green',  label = 'Austria')\n",
    "    plt.plot( 'Year', 'Sum', data=df_viz_sum_evolution.loc[df_viz_sum_evolution['Area']=='France'], marker='', color='skyblue', label = 'France')\n",
    "    plt.plot( 'Year', 'Sum', data=df_viz_sum_evolution.loc[df_viz_sum_evolution['Area']=='Switzerland'], marker='', color='red', label = 'Switzerland', linewidth=3)\n",
    "    plt.plot( 'Year', 'Sum', data=df_viz_sum_evolution.loc[df_viz_sum_evolution['Area']=='Germany'], marker='', color='orange', label = 'Germany')\n",
    "    plt.plot( 'Year', 'Sum', data=df_viz_sum_evolution.loc[df_viz_sum_evolution['Area']=='Italy'], marker='', color='grey', label = 'Italy')\n",
    "    \n",
    "    plt.legend() \n",
    "    plt.title(f'{element} of all items in Switzerland and its neighbours throughout years', fontsize= 20)\n",
    "    plt.xlabel(\"Year\", fontsize= 20)\n",
    "    plt.ylabel(\"Values\", fontsize= 20)\n",
    "    plt.show()\n",
    "   \n",
    "elements = crops_sum.Element.unique()\n",
    "interact(viz_sum_evolution, element = elements)  "
   ]
  },
  {
   "cell_type": "markdown",
   "metadata": {},
   "source": [
    "## Data loading - Land use indicators \n",
    "\n",
    "File contains data about Switzerland and neighbours (Italy, Germany, France, Austria and Liechtenstein).\n",
    "This file will allow is to know the potential of Switzerland in term of agriculture. Does the country use all his land or not? \n",
    "\n",
    "Data exploration and pre-processing is very simmilar to first dataset. We will therefore not describe all steps as precisely as before."
   ]
  },
  {
   "cell_type": "code",
   "execution_count": 16,
   "metadata": {},
   "outputs": [],
   "source": [
    "raw_land_use_dataset = pd.read_csv('../data/FAOSTAT_data_LandUseIndicators.csv')"
   ]
  },
  {
   "cell_type": "code",
   "execution_count": 17,
   "metadata": {},
   "outputs": [
    {
     "data": {
      "text/html": [
       "<div>\n",
       "<style scoped>\n",
       "    .dataframe tbody tr th:only-of-type {\n",
       "        vertical-align: middle;\n",
       "    }\n",
       "\n",
       "    .dataframe tbody tr th {\n",
       "        vertical-align: top;\n",
       "    }\n",
       "\n",
       "    .dataframe thead th {\n",
       "        text-align: right;\n",
       "    }\n",
       "</style>\n",
       "<table border=\"1\" class=\"dataframe\">\n",
       "  <thead>\n",
       "    <tr style=\"text-align: right;\">\n",
       "      <th></th>\n",
       "      <th>Domain Code</th>\n",
       "      <th>Domain</th>\n",
       "      <th>Area Code</th>\n",
       "      <th>Area</th>\n",
       "      <th>Element Code</th>\n",
       "      <th>Element</th>\n",
       "      <th>Item Code</th>\n",
       "      <th>Item</th>\n",
       "      <th>Year Code</th>\n",
       "      <th>Year</th>\n",
       "      <th>Unit</th>\n",
       "      <th>Value</th>\n",
       "      <th>Flag</th>\n",
       "      <th>Flag Description</th>\n",
       "    </tr>\n",
       "  </thead>\n",
       "  <tbody>\n",
       "    <tr>\n",
       "      <td>0</td>\n",
       "      <td>EL</td>\n",
       "      <td>Land use indicators</td>\n",
       "      <td>11</td>\n",
       "      <td>Austria</td>\n",
       "      <td>7208</td>\n",
       "      <td>Share in Agricultural land</td>\n",
       "      <td>6621</td>\n",
       "      <td>Arable land</td>\n",
       "      <td>1961</td>\n",
       "      <td>1961</td>\n",
       "      <td>%</td>\n",
       "      <td>47.51</td>\n",
       "      <td>Fc</td>\n",
       "      <td>Calculated data</td>\n",
       "    </tr>\n",
       "    <tr>\n",
       "      <td>1</td>\n",
       "      <td>EL</td>\n",
       "      <td>Land use indicators</td>\n",
       "      <td>11</td>\n",
       "      <td>Austria</td>\n",
       "      <td>7208</td>\n",
       "      <td>Share in Agricultural land</td>\n",
       "      <td>6621</td>\n",
       "      <td>Arable land</td>\n",
       "      <td>1962</td>\n",
       "      <td>1962</td>\n",
       "      <td>%</td>\n",
       "      <td>47.61</td>\n",
       "      <td>Fc</td>\n",
       "      <td>Calculated data</td>\n",
       "    </tr>\n",
       "    <tr>\n",
       "      <td>2</td>\n",
       "      <td>EL</td>\n",
       "      <td>Land use indicators</td>\n",
       "      <td>11</td>\n",
       "      <td>Austria</td>\n",
       "      <td>7208</td>\n",
       "      <td>Share in Agricultural land</td>\n",
       "      <td>6621</td>\n",
       "      <td>Arable land</td>\n",
       "      <td>1963</td>\n",
       "      <td>1963</td>\n",
       "      <td>%</td>\n",
       "      <td>47.45</td>\n",
       "      <td>Fc</td>\n",
       "      <td>Calculated data</td>\n",
       "    </tr>\n",
       "    <tr>\n",
       "      <td>3</td>\n",
       "      <td>EL</td>\n",
       "      <td>Land use indicators</td>\n",
       "      <td>11</td>\n",
       "      <td>Austria</td>\n",
       "      <td>7208</td>\n",
       "      <td>Share in Agricultural land</td>\n",
       "      <td>6621</td>\n",
       "      <td>Arable land</td>\n",
       "      <td>1964</td>\n",
       "      <td>1964</td>\n",
       "      <td>%</td>\n",
       "      <td>47.66</td>\n",
       "      <td>Fc</td>\n",
       "      <td>Calculated data</td>\n",
       "    </tr>\n",
       "    <tr>\n",
       "      <td>4</td>\n",
       "      <td>EL</td>\n",
       "      <td>Land use indicators</td>\n",
       "      <td>11</td>\n",
       "      <td>Austria</td>\n",
       "      <td>7208</td>\n",
       "      <td>Share in Agricultural land</td>\n",
       "      <td>6621</td>\n",
       "      <td>Arable land</td>\n",
       "      <td>1965</td>\n",
       "      <td>1965</td>\n",
       "      <td>%</td>\n",
       "      <td>47.92</td>\n",
       "      <td>Fc</td>\n",
       "      <td>Calculated data</td>\n",
       "    </tr>\n",
       "  </tbody>\n",
       "</table>\n",
       "</div>"
      ],
      "text/plain": [
       "  Domain Code               Domain  Area Code     Area  Element Code  \\\n",
       "0          EL  Land use indicators         11  Austria          7208   \n",
       "1          EL  Land use indicators         11  Austria          7208   \n",
       "2          EL  Land use indicators         11  Austria          7208   \n",
       "3          EL  Land use indicators         11  Austria          7208   \n",
       "4          EL  Land use indicators         11  Austria          7208   \n",
       "\n",
       "                      Element  Item Code         Item  Year Code  Year Unit  \\\n",
       "0  Share in Agricultural land       6621  Arable land       1961  1961    %   \n",
       "1  Share in Agricultural land       6621  Arable land       1962  1962    %   \n",
       "2  Share in Agricultural land       6621  Arable land       1963  1963    %   \n",
       "3  Share in Agricultural land       6621  Arable land       1964  1964    %   \n",
       "4  Share in Agricultural land       6621  Arable land       1965  1965    %   \n",
       "\n",
       "   Value Flag Flag Description  \n",
       "0  47.51   Fc  Calculated data  \n",
       "1  47.61   Fc  Calculated data  \n",
       "2  47.45   Fc  Calculated data  \n",
       "3  47.66   Fc  Calculated data  \n",
       "4  47.92   Fc  Calculated data  "
      ]
     },
     "execution_count": 17,
     "metadata": {},
     "output_type": "execute_result"
    }
   ],
   "source": [
    "raw_land_use_dataset.head()"
   ]
  },
  {
   "cell_type": "code",
   "execution_count": 18,
   "metadata": {},
   "outputs": [],
   "source": [
    "raw_land_use_dataset =raw_land_use_dataset[['Domain', 'Area', 'Element', 'Item', 'Year', 'Unit', 'Value', 'Flag Description']]"
   ]
  },
  {
   "cell_type": "code",
   "execution_count": 19,
   "metadata": {},
   "outputs": [
    {
     "name": "stdout",
     "output_type": "stream",
     "text": [
      "Size of the DataFrame: (3324, 8)\n",
      "\n",
      "Variable types present in DataFrame: \n",
      "Domain               object\n",
      "Area                 object\n",
      "Element              object\n",
      "Item                 object\n",
      "Year                  int64\n",
      "Unit                 object\n",
      "Value               float64\n",
      "Flag Description     object\n",
      "dtype: object\n"
     ]
    }
   ],
   "source": [
    "print(\"Size of the DataFrame: {s}\\n\".format(s=raw_land_use_dataset.shape))\n",
    "print(\"Variable types present in DataFrame: \\n{t}\".format(t=raw_land_use_dataset.dtypes))"
   ]
  },
  {
   "cell_type": "code",
   "execution_count": 20,
   "metadata": {},
   "outputs": [
    {
     "name": "stdout",
     "output_type": "stream",
     "text": [
      "[False False False False False False False False]\n"
     ]
    }
   ],
   "source": [
    "print(raw_land_use_dataset.isnull().values.any(axis=0))  # --> PERFECT!"
   ]
  },
  {
   "cell_type": "code",
   "execution_count": 21,
   "metadata": {},
   "outputs": [
    {
     "name": "stdout",
     "output_type": "stream",
     "text": [
      "['Land use indicators']\n",
      "['Austria' 'France' 'Germany' 'Italy' 'Liechtenstein' 'Switzerland']\n",
      "['Share in Agricultural land' 'Share in Land area' 'Share in Forest land']\n",
      "['Arable land' 'Land under permanent crops' 'Cropland'\n",
      " 'Land under perm. meadows and pastures'\n",
      " 'Agriculture area actually irrigated' 'Land area equipped for irrigation'\n",
      " 'Agricultural land' 'Forest land' 'Primary Forest' 'Planted Forest'\n",
      " 'Other naturally regenerated forest'\n",
      " 'Agriculture area under organic agric.']\n",
      "[1961 1962 1963 1964 1965 1966 1967 1968 1969 1970 1971 1972 1973 1974\n",
      " 1975 1976 1977 1978 1979 1980 1981 1982 1983 1984 1985 1986 1987 1988\n",
      " 1989 1990 1991 1992 1993 1994 1995 1996 1997 1998 1999 2000 2001 2002\n",
      " 2003 2004 2005 2006 2007 2008 2009 2010 2011 2012 2013 2014 2015 2016]\n",
      "['%']\n",
      "['Calculated data']\n"
     ]
    }
   ],
   "source": [
    "print(raw_land_use_dataset['Domain'].unique())\n",
    "print(raw_land_use_dataset['Area'].unique())\n",
    "print(raw_land_use_dataset['Element'].unique())\n",
    "print(raw_land_use_dataset['Item'].unique())\n",
    "print(raw_land_use_dataset['Year'].unique())\n",
    "print(raw_land_use_dataset['Unit'].unique())\n",
    "print(raw_land_use_dataset['Flag Description'].unique())"
   ]
  },
  {
   "cell_type": "markdown",
   "metadata": {},
   "source": [
    "## **Land use indicators plots :** what we can already see/investigate with this second dataset\n",
    "\n",
    "Even if we will probably not use those plots for final presentation/analysis, it helps us to see what's inside our data. It is quick and very visual."
   ]
  },
  {
   "cell_type": "markdown",
   "metadata": {},
   "source": [
    "### Plot the lands distribution in Switzerland\n",
    "\n",
    "We would like to precise those data (with more datasets) by including also urban areas to the distribution."
   ]
  },
  {
   "cell_type": "code",
   "execution_count": 22,
   "metadata": {},
   "outputs": [
    {
     "data": {
      "image/png": "[encoded data removed]",
      "text/plain": [
       "<Figure size 432x288 with 1 Axes>"
      ]
     },
     "metadata": {},
     "output_type": "display_data"
    },
    {
     "data": {
      "image/png": "[encoded data removed]",
      "text/plain": [
       "<Figure size 432x288 with 1 Axes>"
      ]
     },
     "metadata": {},
     "output_type": "display_data"
    }
   ],
   "source": [
    "import matplotlib.pyplot as plt\n",
    "\n",
    "# DataFrames to plot\n",
    "df_land = raw_land_use_dataset.loc[raw_land_use_dataset['Area']=='Switzerland'].loc[raw_land_use_dataset['Year']==2016].loc[raw_land_use_dataset['Element']=='Share in Land area']\n",
    "df_agri = raw_land_use_dataset.loc[raw_land_use_dataset['Area']=='Switzerland'].loc[raw_land_use_dataset['Year']==2016].loc[raw_land_use_dataset['Element']=='Share in Agricultural land']\n",
    "\n",
    "# Pie plot #1\n",
    "labels1 = df_land.Item\n",
    "sizes1 = df_land.Value\n",
    "explode = (0, 0, 0.1, 0)  # only \"explode\" the 3rd slice\n",
    "\n",
    "fig1, ax1 = plt.subplots()\n",
    "ax1.pie(sizes1, explode=explode,labels=labels1, autopct='%1.1f%%',\n",
    "        shadow=True, startangle=90)\n",
    "ax1.axis('equal')  # Equal aspect ratio ensures that pie is drawn as a circle.\n",
    "ax1.title.set_text('Distribution of lands in Switzerland, year 2016')\n",
    "fig1.set_facecolor('white')\n",
    "\n",
    "# Pie plot #2\n",
    "labels2 = df_agri.Item\n",
    "sizes2 = df_agri.Value\n",
    "fig1, ax2 = plt.subplots()\n",
    "ax2.pie(sizes2, labels=labels2, autopct='%1.1f%%',\n",
    "        shadow=True, startangle=90)\n",
    "ax2.axis('equal')  # Equal aspect ratio ensures that pie is drawn as a circle.\n",
    "ax2.title.set_text('Distribution of agricultural lands in Switzerland, year 2016')\n",
    "\n",
    "# General settings\n",
    "fig1.set_facecolor('white')\n",
    "plt.show()"
   ]
  },
  {
   "cell_type": "markdown",
   "metadata": {},
   "source": [
    "## Data loading - Demographical data \n",
    "\n",
    "File contains data about Switzerland and neighbours (Italy, Germany, France, Austria and Liechtenstein).\n",
    "These data will allow us to know the number of consumers in switzerland and to compare the possible food-autonomie between switzerland and its neighbours. we would like to answer questions as: With the growing population, can we feed everybody with Swiss agriculture in the next few years?\n",
    "\n",
    "Data exploration and pre-processing is very simmilar to first dataset. We will therefore not describe all steps as precisely as before."
   ]
  },
  {
   "cell_type": "code",
   "execution_count": 23,
   "metadata": {},
   "outputs": [],
   "source": [
    "demography = pd.read_csv('../data/FAOSTAT_data_demography.csv')"
   ]
  },
  {
   "cell_type": "code",
   "execution_count": 24,
   "metadata": {},
   "outputs": [
    {
     "data": {
      "text/html": [
       "<div>\n",
       "<style scoped>\n",
       "    .dataframe tbody tr th:only-of-type {\n",
       "        vertical-align: middle;\n",
       "    }\n",
       "\n",
       "    .dataframe tbody tr th {\n",
       "        vertical-align: top;\n",
       "    }\n",
       "\n",
       "    .dataframe thead th {\n",
       "        text-align: right;\n",
       "    }\n",
       "</style>\n",
       "<table border=\"1\" class=\"dataframe\">\n",
       "  <thead>\n",
       "    <tr style=\"text-align: right;\">\n",
       "      <th></th>\n",
       "      <th>Domain Code</th>\n",
       "      <th>Domain</th>\n",
       "      <th>Area Code</th>\n",
       "      <th>Area</th>\n",
       "      <th>Element Code</th>\n",
       "      <th>Element</th>\n",
       "      <th>Item Code</th>\n",
       "      <th>Item</th>\n",
       "      <th>Year Code</th>\n",
       "      <th>Year</th>\n",
       "      <th>Unit</th>\n",
       "      <th>Value</th>\n",
       "      <th>Flag</th>\n",
       "      <th>Flag Description</th>\n",
       "      <th>Note</th>\n",
       "    </tr>\n",
       "  </thead>\n",
       "  <tbody>\n",
       "    <tr>\n",
       "      <td>0</td>\n",
       "      <td>OA</td>\n",
       "      <td>Annual population</td>\n",
       "      <td>11</td>\n",
       "      <td>Austria</td>\n",
       "      <td>511</td>\n",
       "      <td>Total Population - Both sexes</td>\n",
       "      <td>3010</td>\n",
       "      <td>Population - Est. &amp; Proj.</td>\n",
       "      <td>1950</td>\n",
       "      <td>1950</td>\n",
       "      <td>1000 persons</td>\n",
       "      <td>6936.439</td>\n",
       "      <td>X</td>\n",
       "      <td>International reliable sources</td>\n",
       "      <td>UNDESA, Population Division – World Population...</td>\n",
       "    </tr>\n",
       "    <tr>\n",
       "      <td>1</td>\n",
       "      <td>OA</td>\n",
       "      <td>Annual population</td>\n",
       "      <td>11</td>\n",
       "      <td>Austria</td>\n",
       "      <td>511</td>\n",
       "      <td>Total Population - Both sexes</td>\n",
       "      <td>3010</td>\n",
       "      <td>Population - Est. &amp; Proj.</td>\n",
       "      <td>1951</td>\n",
       "      <td>1951</td>\n",
       "      <td>1000 persons</td>\n",
       "      <td>6931.338</td>\n",
       "      <td>X</td>\n",
       "      <td>International reliable sources</td>\n",
       "      <td>UNDESA, Population Division – World Population...</td>\n",
       "    </tr>\n",
       "    <tr>\n",
       "      <td>2</td>\n",
       "      <td>OA</td>\n",
       "      <td>Annual population</td>\n",
       "      <td>11</td>\n",
       "      <td>Austria</td>\n",
       "      <td>511</td>\n",
       "      <td>Total Population - Both sexes</td>\n",
       "      <td>3010</td>\n",
       "      <td>Population - Est. &amp; Proj.</td>\n",
       "      <td>1952</td>\n",
       "      <td>1952</td>\n",
       "      <td>1000 persons</td>\n",
       "      <td>6931.196</td>\n",
       "      <td>X</td>\n",
       "      <td>International reliable sources</td>\n",
       "      <td>UNDESA, Population Division – World Population...</td>\n",
       "    </tr>\n",
       "    <tr>\n",
       "      <td>3</td>\n",
       "      <td>OA</td>\n",
       "      <td>Annual population</td>\n",
       "      <td>11</td>\n",
       "      <td>Austria</td>\n",
       "      <td>511</td>\n",
       "      <td>Total Population - Both sexes</td>\n",
       "      <td>3010</td>\n",
       "      <td>Population - Est. &amp; Proj.</td>\n",
       "      <td>1953</td>\n",
       "      <td>1953</td>\n",
       "      <td>1000 persons</td>\n",
       "      <td>6935.142</td>\n",
       "      <td>X</td>\n",
       "      <td>International reliable sources</td>\n",
       "      <td>UNDESA, Population Division – World Population...</td>\n",
       "    </tr>\n",
       "    <tr>\n",
       "      <td>4</td>\n",
       "      <td>OA</td>\n",
       "      <td>Annual population</td>\n",
       "      <td>11</td>\n",
       "      <td>Austria</td>\n",
       "      <td>511</td>\n",
       "      <td>Total Population - Both sexes</td>\n",
       "      <td>3010</td>\n",
       "      <td>Population - Est. &amp; Proj.</td>\n",
       "      <td>1954</td>\n",
       "      <td>1954</td>\n",
       "      <td>1000 persons</td>\n",
       "      <td>6942.619</td>\n",
       "      <td>X</td>\n",
       "      <td>International reliable sources</td>\n",
       "      <td>UNDESA, Population Division – World Population...</td>\n",
       "    </tr>\n",
       "    <tr>\n",
       "      <td>...</td>\n",
       "      <td>...</td>\n",
       "      <td>...</td>\n",
       "      <td>...</td>\n",
       "      <td>...</td>\n",
       "      <td>...</td>\n",
       "      <td>...</td>\n",
       "      <td>...</td>\n",
       "      <td>...</td>\n",
       "      <td>...</td>\n",
       "      <td>...</td>\n",
       "      <td>...</td>\n",
       "      <td>...</td>\n",
       "      <td>...</td>\n",
       "      <td>...</td>\n",
       "      <td>...</td>\n",
       "    </tr>\n",
       "    <tr>\n",
       "      <td>409</td>\n",
       "      <td>OA</td>\n",
       "      <td>Annual population</td>\n",
       "      <td>211</td>\n",
       "      <td>Switzerland</td>\n",
       "      <td>511</td>\n",
       "      <td>Total Population - Both sexes</td>\n",
       "      <td>3010</td>\n",
       "      <td>Population - Est. &amp; Proj.</td>\n",
       "      <td>2014</td>\n",
       "      <td>2014</td>\n",
       "      <td>1000 persons</td>\n",
       "      <td>8206.002</td>\n",
       "      <td>X</td>\n",
       "      <td>International reliable sources</td>\n",
       "      <td>NaN</td>\n",
       "    </tr>\n",
       "    <tr>\n",
       "      <td>410</td>\n",
       "      <td>OA</td>\n",
       "      <td>Annual population</td>\n",
       "      <td>211</td>\n",
       "      <td>Switzerland</td>\n",
       "      <td>511</td>\n",
       "      <td>Total Population - Both sexes</td>\n",
       "      <td>3010</td>\n",
       "      <td>Population - Est. &amp; Proj.</td>\n",
       "      <td>2015</td>\n",
       "      <td>2015</td>\n",
       "      <td>1000 persons</td>\n",
       "      <td>8296.775</td>\n",
       "      <td>X</td>\n",
       "      <td>International reliable sources</td>\n",
       "      <td>NaN</td>\n",
       "    </tr>\n",
       "    <tr>\n",
       "      <td>411</td>\n",
       "      <td>OA</td>\n",
       "      <td>Annual population</td>\n",
       "      <td>211</td>\n",
       "      <td>Switzerland</td>\n",
       "      <td>511</td>\n",
       "      <td>Total Population - Both sexes</td>\n",
       "      <td>3010</td>\n",
       "      <td>Population - Est. &amp; Proj.</td>\n",
       "      <td>2016</td>\n",
       "      <td>2016</td>\n",
       "      <td>1000 persons</td>\n",
       "      <td>8379.917</td>\n",
       "      <td>X</td>\n",
       "      <td>International reliable sources</td>\n",
       "      <td>NaN</td>\n",
       "    </tr>\n",
       "    <tr>\n",
       "      <td>412</td>\n",
       "      <td>OA</td>\n",
       "      <td>Annual population</td>\n",
       "      <td>211</td>\n",
       "      <td>Switzerland</td>\n",
       "      <td>511</td>\n",
       "      <td>Total Population - Both sexes</td>\n",
       "      <td>3010</td>\n",
       "      <td>Population - Est. &amp; Proj.</td>\n",
       "      <td>2017</td>\n",
       "      <td>2017</td>\n",
       "      <td>1000 persons</td>\n",
       "      <td>8455.804</td>\n",
       "      <td>X</td>\n",
       "      <td>International reliable sources</td>\n",
       "      <td>NaN</td>\n",
       "    </tr>\n",
       "    <tr>\n",
       "      <td>413</td>\n",
       "      <td>OA</td>\n",
       "      <td>Annual population</td>\n",
       "      <td>211</td>\n",
       "      <td>Switzerland</td>\n",
       "      <td>511</td>\n",
       "      <td>Total Population - Both sexes</td>\n",
       "      <td>3010</td>\n",
       "      <td>Population - Est. &amp; Proj.</td>\n",
       "      <td>2018</td>\n",
       "      <td>2018</td>\n",
       "      <td>1000 persons</td>\n",
       "      <td>8525.611</td>\n",
       "      <td>X</td>\n",
       "      <td>International reliable sources</td>\n",
       "      <td>NaN</td>\n",
       "    </tr>\n",
       "  </tbody>\n",
       "</table>\n",
       "<p>414 rows × 15 columns</p>\n",
       "</div>"
      ],
      "text/plain": [
       "    Domain Code             Domain  Area Code         Area  Element Code  \\\n",
       "0            OA  Annual population         11      Austria           511   \n",
       "1            OA  Annual population         11      Austria           511   \n",
       "2            OA  Annual population         11      Austria           511   \n",
       "3            OA  Annual population         11      Austria           511   \n",
       "4            OA  Annual population         11      Austria           511   \n",
       "..          ...                ...        ...          ...           ...   \n",
       "409          OA  Annual population        211  Switzerland           511   \n",
       "410          OA  Annual population        211  Switzerland           511   \n",
       "411          OA  Annual population        211  Switzerland           511   \n",
       "412          OA  Annual population        211  Switzerland           511   \n",
       "413          OA  Annual population        211  Switzerland           511   \n",
       "\n",
       "                           Element  Item Code                       Item  \\\n",
       "0    Total Population - Both sexes       3010  Population - Est. & Proj.   \n",
       "1    Total Population - Both sexes       3010  Population - Est. & Proj.   \n",
       "2    Total Population - Both sexes       3010  Population - Est. & Proj.   \n",
       "3    Total Population - Both sexes       3010  Population - Est. & Proj.   \n",
       "4    Total Population - Both sexes       3010  Population - Est. & Proj.   \n",
       "..                             ...        ...                        ...   \n",
       "409  Total Population - Both sexes       3010  Population - Est. & Proj.   \n",
       "410  Total Population - Both sexes       3010  Population - Est. & Proj.   \n",
       "411  Total Population - Both sexes       3010  Population - Est. & Proj.   \n",
       "412  Total Population - Both sexes       3010  Population - Est. & Proj.   \n",
       "413  Total Population - Both sexes       3010  Population - Est. & Proj.   \n",
       "\n",
       "     Year Code  Year          Unit     Value Flag  \\\n",
       "0         1950  1950  1000 persons  6936.439    X   \n",
       "1         1951  1951  1000 persons  6931.338    X   \n",
       "2         1952  1952  1000 persons  6931.196    X   \n",
       "3         1953  1953  1000 persons  6935.142    X   \n",
       "4         1954  1954  1000 persons  6942.619    X   \n",
       "..         ...   ...           ...       ...  ...   \n",
       "409       2014  2014  1000 persons  8206.002    X   \n",
       "410       2015  2015  1000 persons  8296.775    X   \n",
       "411       2016  2016  1000 persons  8379.917    X   \n",
       "412       2017  2017  1000 persons  8455.804    X   \n",
       "413       2018  2018  1000 persons  8525.611    X   \n",
       "\n",
       "                   Flag Description  \\\n",
       "0    International reliable sources   \n",
       "1    International reliable sources   \n",
       "2    International reliable sources   \n",
       "3    International reliable sources   \n",
       "4    International reliable sources   \n",
       "..                              ...   \n",
       "409  International reliable sources   \n",
       "410  International reliable sources   \n",
       "411  International reliable sources   \n",
       "412  International reliable sources   \n",
       "413  International reliable sources   \n",
       "\n",
       "                                                  Note  \n",
       "0    UNDESA, Population Division – World Population...  \n",
       "1    UNDESA, Population Division – World Population...  \n",
       "2    UNDESA, Population Division – World Population...  \n",
       "3    UNDESA, Population Division – World Population...  \n",
       "4    UNDESA, Population Division – World Population...  \n",
       "..                                                 ...  \n",
       "409                                                NaN  \n",
       "410                                                NaN  \n",
       "411                                                NaN  \n",
       "412                                                NaN  \n",
       "413                                                NaN  \n",
       "\n",
       "[414 rows x 15 columns]"
      ]
     },
     "execution_count": 24,
     "metadata": {},
     "output_type": "execute_result"
    }
   ],
   "source": [
    "demography"
   ]
  },
  {
   "cell_type": "code",
   "execution_count": 25,
   "metadata": {
    "scrolled": true
   },
   "outputs": [
    {
     "name": "stdout",
     "output_type": "stream",
     "text": [
      "['OA']\n",
      "['Annual population']\n",
      "[ 11  68  79 106 125 211]\n",
      "['Austria' 'France' 'Germany' 'Italy' 'Liechtenstein' 'Switzerland']\n",
      "[511]\n",
      "['Total Population - Both sexes']\n",
      "[3010]\n",
      "['Population - Est. & Proj.']\n",
      "[1950 1951 1952 1953 1954 1955 1956 1957 1958 1959 1960 1961 1962 1963\n",
      " 1964 1965 1966 1967 1968 1969 1970 1971 1972 1973 1974 1975 1976 1977\n",
      " 1978 1979 1980 1981 1982 1983 1984 1985 1986 1987 1988 1989 1990 1991\n",
      " 1992 1993 1994 1995 1996 1997 1998 1999 2000 2001 2002 2003 2004 2005\n",
      " 2006 2007 2008 2009 2010 2011 2012 2013 2014 2015 2016 2017 2018]\n",
      "[1950 1951 1952 1953 1954 1955 1956 1957 1958 1959 1960 1961 1962 1963\n",
      " 1964 1965 1966 1967 1968 1969 1970 1971 1972 1973 1974 1975 1976 1977\n",
      " 1978 1979 1980 1981 1982 1983 1984 1985 1986 1987 1988 1989 1990 1991\n",
      " 1992 1993 1994 1995 1996 1997 1998 1999 2000 2001 2002 2003 2004 2005\n",
      " 2006 2007 2008 2009 2010 2011 2012 2013 2014 2015 2016 2017 2018]\n",
      "['1000 persons']\n",
      "[6.9364390e+03 6.9313380e+03 6.9311960e+03 6.9351420e+03 6.9426190e+03\n",
      " 6.9534060e+03 6.9676250e+03 6.9857240e+03 7.0084240e+03 7.0365500e+03\n",
      " 7.0707660e+03 7.1111420e+03 7.1568330e+03 7.2059940e+03 7.2560910e+03\n",
      " 7.3051580e+03 7.3522400e+03 7.3971710e+03 7.4395790e+03 7.4793460e+03\n",
      " 7.5162390e+03 7.5503400e+03 7.5811170e+03 7.6070650e+03 7.6262900e+03\n",
      " 7.6376890e+03 7.6407490e+03 7.6365760e+03 7.6277590e+03 7.6178840e+03\n",
      " 7.6097520e+03 7.6045130e+03 7.6021810e+03 7.6031020e+03 7.6072930e+03\n",
      " 7.6148680e+03 7.6253930e+03 7.6393520e+03 7.6588400e+03 7.6865720e+03\n",
      " 7.7239490e+03 7.7727010e+03 7.8309330e+03 7.8920860e+03 7.9472090e+03\n",
      " 7.9901210e+03 8.0178630e+03 8.0328760e+03 8.0410500e+03 8.0511130e+03\n",
      " 8.0692760e+03 8.0977480e+03 8.1344120e+03 8.1758520e+03 8.2168050e+03\n",
      " 8.2536500e+03 8.2853430e+03 8.3137370e+03 8.3415320e+03 8.3726630e+03\n",
      " 8.4099490e+03 8.4535010e+03 8.5022270e+03 8.5561890e+03 8.6152140e+03\n",
      " 8.6786600e+03 8.7473010e+03 8.8199010e+03 8.8913880e+03 4.1833882e+04\n",
      " 4.2031191e+04 4.2315600e+04 4.2654662e+04 4.3024816e+04 4.3411367e+04\n",
      " 4.3808989e+04 4.4221227e+04 4.4659046e+04 4.5138438e+04 4.5673146e+04\n",
      " 4.6266981e+04 4.6907042e+04 4.7560826e+04 4.8184418e+04 4.8746652e+04\n",
      " 4.9232539e+04 4.9651083e+04 5.0024582e+04 5.0387448e+04 5.0763920e+04\n",
      " 5.1162568e+04 5.1573265e+04 5.1979527e+04 5.2356796e+04 5.2688576e+04\n",
      " 5.2969317e+04 5.3208554e+04 5.3423112e+04 5.3637069e+04 5.3868009e+04\n",
      " 5.4121013e+04 5.4391471e+04 5.4675371e+04 5.4965164e+04 5.5254848e+04\n",
      " 5.5545273e+04 5.5837627e+04 5.6126325e+04 5.6404304e+04 5.6666849e+04\n",
      " 5.6913587e+04 5.7147213e+04 5.7370381e+04 5.7587131e+04 5.7801892e+04\n",
      " 5.8012058e+04 5.8220659e+04 5.8444246e+04 5.8704381e+04 5.9015096e+04\n",
      " 5.9384132e+04 5.9803441e+04 6.0251588e+04 6.0697981e+04 6.1120127e+04\n",
      " 6.1508926e+04 6.1869227e+04 6.2209207e+04 6.2542900e+04 6.2879530e+04\n",
      " 6.3222227e+04 6.3564221e+04 6.3893525e+04 6.4193550e+04 6.4453200e+04\n",
      " 6.4667596e+04 6.4842509e+04 6.4990511e+04 6.9966243e+04 7.0300010e+04\n",
      " 7.0620277e+04 7.0929844e+04 7.1233392e+04 7.1537459e+04 7.1850649e+04\n",
      " 7.2183458e+04 7.2547578e+04 7.2954886e+04 7.3414239e+04 7.3928082e+04\n",
      " 7.4489454e+04 7.5080748e+04 7.5677307e+04 7.6258032e+04 7.6819577e+04\n",
      " 7.7357255e+04 7.7847179e+04 7.8260755e+04 7.8578385e+04 7.8789939e+04\n",
      " 7.8901818e+04 7.8932455e+04 7.8909807e+04 7.8856039e+04 7.8781733e+04\n",
      " 7.8687323e+04 7.8573586e+04 7.8438164e+04 7.8283100e+04 7.8107857e+04\n",
      " 7.7926011e+04 7.7770213e+04 7.7682295e+04 7.7691595e+04 7.7806147e+04\n",
      " 7.8015731e+04 7.8307525e+04 7.8660303e+04 7.9053984e+04 7.9490835e+04\n",
      " 7.9963159e+04 8.0428556e+04 8.0832937e+04 8.1138659e+04 8.1323664e+04\n",
      " 8.1399251e+04 8.1402673e+04 8.1389927e+04 8.1400882e+04 8.1453885e+04\n",
      " 8.1535122e+04 8.1614380e+04 8.1646474e+04 8.1602741e+04 8.1472226e+04\n",
      " 8.1277830e+04 8.1065752e+04 8.0899961e+04 8.0827002e+04 8.0855632e+04\n",
      " 8.0972628e+04 8.1174367e+04 8.1450378e+04 8.1787411e+04 8.2193768e+04\n",
      " 8.2658409e+04 8.3124418e+04 4.6598601e+04 4.7009982e+04 4.7390568e+04\n",
      " 4.7737391e+04 4.8051033e+04 4.8335578e+04 4.8598908e+04 4.8852439e+04\n",
      " 4.9110364e+04 4.9388391e+04 4.9699951e+04 5.0052172e+04 5.0442339e+04\n",
      " 5.0856405e+04 5.1273231e+04 5.1677257e+04 5.2062754e+04 5.2433489e+04\n",
      " 5.2794523e+04 5.3154573e+04 5.3518969e+04 5.3888874e+04 5.4258741e+04\n",
      " 5.4619237e+04 5.4957794e+04 5.5265284e+04 5.5537956e+04 5.5777880e+04\n",
      " 5.5988981e+04 5.6177851e+04 5.6349349e+04 5.6505478e+04 5.6644863e+04\n",
      " 5.6765251e+04 5.6863137e+04 5.6936774e+04 5.6983931e+04 5.7007741e+04\n",
      " 5.7018183e+04 5.7028703e+04 5.7048236e+04 5.7088113e+04 5.7145306e+04\n",
      " 5.7197613e+04 5.7213544e+04 5.7174408e+04 5.7065225e+04 5.6903640e+04\n",
      " 5.6742760e+04 5.6655632e+04 5.6692178e+04 5.6875147e+04 5.7182519e+04\n",
      " 5.7564588e+04 5.7948424e+04 5.8281212e+04 5.8542619e+04 5.8747861e+04\n",
      " 5.8922109e+04 5.9105625e+04 5.9325229e+04 5.9589076e+04 5.9879471e+04\n",
      " 6.0166830e+04 6.0409620e+04 6.0578494e+04 6.0663060e+04 6.0673701e+04\n",
      " 6.0627291e+04 1.3758000e+01 1.3941000e+01 1.4127000e+01 1.4338000e+01\n",
      " 1.4568000e+01 1.4830000e+01 1.5111000e+01 1.5429000e+01 1.5765000e+01\n",
      " 1.6124000e+01 1.6493000e+01 1.6893000e+01 1.7289000e+01 1.7719000e+01\n",
      " 1.8168000e+01 1.8649000e+01 1.9152000e+01 1.9691000e+01 2.0235000e+01\n",
      " 2.0766000e+01 2.1266000e+01 2.1728000e+01 2.2151000e+01 2.2563000e+01\n",
      " 2.2983000e+01 2.3438000e+01 2.3931000e+01 2.4448000e+01 2.4975000e+01\n",
      " 2.5459000e+01 2.5879000e+01 2.6238000e+01 2.6536000e+01 2.6789000e+01\n",
      " 2.7036000e+01 2.7288000e+01 2.7559000e+01 2.7837000e+01 2.8129000e+01\n",
      " 2.8449000e+01 2.8789000e+01 2.9159000e+01 2.9553000e+01 2.9975000e+01\n",
      " 3.0426000e+01 3.0880000e+01 3.1348000e+01 3.1830000e+01 3.2311000e+01\n",
      " 3.2769000e+01 3.3184000e+01 3.3552000e+01 3.3879000e+01 3.4175000e+01\n",
      " 3.4452000e+01 3.4713000e+01 3.4970000e+01 3.5217000e+01 3.5471000e+01\n",
      " 3.5727000e+01 3.5994000e+01 3.6293000e+01 3.6615000e+01 3.6934000e+01\n",
      " 3.7223000e+01 3.7470000e+01 3.7658000e+01 3.7800000e+01 3.7910000e+01\n",
      " 4.6680860e+03 4.7219180e+03 4.7811290e+03 4.8415000e+03 4.9004640e+03\n",
      " 4.9570660e+03 5.0120950e+03 5.0679770e+03 5.1284450e+03 5.1980610e+03\n",
      " 5.2806800e+03 5.3777670e+03 5.4870430e+03 5.6018070e+03 5.7127070e+03\n",
      " 5.8128510e+03 5.8994830e+03 5.9739450e+03 6.0383330e+03 6.0964360e+03\n",
      " 6.1508520e+03 6.2029490e+03 6.2512880e+03 6.2925330e+03 6.3220130e+03\n",
      " 6.3370250e+03 6.3359740e+03 6.3218150e+03 6.3020440e+03 6.2869150e+03\n",
      " 6.2838320e+03 6.2959250e+03 6.3214090e+03 6.3567450e+03 6.3961340e+03\n",
      " 6.4354240e+03 6.4730440e+03 6.5105970e+03 6.5507250e+03 6.5973700e+03\n",
      " 6.6528680e+03 6.7188280e+03 6.7929060e+03 6.8689310e+03 6.9384150e+03\n",
      " 6.9955210e+03 7.0380330e+03 7.0685080e+03 7.0917700e+03 7.1150270e+03\n",
      " 7.1437610e+03 7.1791690e+03 7.2203770e+03 7.2683590e+03 7.3237370e+03\n",
      " 7.3868160e+03 7.4579580e+03 7.5369820e+03 7.6228210e+03 7.7138980e+03\n",
      " 7.8086750e+03 7.9069920e+03 8.0080120e+03 8.1088780e+03 8.2060020e+03\n",
      " 8.2967750e+03 8.3799170e+03 8.4558040e+03 8.5256110e+03]\n",
      "['X']\n",
      "['International reliable sources']\n",
      "['UNDESA, Population Division – World Population Prospects, the 2017 Revision'\n",
      " nan]\n"
     ]
    }
   ],
   "source": [
    "for col in demography:\n",
    "    print (demography[col].unique())"
   ]
  },
  {
   "cell_type": "code",
   "execution_count": 26,
   "metadata": {},
   "outputs": [
    {
     "data": {
      "text/html": [
       "<div>\n",
       "<style scoped>\n",
       "    .dataframe tbody tr th:only-of-type {\n",
       "        vertical-align: middle;\n",
       "    }\n",
       "\n",
       "    .dataframe tbody tr th {\n",
       "        vertical-align: top;\n",
       "    }\n",
       "\n",
       "    .dataframe thead th {\n",
       "        text-align: right;\n",
       "    }\n",
       "</style>\n",
       "<table border=\"1\" class=\"dataframe\">\n",
       "  <thead>\n",
       "    <tr style=\"text-align: right;\">\n",
       "      <th></th>\n",
       "      <th>Area</th>\n",
       "      <th>Year</th>\n",
       "      <th>Value</th>\n",
       "    </tr>\n",
       "  </thead>\n",
       "  <tbody>\n",
       "    <tr>\n",
       "      <td>0</td>\n",
       "      <td>Austria</td>\n",
       "      <td>1950</td>\n",
       "      <td>6936.439</td>\n",
       "    </tr>\n",
       "    <tr>\n",
       "      <td>1</td>\n",
       "      <td>Austria</td>\n",
       "      <td>1951</td>\n",
       "      <td>6931.338</td>\n",
       "    </tr>\n",
       "    <tr>\n",
       "      <td>2</td>\n",
       "      <td>Austria</td>\n",
       "      <td>1952</td>\n",
       "      <td>6931.196</td>\n",
       "    </tr>\n",
       "    <tr>\n",
       "      <td>3</td>\n",
       "      <td>Austria</td>\n",
       "      <td>1953</td>\n",
       "      <td>6935.142</td>\n",
       "    </tr>\n",
       "    <tr>\n",
       "      <td>4</td>\n",
       "      <td>Austria</td>\n",
       "      <td>1954</td>\n",
       "      <td>6942.619</td>\n",
       "    </tr>\n",
       "    <tr>\n",
       "      <td>...</td>\n",
       "      <td>...</td>\n",
       "      <td>...</td>\n",
       "      <td>...</td>\n",
       "    </tr>\n",
       "    <tr>\n",
       "      <td>409</td>\n",
       "      <td>Switzerland</td>\n",
       "      <td>2014</td>\n",
       "      <td>8206.002</td>\n",
       "    </tr>\n",
       "    <tr>\n",
       "      <td>410</td>\n",
       "      <td>Switzerland</td>\n",
       "      <td>2015</td>\n",
       "      <td>8296.775</td>\n",
       "    </tr>\n",
       "    <tr>\n",
       "      <td>411</td>\n",
       "      <td>Switzerland</td>\n",
       "      <td>2016</td>\n",
       "      <td>8379.917</td>\n",
       "    </tr>\n",
       "    <tr>\n",
       "      <td>412</td>\n",
       "      <td>Switzerland</td>\n",
       "      <td>2017</td>\n",
       "      <td>8455.804</td>\n",
       "    </tr>\n",
       "    <tr>\n",
       "      <td>413</td>\n",
       "      <td>Switzerland</td>\n",
       "      <td>2018</td>\n",
       "      <td>8525.611</td>\n",
       "    </tr>\n",
       "  </tbody>\n",
       "</table>\n",
       "<p>414 rows × 3 columns</p>\n",
       "</div>"
      ],
      "text/plain": [
       "            Area  Year     Value\n",
       "0        Austria  1950  6936.439\n",
       "1        Austria  1951  6931.338\n",
       "2        Austria  1952  6931.196\n",
       "3        Austria  1953  6935.142\n",
       "4        Austria  1954  6942.619\n",
       "..           ...   ...       ...\n",
       "409  Switzerland  2014  8206.002\n",
       "410  Switzerland  2015  8296.775\n",
       "411  Switzerland  2016  8379.917\n",
       "412  Switzerland  2017  8455.804\n",
       "413  Switzerland  2018  8525.611\n",
       "\n",
       "[414 rows x 3 columns]"
      ]
     },
     "execution_count": 26,
     "metadata": {},
     "output_type": "execute_result"
    }
   ],
   "source": [
    "demography = demography[['Area', 'Year', 'Value']]\n",
    "demography"
   ]
  },
  {
   "cell_type": "markdown",
   "metadata": {},
   "source": [
    "The value unit beeing 1000 persons, we adjust the number to display the population values in terms of individuals"
   ]
  },
  {
   "cell_type": "code",
   "execution_count": 27,
   "metadata": {},
   "outputs": [
    {
     "data": {
      "text/html": [
       "<div>\n",
       "<style scoped>\n",
       "    .dataframe tbody tr th:only-of-type {\n",
       "        vertical-align: middle;\n",
       "    }\n",
       "\n",
       "    .dataframe tbody tr th {\n",
       "        vertical-align: top;\n",
       "    }\n",
       "\n",
       "    .dataframe thead th {\n",
       "        text-align: right;\n",
       "    }\n",
       "</style>\n",
       "<table border=\"1\" class=\"dataframe\">\n",
       "  <thead>\n",
       "    <tr style=\"text-align: right;\">\n",
       "      <th></th>\n",
       "      <th>Area</th>\n",
       "      <th>Year</th>\n",
       "      <th>Population</th>\n",
       "    </tr>\n",
       "  </thead>\n",
       "  <tbody>\n",
       "    <tr>\n",
       "      <td>0</td>\n",
       "      <td>Austria</td>\n",
       "      <td>1950</td>\n",
       "      <td>6936439.0</td>\n",
       "    </tr>\n",
       "    <tr>\n",
       "      <td>1</td>\n",
       "      <td>Austria</td>\n",
       "      <td>1951</td>\n",
       "      <td>6931338.0</td>\n",
       "    </tr>\n",
       "    <tr>\n",
       "      <td>2</td>\n",
       "      <td>Austria</td>\n",
       "      <td>1952</td>\n",
       "      <td>6931196.0</td>\n",
       "    </tr>\n",
       "    <tr>\n",
       "      <td>3</td>\n",
       "      <td>Austria</td>\n",
       "      <td>1953</td>\n",
       "      <td>6935142.0</td>\n",
       "    </tr>\n",
       "    <tr>\n",
       "      <td>4</td>\n",
       "      <td>Austria</td>\n",
       "      <td>1954</td>\n",
       "      <td>6942619.0</td>\n",
       "    </tr>\n",
       "    <tr>\n",
       "      <td>...</td>\n",
       "      <td>...</td>\n",
       "      <td>...</td>\n",
       "      <td>...</td>\n",
       "    </tr>\n",
       "    <tr>\n",
       "      <td>409</td>\n",
       "      <td>Switzerland</td>\n",
       "      <td>2014</td>\n",
       "      <td>8206002.0</td>\n",
       "    </tr>\n",
       "    <tr>\n",
       "      <td>410</td>\n",
       "      <td>Switzerland</td>\n",
       "      <td>2015</td>\n",
       "      <td>8296775.0</td>\n",
       "    </tr>\n",
       "    <tr>\n",
       "      <td>411</td>\n",
       "      <td>Switzerland</td>\n",
       "      <td>2016</td>\n",
       "      <td>8379917.0</td>\n",
       "    </tr>\n",
       "    <tr>\n",
       "      <td>412</td>\n",
       "      <td>Switzerland</td>\n",
       "      <td>2017</td>\n",
       "      <td>8455804.0</td>\n",
       "    </tr>\n",
       "    <tr>\n",
       "      <td>413</td>\n",
       "      <td>Switzerland</td>\n",
       "      <td>2018</td>\n",
       "      <td>8525611.0</td>\n",
       "    </tr>\n",
       "  </tbody>\n",
       "</table>\n",
       "<p>414 rows × 3 columns</p>\n",
       "</div>"
      ],
      "text/plain": [
       "            Area  Year  Population\n",
       "0        Austria  1950   6936439.0\n",
       "1        Austria  1951   6931338.0\n",
       "2        Austria  1952   6931196.0\n",
       "3        Austria  1953   6935142.0\n",
       "4        Austria  1954   6942619.0\n",
       "..           ...   ...         ...\n",
       "409  Switzerland  2014   8206002.0\n",
       "410  Switzerland  2015   8296775.0\n",
       "411  Switzerland  2016   8379917.0\n",
       "412  Switzerland  2017   8455804.0\n",
       "413  Switzerland  2018   8525611.0\n",
       "\n",
       "[414 rows x 3 columns]"
      ]
     },
     "execution_count": 27,
     "metadata": {},
     "output_type": "execute_result"
    }
   ],
   "source": [
    "pd.options.mode.chained_assignment = None  # default='warn', Mutes warnings when copying a slice from a DataFrame.\n",
    "demography[\"Population\"] = demography.Value.apply(lambda x: x*1000)\n",
    "demography.drop(columns='Value')"
   ]
  },
  {
   "cell_type": "code",
   "execution_count": 33,
   "metadata": {},
   "outputs": [
    {
     "data": {
      "image/png": "[encoded data removed]",
      "text/plain": [
       "<Figure size 1440x720 with 1 Axes>"
      ]
     },
     "metadata": {
      "needs_background": "light"
     },
     "output_type": "display_data"
    }
   ],
   "source": [
    "#plot of the evolution of the demography over the years. \n",
    "    \n",
    "    # multiple line plot\n",
    "plt.figure(figsize=(20,10))\n",
    "plt.plot( 'Year', 'Population', data=demography.loc[demography['Area']=='Austria'], marker='', color='green',  label = 'Austria')\n",
    "plt.plot( 'Year', 'Population', data=demography.loc[demography['Area']=='France'], marker='', color='skyblue', label = 'France')\n",
    "plt.plot( 'Year', 'Population', data=demography.loc[demography['Area']=='Switzerland'], marker='', color='red', label = 'Switzerland', linewidth=3)\n",
    "plt.plot( 'Year', 'Population', data=demography.loc[demography['Area']=='Germany'], marker='', color='orange', label = 'Germany')\n",
    "plt.plot( 'Year', 'Population', data=demography.loc[demography['Area']=='Italy'], marker='', color='grey', label = 'Italy')\n",
    "    \n",
    "plt.legend() \n",
    "plt.title('Evolution of the demography over the years' , fontsize= 20)\n",
    "plt.xlabel(\"Year\", fontsize= 20)\n",
    "plt.ylabel(\"Population value\", fontsize= 20)\n",
    "plt.show()\n",
    "   \n",
    "\n",
    "   "
   ]
  },
  {
   "cell_type": "markdown",
   "metadata": {},
   "source": [
    "We can see that as expected, the population is growing in every country. "
   ]
  },
  {
   "cell_type": "markdown",
   "metadata": {},
   "source": [
    "## Data loading - Importations for Switerland data \n",
    "\n",
    "File contains data about Switzerland only. This this file we want to know what Switzerland need and we could also look at the consumption trends of the swiss population.\n",
    "\n",
    "Data exploration and pre-processing is very simmilar to first dataset. We will therefore not describe all steps as precisely as before."
   ]
  },
  {
   "cell_type": "code",
   "execution_count": 34,
   "metadata": {},
   "outputs": [],
   "source": [
    "CH_imports = pd.read_csv('../data/FAOSTAT_data_11-23-2019.csv')"
   ]
  },
  {
   "cell_type": "code",
   "execution_count": 35,
   "metadata": {},
   "outputs": [
    {
     "data": {
      "text/plain": [
       "(177407, 16)"
      ]
     },
     "execution_count": 35,
     "metadata": {},
     "output_type": "execute_result"
    }
   ],
   "source": [
    "CH_imports.shape"
   ]
  },
  {
   "cell_type": "code",
   "execution_count": 36,
   "metadata": {},
   "outputs": [
    {
     "data": {
      "text/html": [
       "<div>\n",
       "<style scoped>\n",
       "    .dataframe tbody tr th:only-of-type {\n",
       "        vertical-align: middle;\n",
       "    }\n",
       "\n",
       "    .dataframe tbody tr th {\n",
       "        vertical-align: top;\n",
       "    }\n",
       "\n",
       "    .dataframe thead th {\n",
       "        text-align: right;\n",
       "    }\n",
       "</style>\n",
       "<table border=\"1\" class=\"dataframe\">\n",
       "  <thead>\n",
       "    <tr style=\"text-align: right;\">\n",
       "      <th></th>\n",
       "      <th>Domain Code</th>\n",
       "      <th>Domain</th>\n",
       "      <th>Reporter Country Code</th>\n",
       "      <th>Reporter Countries</th>\n",
       "      <th>Partner Country Code</th>\n",
       "      <th>Partner Countries</th>\n",
       "      <th>Element Code</th>\n",
       "      <th>Element</th>\n",
       "      <th>Item Code</th>\n",
       "      <th>Item</th>\n",
       "      <th>Year Code</th>\n",
       "      <th>Year</th>\n",
       "      <th>Unit</th>\n",
       "      <th>Value</th>\n",
       "      <th>Flag</th>\n",
       "      <th>Flag Description</th>\n",
       "    </tr>\n",
       "  </thead>\n",
       "  <tbody>\n",
       "    <tr>\n",
       "      <td>0</td>\n",
       "      <td>TM</td>\n",
       "      <td>Detailed trade matrix</td>\n",
       "      <td>211</td>\n",
       "      <td>Switzerland</td>\n",
       "      <td>2</td>\n",
       "      <td>Afghanistan</td>\n",
       "      <td>5610</td>\n",
       "      <td>Import Quantity</td>\n",
       "      <td>231</td>\n",
       "      <td>Almonds shelled</td>\n",
       "      <td>2016</td>\n",
       "      <td>2016</td>\n",
       "      <td>tonnes</td>\n",
       "      <td>0</td>\n",
       "      <td>NaN</td>\n",
       "      <td>Official data</td>\n",
       "    </tr>\n",
       "    <tr>\n",
       "      <td>1</td>\n",
       "      <td>TM</td>\n",
       "      <td>Detailed trade matrix</td>\n",
       "      <td>211</td>\n",
       "      <td>Switzerland</td>\n",
       "      <td>2</td>\n",
       "      <td>Afghanistan</td>\n",
       "      <td>5610</td>\n",
       "      <td>Import Quantity</td>\n",
       "      <td>527</td>\n",
       "      <td>Apricots, dry</td>\n",
       "      <td>2012</td>\n",
       "      <td>2012</td>\n",
       "      <td>tonnes</td>\n",
       "      <td>0</td>\n",
       "      <td>NaN</td>\n",
       "      <td>Official data</td>\n",
       "    </tr>\n",
       "    <tr>\n",
       "      <td>2</td>\n",
       "      <td>TM</td>\n",
       "      <td>Detailed trade matrix</td>\n",
       "      <td>211</td>\n",
       "      <td>Switzerland</td>\n",
       "      <td>2</td>\n",
       "      <td>Afghanistan</td>\n",
       "      <td>5610</td>\n",
       "      <td>Import Quantity</td>\n",
       "      <td>633</td>\n",
       "      <td>Beverages, non alcoholic</td>\n",
       "      <td>2005</td>\n",
       "      <td>2005</td>\n",
       "      <td>tonnes</td>\n",
       "      <td>0</td>\n",
       "      <td>NaN</td>\n",
       "      <td>Official data</td>\n",
       "    </tr>\n",
       "    <tr>\n",
       "      <td>3</td>\n",
       "      <td>TM</td>\n",
       "      <td>Detailed trade matrix</td>\n",
       "      <td>211</td>\n",
       "      <td>Switzerland</td>\n",
       "      <td>2</td>\n",
       "      <td>Afghanistan</td>\n",
       "      <td>5610</td>\n",
       "      <td>Import Quantity</td>\n",
       "      <td>689</td>\n",
       "      <td>Chillies and peppers, dry</td>\n",
       "      <td>2013</td>\n",
       "      <td>2013</td>\n",
       "      <td>tonnes</td>\n",
       "      <td>0</td>\n",
       "      <td>NaN</td>\n",
       "      <td>Official data</td>\n",
       "    </tr>\n",
       "    <tr>\n",
       "      <td>4</td>\n",
       "      <td>TM</td>\n",
       "      <td>Detailed trade matrix</td>\n",
       "      <td>211</td>\n",
       "      <td>Switzerland</td>\n",
       "      <td>2</td>\n",
       "      <td>Afghanistan</td>\n",
       "      <td>5610</td>\n",
       "      <td>Import Quantity</td>\n",
       "      <td>767</td>\n",
       "      <td>Cotton lint</td>\n",
       "      <td>1995</td>\n",
       "      <td>1995</td>\n",
       "      <td>tonnes</td>\n",
       "      <td>23</td>\n",
       "      <td>NaN</td>\n",
       "      <td>Official data</td>\n",
       "    </tr>\n",
       "    <tr>\n",
       "      <td>...</td>\n",
       "      <td>...</td>\n",
       "      <td>...</td>\n",
       "      <td>...</td>\n",
       "      <td>...</td>\n",
       "      <td>...</td>\n",
       "      <td>...</td>\n",
       "      <td>...</td>\n",
       "      <td>...</td>\n",
       "      <td>...</td>\n",
       "      <td>...</td>\n",
       "      <td>...</td>\n",
       "      <td>...</td>\n",
       "      <td>...</td>\n",
       "      <td>...</td>\n",
       "      <td>...</td>\n",
       "      <td>...</td>\n",
       "    </tr>\n",
       "    <tr>\n",
       "      <td>177402</td>\n",
       "      <td>TM</td>\n",
       "      <td>Detailed trade matrix</td>\n",
       "      <td>211</td>\n",
       "      <td>Switzerland</td>\n",
       "      <td>181</td>\n",
       "      <td>Zimbabwe</td>\n",
       "      <td>5610</td>\n",
       "      <td>Import Quantity</td>\n",
       "      <td>473</td>\n",
       "      <td>Vegetables, frozen</td>\n",
       "      <td>2009</td>\n",
       "      <td>2009</td>\n",
       "      <td>tonnes</td>\n",
       "      <td>0</td>\n",
       "      <td>NaN</td>\n",
       "      <td>Official data</td>\n",
       "    </tr>\n",
       "    <tr>\n",
       "      <td>177403</td>\n",
       "      <td>TM</td>\n",
       "      <td>Detailed trade matrix</td>\n",
       "      <td>211</td>\n",
       "      <td>Switzerland</td>\n",
       "      <td>181</td>\n",
       "      <td>Zimbabwe</td>\n",
       "      <td>5610</td>\n",
       "      <td>Import Quantity</td>\n",
       "      <td>472</td>\n",
       "      <td>Vegetables, preserved nes</td>\n",
       "      <td>2014</td>\n",
       "      <td>2014</td>\n",
       "      <td>tonnes</td>\n",
       "      <td>0</td>\n",
       "      <td>NaN</td>\n",
       "      <td>Official data</td>\n",
       "    </tr>\n",
       "    <tr>\n",
       "      <td>177404</td>\n",
       "      <td>TM</td>\n",
       "      <td>Detailed trade matrix</td>\n",
       "      <td>211</td>\n",
       "      <td>Switzerland</td>\n",
       "      <td>181</td>\n",
       "      <td>Zimbabwe</td>\n",
       "      <td>5610</td>\n",
       "      <td>Import Quantity</td>\n",
       "      <td>564</td>\n",
       "      <td>Wine</td>\n",
       "      <td>1993</td>\n",
       "      <td>1993</td>\n",
       "      <td>tonnes</td>\n",
       "      <td>0</td>\n",
       "      <td>NaN</td>\n",
       "      <td>Official data</td>\n",
       "    </tr>\n",
       "    <tr>\n",
       "      <td>177405</td>\n",
       "      <td>TM</td>\n",
       "      <td>Detailed trade matrix</td>\n",
       "      <td>211</td>\n",
       "      <td>Switzerland</td>\n",
       "      <td>181</td>\n",
       "      <td>Zimbabwe</td>\n",
       "      <td>5610</td>\n",
       "      <td>Import Quantity</td>\n",
       "      <td>564</td>\n",
       "      <td>Wine</td>\n",
       "      <td>2006</td>\n",
       "      <td>2006</td>\n",
       "      <td>tonnes</td>\n",
       "      <td>0</td>\n",
       "      <td>NaN</td>\n",
       "      <td>Official data</td>\n",
       "    </tr>\n",
       "    <tr>\n",
       "      <td>177406</td>\n",
       "      <td>TM</td>\n",
       "      <td>Detailed trade matrix</td>\n",
       "      <td>211</td>\n",
       "      <td>Switzerland</td>\n",
       "      <td>181</td>\n",
       "      <td>Zimbabwe</td>\n",
       "      <td>5610</td>\n",
       "      <td>Import Quantity</td>\n",
       "      <td>564</td>\n",
       "      <td>Wine</td>\n",
       "      <td>2017</td>\n",
       "      <td>2017</td>\n",
       "      <td>tonnes</td>\n",
       "      <td>0</td>\n",
       "      <td>NaN</td>\n",
       "      <td>Official data</td>\n",
       "    </tr>\n",
       "  </tbody>\n",
       "</table>\n",
       "<p>177407 rows × 16 columns</p>\n",
       "</div>"
      ],
      "text/plain": [
       "       Domain Code                 Domain  Reporter Country Code  \\\n",
       "0               TM  Detailed trade matrix                    211   \n",
       "1               TM  Detailed trade matrix                    211   \n",
       "2               TM  Detailed trade matrix                    211   \n",
       "3               TM  Detailed trade matrix                    211   \n",
       "4               TM  Detailed trade matrix                    211   \n",
       "...            ...                    ...                    ...   \n",
       "177402          TM  Detailed trade matrix                    211   \n",
       "177403          TM  Detailed trade matrix                    211   \n",
       "177404          TM  Detailed trade matrix                    211   \n",
       "177405          TM  Detailed trade matrix                    211   \n",
       "177406          TM  Detailed trade matrix                    211   \n",
       "\n",
       "       Reporter Countries  Partner Country Code Partner Countries  \\\n",
       "0             Switzerland                     2       Afghanistan   \n",
       "1             Switzerland                     2       Afghanistan   \n",
       "2             Switzerland                     2       Afghanistan   \n",
       "3             Switzerland                     2       Afghanistan   \n",
       "4             Switzerland                     2       Afghanistan   \n",
       "...                   ...                   ...               ...   \n",
       "177402        Switzerland                   181          Zimbabwe   \n",
       "177403        Switzerland                   181          Zimbabwe   \n",
       "177404        Switzerland                   181          Zimbabwe   \n",
       "177405        Switzerland                   181          Zimbabwe   \n",
       "177406        Switzerland                   181          Zimbabwe   \n",
       "\n",
       "        Element Code          Element  Item Code                       Item  \\\n",
       "0               5610  Import Quantity        231            Almonds shelled   \n",
       "1               5610  Import Quantity        527              Apricots, dry   \n",
       "2               5610  Import Quantity        633   Beverages, non alcoholic   \n",
       "3               5610  Import Quantity        689  Chillies and peppers, dry   \n",
       "4               5610  Import Quantity        767                Cotton lint   \n",
       "...              ...              ...        ...                        ...   \n",
       "177402          5610  Import Quantity        473         Vegetables, frozen   \n",
       "177403          5610  Import Quantity        472  Vegetables, preserved nes   \n",
       "177404          5610  Import Quantity        564                       Wine   \n",
       "177405          5610  Import Quantity        564                       Wine   \n",
       "177406          5610  Import Quantity        564                       Wine   \n",
       "\n",
       "        Year Code  Year    Unit  Value Flag Flag Description  \n",
       "0            2016  2016  tonnes      0  NaN    Official data  \n",
       "1            2012  2012  tonnes      0  NaN    Official data  \n",
       "2            2005  2005  tonnes      0  NaN    Official data  \n",
       "3            2013  2013  tonnes      0  NaN    Official data  \n",
       "4            1995  1995  tonnes     23  NaN    Official data  \n",
       "...           ...   ...     ...    ...  ...              ...  \n",
       "177402       2009  2009  tonnes      0  NaN    Official data  \n",
       "177403       2014  2014  tonnes      0  NaN    Official data  \n",
       "177404       1993  1993  tonnes      0  NaN    Official data  \n",
       "177405       2006  2006  tonnes      0  NaN    Official data  \n",
       "177406       2017  2017  tonnes      0  NaN    Official data  \n",
       "\n",
       "[177407 rows x 16 columns]"
      ]
     },
     "execution_count": 36,
     "metadata": {},
     "output_type": "execute_result"
    }
   ],
   "source": [
    "CH_imports"
   ]
  },
  {
   "cell_type": "code",
   "execution_count": 37,
   "metadata": {},
   "outputs": [
    {
     "data": {
      "text/plain": [
       "Domain Code              object\n",
       "Domain                   object\n",
       "Reporter Country Code     int64\n",
       "Reporter Countries       object\n",
       "Partner Country Code      int64\n",
       "Partner Countries        object\n",
       "Element Code              int64\n",
       "Element                  object\n",
       "Item Code                 int64\n",
       "Item                     object\n",
       "Year Code                 int64\n",
       "Year                      int64\n",
       "Unit                     object\n",
       "Value                     int64\n",
       "Flag                     object\n",
       "Flag Description         object\n",
       "dtype: object"
      ]
     },
     "execution_count": 37,
     "metadata": {},
     "output_type": "execute_result"
    }
   ],
   "source": [
    "CH_imports.dtypes"
   ]
  },
  {
   "cell_type": "code",
   "execution_count": 38,
   "metadata": {},
   "outputs": [
    {
     "data": {
      "text/plain": [
       "1986"
      ]
     },
     "execution_count": 38,
     "metadata": {},
     "output_type": "execute_result"
    }
   ],
   "source": [
    "CH_imports.Year.min()"
   ]
  },
  {
   "cell_type": "code",
   "execution_count": 39,
   "metadata": {
    "scrolled": true
   },
   "outputs": [
    {
     "name": "stdout",
     "output_type": "stream",
     "text": [
      "['TM']\n",
      "['Detailed trade matrix']\n",
      "[211]\n",
      "['Switzerland']\n",
      "[  2   3   4   6   7 258   8   9   1  22  10  11  52  12  13  16  14  57\n",
      " 255  15  23  53  17  18  19  80  20  21  24 239  26  27 233  29  35 115\n",
      "  32  33  36  37  39  40  96 128  41 214  43  44  45  46  47  48 107  98\n",
      "  49  50 167  51 116 250  54  72  55  56  58  59  60  61 178  63 209 238\n",
      "  62  65  64  66  67  68  69  70  71  74  75  73  79  81  82  84  85  86\n",
      "  87  88  89  90  91  93  94  95  97  99 100 101 102 103 104 105 106 109\n",
      " 110 112 108 114  83 118 113 120 119 121 122 123 124 126 256 129 130 131\n",
      " 132 133 134 127 135 136 137 138 145 141 273 142 143 144  28 147 148 149\n",
      " 150 151 153 156 157 158 159 160 154 162 221 165 299 166 168 169 170 171\n",
      " 172 173 174 177 179 117 146 182 183 185 184 187 188 189 190 191 244 192\n",
      " 193 194 195 272 186 196 197 200 199 198  25 201 202 277 203  38 276 206\n",
      " 207 210 212 208 216 176 217 219 220 222 223 213 224 227 226 230 225 229\n",
      " 215 231 240 252 234 228 235 155 236 237 205 249 248 251 181]\n",
      "['Afghanistan' 'Albania' 'Algeria' 'Andorra' 'Angola' 'Anguilla'\n",
      " 'Antigua and Barbuda' 'Argentina' 'Armenia' 'Aruba' 'Australia' 'Austria'\n",
      " 'Azerbaijan' 'Bahamas' 'Bahrain' 'Bangladesh' 'Barbados' 'Belarus'\n",
      " 'Belgium' 'Belgium-Luxembourg' 'Belize' 'Benin' 'Bermuda' 'Bhutan'\n",
      " 'Bolivia (Plurinational State of)' 'Bosnia and Herzegovina' 'Botswana'\n",
      " 'Brazil' 'British Indian Ocean Territory' 'British Virgin Islands'\n",
      " 'Brunei Darussalam' 'Bulgaria' 'Burkina Faso' 'Burundi' 'Cabo Verde'\n",
      " 'Cambodia' 'Cameroon' 'Canada' 'Cayman Islands'\n",
      " 'Central African Republic' 'Chad' 'Chile' 'China, Hong Kong SAR'\n",
      " 'China, Macao SAR' 'China, mainland' 'China, Taiwan Province of'\n",
      " 'Cocos (Keeling) Islands' 'Colombia' 'Comoros' 'Congo' 'Cook Islands'\n",
      " 'Costa Rica' \"Côte d'Ivoire\" 'Croatia' 'Cuba' 'Cyprus' 'Czechia'\n",
      " 'Czechoslovakia' \"Democratic People's Republic of Korea\"\n",
      " 'Democratic Republic of the Congo' 'Denmark' 'Djibouti' 'Dominica'\n",
      " 'Dominican Republic' 'Ecuador' 'Egypt' 'El Salvador' 'Equatorial Guinea'\n",
      " 'Eritrea' 'Estonia' 'Eswatini' 'Ethiopia' 'Ethiopia PDR'\n",
      " 'Falkland Islands (Malvinas)' 'Faroe Islands' 'Fiji' 'Finland' 'France'\n",
      " 'French Guiana' 'French Polynesia'\n",
      " 'French Southern and Antarctic Territories' 'Gabon' 'Gambia' 'Georgia'\n",
      " 'Germany' 'Ghana' 'Gibraltar' 'Greece' 'Greenland' 'Grenada' 'Guadeloupe'\n",
      " 'Guam' 'Guatemala' 'Guinea' 'Guyana' 'Haiti' 'Holy See' 'Honduras'\n",
      " 'Hungary' 'Iceland' 'India' 'Indonesia' 'Iran (Islamic Republic of)'\n",
      " 'Iraq' 'Ireland' 'Israel' 'Italy' 'Jamaica' 'Japan' 'Jordan' 'Kazakhstan'\n",
      " 'Kenya' 'Kiribati' 'Kuwait' 'Kyrgyzstan'\n",
      " \"Lao People's Democratic Republic\" 'Latvia' 'Lebanon' 'Lesotho' 'Liberia'\n",
      " 'Libya' 'Lithuania' 'Luxembourg' 'Madagascar' 'Malawi' 'Malaysia'\n",
      " 'Maldives' 'Mali' 'Malta' 'Marshall Islands' 'Martinique' 'Mauritania'\n",
      " 'Mauritius' 'Mexico' 'Micronesia (Federated States of)' 'Mongolia'\n",
      " 'Montenegro' 'Montserrat' 'Morocco' 'Mozambique' 'Myanmar' 'Namibia'\n",
      " 'Nauru' 'Nepal' 'Netherlands' 'Netherlands Antilles (former)'\n",
      " 'New Caledonia' 'New Zealand' 'Nicaragua' 'Niger' 'Nigeria' 'Niue'\n",
      " 'North Macedonia' 'Norway' 'Oman' 'Pakistan' 'Palestine' 'Panama'\n",
      " 'Papua New Guinea' 'Paraguay' 'Peru' 'Philippines' 'Pitcairn Islands'\n",
      " 'Poland' 'Portugal' 'Puerto Rico' 'Qatar' 'Republic of Korea'\n",
      " 'Republic of Moldova' 'Réunion' 'Romania' 'Russian Federation' 'Rwanda'\n",
      " 'Saint Helena, Ascension and Tristan da Cunha' 'Saint Kitts and Nevis'\n",
      " 'Saint Lucia' 'Saint Pierre and Miquelon'\n",
      " 'Saint Vincent and the Grenadines' 'Samoa' 'San Marino'\n",
      " 'Sao Tome and Principe' 'Saudi Arabia' 'Senegal' 'Serbia'\n",
      " 'Serbia and Montenegro' 'Seychelles' 'Sierra Leone' 'Singapore'\n",
      " 'Slovakia' 'Slovenia' 'Solomon Islands' 'Somalia' 'South Africa'\n",
      " 'South Sudan' 'Spain' 'Sri Lanka' 'Sudan' 'Sudan (former)' 'Suriname'\n",
      " 'Sweden' 'Syrian Arab Republic' 'Tajikistan' 'Thailand' 'Timor-Leste'\n",
      " 'Togo' 'Tonga' 'Trinidad and Tobago' 'Tunisia' 'Turkey' 'Turkmenistan'\n",
      " 'Turks and Caicos Islands' 'Tuvalu' 'Uganda' 'Ukraine'\n",
      " 'United Arab Emirates' 'United Kingdom' 'United Republic of Tanzania'\n",
      " 'United States of America' 'United States Virgin Islands'\n",
      " 'Unspecified Area' 'Uruguay' 'USSR' 'Uzbekistan' 'Vanuatu'\n",
      " 'Venezuela (Bolivarian Republic of)' 'Viet Nam' 'Western Sahara' 'Yemen'\n",
      " 'Yugoslav SFR' 'Zambia' 'Zimbabwe']\n",
      "[5610 5608 5607 5609]\n",
      "['Import Quantity']\n",
      "[ 231  527  633  689  767  769 1293 1232  620  623  507  246 1218 1096\n",
      " 1058 1061 1073 1141 1080  889  449 1074  737  490   22  574  537  754\n",
      "  561  723  635  168  463  473  110  564  711  515  572  486  176   51\n",
      "  634  358  217  393  113  901  220  401  666  828  657  397  577  399\n",
      "  652  651  619  406 1182  407  497  201  372  870 1097  977  568  897\n",
      "  882  451  702  753  261  268  340  262  403  521  587  536   30   31\n",
      "  149  999  544  164  667  831  826  388  391  392  471  469  460  472\n",
      "  474  567  631  367  664  249  885  569  570  111  560  910  109  622\n",
      "  491   18  571 1041  898  165  258  575  489  394  122  672  475   15\n",
      " 1062  116  656  187  267   44  238  829  554 1064  603  243  514  513\n",
      "  509   56  671 1163   79  235  244  289   83  236  988  526  414 1183\n",
      "   59   17  181   89  332  245  335  269  101  128   41  531  530  191\n",
      "  517  661  659  768  550 1063 1276  846  821   58   38  150   16  115\n",
      "  653  626  720  172  225 1216  677  562  510  498  576  580  592  173\n",
      "  333   49 1166  875  867 1164 1035 1038  114  234   75  868 1274  266\n",
      "  334   60  274  271  290  237  339  402  600  534  247  687  843  296\n",
      "   92  270   32   28 1185  239  129  167  162  448 1225  495  565  232\n",
      "  222 1296  987 1009  994  233  390  252  257  221 1171 1039  203  229\n",
      "   20  886  893  253  272 1157  230  662  665  250  658  251  773  295\n",
      "  117  212   57 1016  549  920  518 1173 1017 1042  909  888  894  292\n",
      "   76 1036 1168  417  837  836   71  997  447  692  900  892  862  366\n",
      " 1107 1181  169  426  866  907 1057  693  698 1187  813  770  329  654\n",
      " 1091 1243 1060 1037 1277  628  771  774  166  519  492  780 1043  809\n",
      "  160 1242 1069 1110  331  260 1034  223  118  755  523  976 1186  373\n",
      "  157   97  476   46  946   94 1075 1059  224 1079  226  259  660 1068\n",
      " 1140   61]\n",
      "['Almonds shelled' 'Apricots, dry' 'Beverages, non alcoholic'\n",
      " 'Chillies and peppers, dry' 'Cotton lint' 'Cotton waste'\n",
      " 'Crude materials' 'Food prep nes' 'Fruit, dried nes'\n",
      " 'Fruit, prepared nes' 'Grapefruit (inc. pomelos)' 'Groundnuts, prepared'\n",
      " 'Hair, fine' 'Horses' 'Meat, chicken' 'Meat, chicken, canned'\n",
      " 'Meat, goose and guinea fowl' 'Meat, rabbit' 'Meat, turkey'\n",
      " 'Milk, whole condensed' 'Mushrooms and truffles' 'Offals, liver geese'\n",
      " 'Oil, citronella' 'Oranges' 'Pastry' 'Pineapples' 'Plums dried (prunes)'\n",
      " 'Pyrethrum, dried' 'Raisins' 'Spices nes' 'Straw husks'\n",
      " 'Sugar confectionery' 'Vegetables, fresh nes' 'Vegetables, frozen'\n",
      " 'Wafers' 'Wine' 'Anise, badian, fennel, coriander' 'Apples' 'Avocados'\n",
      " 'Bananas' 'Beans, dry' 'Beer of barley' 'Beverages, distilled alcoholic'\n",
      " 'Cabbages and other brassicas' 'Cashew nuts, with shell'\n",
      " 'Cauliflowers and broccoli' 'Cereal preparations nes'\n",
      " 'Cheese, whole cow milk' 'Chestnut' 'Chillies and peppers, green'\n",
      " 'Chocolate products nes' 'Cigarettes' 'Coffee, roasted'\n",
      " 'Cucumbers and gherkins' 'Dates' 'Eggplants (aubergines)'\n",
      " 'Feed, vegetable products nes' 'Forage products' 'Fruit, fresh nes'\n",
      " 'Garlic' 'Honey, natural' 'Leeks, other alliaceous vegetables'\n",
      " 'Lemons and limes' 'Lentils' 'Lettuce and chicory'\n",
      " 'Meat, cattle, boneless (beef & veal)' 'Meat, horse' 'Meat, sheep'\n",
      " 'Melons, other (inc.cantaloupes)' 'Milk, whole dried'\n",
      " 'Milk, whole fresh cow' 'Mushrooms, canned' 'Nutmeg, mace and cardamoms'\n",
      " 'Oil, essential nes' 'Oil, olive, virgin' 'Oil, sunflower'\n",
      " 'Oil, vegetable origin nes' 'Olives preserved' 'Onions, dry' 'Pears'\n",
      " 'Persimmons' 'Plums and sloes' 'Rice - total  (Rice milled equivalent)'\n",
      " 'Rice, milled' 'Roots and tubers nes' 'Skins, sheep, with wool'\n",
      " 'Strawberries' 'Sugar refined' 'Tea' 'Tobacco products nes'\n",
      " 'Tobacco, unmanufactured' 'Tomatoes' 'Tomatoes, paste' 'Tomatoes, peeled'\n",
      " 'Vegetables in vinegar' 'Vegetables, dehydrated'\n",
      " 'Vegetables, fresh or dried products nes' 'Vegetables, preserved nes'\n",
      " 'Vegetables, temporarily preserved' 'Watermelons' 'Waters,ice etc'\n",
      " 'Asparagus' 'Cocoa, butter' 'Coconuts' 'Cream fresh' 'Figs' 'Figs dried'\n",
      " 'Flour, cereals' 'Grapes' 'Ice cream and edible ice' 'Infant food'\n",
      " 'Juice, fruit nes' 'Juice, orange, single strength' 'Macaroni'\n",
      " 'Mangoes, mangosteens, guavas' 'Meat, pig sausages' 'Milk, skimmed dried'\n",
      " 'Molasses' 'Oil, palm kernel' 'Pineapples canned' 'Plantains and others'\n",
      " 'Pumpkins, squash and gourds' 'Sweet potatoes' 'Tea, mate extracts'\n",
      " 'Vegetables, preserved, frozen' 'Wheat' 'Eggs, hen, in shell' 'Potatoes'\n",
      " 'Coffee, green' 'Peas, dry' 'Sunflower seed' 'Barley' 'Cake, soybeans'\n",
      " 'Cigars, cheroots' 'Cranberries' 'Eggs, dried'\n",
      " 'Fruit, tropical fresh nes' 'Groundnuts, shelled'\n",
      " 'Juice, citrus, concentrated' 'Juice, citrus, single strength'\n",
      " 'Juice, grapefruit' 'Maize' 'Maté' 'Meat, game' 'Millet'\n",
      " 'Nuts, prepared (exc. groundnuts)' 'Oil, groundnut' 'Sesame seed'\n",
      " 'Sorghum' 'Soybeans' 'Wool, degreased' 'Apricots' 'Beans, green'\n",
      " 'Beeswax' 'Bran, maize' 'Bran, wheat' 'Broad beans, horse beans, dry'\n",
      " 'Buckwheat' 'Cake, cottonseed' 'Cake, groundnuts' 'Cake, linseed'\n",
      " 'Cake, sunflower' 'Canary seed' 'Cassava dried' 'Cereals, breakfast'\n",
      " 'Cherries' 'Cherries, sour' 'Chick peas' 'Cider etc' 'Cocoa, beans'\n",
      " 'Coffee, extracts' 'Cotton, carded, combed' 'Currants' 'Eggs, liquid'\n",
      " 'Fatty acids' 'Feed and meal, gluten' 'Fibre crops nes' 'Flour, maize'\n",
      " 'Flour, rice' 'Flour, roots and tubers nes' 'Flour, wheat'\n",
      " 'Food preparations, flour, malt extract' 'Food wastes'\n",
      " 'Fruit, cooked, homogenized preparations' 'Ginger' 'Glucose and dextrose'\n",
      " 'Hazelnuts, with shell' 'Hides nes' 'Hops' 'Juice, grape'\n",
      " 'Juice, grapefruit, concentrated' 'Juice, lemon, single strength'\n",
      " 'Juice, pineapple' 'Juice, pineapple, concentrated' 'Kiwi fruit'\n",
      " 'Lactose' 'Linseed' 'Malt' 'Meat nes' 'Meat, beef, preparations'\n",
      " 'Meat, cattle' 'Meat, dried nes' 'Meat, pig' 'Meat, pork'\n",
      " 'Mixes and doughs' 'Nuts nes' 'Oats' 'Offals, edible, cattle'\n",
      " 'Oil, boiled etc' 'Oil, castor beans' 'Oil, linseed' 'Oil, maize'\n",
      " 'Oil, olive residues' 'Oil, rapeseed' 'Oil, sesame' 'Oil, soybean'\n",
      " 'Oilseeds nes' 'Onions, shallots, green' 'Papayas'\n",
      " 'Peaches and nectarines' 'Peanut butter' 'Pepper (piper spp.)' 'Pet food'\n",
      " 'Poppy seed' 'Quinoa' 'Rapeseed' 'Rice, broken' 'Rice, husked'\n",
      " 'Silk-worm cocoons, reelable' 'Soya sauce' 'Starch, cassava' 'Sugar nes'\n",
      " 'Sugar Raw Centrifugal' 'Sweet corn prep or preserved' 'Tallow'\n",
      " 'Tangerines, mandarins, clementines, satsumas' 'Vermouths & similar'\n",
      " 'Walnuts, shelled' 'Walnuts, with shell' 'Waxes vegetable' 'Wool, greasy'\n",
      " 'Wool, hair waste' 'Grease incl. lanolin wool' 'Hazelnuts, shelled'\n",
      " 'Juice, tomato' 'Oil, coconut (copra)' 'Oil, palm' 'Almonds, with shell'\n",
      " 'Animals live nes' 'Bacon and ham' 'Bambara beans' 'Brazil nuts, shelled'\n",
      " 'Bread' 'Butter, cow milk' 'Buttermilk, curdled, acidified milk'\n",
      " 'Cake, copra' 'Cake, rapeseed' 'Camelids, other' 'Cashew nuts, shelled'\n",
      " 'Cocoa, paste' 'Cocoa, powder & cake' 'Coconuts, desiccated'\n",
      " 'Coffee, substitutes containing coffee' 'Copra' 'Flax fibre and tow'\n",
      " 'Flour, mustard' 'Flour, potatoes' 'Flour, pulses' 'Germ, maize' 'Goats'\n",
      " 'Gooseberries' 'Hides, cattle, wet salted'\n",
      " 'Juice, apple, single strength' 'Meal, meat' 'Meat, goat'\n",
      " 'Meat, pig, preparations' 'Milk, products of natural constituents nes'\n",
      " 'Milk, skimmed cow' 'Milk, whole evaporated' 'Mustard seed' 'Oats rolled'\n",
      " 'Offals, pigs, edible' 'Oils, fats of animal nes' 'Peas, green'\n",
      " 'Rubber natural dry' 'Rubber, natural' 'Rye' 'Skins, sheep, dry salted'\n",
      " 'Sweet corn frozen' 'Vanilla' 'Whey, dry' 'Yoghurt, concentrated or not'\n",
      " 'Alfalfa meal and pellets' 'Artichokes' 'Asses' 'Beehives' 'Beet pulp'\n",
      " 'Carrots and turnips' 'Cattle' 'Cheese, processed' 'Chickens'\n",
      " 'Cinnamon (cannella)' 'Cloves' 'Cocoons, unreelable & waste' 'Coir'\n",
      " 'Cotton linter' 'Cottonseed' 'Dregs from brewing, distillation'\n",
      " 'Eggs, other bird, in shell' 'Fat nes, prepared'\n",
      " 'Fat, liver prepared (foie gras)' 'Fat, pigs' 'Fatty substance residues'\n",
      " 'Feed, pulp of fruit' 'Flax fibre raw' 'Flax tow waste'\n",
      " 'Fructose and syrup, other' 'Juice, apple, concentrated'\n",
      " 'Juice, orange, concentrated' 'Jute' 'Lard' 'Manila fibre (abaca)'\n",
      " 'Maple sugar and syrups' 'Margarine, short' 'Meat, duck' 'Mules'\n",
      " 'Oil, cottonseed' 'Olives' 'Pigs' 'Pistachios' 'Potatoes, frozen'\n",
      " 'Pyrethrum, extraction' 'Quinces' 'Sheep' 'Silk, raw' 'Spinach'\n",
      " 'Sugar beet' 'Triticale' 'Vegetables, homogenized preparations'\n",
      " 'Barley, pearled' 'Buffaloes' 'Fonio' 'Offals, liver duck'\n",
      " 'Offals, liver chicken' 'Kola nuts' 'Turkeys' 'Areca nuts'\n",
      " 'Cake, palm kernel' 'Coffee, husks and skins' 'Ducks' 'Rabbits and hares'\n",
      " 'Cake, maize']\n",
      "[2016 2012 2005 2013 1995 2007 1988 1989 2001 2003 1998 2014 2002 2006\n",
      " 2015 1993 2000 1987 2017 1986 2008 1997 1996 2010 2011 2004 2009 1991\n",
      " 1992 1994 1999 1990]\n",
      "[2016 2012 2005 2013 1995 2007 1988 1989 2001 2003 1998 2014 2002 2006\n",
      " 2015 1993 2000 1987 2017 1986 2008 1997 1996 2010 2011 2004 2009 1991\n",
      " 1992 1994 1999 1990]\n",
      "['tonnes' 'Head' 'No' '1000 Head']\n",
      "[   0   23    4 ... 2255 4626 3282]\n",
      "[nan 'Im' 'A' '*']\n",
      "['Official data' 'FAO data based on imputation methodology'\n",
      " 'Aggregate, may include official, semi-official, estimated or calculated data'\n",
      " 'Unofficial figure']\n"
     ]
    }
   ],
   "source": [
    "for col in CH_imports:\n",
    "    print (CH_imports[col].unique())"
   ]
  },
  {
   "cell_type": "code",
   "execution_count": 40,
   "metadata": {},
   "outputs": [],
   "source": [
    "unofficial_stats_index = CH_imports.loc[CH_imports.Flag=='*'].index"
   ]
  },
  {
   "cell_type": "code",
   "execution_count": 41,
   "metadata": {},
   "outputs": [],
   "source": [
    "# Drop the unofficial data\n",
    "CH_imports = CH_imports.drop(index = unofficial_stats_index)"
   ]
  },
  {
   "cell_type": "code",
   "execution_count": 42,
   "metadata": {},
   "outputs": [],
   "source": [
    "# Select only the data with Unit 'tonnes'\n",
    "CH_imports = CH_imports.loc[CH_imports.Unit=='tonnes']"
   ]
  },
  {
   "cell_type": "code",
   "execution_count": 43,
   "metadata": {},
   "outputs": [],
   "source": [
    "CH_imports = CH_imports[['Partner Countries', 'Item', 'Year', 'Unit', 'Value']]"
   ]
  },
  {
   "cell_type": "code",
   "execution_count": 44,
   "metadata": {},
   "outputs": [],
   "source": [
    "# Sum the importations over all the partner countries\n",
    "CH_imports = CH_imports.groupby(['Item', 'Year']).agg({'Value':'sum'})\\\n",
    "                                    .reset_index()"
   ]
  },
  {
   "cell_type": "code",
   "execution_count": 45,
   "metadata": {},
   "outputs": [],
   "source": [
    "CH_crops = raw_CH_crops_dataset[['Area', 'Element', 'Item', 'Year', 'Unit', 'Value']]"
   ]
  },
  {
   "cell_type": "markdown",
   "metadata": {},
   "source": [
    "Combine production and importation data"
   ]
  },
  {
   "cell_type": "code",
   "execution_count": 46,
   "metadata": {},
   "outputs": [],
   "source": [
    "# Merge importations data with production data\n",
    "CH_data = CH_crops.loc[CH_crops.Area=='Switzerland'].loc[CH_crops.Element=='Production'].loc[CH_crops.Year>= 1986]\\\n",
    "                                    .merge(CH_imports,on=['Item', 'Year'], how='left', suffixes=('_crops', '_imports'))"
   ]
  },
  {
   "cell_type": "code",
   "execution_count": 47,
   "metadata": {},
   "outputs": [
    {
     "data": {
      "text/html": [
       "<div>\n",
       "<style scoped>\n",
       "    .dataframe tbody tr th:only-of-type {\n",
       "        vertical-align: middle;\n",
       "    }\n",
       "\n",
       "    .dataframe tbody tr th {\n",
       "        vertical-align: top;\n",
       "    }\n",
       "\n",
       "    .dataframe thead th {\n",
       "        text-align: right;\n",
       "    }\n",
       "</style>\n",
       "<table border=\"1\" class=\"dataframe\">\n",
       "  <thead>\n",
       "    <tr style=\"text-align: right;\">\n",
       "      <th></th>\n",
       "      <th>Area</th>\n",
       "      <th>Element</th>\n",
       "      <th>Item</th>\n",
       "      <th>Year</th>\n",
       "      <th>Unit</th>\n",
       "      <th>Value_crops</th>\n",
       "      <th>Value_imports</th>\n",
       "    </tr>\n",
       "  </thead>\n",
       "  <tbody>\n",
       "    <tr>\n",
       "      <td>0</td>\n",
       "      <td>Switzerland</td>\n",
       "      <td>Production</td>\n",
       "      <td>Apples</td>\n",
       "      <td>1986</td>\n",
       "      <td>tonnes</td>\n",
       "      <td>393000.0</td>\n",
       "      <td>4607.0</td>\n",
       "    </tr>\n",
       "    <tr>\n",
       "      <td>1</td>\n",
       "      <td>Switzerland</td>\n",
       "      <td>Production</td>\n",
       "      <td>Apples</td>\n",
       "      <td>1987</td>\n",
       "      <td>tonnes</td>\n",
       "      <td>240200.0</td>\n",
       "      <td>5003.0</td>\n",
       "    </tr>\n",
       "    <tr>\n",
       "      <td>2</td>\n",
       "      <td>Switzerland</td>\n",
       "      <td>Production</td>\n",
       "      <td>Apples</td>\n",
       "      <td>1988</td>\n",
       "      <td>tonnes</td>\n",
       "      <td>492000.0</td>\n",
       "      <td>8975.0</td>\n",
       "    </tr>\n",
       "    <tr>\n",
       "      <td>3</td>\n",
       "      <td>Switzerland</td>\n",
       "      <td>Production</td>\n",
       "      <td>Apples</td>\n",
       "      <td>1989</td>\n",
       "      <td>tonnes</td>\n",
       "      <td>311000.0</td>\n",
       "      <td>1543.0</td>\n",
       "    </tr>\n",
       "    <tr>\n",
       "      <td>4</td>\n",
       "      <td>Switzerland</td>\n",
       "      <td>Production</td>\n",
       "      <td>Apples</td>\n",
       "      <td>1990</td>\n",
       "      <td>tonnes</td>\n",
       "      <td>397800.0</td>\n",
       "      <td>8468.0</td>\n",
       "    </tr>\n",
       "    <tr>\n",
       "      <td>...</td>\n",
       "      <td>...</td>\n",
       "      <td>...</td>\n",
       "      <td>...</td>\n",
       "      <td>...</td>\n",
       "      <td>...</td>\n",
       "      <td>...</td>\n",
       "      <td>...</td>\n",
       "    </tr>\n",
       "    <tr>\n",
       "      <td>1671</td>\n",
       "      <td>Switzerland</td>\n",
       "      <td>Production</td>\n",
       "      <td>Wheat</td>\n",
       "      <td>2013</td>\n",
       "      <td>tonnes</td>\n",
       "      <td>479659.0</td>\n",
       "      <td>436585.0</td>\n",
       "    </tr>\n",
       "    <tr>\n",
       "      <td>1672</td>\n",
       "      <td>Switzerland</td>\n",
       "      <td>Production</td>\n",
       "      <td>Wheat</td>\n",
       "      <td>2014</td>\n",
       "      <td>tonnes</td>\n",
       "      <td>550826.0</td>\n",
       "      <td>419904.0</td>\n",
       "    </tr>\n",
       "    <tr>\n",
       "      <td>1673</td>\n",
       "      <td>Switzerland</td>\n",
       "      <td>Production</td>\n",
       "      <td>Wheat</td>\n",
       "      <td>2015</td>\n",
       "      <td>tonnes</td>\n",
       "      <td>527257.0</td>\n",
       "      <td>396564.0</td>\n",
       "    </tr>\n",
       "    <tr>\n",
       "      <td>1674</td>\n",
       "      <td>Switzerland</td>\n",
       "      <td>Production</td>\n",
       "      <td>Wheat</td>\n",
       "      <td>2016</td>\n",
       "      <td>tonnes</td>\n",
       "      <td>386720.0</td>\n",
       "      <td>484790.0</td>\n",
       "    </tr>\n",
       "    <tr>\n",
       "      <td>1675</td>\n",
       "      <td>Switzerland</td>\n",
       "      <td>Production</td>\n",
       "      <td>Wheat</td>\n",
       "      <td>2017</td>\n",
       "      <td>tonnes</td>\n",
       "      <td>530552.0</td>\n",
       "      <td>527632.0</td>\n",
       "    </tr>\n",
       "  </tbody>\n",
       "</table>\n",
       "<p>1676 rows × 7 columns</p>\n",
       "</div>"
      ],
      "text/plain": [
       "             Area     Element    Item  Year    Unit  Value_crops  \\\n",
       "0     Switzerland  Production  Apples  1986  tonnes     393000.0   \n",
       "1     Switzerland  Production  Apples  1987  tonnes     240200.0   \n",
       "2     Switzerland  Production  Apples  1988  tonnes     492000.0   \n",
       "3     Switzerland  Production  Apples  1989  tonnes     311000.0   \n",
       "4     Switzerland  Production  Apples  1990  tonnes     397800.0   \n",
       "...           ...         ...     ...   ...     ...          ...   \n",
       "1671  Switzerland  Production   Wheat  2013  tonnes     479659.0   \n",
       "1672  Switzerland  Production   Wheat  2014  tonnes     550826.0   \n",
       "1673  Switzerland  Production   Wheat  2015  tonnes     527257.0   \n",
       "1674  Switzerland  Production   Wheat  2016  tonnes     386720.0   \n",
       "1675  Switzerland  Production   Wheat  2017  tonnes     530552.0   \n",
       "\n",
       "      Value_imports  \n",
       "0            4607.0  \n",
       "1            5003.0  \n",
       "2            8975.0  \n",
       "3            1543.0  \n",
       "4            8468.0  \n",
       "...             ...  \n",
       "1671       436585.0  \n",
       "1672       419904.0  \n",
       "1673       396564.0  \n",
       "1674       484790.0  \n",
       "1675       527632.0  \n",
       "\n",
       "[1676 rows x 7 columns]"
      ]
     },
     "execution_count": 47,
     "metadata": {},
     "output_type": "execute_result"
    }
   ],
   "source": [
    "CH_data"
   ]
  },
  {
   "cell_type": "markdown",
   "metadata": {},
   "source": [
    "Now, combine with the land analysis of switzerland, the consumers trends and the Swiss demography we could estimate if the country has an interest of producing more of an item, if it is able to produce more of an item and stop its importation of the item. --> # Milestone 3"
   ]
  },
  {
   "cell_type": "markdown",
   "metadata": {},
   "source": [
    "### Plot production and import of items in Switzerland over years.\n",
    "\n",
    "This plot is interactive. It allows you to choose for an item (apples, berries..) and shows you its production and importation in Switzerland over years."
   ]
  },
  {
   "cell_type": "code",
   "execution_count": 48,
   "metadata": {},
   "outputs": [
    {
     "data": {
      "application/vnd.jupyter.widget-view+json": {
       "model_id": "9960a58e20f845c3a73ff5544cd9ce2a",
       "version_major": 2,
       "version_minor": 0
      },
      "text/plain": [
       "interactive(children=(Dropdown(description='item', options=('Apples', 'Apricots', 'Artichokes', 'Asparagus', '…"
      ]
     },
     "metadata": {},
     "output_type": "display_data"
    },
    {
     "data": {
      "text/plain": [
       "<function __main__.viz_evolution(item)>"
      ]
     },
     "execution_count": 48,
     "metadata": {},
     "output_type": "execute_result"
    }
   ],
   "source": [
    "#Interactive visualization\n",
    "\n",
    "#Plot the production of selected item for all countries over years\n",
    "def viz_evolution(item):\n",
    "    df_viz_evolution = CH_data.loc[CH_data['Item']==item]\n",
    "    \n",
    "    # multiple line plot\n",
    "    plt.figure(figsize=(20,10))\n",
    "    plt.plot( 'Year', 'Value_crops', data=df_viz_evolution, marker='', color='red', label = 'crops', linewidth=3)\n",
    "    plt.plot('Year', 'Value_imports', data=df_viz_evolution, marker='', color='blue', label = 'imports', linewidth=3) \n",
    "    plt.legend() \n",
    "    plt.title(f'Production and imports of {item} in Switzerland throughout years', fontsize= 20)\n",
    "    plt.xlabel(\"Year\", fontsize= 20)\n",
    "    plt.ylabel(\"Values [tonnes]\", fontsize= 20)\n",
    "    plt.show()\n",
    "   \n",
    "items = CH_data.Item.unique()\n",
    "interact(viz_evolution, item = items)    "
   ]
  },
  {
   "cell_type": "markdown",
   "metadata": {},
   "source": [
    "**Most produced and imported products :**\n",
    "\n",
    "- Most produced crops products"
   ]
  },
  {
   "cell_type": "code",
   "execution_count": 49,
   "metadata": {},
   "outputs": [
    {
     "data": {
      "text/html": [
       "<div>\n",
       "<style scoped>\n",
       "    .dataframe tbody tr th:only-of-type {\n",
       "        vertical-align: middle;\n",
       "    }\n",
       "\n",
       "    .dataframe tbody tr th {\n",
       "        vertical-align: top;\n",
       "    }\n",
       "\n",
       "    .dataframe thead th {\n",
       "        text-align: right;\n",
       "    }\n",
       "</style>\n",
       "<table border=\"1\" class=\"dataframe\">\n",
       "  <thead>\n",
       "    <tr style=\"text-align: right;\">\n",
       "      <th></th>\n",
       "      <th>Area</th>\n",
       "      <th>Element</th>\n",
       "      <th>Item</th>\n",
       "      <th>Year</th>\n",
       "      <th>Unit</th>\n",
       "      <th>Value_crops</th>\n",
       "      <th>Value_imports</th>\n",
       "    </tr>\n",
       "  </thead>\n",
       "  <tbody>\n",
       "    <tr>\n",
       "      <td>1443</td>\n",
       "      <td>Switzerland</td>\n",
       "      <td>Production</td>\n",
       "      <td>Sugar beet</td>\n",
       "      <td>2016</td>\n",
       "      <td>tonnes</td>\n",
       "      <td>1277407.0</td>\n",
       "      <td>42914.0</td>\n",
       "    </tr>\n",
       "    <tr>\n",
       "      <td>1674</td>\n",
       "      <td>Switzerland</td>\n",
       "      <td>Production</td>\n",
       "      <td>Wheat</td>\n",
       "      <td>2016</td>\n",
       "      <td>tonnes</td>\n",
       "      <td>386720.0</td>\n",
       "      <td>484790.0</td>\n",
       "    </tr>\n",
       "    <tr>\n",
       "      <td>1174</td>\n",
       "      <td>Switzerland</td>\n",
       "      <td>Production</td>\n",
       "      <td>Potatoes</td>\n",
       "      <td>2016</td>\n",
       "      <td>tonnes</td>\n",
       "      <td>372900.0</td>\n",
       "      <td>104191.0</td>\n",
       "    </tr>\n",
       "    <tr>\n",
       "      <td>30</td>\n",
       "      <td>Switzerland</td>\n",
       "      <td>Production</td>\n",
       "      <td>Apples</td>\n",
       "      <td>2016</td>\n",
       "      <td>tonnes</td>\n",
       "      <td>227300.0</td>\n",
       "      <td>11063.0</td>\n",
       "    </tr>\n",
       "    <tr>\n",
       "      <td>124</td>\n",
       "      <td>Switzerland</td>\n",
       "      <td>Production</td>\n",
       "      <td>Barley</td>\n",
       "      <td>2016</td>\n",
       "      <td>tonnes</td>\n",
       "      <td>159890.0</td>\n",
       "      <td>34152.0</td>\n",
       "    </tr>\n",
       "    <tr>\n",
       "      <td>803</td>\n",
       "      <td>Switzerland</td>\n",
       "      <td>Production</td>\n",
       "      <td>Maize</td>\n",
       "      <td>2016</td>\n",
       "      <td>tonnes</td>\n",
       "      <td>144406.0</td>\n",
       "      <td>165867.0</td>\n",
       "    </tr>\n",
       "    <tr>\n",
       "      <td>632</td>\n",
       "      <td>Switzerland</td>\n",
       "      <td>Production</td>\n",
       "      <td>Grapes</td>\n",
       "      <td>2016</td>\n",
       "      <td>tonnes</td>\n",
       "      <td>136352.0</td>\n",
       "      <td>34096.0</td>\n",
       "    </tr>\n",
       "    <tr>\n",
       "      <td>1253</td>\n",
       "      <td>Switzerland</td>\n",
       "      <td>Production</td>\n",
       "      <td>Rapeseed</td>\n",
       "      <td>2016</td>\n",
       "      <td>tonnes</td>\n",
       "      <td>71900.0</td>\n",
       "      <td>11978.0</td>\n",
       "    </tr>\n",
       "    <tr>\n",
       "      <td>311</td>\n",
       "      <td>Switzerland</td>\n",
       "      <td>Production</td>\n",
       "      <td>Carrots and turnips</td>\n",
       "      <td>2016</td>\n",
       "      <td>tonnes</td>\n",
       "      <td>68433.0</td>\n",
       "      <td>4203.0</td>\n",
       "    </tr>\n",
       "    <tr>\n",
       "      <td>739</td>\n",
       "      <td>Switzerland</td>\n",
       "      <td>Production</td>\n",
       "      <td>Lettuce and chicory</td>\n",
       "      <td>2016</td>\n",
       "      <td>tonnes</td>\n",
       "      <td>65946.0</td>\n",
       "      <td>37433.0</td>\n",
       "    </tr>\n",
       "    <tr>\n",
       "      <td>1596</td>\n",
       "      <td>Switzerland</td>\n",
       "      <td>Production</td>\n",
       "      <td>Vegetables, fresh nes</td>\n",
       "      <td>2016</td>\n",
       "      <td>tonnes</td>\n",
       "      <td>49909.0</td>\n",
       "      <td>34772.0</td>\n",
       "    </tr>\n",
       "    <tr>\n",
       "      <td>1532</td>\n",
       "      <td>Switzerland</td>\n",
       "      <td>Production</td>\n",
       "      <td>Tomatoes</td>\n",
       "      <td>2016</td>\n",
       "      <td>tonnes</td>\n",
       "      <td>41907.0</td>\n",
       "      <td>38360.0</td>\n",
       "    </tr>\n",
       "    <tr>\n",
       "      <td>950</td>\n",
       "      <td>Switzerland</td>\n",
       "      <td>Production</td>\n",
       "      <td>Onions, dry</td>\n",
       "      <td>2016</td>\n",
       "      <td>tonnes</td>\n",
       "      <td>39451.0</td>\n",
       "      <td>8083.0</td>\n",
       "    </tr>\n",
       "    <tr>\n",
       "      <td>1564</td>\n",
       "      <td>Switzerland</td>\n",
       "      <td>Production</td>\n",
       "      <td>Triticale</td>\n",
       "      <td>2016</td>\n",
       "      <td>tonnes</td>\n",
       "      <td>36178.0</td>\n",
       "      <td>333.0</td>\n",
       "    </tr>\n",
       "    <tr>\n",
       "      <td>1046</td>\n",
       "      <td>Switzerland</td>\n",
       "      <td>Production</td>\n",
       "      <td>Pears</td>\n",
       "      <td>2016</td>\n",
       "      <td>tonnes</td>\n",
       "      <td>34699.0</td>\n",
       "      <td>9958.0</td>\n",
       "    </tr>\n",
       "    <tr>\n",
       "      <td>279</td>\n",
       "      <td>Switzerland</td>\n",
       "      <td>Production</td>\n",
       "      <td>Cabbages and other brassicas</td>\n",
       "      <td>2016</td>\n",
       "      <td>tonnes</td>\n",
       "      <td>34157.0</td>\n",
       "      <td>17237.0</td>\n",
       "    </tr>\n",
       "    <tr>\n",
       "      <td>1379</td>\n",
       "      <td>Switzerland</td>\n",
       "      <td>Production</td>\n",
       "      <td>Spinach</td>\n",
       "      <td>2016</td>\n",
       "      <td>tonnes</td>\n",
       "      <td>15483.0</td>\n",
       "      <td>1893.0</td>\n",
       "    </tr>\n",
       "    <tr>\n",
       "      <td>457</td>\n",
       "      <td>Switzerland</td>\n",
       "      <td>Production</td>\n",
       "      <td>Cucumbers and gherkins</td>\n",
       "      <td>2016</td>\n",
       "      <td>tonnes</td>\n",
       "      <td>14931.0</td>\n",
       "      <td>17103.0</td>\n",
       "    </tr>\n",
       "    <tr>\n",
       "      <td>1189</td>\n",
       "      <td>Switzerland</td>\n",
       "      <td>Production</td>\n",
       "      <td>Pumpkins, squash and gourds</td>\n",
       "      <td>2016</td>\n",
       "      <td>tonnes</td>\n",
       "      <td>14419.0</td>\n",
       "      <td>4235.0</td>\n",
       "    </tr>\n",
       "    <tr>\n",
       "      <td>707</td>\n",
       "      <td>Switzerland</td>\n",
       "      <td>Production</td>\n",
       "      <td>Leeks, other alliaceous vegetables</td>\n",
       "      <td>2016</td>\n",
       "      <td>tonnes</td>\n",
       "      <td>13668.0</td>\n",
       "      <td>3057.0</td>\n",
       "    </tr>\n",
       "  </tbody>\n",
       "</table>\n",
       "</div>"
      ],
      "text/plain": [
       "             Area     Element                                Item  Year  \\\n",
       "1443  Switzerland  Production                          Sugar beet  2016   \n",
       "1674  Switzerland  Production                               Wheat  2016   \n",
       "1174  Switzerland  Production                            Potatoes  2016   \n",
       "30    Switzerland  Production                              Apples  2016   \n",
       "124   Switzerland  Production                              Barley  2016   \n",
       "803   Switzerland  Production                               Maize  2016   \n",
       "632   Switzerland  Production                              Grapes  2016   \n",
       "1253  Switzerland  Production                            Rapeseed  2016   \n",
       "311   Switzerland  Production                 Carrots and turnips  2016   \n",
       "739   Switzerland  Production                 Lettuce and chicory  2016   \n",
       "1596  Switzerland  Production               Vegetables, fresh nes  2016   \n",
       "1532  Switzerland  Production                            Tomatoes  2016   \n",
       "950   Switzerland  Production                         Onions, dry  2016   \n",
       "1564  Switzerland  Production                           Triticale  2016   \n",
       "1046  Switzerland  Production                               Pears  2016   \n",
       "279   Switzerland  Production        Cabbages and other brassicas  2016   \n",
       "1379  Switzerland  Production                             Spinach  2016   \n",
       "457   Switzerland  Production              Cucumbers and gherkins  2016   \n",
       "1189  Switzerland  Production         Pumpkins, squash and gourds  2016   \n",
       "707   Switzerland  Production  Leeks, other alliaceous vegetables  2016   \n",
       "\n",
       "        Unit  Value_crops  Value_imports  \n",
       "1443  tonnes    1277407.0        42914.0  \n",
       "1674  tonnes     386720.0       484790.0  \n",
       "1174  tonnes     372900.0       104191.0  \n",
       "30    tonnes     227300.0        11063.0  \n",
       "124   tonnes     159890.0        34152.0  \n",
       "803   tonnes     144406.0       165867.0  \n",
       "632   tonnes     136352.0        34096.0  \n",
       "1253  tonnes      71900.0        11978.0  \n",
       "311   tonnes      68433.0         4203.0  \n",
       "739   tonnes      65946.0        37433.0  \n",
       "1596  tonnes      49909.0        34772.0  \n",
       "1532  tonnes      41907.0        38360.0  \n",
       "950   tonnes      39451.0         8083.0  \n",
       "1564  tonnes      36178.0          333.0  \n",
       "1046  tonnes      34699.0         9958.0  \n",
       "279   tonnes      34157.0        17237.0  \n",
       "1379  tonnes      15483.0         1893.0  \n",
       "457   tonnes      14931.0        17103.0  \n",
       "1189  tonnes      14419.0         4235.0  \n",
       "707   tonnes      13668.0         3057.0  "
      ]
     },
     "execution_count": 49,
     "metadata": {},
     "output_type": "execute_result"
    }
   ],
   "source": [
    "CH_data.loc[CH_data.Year == 2016].sort_values(by='Value_crops', ascending = False).head(20)"
   ]
  },
  {
   "cell_type": "markdown",
   "metadata": {},
   "source": [
    "- Most imported crops products"
   ]
  },
  {
   "cell_type": "code",
   "execution_count": 50,
   "metadata": {},
   "outputs": [
    {
     "data": {
      "text/html": [
       "<div>\n",
       "<style scoped>\n",
       "    .dataframe tbody tr th:only-of-type {\n",
       "        vertical-align: middle;\n",
       "    }\n",
       "\n",
       "    .dataframe tbody tr th {\n",
       "        vertical-align: top;\n",
       "    }\n",
       "\n",
       "    .dataframe thead th {\n",
       "        text-align: right;\n",
       "    }\n",
       "</style>\n",
       "<table border=\"1\" class=\"dataframe\">\n",
       "  <thead>\n",
       "    <tr style=\"text-align: right;\">\n",
       "      <th></th>\n",
       "      <th>Area</th>\n",
       "      <th>Element</th>\n",
       "      <th>Item</th>\n",
       "      <th>Year</th>\n",
       "      <th>Unit</th>\n",
       "      <th>Value_crops</th>\n",
       "      <th>Value_imports</th>\n",
       "    </tr>\n",
       "  </thead>\n",
       "  <tbody>\n",
       "    <tr>\n",
       "      <td>1674</td>\n",
       "      <td>Switzerland</td>\n",
       "      <td>Production</td>\n",
       "      <td>Wheat</td>\n",
       "      <td>2016</td>\n",
       "      <td>tonnes</td>\n",
       "      <td>386720.0</td>\n",
       "      <td>484790.0</td>\n",
       "    </tr>\n",
       "    <tr>\n",
       "      <td>803</td>\n",
       "      <td>Switzerland</td>\n",
       "      <td>Production</td>\n",
       "      <td>Maize</td>\n",
       "      <td>2016</td>\n",
       "      <td>tonnes</td>\n",
       "      <td>144406.0</td>\n",
       "      <td>165867.0</td>\n",
       "    </tr>\n",
       "    <tr>\n",
       "      <td>1174</td>\n",
       "      <td>Switzerland</td>\n",
       "      <td>Production</td>\n",
       "      <td>Potatoes</td>\n",
       "      <td>2016</td>\n",
       "      <td>tonnes</td>\n",
       "      <td>372900.0</td>\n",
       "      <td>104191.0</td>\n",
       "    </tr>\n",
       "    <tr>\n",
       "      <td>906</td>\n",
       "      <td>Switzerland</td>\n",
       "      <td>Production</td>\n",
       "      <td>Oats</td>\n",
       "      <td>2016</td>\n",
       "      <td>tonnes</td>\n",
       "      <td>7106.0</td>\n",
       "      <td>50129.0</td>\n",
       "    </tr>\n",
       "    <tr>\n",
       "      <td>1443</td>\n",
       "      <td>Switzerland</td>\n",
       "      <td>Production</td>\n",
       "      <td>Sugar beet</td>\n",
       "      <td>2016</td>\n",
       "      <td>tonnes</td>\n",
       "      <td>1277407.0</td>\n",
       "      <td>42914.0</td>\n",
       "    </tr>\n",
       "    <tr>\n",
       "      <td>1532</td>\n",
       "      <td>Switzerland</td>\n",
       "      <td>Production</td>\n",
       "      <td>Tomatoes</td>\n",
       "      <td>2016</td>\n",
       "      <td>tonnes</td>\n",
       "      <td>41907.0</td>\n",
       "      <td>38360.0</td>\n",
       "    </tr>\n",
       "    <tr>\n",
       "      <td>739</td>\n",
       "      <td>Switzerland</td>\n",
       "      <td>Production</td>\n",
       "      <td>Lettuce and chicory</td>\n",
       "      <td>2016</td>\n",
       "      <td>tonnes</td>\n",
       "      <td>65946.0</td>\n",
       "      <td>37433.0</td>\n",
       "    </tr>\n",
       "    <tr>\n",
       "      <td>1596</td>\n",
       "      <td>Switzerland</td>\n",
       "      <td>Production</td>\n",
       "      <td>Vegetables, fresh nes</td>\n",
       "      <td>2016</td>\n",
       "      <td>tonnes</td>\n",
       "      <td>49909.0</td>\n",
       "      <td>34772.0</td>\n",
       "    </tr>\n",
       "    <tr>\n",
       "      <td>124</td>\n",
       "      <td>Switzerland</td>\n",
       "      <td>Production</td>\n",
       "      <td>Barley</td>\n",
       "      <td>2016</td>\n",
       "      <td>tonnes</td>\n",
       "      <td>159890.0</td>\n",
       "      <td>34152.0</td>\n",
       "    </tr>\n",
       "    <tr>\n",
       "      <td>632</td>\n",
       "      <td>Switzerland</td>\n",
       "      <td>Production</td>\n",
       "      <td>Grapes</td>\n",
       "      <td>2016</td>\n",
       "      <td>tonnes</td>\n",
       "      <td>136352.0</td>\n",
       "      <td>34096.0</td>\n",
       "    </tr>\n",
       "    <tr>\n",
       "      <td>425</td>\n",
       "      <td>Switzerland</td>\n",
       "      <td>Production</td>\n",
       "      <td>Chillies and peppers, green</td>\n",
       "      <td>2016</td>\n",
       "      <td>tonnes</td>\n",
       "      <td>725.0</td>\n",
       "      <td>32609.0</td>\n",
       "    </tr>\n",
       "    <tr>\n",
       "      <td>1014</td>\n",
       "      <td>Switzerland</td>\n",
       "      <td>Production</td>\n",
       "      <td>Peaches and nectarines</td>\n",
       "      <td>2016</td>\n",
       "      <td>tonnes</td>\n",
       "      <td>244.0</td>\n",
       "      <td>31303.0</td>\n",
       "    </tr>\n",
       "    <tr>\n",
       "      <td>833</td>\n",
       "      <td>Switzerland</td>\n",
       "      <td>Production</td>\n",
       "      <td>Melons, other (inc.cantaloupes)</td>\n",
       "      <td>2016</td>\n",
       "      <td>tonnes</td>\n",
       "      <td>0.0</td>\n",
       "      <td>26881.0</td>\n",
       "    </tr>\n",
       "    <tr>\n",
       "      <td>279</td>\n",
       "      <td>Switzerland</td>\n",
       "      <td>Production</td>\n",
       "      <td>Cabbages and other brassicas</td>\n",
       "      <td>2016</td>\n",
       "      <td>tonnes</td>\n",
       "      <td>34157.0</td>\n",
       "      <td>17237.0</td>\n",
       "    </tr>\n",
       "    <tr>\n",
       "      <td>1500</td>\n",
       "      <td>Switzerland</td>\n",
       "      <td>Production</td>\n",
       "      <td>Tobacco, unmanufactured</td>\n",
       "      <td>2016</td>\n",
       "      <td>tonnes</td>\n",
       "      <td>1013.0</td>\n",
       "      <td>17182.0</td>\n",
       "    </tr>\n",
       "    <tr>\n",
       "      <td>457</td>\n",
       "      <td>Switzerland</td>\n",
       "      <td>Production</td>\n",
       "      <td>Cucumbers and gherkins</td>\n",
       "      <td>2016</td>\n",
       "      <td>tonnes</td>\n",
       "      <td>14931.0</td>\n",
       "      <td>17103.0</td>\n",
       "    </tr>\n",
       "    <tr>\n",
       "      <td>1411</td>\n",
       "      <td>Switzerland</td>\n",
       "      <td>Production</td>\n",
       "      <td>Strawberries</td>\n",
       "      <td>2016</td>\n",
       "      <td>tonnes</td>\n",
       "      <td>9188.0</td>\n",
       "      <td>14903.0</td>\n",
       "    </tr>\n",
       "    <tr>\n",
       "      <td>1347</td>\n",
       "      <td>Switzerland</td>\n",
       "      <td>Production</td>\n",
       "      <td>Soybeans</td>\n",
       "      <td>2016</td>\n",
       "      <td>tonnes</td>\n",
       "      <td>4500.0</td>\n",
       "      <td>12695.0</td>\n",
       "    </tr>\n",
       "    <tr>\n",
       "      <td>1253</td>\n",
       "      <td>Switzerland</td>\n",
       "      <td>Production</td>\n",
       "      <td>Rapeseed</td>\n",
       "      <td>2016</td>\n",
       "      <td>tonnes</td>\n",
       "      <td>71900.0</td>\n",
       "      <td>11978.0</td>\n",
       "    </tr>\n",
       "    <tr>\n",
       "      <td>692</td>\n",
       "      <td>Switzerland</td>\n",
       "      <td>Production</td>\n",
       "      <td>Kiwi fruit</td>\n",
       "      <td>2016</td>\n",
       "      <td>tonnes</td>\n",
       "      <td>375.0</td>\n",
       "      <td>11612.0</td>\n",
       "    </tr>\n",
       "  </tbody>\n",
       "</table>\n",
       "</div>"
      ],
      "text/plain": [
       "             Area     Element                             Item  Year    Unit  \\\n",
       "1674  Switzerland  Production                            Wheat  2016  tonnes   \n",
       "803   Switzerland  Production                            Maize  2016  tonnes   \n",
       "1174  Switzerland  Production                         Potatoes  2016  tonnes   \n",
       "906   Switzerland  Production                             Oats  2016  tonnes   \n",
       "1443  Switzerland  Production                       Sugar beet  2016  tonnes   \n",
       "1532  Switzerland  Production                         Tomatoes  2016  tonnes   \n",
       "739   Switzerland  Production              Lettuce and chicory  2016  tonnes   \n",
       "1596  Switzerland  Production            Vegetables, fresh nes  2016  tonnes   \n",
       "124   Switzerland  Production                           Barley  2016  tonnes   \n",
       "632   Switzerland  Production                           Grapes  2016  tonnes   \n",
       "425   Switzerland  Production      Chillies and peppers, green  2016  tonnes   \n",
       "1014  Switzerland  Production           Peaches and nectarines  2016  tonnes   \n",
       "833   Switzerland  Production  Melons, other (inc.cantaloupes)  2016  tonnes   \n",
       "279   Switzerland  Production     Cabbages and other brassicas  2016  tonnes   \n",
       "1500  Switzerland  Production          Tobacco, unmanufactured  2016  tonnes   \n",
       "457   Switzerland  Production           Cucumbers and gherkins  2016  tonnes   \n",
       "1411  Switzerland  Production                     Strawberries  2016  tonnes   \n",
       "1347  Switzerland  Production                         Soybeans  2016  tonnes   \n",
       "1253  Switzerland  Production                         Rapeseed  2016  tonnes   \n",
       "692   Switzerland  Production                       Kiwi fruit  2016  tonnes   \n",
       "\n",
       "      Value_crops  Value_imports  \n",
       "1674     386720.0       484790.0  \n",
       "803      144406.0       165867.0  \n",
       "1174     372900.0       104191.0  \n",
       "906        7106.0        50129.0  \n",
       "1443    1277407.0        42914.0  \n",
       "1532      41907.0        38360.0  \n",
       "739       65946.0        37433.0  \n",
       "1596      49909.0        34772.0  \n",
       "124      159890.0        34152.0  \n",
       "632      136352.0        34096.0  \n",
       "425         725.0        32609.0  \n",
       "1014        244.0        31303.0  \n",
       "833           0.0        26881.0  \n",
       "279       34157.0        17237.0  \n",
       "1500       1013.0        17182.0  \n",
       "457       14931.0        17103.0  \n",
       "1411       9188.0        14903.0  \n",
       "1347       4500.0        12695.0  \n",
       "1253      71900.0        11978.0  \n",
       "692         375.0        11612.0  "
      ]
     },
     "execution_count": 50,
     "metadata": {},
     "output_type": "execute_result"
    }
   ],
   "source": [
    "CH_data.loc[CH_data.Year == 2016].sort_values(by='Value_imports', ascending = False).head(20)"
   ]
  },
  {
   "cell_type": "markdown",
   "metadata": {},
   "source": [
    "### Plot most produced and imported items in Switzerland, year 2016.\n",
    "\n",
    "This plot is interactive. Shows values upon cursor selection."
   ]
  },
  {
   "cell_type": "code",
   "execution_count": 52,
   "metadata": {},
   "outputs": [
    {
     "data": {
      "application/vnd.plotly.v1+json": {
       "config": {
        "plotlyServerURL": "https://plot.ly"
       },
       "data": [
        {
         "name": "Wheat",
         "type": "bar",
         "x": [
          "Produced",
          "Imported"
         ],
         "y": [
          386720,
          484790
         ]
        },
        {
         "name": "Potatoes",
         "type": "bar",
         "x": [
          "Produced",
          "Imported"
         ],
         "y": [
          372900,
          104191
         ]
        },
        {
         "name": "Sugar beet",
         "type": "bar",
         "x": [
          "Produced",
          "Imported"
         ],
         "y": [
          1277407,
          42914
         ]
        }
       ],
       "layout": {
        "barmode": "stack",
        "font": {
         "color": "#7f7f7f",
         "family": "Courier New, monospace",
         "size": 18
        },
        "template": {
         "data": {
          "bar": [
           {
            "error_x": {
             "color": "#2a3f5f"
            },
            "error_y": {
             "color": "#2a3f5f"
            },
            "marker": {
             "line": {
              "color": "#E5ECF6",
              "width": 0.5
             }
            },
            "type": "bar"
           }
          ],
          "barpolar": [
           {
            "marker": {
             "line": {
              "color": "#E5ECF6",
              "width": 0.5
             }
            },
            "type": "barpolar"
           }
          ],
          "carpet": [
           {
            "aaxis": {
             "endlinecolor": "#2a3f5f",
             "gridcolor": "white",
             "linecolor": "white",
             "minorgridcolor": "white",
             "startlinecolor": "#2a3f5f"
            },
            "baxis": {
             "endlinecolor": "#2a3f5f",
             "gridcolor": "white",
             "linecolor": "white",
             "minorgridcolor": "white",
             "startlinecolor": "#2a3f5f"
            },
            "type": "carpet"
           }
          ],
          "choropleth": [
           {
            "colorbar": {
             "outlinewidth": 0,
             "ticks": ""
            },
            "type": "choropleth"
           }
          ],
          "contour": [
           {
            "colorbar": {
             "outlinewidth": 0,
             "ticks": ""
            },
            "colorscale": [
             [
              0,
              "#0d0887"
             ],
             [
              0.1111111111111111,
              "#46039f"
             ],
             [
              0.2222222222222222,
              "#7201a8"
             ],
             [
              0.3333333333333333,
              "#9c179e"
             ],
             [
              0.4444444444444444,
              "#bd3786"
             ],
             [
              0.5555555555555556,
              "#d8576b"
             ],
             [
              0.6666666666666666,
              "#ed7953"
             ],
             [
              0.7777777777777778,
              "#fb9f3a"
             ],
             [
              0.8888888888888888,
              "#fdca26"
             ],
             [
              1,
              "#f0f921"
             ]
            ],
            "type": "contour"
           }
          ],
          "contourcarpet": [
           {
            "colorbar": {
             "outlinewidth": 0,
             "ticks": ""
            },
            "type": "contourcarpet"
           }
          ],
          "heatmap": [
           {
            "colorbar": {
             "outlinewidth": 0,
             "ticks": ""
            },
            "colorscale": [
             [
              0,
              "#0d0887"
             ],
             [
              0.1111111111111111,
              "#46039f"
             ],
             [
              0.2222222222222222,
              "#7201a8"
             ],
             [
              0.3333333333333333,
              "#9c179e"
             ],
             [
              0.4444444444444444,
              "#bd3786"
             ],
             [
              0.5555555555555556,
              "#d8576b"
             ],
             [
              0.6666666666666666,
              "#ed7953"
             ],
             [
              0.7777777777777778,
              "#fb9f3a"
             ],
             [
              0.8888888888888888,
              "#fdca26"
             ],
             [
              1,
              "#f0f921"
             ]
            ],
            "type": "heatmap"
           }
          ],
          "heatmapgl": [
           {
            "colorbar": {
             "outlinewidth": 0,
             "ticks": ""
            },
            "colorscale": [
             [
              0,
              "#0d0887"
             ],
             [
              0.1111111111111111,
              "#46039f"
             ],
             [
              0.2222222222222222,
              "#7201a8"
             ],
             [
              0.3333333333333333,
              "#9c179e"
             ],
             [
              0.4444444444444444,
              "#bd3786"
             ],
             [
              0.5555555555555556,
              "#d8576b"
             ],
             [
              0.6666666666666666,
              "#ed7953"
             ],
             [
              0.7777777777777778,
              "#fb9f3a"
             ],
             [
              0.8888888888888888,
              "#fdca26"
             ],
             [
              1,
              "#f0f921"
             ]
            ],
            "type": "heatmapgl"
           }
          ],
          "histogram": [
           {
            "marker": {
             "colorbar": {
              "outlinewidth": 0,
              "ticks": ""
             }
            },
            "type": "histogram"
           }
          ],
          "histogram2d": [
           {
            "colorbar": {
             "outlinewidth": 0,
             "ticks": ""
            },
            "colorscale": [
             [
              0,
              "#0d0887"
             ],
             [
              0.1111111111111111,
              "#46039f"
             ],
             [
              0.2222222222222222,
              "#7201a8"
             ],
             [
              0.3333333333333333,
              "#9c179e"
             ],
             [
              0.4444444444444444,
              "#bd3786"
             ],
             [
              0.5555555555555556,
              "#d8576b"
             ],
             [
              0.6666666666666666,
              "#ed7953"
             ],
             [
              0.7777777777777778,
              "#fb9f3a"
             ],
             [
              0.8888888888888888,
              "#fdca26"
             ],
             [
              1,
              "#f0f921"
             ]
            ],
            "type": "histogram2d"
           }
          ],
          "histogram2dcontour": [
           {
            "colorbar": {
             "outlinewidth": 0,
             "ticks": ""
            },
            "colorscale": [
             [
              0,
              "#0d0887"
             ],
             [
              0.1111111111111111,
              "#46039f"
             ],
             [
              0.2222222222222222,
              "#7201a8"
             ],
             [
              0.3333333333333333,
              "#9c179e"
             ],
             [
              0.4444444444444444,
              "#bd3786"
             ],
             [
              0.5555555555555556,
              "#d8576b"
             ],
             [
              0.6666666666666666,
              "#ed7953"
             ],
             [
              0.7777777777777778,
              "#fb9f3a"
             ],
             [
              0.8888888888888888,
              "#fdca26"
             ],
             [
              1,
              "#f0f921"
             ]
            ],
            "type": "histogram2dcontour"
           }
          ],
          "mesh3d": [
           {
            "colorbar": {
             "outlinewidth": 0,
             "ticks": ""
            },
            "type": "mesh3d"
           }
          ],
          "parcoords": [
           {
            "line": {
             "colorbar": {
              "outlinewidth": 0,
              "ticks": ""
             }
            },
            "type": "parcoords"
           }
          ],
          "pie": [
           {
            "automargin": true,
            "type": "pie"
           }
          ],
          "scatter": [
           {
            "marker": {
             "colorbar": {
              "outlinewidth": 0,
              "ticks": ""
             }
            },
            "type": "scatter"
           }
          ],
          "scatter3d": [
           {
            "line": {
             "colorbar": {
              "outlinewidth": 0,
              "ticks": ""
             }
            },
            "marker": {
             "colorbar": {
              "outlinewidth": 0,
              "ticks": ""
             }
            },
            "type": "scatter3d"
           }
          ],
          "scattercarpet": [
           {
            "marker": {
             "colorbar": {
              "outlinewidth": 0,
              "ticks": ""
             }
            },
            "type": "scattercarpet"
           }
          ],
          "scattergeo": [
           {
            "marker": {
             "colorbar": {
              "outlinewidth": 0,
              "ticks": ""
             }
            },
            "type": "scattergeo"
           }
          ],
          "scattergl": [
           {
            "marker": {
             "colorbar": {
              "outlinewidth": 0,
              "ticks": ""
             }
            },
            "type": "scattergl"
           }
          ],
          "scattermapbox": [
           {
            "marker": {
             "colorbar": {
              "outlinewidth": 0,
              "ticks": ""
             }
            },
            "type": "scattermapbox"
           }
          ],
          "scatterpolar": [
           {
            "marker": {
             "colorbar": {
              "outlinewidth": 0,
              "ticks": ""
             }
            },
            "type": "scatterpolar"
           }
          ],
          "scatterpolargl": [
           {
            "marker": {
             "colorbar": {
              "outlinewidth": 0,
              "ticks": ""
             }
            },
            "type": "scatterpolargl"
           }
          ],
          "scatterternary": [
           {
            "marker": {
             "colorbar": {
              "outlinewidth": 0,
              "ticks": ""
             }
            },
            "type": "scatterternary"
           }
          ],
          "surface": [
           {
            "colorbar": {
             "outlinewidth": 0,
             "ticks": ""
            },
            "colorscale": [
             [
              0,
              "#0d0887"
             ],
             [
              0.1111111111111111,
              "#46039f"
             ],
             [
              0.2222222222222222,
              "#7201a8"
             ],
             [
              0.3333333333333333,
              "#9c179e"
             ],
             [
              0.4444444444444444,
              "#bd3786"
             ],
             [
              0.5555555555555556,
              "#d8576b"
             ],
             [
              0.6666666666666666,
              "#ed7953"
             ],
             [
              0.7777777777777778,
              "#fb9f3a"
             ],
             [
              0.8888888888888888,
              "#fdca26"
             ],
             [
              1,
              "#f0f921"
             ]
            ],
            "type": "surface"
           }
          ],
          "table": [
           {
            "cells": {
             "fill": {
              "color": "#EBF0F8"
             },
             "line": {
              "color": "white"
             }
            },
            "header": {
             "fill": {
              "color": "#C8D4E3"
             },
             "line": {
              "color": "white"
             }
            },
            "type": "table"
           }
          ]
         },
         "layout": {
          "annotationdefaults": {
           "arrowcolor": "#2a3f5f",
           "arrowhead": 0,
           "arrowwidth": 1
          },
          "coloraxis": {
           "colorbar": {
            "outlinewidth": 0,
            "ticks": ""
           }
          },
          "colorscale": {
           "diverging": [
            [
             0,
             "#8e0152"
            ],
            [
             0.1,
             "#c51b7d"
            ],
            [
             0.2,
             "#de77ae"
            ],
            [
             0.3,
             "#f1b6da"
            ],
            [
             0.4,
             "#fde0ef"
            ],
            [
             0.5,
             "#f7f7f7"
            ],
            [
             0.6,
             "#e6f5d0"
            ],
            [
             0.7,
             "#b8e186"
            ],
            [
             0.8,
             "#7fbc41"
            ],
            [
             0.9,
             "#4d9221"
            ],
            [
             1,
             "#276419"
            ]
           ],
           "sequential": [
            [
             0,
             "#0d0887"
            ],
            [
             0.1111111111111111,
             "#46039f"
            ],
            [
             0.2222222222222222,
             "#7201a8"
            ],
            [
             0.3333333333333333,
             "#9c179e"
            ],
            [
             0.4444444444444444,
             "#bd3786"
            ],
            [
             0.5555555555555556,
             "#d8576b"
            ],
            [
             0.6666666666666666,
             "#ed7953"
            ],
            [
             0.7777777777777778,
             "#fb9f3a"
            ],
            [
             0.8888888888888888,
             "#fdca26"
            ],
            [
             1,
             "#f0f921"
            ]
           ],
           "sequentialminus": [
            [
             0,
             "#0d0887"
            ],
            [
             0.1111111111111111,
             "#46039f"
            ],
            [
             0.2222222222222222,
             "#7201a8"
            ],
            [
             0.3333333333333333,
             "#9c179e"
            ],
            [
             0.4444444444444444,
             "#bd3786"
            ],
            [
             0.5555555555555556,
             "#d8576b"
            ],
            [
             0.6666666666666666,
             "#ed7953"
            ],
            [
             0.7777777777777778,
             "#fb9f3a"
            ],
            [
             0.8888888888888888,
             "#fdca26"
            ],
            [
             1,
             "#f0f921"
            ]
           ]
          },
          "colorway": [
           "#636efa",
           "#EF553B",
           "#00cc96",
           "#ab63fa",
           "#FFA15A",
           "#19d3f3",
           "#FF6692",
           "#B6E880",
           "#FF97FF",
           "#FECB52"
          ],
          "font": {
           "color": "#2a3f5f"
          },
          "geo": {
           "bgcolor": "white",
           "lakecolor": "white",
           "landcolor": "#E5ECF6",
           "showlakes": true,
           "showland": true,
           "subunitcolor": "white"
          },
          "hoverlabel": {
           "align": "left"
          },
          "hovermode": "closest",
          "mapbox": {
           "style": "light"
          },
          "paper_bgcolor": "white",
          "plot_bgcolor": "#E5ECF6",
          "polar": {
           "angularaxis": {
            "gridcolor": "white",
            "linecolor": "white",
            "ticks": ""
           },
           "bgcolor": "#E5ECF6",
           "radialaxis": {
            "gridcolor": "white",
            "linecolor": "white",
            "ticks": ""
           }
          },
          "scene": {
           "xaxis": {
            "backgroundcolor": "#E5ECF6",
            "gridcolor": "white",
            "gridwidth": 2,
            "linecolor": "white",
            "showbackground": true,
            "ticks": "",
            "zerolinecolor": "white"
           },
           "yaxis": {
            "backgroundcolor": "#E5ECF6",
            "gridcolor": "white",
            "gridwidth": 2,
            "linecolor": "white",
            "showbackground": true,
            "ticks": "",
            "zerolinecolor": "white"
           },
           "zaxis": {
            "backgroundcolor": "#E5ECF6",
            "gridcolor": "white",
            "gridwidth": 2,
            "linecolor": "white",
            "showbackground": true,
            "ticks": "",
            "zerolinecolor": "white"
           }
          },
          "shapedefaults": {
           "line": {
            "color": "#2a3f5f"
           }
          },
          "ternary": {
           "aaxis": {
            "gridcolor": "white",
            "linecolor": "white",
            "ticks": ""
           },
           "baxis": {
            "gridcolor": "white",
            "linecolor": "white",
            "ticks": ""
           },
           "bgcolor": "#E5ECF6",
           "caxis": {
            "gridcolor": "white",
            "linecolor": "white",
            "ticks": ""
           }
          },
          "title": {
           "x": 0.05
          },
          "xaxis": {
           "automargin": true,
           "gridcolor": "white",
           "linecolor": "white",
           "ticks": "",
           "title": {
            "standoff": 15
           },
           "zerolinecolor": "white",
           "zerolinewidth": 2
          },
          "yaxis": {
           "automargin": true,
           "gridcolor": "white",
           "linecolor": "white",
           "ticks": "",
           "title": {
            "standoff": 15
           },
           "zerolinecolor": "white",
           "zerolinewidth": 2
          }
         }
        },
        "title": {
         "text": "Most Imported and Produced items in Switzerland for year 2016"
        },
        "xaxis": {
         "categoryorder": "category ascending"
        },
        "yaxis": {
         "title": {
          "text": "Values [tonnes]"
         }
        }
       }
      },
      "text/html": [
       "<div>\n",
       "        \n",
       "        \n",
       "            <div id=\"bc768f28-f0f4-43fb-97fb-069683d3d30c\" class=\"plotly-graph-div\" style=\"height:525px; width:100%;\"></div>\n",
       "            <script type=\"text/javascript\">\n",
       "                require([\"plotly\"], function(Plotly) {\n",
       "                    window.PLOTLYENV=window.PLOTLYENV || {};\n",
       "                    \n",
       "                if (document.getElementById(\"bc768f28-f0f4-43fb-97fb-069683d3d30c\")) {\n",
       "                    Plotly.newPlot(\n",
       "                        'bc768f28-f0f4-43fb-97fb-069683d3d30c',\n",
       "                        [{\"name\": \"Wheat\", \"type\": \"bar\", \"x\": [\"Produced\", \"Imported\"], \"y\": [386720.0, 484790.0]}, {\"name\": \"Potatoes\", \"type\": \"bar\", \"x\": [\"Produced\", \"Imported\"], \"y\": [372900.0, 104191.0]}, {\"name\": \"Sugar beet\", \"type\": \"bar\", \"x\": [\"Produced\", \"Imported\"], \"y\": [1277407.0, 42914.0]}],\n",
       "                        {\"barmode\": \"stack\", \"font\": {\"color\": \"#7f7f7f\", \"family\": \"Courier New, monospace\", \"size\": 18}, \"template\": {\"data\": {\"bar\": [{\"error_x\": {\"color\": \"#2a3f5f\"}, \"error_y\": {\"color\": \"#2a3f5f\"}, \"marker\": {\"line\": {\"color\": \"#E5ECF6\", \"width\": 0.5}}, \"type\": \"bar\"}], \"barpolar\": [{\"marker\": {\"line\": {\"color\": \"#E5ECF6\", \"width\": 0.5}}, \"type\": \"barpolar\"}], \"carpet\": [{\"aaxis\": {\"endlinecolor\": \"#2a3f5f\", \"gridcolor\": \"white\", \"linecolor\": \"white\", \"minorgridcolor\": \"white\", \"startlinecolor\": \"#2a3f5f\"}, \"baxis\": {\"endlinecolor\": \"#2a3f5f\", \"gridcolor\": \"white\", \"linecolor\": \"white\", \"minorgridcolor\": \"white\", \"startlinecolor\": \"#2a3f5f\"}, \"type\": \"carpet\"}], \"choropleth\": [{\"colorbar\": {\"outlinewidth\": 0, \"ticks\": \"\"}, \"type\": \"choropleth\"}], \"contour\": [{\"colorbar\": {\"outlinewidth\": 0, \"ticks\": \"\"}, \"colorscale\": [[0.0, \"#0d0887\"], [0.1111111111111111, \"#46039f\"], [0.2222222222222222, \"#7201a8\"], [0.3333333333333333, \"#9c179e\"], [0.4444444444444444, \"#bd3786\"], [0.5555555555555556, \"#d8576b\"], [0.6666666666666666, \"#ed7953\"], [0.7777777777777778, \"#fb9f3a\"], [0.8888888888888888, \"#fdca26\"], [1.0, \"#f0f921\"]], \"type\": \"contour\"}], \"contourcarpet\": [{\"colorbar\": {\"outlinewidth\": 0, \"ticks\": \"\"}, \"type\": \"contourcarpet\"}], \"heatmap\": [{\"colorbar\": {\"outlinewidth\": 0, \"ticks\": \"\"}, \"colorscale\": [[0.0, \"#0d0887\"], [0.1111111111111111, \"#46039f\"], [0.2222222222222222, \"#7201a8\"], [0.3333333333333333, \"#9c179e\"], [0.4444444444444444, \"#bd3786\"], [0.5555555555555556, \"#d8576b\"], [0.6666666666666666, \"#ed7953\"], [0.7777777777777778, \"#fb9f3a\"], [0.8888888888888888, \"#fdca26\"], [1.0, \"#f0f921\"]], \"type\": \"heatmap\"}], \"heatmapgl\": [{\"colorbar\": {\"outlinewidth\": 0, \"ticks\": \"\"}, \"colorscale\": [[0.0, \"#0d0887\"], [0.1111111111111111, \"#46039f\"], [0.2222222222222222, \"#7201a8\"], [0.3333333333333333, \"#9c179e\"], [0.4444444444444444, \"#bd3786\"], [0.5555555555555556, \"#d8576b\"], [0.6666666666666666, \"#ed7953\"], [0.7777777777777778, \"#fb9f3a\"], [0.8888888888888888, \"#fdca26\"], [1.0, \"#f0f921\"]], \"type\": \"heatmapgl\"}], \"histogram\": [{\"marker\": {\"colorbar\": {\"outlinewidth\": 0, \"ticks\": \"\"}}, \"type\": \"histogram\"}], \"histogram2d\": [{\"colorbar\": {\"outlinewidth\": 0, \"ticks\": \"\"}, \"colorscale\": [[0.0, \"#0d0887\"], [0.1111111111111111, \"#46039f\"], [0.2222222222222222, \"#7201a8\"], [0.3333333333333333, \"#9c179e\"], [0.4444444444444444, \"#bd3786\"], [0.5555555555555556, \"#d8576b\"], [0.6666666666666666, \"#ed7953\"], [0.7777777777777778, \"#fb9f3a\"], [0.8888888888888888, \"#fdca26\"], [1.0, \"#f0f921\"]], \"type\": \"histogram2d\"}], \"histogram2dcontour\": [{\"colorbar\": {\"outlinewidth\": 0, \"ticks\": \"\"}, \"colorscale\": [[0.0, \"#0d0887\"], [0.1111111111111111, \"#46039f\"], [0.2222222222222222, \"#7201a8\"], [0.3333333333333333, \"#9c179e\"], [0.4444444444444444, \"#bd3786\"], [0.5555555555555556, \"#d8576b\"], [0.6666666666666666, \"#ed7953\"], [0.7777777777777778, \"#fb9f3a\"], [0.8888888888888888, \"#fdca26\"], [1.0, \"#f0f921\"]], \"type\": \"histogram2dcontour\"}], \"mesh3d\": [{\"colorbar\": {\"outlinewidth\": 0, \"ticks\": \"\"}, \"type\": \"mesh3d\"}], \"parcoords\": [{\"line\": {\"colorbar\": {\"outlinewidth\": 0, \"ticks\": \"\"}}, \"type\": \"parcoords\"}], \"pie\": [{\"automargin\": true, \"type\": \"pie\"}], \"scatter\": [{\"marker\": {\"colorbar\": {\"outlinewidth\": 0, \"ticks\": \"\"}}, \"type\": \"scatter\"}], \"scatter3d\": [{\"line\": {\"colorbar\": {\"outlinewidth\": 0, \"ticks\": \"\"}}, \"marker\": {\"colorbar\": {\"outlinewidth\": 0, \"ticks\": \"\"}}, \"type\": \"scatter3d\"}], \"scattercarpet\": [{\"marker\": {\"colorbar\": {\"outlinewidth\": 0, \"ticks\": \"\"}}, \"type\": \"scattercarpet\"}], \"scattergeo\": [{\"marker\": {\"colorbar\": {\"outlinewidth\": 0, \"ticks\": \"\"}}, \"type\": \"scattergeo\"}], \"scattergl\": [{\"marker\": {\"colorbar\": {\"outlinewidth\": 0, \"ticks\": \"\"}}, \"type\": \"scattergl\"}], \"scattermapbox\": [{\"marker\": {\"colorbar\": {\"outlinewidth\": 0, \"ticks\": \"\"}}, \"type\": \"scattermapbox\"}], \"scatterpolar\": [{\"marker\": {\"colorbar\": {\"outlinewidth\": 0, \"ticks\": \"\"}}, \"type\": \"scatterpolar\"}], \"scatterpolargl\": [{\"marker\": {\"colorbar\": {\"outlinewidth\": 0, \"ticks\": \"\"}}, \"type\": \"scatterpolargl\"}], \"scatterternary\": [{\"marker\": {\"colorbar\": {\"outlinewidth\": 0, \"ticks\": \"\"}}, \"type\": \"scatterternary\"}], \"surface\": [{\"colorbar\": {\"outlinewidth\": 0, \"ticks\": \"\"}, \"colorscale\": [[0.0, \"#0d0887\"], [0.1111111111111111, \"#46039f\"], [0.2222222222222222, \"#7201a8\"], [0.3333333333333333, \"#9c179e\"], [0.4444444444444444, \"#bd3786\"], [0.5555555555555556, \"#d8576b\"], [0.6666666666666666, \"#ed7953\"], [0.7777777777777778, \"#fb9f3a\"], [0.8888888888888888, \"#fdca26\"], [1.0, \"#f0f921\"]], \"type\": \"surface\"}], \"table\": [{\"cells\": {\"fill\": {\"color\": \"#EBF0F8\"}, \"line\": {\"color\": \"white\"}}, \"header\": {\"fill\": {\"color\": \"#C8D4E3\"}, \"line\": {\"color\": \"white\"}}, \"type\": \"table\"}]}, \"layout\": {\"annotationdefaults\": {\"arrowcolor\": \"#2a3f5f\", \"arrowhead\": 0, \"arrowwidth\": 1}, \"coloraxis\": {\"colorbar\": {\"outlinewidth\": 0, \"ticks\": \"\"}}, \"colorscale\": {\"diverging\": [[0, \"#8e0152\"], [0.1, \"#c51b7d\"], [0.2, \"#de77ae\"], [0.3, \"#f1b6da\"], [0.4, \"#fde0ef\"], [0.5, \"#f7f7f7\"], [0.6, \"#e6f5d0\"], [0.7, \"#b8e186\"], [0.8, \"#7fbc41\"], [0.9, \"#4d9221\"], [1, \"#276419\"]], \"sequential\": [[0.0, \"#0d0887\"], [0.1111111111111111, \"#46039f\"], [0.2222222222222222, \"#7201a8\"], [0.3333333333333333, \"#9c179e\"], [0.4444444444444444, \"#bd3786\"], [0.5555555555555556, \"#d8576b\"], [0.6666666666666666, \"#ed7953\"], [0.7777777777777778, \"#fb9f3a\"], [0.8888888888888888, \"#fdca26\"], [1.0, \"#f0f921\"]], \"sequentialminus\": [[0.0, \"#0d0887\"], [0.1111111111111111, \"#46039f\"], [0.2222222222222222, \"#7201a8\"], [0.3333333333333333, \"#9c179e\"], [0.4444444444444444, \"#bd3786\"], [0.5555555555555556, \"#d8576b\"], [0.6666666666666666, \"#ed7953\"], [0.7777777777777778, \"#fb9f3a\"], [0.8888888888888888, \"#fdca26\"], [1.0, \"#f0f921\"]]}, \"colorway\": [\"#636efa\", \"#EF553B\", \"#00cc96\", \"#ab63fa\", \"#FFA15A\", \"#19d3f3\", \"#FF6692\", \"#B6E880\", \"#FF97FF\", \"#FECB52\"], \"font\": {\"color\": \"#2a3f5f\"}, \"geo\": {\"bgcolor\": \"white\", \"lakecolor\": \"white\", \"landcolor\": \"#E5ECF6\", \"showlakes\": true, \"showland\": true, \"subunitcolor\": \"white\"}, \"hoverlabel\": {\"align\": \"left\"}, \"hovermode\": \"closest\", \"mapbox\": {\"style\": \"light\"}, \"paper_bgcolor\": \"white\", \"plot_bgcolor\": \"#E5ECF6\", \"polar\": {\"angularaxis\": {\"gridcolor\": \"white\", \"linecolor\": \"white\", \"ticks\": \"\"}, \"bgcolor\": \"#E5ECF6\", \"radialaxis\": {\"gridcolor\": \"white\", \"linecolor\": \"white\", \"ticks\": \"\"}}, \"scene\": {\"xaxis\": {\"backgroundcolor\": \"#E5ECF6\", \"gridcolor\": \"white\", \"gridwidth\": 2, \"linecolor\": \"white\", \"showbackground\": true, \"ticks\": \"\", \"zerolinecolor\": \"white\"}, \"yaxis\": {\"backgroundcolor\": \"#E5ECF6\", \"gridcolor\": \"white\", \"gridwidth\": 2, \"linecolor\": \"white\", \"showbackground\": true, \"ticks\": \"\", \"zerolinecolor\": \"white\"}, \"zaxis\": {\"backgroundcolor\": \"#E5ECF6\", \"gridcolor\": \"white\", \"gridwidth\": 2, \"linecolor\": \"white\", \"showbackground\": true, \"ticks\": \"\", \"zerolinecolor\": \"white\"}}, \"shapedefaults\": {\"line\": {\"color\": \"#2a3f5f\"}}, \"ternary\": {\"aaxis\": {\"gridcolor\": \"white\", \"linecolor\": \"white\", \"ticks\": \"\"}, \"baxis\": {\"gridcolor\": \"white\", \"linecolor\": \"white\", \"ticks\": \"\"}, \"bgcolor\": \"#E5ECF6\", \"caxis\": {\"gridcolor\": \"white\", \"linecolor\": \"white\", \"ticks\": \"\"}}, \"title\": {\"x\": 0.05}, \"xaxis\": {\"automargin\": true, \"gridcolor\": \"white\", \"linecolor\": \"white\", \"ticks\": \"\", \"title\": {\"standoff\": 15}, \"zerolinecolor\": \"white\", \"zerolinewidth\": 2}, \"yaxis\": {\"automargin\": true, \"gridcolor\": \"white\", \"linecolor\": \"white\", \"ticks\": \"\", \"title\": {\"standoff\": 15}, \"zerolinecolor\": \"white\", \"zerolinewidth\": 2}}}, \"title\": {\"text\": \"Most Imported and Produced items in Switzerland for year 2016\"}, \"xaxis\": {\"categoryorder\": \"category ascending\"}, \"yaxis\": {\"title\": {\"text\": \"Values [tonnes]\"}}},\n",
       "                        {\"responsive\": true}\n",
       "                    ).then(function(){\n",
       "                            \n",
       "var gd = document.getElementById('bc768f28-f0f4-43fb-97fb-069683d3d30c');\n",
       "var x = new MutationObserver(function (mutations, observer) {{\n",
       "        var display = window.getComputedStyle(gd).display;\n",
       "        if (!display || display === 'none') {{\n",
       "            console.log([gd, 'removed!']);\n",
       "            Plotly.purge(gd);\n",
       "            observer.disconnect();\n",
       "        }}\n",
       "}});\n",
       "\n",
       "// Listen for the removal of the full notebook cells\n",
       "var notebookContainer = gd.closest('#notebook-container');\n",
       "if (notebookContainer) {{\n",
       "    x.observe(notebookContainer, {childList: true});\n",
       "}}\n",
       "\n",
       "// Listen for the clearing of the current output cell\n",
       "var outputEl = gd.closest('.output');\n",
       "if (outputEl) {{\n",
       "    x.observe(outputEl, {childList: true});\n",
       "}}\n",
       "\n",
       "                        })\n",
       "                };\n",
       "                });\n",
       "            </script>\n",
       "        </div>"
      ]
     },
     "metadata": {},
     "output_type": "display_data"
    }
   ],
   "source": [
    "import plotly # conda install -c anaconda plotly #AND# jupyter labextension install @jupyterlab/plotly-extension\n",
    "import plotly.graph_objects as go\n",
    "y_wheat = CH_data.loc[CH_data.Year == 2016].loc[CH_data.Item=='Wheat'].values[0,-2:]\n",
    "y_potatoes = CH_data.loc[CH_data.Year == 2016].loc[CH_data.Item=='Potatoes'].values[0,-2:]\n",
    "y_beet = CH_data.loc[CH_data.Year == 2016].loc[CH_data.Item=='Sugar beet'].values[0,-2:]\n",
    "#y_wheat = CH_data.loc[CH_data.Year == 2016].loc[CH_data.Item=='Wheat'].Value_crops.values\n",
    "#y_potatoes = CH_data.loc[CH_data.Year == 2016].loc[CH_data.Item=='Potatoes'].Value_crops.values\n",
    "#y_beet = CH_data.loc[CH_data.Year == 2016].loc[CH_data.Item=='Sugar beet'].Value_crops.values\n",
    "x=['Produced', 'Imported']\n",
    "fig = go.Figure(go.Bar(x=x, y=y_wheat, name='Wheat'))\n",
    "fig.add_trace(go.Bar(x=x, y=y_potatoes, name='Potatoes'))\n",
    "fig.add_trace(go.Bar(x=x, y=y_beet, name='Sugar beet'))\n",
    "\n",
    "fig.update_layout(\n",
    "    title='Most Imported and Produced items in Switzerland for year 2016',\n",
    "    yaxis_title=\"Values [tonnes]\",\n",
    "    barmode='stack', \n",
    "    xaxis={'categoryorder':'category ascending'},\n",
    "    font=dict(\n",
    "        family=\"Courier New, monospace\",\n",
    "        size=18,\n",
    "        color=\"#7f7f7f\")\n",
    "    )\n",
    "fig.show()\n"
   ]
  },
  {
   "cell_type": "markdown",
   "metadata": {},
   "source": [
    "### Plot importation/production of potatoes in Switzerland throughout years\n",
    "\n",
    "This plot is interactive. Shows values upon cursor selection"
   ]
  },
  {
   "cell_type": "code",
   "execution_count": 53,
   "metadata": {},
   "outputs": [
    {
     "data": {
      "application/vnd.plotly.v1+json": {
       "config": {
        "plotlyServerURL": "https://plot.ly"
       },
       "data": [
        {
         "fill": "tonexty",
         "name": "Produced",
         "type": "scatter",
         "x": [
          1986,
          1987,
          1988,
          1989,
          1990,
          1991,
          1992,
          1993,
          1994,
          1995,
          1996,
          1997,
          1998,
          1999,
          2000,
          2001,
          2002,
          2003,
          2004,
          2005,
          2006,
          2007,
          2008,
          2009,
          2010,
          2011,
          2012,
          2013,
          2014,
          2015,
          2016,
          2017
         ],
         "y": [
          742900,
          657700,
          836400,
          770000,
          712400,
          721800,
          756900,
          773100,
          570600,
          568800,
          812000,
          687000,
          560000,
          484000,
          600600,
          517900,
          526200,
          458000,
          526700,
          484700,
          391500,
          489800,
          473100,
          521500,
          420800,
          515000,
          447000,
          359800,
          503800,
          388800,
          372900,
          458900
         ]
        },
        {
         "fill": "tozeroy",
         "name": "Imported",
         "type": "scatter",
         "x": [
          1986,
          1987,
          1988,
          1989,
          1990,
          1991,
          1992,
          1993,
          1994,
          1995,
          1996,
          1997,
          1998,
          1999,
          2000,
          2001,
          2002,
          2003,
          2004,
          2005,
          2006,
          2007,
          2008,
          2009,
          2010,
          2011,
          2012,
          2013,
          2014,
          2015,
          2016,
          2017
         ],
         "y": [
          6620,
          5933,
          5843,
          10602,
          7778,
          9283,
          8648,
          8916,
          21721,
          41799,
          8588,
          11340,
          16335,
          41109,
          39141,
          22995,
          26642,
          33381,
          38357,
          20210,
          57325,
          47511,
          33240,
          27939,
          23573,
          25410,
          15561,
          48530,
          40161,
          37785,
          104191,
          57721
         ]
        }
       ],
       "layout": {
        "template": {
         "data": {
          "bar": [
           {
            "error_x": {
             "color": "#2a3f5f"
            },
            "error_y": {
             "color": "#2a3f5f"
            },
            "marker": {
             "line": {
              "color": "#E5ECF6",
              "width": 0.5
             }
            },
            "type": "bar"
           }
          ],
          "barpolar": [
           {
            "marker": {
             "line": {
              "color": "#E5ECF6",
              "width": 0.5
             }
            },
            "type": "barpolar"
           }
          ],
          "carpet": [
           {
            "aaxis": {
             "endlinecolor": "#2a3f5f",
             "gridcolor": "white",
             "linecolor": "white",
             "minorgridcolor": "white",
             "startlinecolor": "#2a3f5f"
            },
            "baxis": {
             "endlinecolor": "#2a3f5f",
             "gridcolor": "white",
             "linecolor": "white",
             "minorgridcolor": "white",
             "startlinecolor": "#2a3f5f"
            },
            "type": "carpet"
           }
          ],
          "choropleth": [
           {
            "colorbar": {
             "outlinewidth": 0,
             "ticks": ""
            },
            "type": "choropleth"
           }
          ],
          "contour": [
           {
            "colorbar": {
             "outlinewidth": 0,
             "ticks": ""
            },
            "colorscale": [
             [
              0,
              "#0d0887"
             ],
             [
              0.1111111111111111,
              "#46039f"
             ],
             [
              0.2222222222222222,
              "#7201a8"
             ],
             [
              0.3333333333333333,
              "#9c179e"
             ],
             [
              0.4444444444444444,
              "#bd3786"
             ],
             [
              0.5555555555555556,
              "#d8576b"
             ],
             [
              0.6666666666666666,
              "#ed7953"
             ],
             [
              0.7777777777777778,
              "#fb9f3a"
             ],
             [
              0.8888888888888888,
              "#fdca26"
             ],
             [
              1,
              "#f0f921"
             ]
            ],
            "type": "contour"
           }
          ],
          "contourcarpet": [
           {
            "colorbar": {
             "outlinewidth": 0,
             "ticks": ""
            },
            "type": "contourcarpet"
           }
          ],
          "heatmap": [
           {
            "colorbar": {
             "outlinewidth": 0,
             "ticks": ""
            },
            "colorscale": [
             [
              0,
              "#0d0887"
             ],
             [
              0.1111111111111111,
              "#46039f"
             ],
             [
              0.2222222222222222,
              "#7201a8"
             ],
             [
              0.3333333333333333,
              "#9c179e"
             ],
             [
              0.4444444444444444,
              "#bd3786"
             ],
             [
              0.5555555555555556,
              "#d8576b"
             ],
             [
              0.6666666666666666,
              "#ed7953"
             ],
             [
              0.7777777777777778,
              "#fb9f3a"
             ],
             [
              0.8888888888888888,
              "#fdca26"
             ],
             [
              1,
              "#f0f921"
             ]
            ],
            "type": "heatmap"
           }
          ],
          "heatmapgl": [
           {
            "colorbar": {
             "outlinewidth": 0,
             "ticks": ""
            },
            "colorscale": [
             [
              0,
              "#0d0887"
             ],
             [
              0.1111111111111111,
              "#46039f"
             ],
             [
              0.2222222222222222,
              "#7201a8"
             ],
             [
              0.3333333333333333,
              "#9c179e"
             ],
             [
              0.4444444444444444,
              "#bd3786"
             ],
             [
              0.5555555555555556,
              "#d8576b"
             ],
             [
              0.6666666666666666,
              "#ed7953"
             ],
             [
              0.7777777777777778,
              "#fb9f3a"
             ],
             [
              0.8888888888888888,
              "#fdca26"
             ],
             [
              1,
              "#f0f921"
             ]
            ],
            "type": "heatmapgl"
           }
          ],
          "histogram": [
           {
            "marker": {
             "colorbar": {
              "outlinewidth": 0,
              "ticks": ""
             }
            },
            "type": "histogram"
           }
          ],
          "histogram2d": [
           {
            "colorbar": {
             "outlinewidth": 0,
             "ticks": ""
            },
            "colorscale": [
             [
              0,
              "#0d0887"
             ],
             [
              0.1111111111111111,
              "#46039f"
             ],
             [
              0.2222222222222222,
              "#7201a8"
             ],
             [
              0.3333333333333333,
              "#9c179e"
             ],
             [
              0.4444444444444444,
              "#bd3786"
             ],
             [
              0.5555555555555556,
              "#d8576b"
             ],
             [
              0.6666666666666666,
              "#ed7953"
             ],
             [
              0.7777777777777778,
              "#fb9f3a"
             ],
             [
              0.8888888888888888,
              "#fdca26"
             ],
             [
              1,
              "#f0f921"
             ]
            ],
            "type": "histogram2d"
           }
          ],
          "histogram2dcontour": [
           {
            "colorbar": {
             "outlinewidth": 0,
             "ticks": ""
            },
            "colorscale": [
             [
              0,
              "#0d0887"
             ],
             [
              0.1111111111111111,
              "#46039f"
             ],
             [
              0.2222222222222222,
              "#7201a8"
             ],
             [
              0.3333333333333333,
              "#9c179e"
             ],
             [
              0.4444444444444444,
              "#bd3786"
             ],
             [
              0.5555555555555556,
              "#d8576b"
             ],
             [
              0.6666666666666666,
              "#ed7953"
             ],
             [
              0.7777777777777778,
              "#fb9f3a"
             ],
             [
              0.8888888888888888,
              "#fdca26"
             ],
             [
              1,
              "#f0f921"
             ]
            ],
            "type": "histogram2dcontour"
           }
          ],
          "mesh3d": [
           {
            "colorbar": {
             "outlinewidth": 0,
             "ticks": ""
            },
            "type": "mesh3d"
           }
          ],
          "parcoords": [
           {
            "line": {
             "colorbar": {
              "outlinewidth": 0,
              "ticks": ""
             }
            },
            "type": "parcoords"
           }
          ],
          "pie": [
           {
            "automargin": true,
            "type": "pie"
           }
          ],
          "scatter": [
           {
            "marker": {
             "colorbar": {
              "outlinewidth": 0,
              "ticks": ""
             }
            },
            "type": "scatter"
           }
          ],
          "scatter3d": [
           {
            "line": {
             "colorbar": {
              "outlinewidth": 0,
              "ticks": ""
             }
            },
            "marker": {
             "colorbar": {
              "outlinewidth": 0,
              "ticks": ""
             }
            },
            "type": "scatter3d"
           }
          ],
          "scattercarpet": [
           {
            "marker": {
             "colorbar": {
              "outlinewidth": 0,
              "ticks": ""
             }
            },
            "type": "scattercarpet"
           }
          ],
          "scattergeo": [
           {
            "marker": {
             "colorbar": {
              "outlinewidth": 0,
              "ticks": ""
             }
            },
            "type": "scattergeo"
           }
          ],
          "scattergl": [
           {
            "marker": {
             "colorbar": {
              "outlinewidth": 0,
              "ticks": ""
             }
            },
            "type": "scattergl"
           }
          ],
          "scattermapbox": [
           {
            "marker": {
             "colorbar": {
              "outlinewidth": 0,
              "ticks": ""
             }
            },
            "type": "scattermapbox"
           }
          ],
          "scatterpolar": [
           {
            "marker": {
             "colorbar": {
              "outlinewidth": 0,
              "ticks": ""
             }
            },
            "type": "scatterpolar"
           }
          ],
          "scatterpolargl": [
           {
            "marker": {
             "colorbar": {
              "outlinewidth": 0,
              "ticks": ""
             }
            },
            "type": "scatterpolargl"
           }
          ],
          "scatterternary": [
           {
            "marker": {
             "colorbar": {
              "outlinewidth": 0,
              "ticks": ""
             }
            },
            "type": "scatterternary"
           }
          ],
          "surface": [
           {
            "colorbar": {
             "outlinewidth": 0,
             "ticks": ""
            },
            "colorscale": [
             [
              0,
              "#0d0887"
             ],
             [
              0.1111111111111111,
              "#46039f"
             ],
             [
              0.2222222222222222,
              "#7201a8"
             ],
             [
              0.3333333333333333,
              "#9c179e"
             ],
             [
              0.4444444444444444,
              "#bd3786"
             ],
             [
              0.5555555555555556,
              "#d8576b"
             ],
             [
              0.6666666666666666,
              "#ed7953"
             ],
             [
              0.7777777777777778,
              "#fb9f3a"
             ],
             [
              0.8888888888888888,
              "#fdca26"
             ],
             [
              1,
              "#f0f921"
             ]
            ],
            "type": "surface"
           }
          ],
          "table": [
           {
            "cells": {
             "fill": {
              "color": "#EBF0F8"
             },
             "line": {
              "color": "white"
             }
            },
            "header": {
             "fill": {
              "color": "#C8D4E3"
             },
             "line": {
              "color": "white"
             }
            },
            "type": "table"
           }
          ]
         },
         "layout": {
          "annotationdefaults": {
           "arrowcolor": "#2a3f5f",
           "arrowhead": 0,
           "arrowwidth": 1
          },
          "coloraxis": {
           "colorbar": {
            "outlinewidth": 0,
            "ticks": ""
           }
          },
          "colorscale": {
           "diverging": [
            [
             0,
             "#8e0152"
            ],
            [
             0.1,
             "#c51b7d"
            ],
            [
             0.2,
             "#de77ae"
            ],
            [
             0.3,
             "#f1b6da"
            ],
            [
             0.4,
             "#fde0ef"
            ],
            [
             0.5,
             "#f7f7f7"
            ],
            [
             0.6,
             "#e6f5d0"
            ],
            [
             0.7,
             "#b8e186"
            ],
            [
             0.8,
             "#7fbc41"
            ],
            [
             0.9,
             "#4d9221"
            ],
            [
             1,
             "#276419"
            ]
           ],
           "sequential": [
            [
             0,
             "#0d0887"
            ],
            [
             0.1111111111111111,
             "#46039f"
            ],
            [
             0.2222222222222222,
             "#7201a8"
            ],
            [
             0.3333333333333333,
             "#9c179e"
            ],
            [
             0.4444444444444444,
             "#bd3786"
            ],
            [
             0.5555555555555556,
             "#d8576b"
            ],
            [
             0.6666666666666666,
             "#ed7953"
            ],
            [
             0.7777777777777778,
             "#fb9f3a"
            ],
            [
             0.8888888888888888,
             "#fdca26"
            ],
            [
             1,
             "#f0f921"
            ]
           ],
           "sequentialminus": [
            [
             0,
             "#0d0887"
            ],
            [
             0.1111111111111111,
             "#46039f"
            ],
            [
             0.2222222222222222,
             "#7201a8"
            ],
            [
             0.3333333333333333,
             "#9c179e"
            ],
            [
             0.4444444444444444,
             "#bd3786"
            ],
            [
             0.5555555555555556,
             "#d8576b"
            ],
            [
             0.6666666666666666,
             "#ed7953"
            ],
            [
             0.7777777777777778,
             "#fb9f3a"
            ],
            [
             0.8888888888888888,
             "#fdca26"
            ],
            [
             1,
             "#f0f921"
            ]
           ]
          },
          "colorway": [
           "#636efa",
           "#EF553B",
           "#00cc96",
           "#ab63fa",
           "#FFA15A",
           "#19d3f3",
           "#FF6692",
           "#B6E880",
           "#FF97FF",
           "#FECB52"
          ],
          "font": {
           "color": "#2a3f5f"
          },
          "geo": {
           "bgcolor": "white",
           "lakecolor": "white",
           "landcolor": "#E5ECF6",
           "showlakes": true,
           "showland": true,
           "subunitcolor": "white"
          },
          "hoverlabel": {
           "align": "left"
          },
          "hovermode": "closest",
          "mapbox": {
           "style": "light"
          },
          "paper_bgcolor": "white",
          "plot_bgcolor": "#E5ECF6",
          "polar": {
           "angularaxis": {
            "gridcolor": "white",
            "linecolor": "white",
            "ticks": ""
           },
           "bgcolor": "#E5ECF6",
           "radialaxis": {
            "gridcolor": "white",
            "linecolor": "white",
            "ticks": ""
           }
          },
          "scene": {
           "xaxis": {
            "backgroundcolor": "#E5ECF6",
            "gridcolor": "white",
            "gridwidth": 2,
            "linecolor": "white",
            "showbackground": true,
            "ticks": "",
            "zerolinecolor": "white"
           },
           "yaxis": {
            "backgroundcolor": "#E5ECF6",
            "gridcolor": "white",
            "gridwidth": 2,
            "linecolor": "white",
            "showbackground": true,
            "ticks": "",
            "zerolinecolor": "white"
           },
           "zaxis": {
            "backgroundcolor": "#E5ECF6",
            "gridcolor": "white",
            "gridwidth": 2,
            "linecolor": "white",
            "showbackground": true,
            "ticks": "",
            "zerolinecolor": "white"
           }
          },
          "shapedefaults": {
           "line": {
            "color": "#2a3f5f"
           }
          },
          "ternary": {
           "aaxis": {
            "gridcolor": "white",
            "linecolor": "white",
            "ticks": ""
           },
           "baxis": {
            "gridcolor": "white",
            "linecolor": "white",
            "ticks": ""
           },
           "bgcolor": "#E5ECF6",
           "caxis": {
            "gridcolor": "white",
            "linecolor": "white",
            "ticks": ""
           }
          },
          "title": {
           "x": 0.05
          },
          "xaxis": {
           "automargin": true,
           "gridcolor": "white",
           "linecolor": "white",
           "ticks": "",
           "title": {
            "standoff": 15
           },
           "zerolinecolor": "white",
           "zerolinewidth": 2
          },
          "yaxis": {
           "automargin": true,
           "gridcolor": "white",
           "linecolor": "white",
           "ticks": "",
           "title": {
            "standoff": 15
           },
           "zerolinecolor": "white",
           "zerolinewidth": 2
          }
         }
        },
        "title": {
         "text": "Potatoes importations and productions throughout years in Switzerland"
        },
        "xaxis": {
         "title": {
          "text": "Years"
         }
        },
        "yaxis": {
         "title": {
          "text": "Values [tonnes]"
         }
        }
       }
      },
      "text/html": [
       "<div>\n",
       "        \n",
       "        \n",
       "            <div id=\"0d0358f8-ba7c-405c-99b4-c1d70181da04\" class=\"plotly-graph-div\" style=\"height:525px; width:100%;\"></div>\n",
       "            <script type=\"text/javascript\">\n",
       "                require([\"plotly\"], function(Plotly) {\n",
       "                    window.PLOTLYENV=window.PLOTLYENV || {};\n",
       "                    \n",
       "                if (document.getElementById(\"0d0358f8-ba7c-405c-99b4-c1d70181da04\")) {\n",
       "                    Plotly.newPlot(\n",
       "                        '0d0358f8-ba7c-405c-99b4-c1d70181da04',\n",
       "                        [{\"fill\": \"tonexty\", \"name\": \"Produced\", \"type\": \"scatter\", \"x\": [1986, 1987, 1988, 1989, 1990, 1991, 1992, 1993, 1994, 1995, 1996, 1997, 1998, 1999, 2000, 2001, 2002, 2003, 2004, 2005, 2006, 2007, 2008, 2009, 2010, 2011, 2012, 2013, 2014, 2015, 2016, 2017], \"y\": [742900.0, 657700.0, 836400.0, 770000.0, 712400.0, 721800.0, 756900.0, 773100.0, 570600.0, 568800.0, 812000.0, 687000.0, 560000.0, 484000.0, 600600.0, 517900.0, 526200.0, 458000.0, 526700.0, 484700.0, 391500.0, 489800.0, 473100.0, 521500.0, 420800.0, 515000.0, 447000.0, 359800.0, 503800.0, 388800.0, 372900.0, 458900.0]}, {\"fill\": \"tozeroy\", \"name\": \"Imported\", \"type\": \"scatter\", \"x\": [1986, 1987, 1988, 1989, 1990, 1991, 1992, 1993, 1994, 1995, 1996, 1997, 1998, 1999, 2000, 2001, 2002, 2003, 2004, 2005, 2006, 2007, 2008, 2009, 2010, 2011, 2012, 2013, 2014, 2015, 2016, 2017], \"y\": [6620.0, 5933.0, 5843.0, 10602.0, 7778.0, 9283.0, 8648.0, 8916.0, 21721.0, 41799.0, 8588.0, 11340.0, 16335.0, 41109.0, 39141.0, 22995.0, 26642.0, 33381.0, 38357.0, 20210.0, 57325.0, 47511.0, 33240.0, 27939.0, 23573.0, 25410.0, 15561.0, 48530.0, 40161.0, 37785.0, 104191.0, 57721.0]}],\n",
       "                        {\"template\": {\"data\": {\"bar\": [{\"error_x\": {\"color\": \"#2a3f5f\"}, \"error_y\": {\"color\": \"#2a3f5f\"}, \"marker\": {\"line\": {\"color\": \"#E5ECF6\", \"width\": 0.5}}, \"type\": \"bar\"}], \"barpolar\": [{\"marker\": {\"line\": {\"color\": \"#E5ECF6\", \"width\": 0.5}}, \"type\": \"barpolar\"}], \"carpet\": [{\"aaxis\": {\"endlinecolor\": \"#2a3f5f\", \"gridcolor\": \"white\", \"linecolor\": \"white\", \"minorgridcolor\": \"white\", \"startlinecolor\": \"#2a3f5f\"}, \"baxis\": {\"endlinecolor\": \"#2a3f5f\", \"gridcolor\": \"white\", \"linecolor\": \"white\", \"minorgridcolor\": \"white\", \"startlinecolor\": \"#2a3f5f\"}, \"type\": \"carpet\"}], \"choropleth\": [{\"colorbar\": {\"outlinewidth\": 0, \"ticks\": \"\"}, \"type\": \"choropleth\"}], \"contour\": [{\"colorbar\": {\"outlinewidth\": 0, \"ticks\": \"\"}, \"colorscale\": [[0.0, \"#0d0887\"], [0.1111111111111111, \"#46039f\"], [0.2222222222222222, \"#7201a8\"], [0.3333333333333333, \"#9c179e\"], [0.4444444444444444, \"#bd3786\"], [0.5555555555555556, \"#d8576b\"], [0.6666666666666666, \"#ed7953\"], [0.7777777777777778, \"#fb9f3a\"], [0.8888888888888888, \"#fdca26\"], [1.0, \"#f0f921\"]], \"type\": \"contour\"}], \"contourcarpet\": [{\"colorbar\": {\"outlinewidth\": 0, \"ticks\": \"\"}, \"type\": \"contourcarpet\"}], \"heatmap\": [{\"colorbar\": {\"outlinewidth\": 0, \"ticks\": \"\"}, \"colorscale\": [[0.0, \"#0d0887\"], [0.1111111111111111, \"#46039f\"], [0.2222222222222222, \"#7201a8\"], [0.3333333333333333, \"#9c179e\"], [0.4444444444444444, \"#bd3786\"], [0.5555555555555556, \"#d8576b\"], [0.6666666666666666, \"#ed7953\"], [0.7777777777777778, \"#fb9f3a\"], [0.8888888888888888, \"#fdca26\"], [1.0, \"#f0f921\"]], \"type\": \"heatmap\"}], \"heatmapgl\": [{\"colorbar\": {\"outlinewidth\": 0, \"ticks\": \"\"}, \"colorscale\": [[0.0, \"#0d0887\"], [0.1111111111111111, \"#46039f\"], [0.2222222222222222, \"#7201a8\"], [0.3333333333333333, \"#9c179e\"], [0.4444444444444444, \"#bd3786\"], [0.5555555555555556, \"#d8576b\"], [0.6666666666666666, \"#ed7953\"], [0.7777777777777778, \"#fb9f3a\"], [0.8888888888888888, \"#fdca26\"], [1.0, \"#f0f921\"]], \"type\": \"heatmapgl\"}], \"histogram\": [{\"marker\": {\"colorbar\": {\"outlinewidth\": 0, \"ticks\": \"\"}}, \"type\": \"histogram\"}], \"histogram2d\": [{\"colorbar\": {\"outlinewidth\": 0, \"ticks\": \"\"}, \"colorscale\": [[0.0, \"#0d0887\"], [0.1111111111111111, \"#46039f\"], [0.2222222222222222, \"#7201a8\"], [0.3333333333333333, \"#9c179e\"], [0.4444444444444444, \"#bd3786\"], [0.5555555555555556, \"#d8576b\"], [0.6666666666666666, \"#ed7953\"], [0.7777777777777778, \"#fb9f3a\"], [0.8888888888888888, \"#fdca26\"], [1.0, \"#f0f921\"]], \"type\": \"histogram2d\"}], \"histogram2dcontour\": [{\"colorbar\": {\"outlinewidth\": 0, \"ticks\": \"\"}, \"colorscale\": [[0.0, \"#0d0887\"], [0.1111111111111111, \"#46039f\"], [0.2222222222222222, \"#7201a8\"], [0.3333333333333333, \"#9c179e\"], [0.4444444444444444, \"#bd3786\"], [0.5555555555555556, \"#d8576b\"], [0.6666666666666666, \"#ed7953\"], [0.7777777777777778, \"#fb9f3a\"], [0.8888888888888888, \"#fdca26\"], [1.0, \"#f0f921\"]], \"type\": \"histogram2dcontour\"}], \"mesh3d\": [{\"colorbar\": {\"outlinewidth\": 0, \"ticks\": \"\"}, \"type\": \"mesh3d\"}], \"parcoords\": [{\"line\": {\"colorbar\": {\"outlinewidth\": 0, \"ticks\": \"\"}}, \"type\": \"parcoords\"}], \"pie\": [{\"automargin\": true, \"type\": \"pie\"}], \"scatter\": [{\"marker\": {\"colorbar\": {\"outlinewidth\": 0, \"ticks\": \"\"}}, \"type\": \"scatter\"}], \"scatter3d\": [{\"line\": {\"colorbar\": {\"outlinewidth\": 0, \"ticks\": \"\"}}, \"marker\": {\"colorbar\": {\"outlinewidth\": 0, \"ticks\": \"\"}}, \"type\": \"scatter3d\"}], \"scattercarpet\": [{\"marker\": {\"colorbar\": {\"outlinewidth\": 0, \"ticks\": \"\"}}, \"type\": \"scattercarpet\"}], \"scattergeo\": [{\"marker\": {\"colorbar\": {\"outlinewidth\": 0, \"ticks\": \"\"}}, \"type\": \"scattergeo\"}], \"scattergl\": [{\"marker\": {\"colorbar\": {\"outlinewidth\": 0, \"ticks\": \"\"}}, \"type\": \"scattergl\"}], \"scattermapbox\": [{\"marker\": {\"colorbar\": {\"outlinewidth\": 0, \"ticks\": \"\"}}, \"type\": \"scattermapbox\"}], \"scatterpolar\": [{\"marker\": {\"colorbar\": {\"outlinewidth\": 0, \"ticks\": \"\"}}, \"type\": \"scatterpolar\"}], \"scatterpolargl\": [{\"marker\": {\"colorbar\": {\"outlinewidth\": 0, \"ticks\": \"\"}}, \"type\": \"scatterpolargl\"}], \"scatterternary\": [{\"marker\": {\"colorbar\": {\"outlinewidth\": 0, \"ticks\": \"\"}}, \"type\": \"scatterternary\"}], \"surface\": [{\"colorbar\": {\"outlinewidth\": 0, \"ticks\": \"\"}, \"colorscale\": [[0.0, \"#0d0887\"], [0.1111111111111111, \"#46039f\"], [0.2222222222222222, \"#7201a8\"], [0.3333333333333333, \"#9c179e\"], [0.4444444444444444, \"#bd3786\"], [0.5555555555555556, \"#d8576b\"], [0.6666666666666666, \"#ed7953\"], [0.7777777777777778, \"#fb9f3a\"], [0.8888888888888888, \"#fdca26\"], [1.0, \"#f0f921\"]], \"type\": \"surface\"}], \"table\": [{\"cells\": {\"fill\": {\"color\": \"#EBF0F8\"}, \"line\": {\"color\": \"white\"}}, \"header\": {\"fill\": {\"color\": \"#C8D4E3\"}, \"line\": {\"color\": \"white\"}}, \"type\": \"table\"}]}, \"layout\": {\"annotationdefaults\": {\"arrowcolor\": \"#2a3f5f\", \"arrowhead\": 0, \"arrowwidth\": 1}, \"coloraxis\": {\"colorbar\": {\"outlinewidth\": 0, \"ticks\": \"\"}}, \"colorscale\": {\"diverging\": [[0, \"#8e0152\"], [0.1, \"#c51b7d\"], [0.2, \"#de77ae\"], [0.3, \"#f1b6da\"], [0.4, \"#fde0ef\"], [0.5, \"#f7f7f7\"], [0.6, \"#e6f5d0\"], [0.7, \"#b8e186\"], [0.8, \"#7fbc41\"], [0.9, \"#4d9221\"], [1, \"#276419\"]], \"sequential\": [[0.0, \"#0d0887\"], [0.1111111111111111, \"#46039f\"], [0.2222222222222222, \"#7201a8\"], [0.3333333333333333, \"#9c179e\"], [0.4444444444444444, \"#bd3786\"], [0.5555555555555556, \"#d8576b\"], [0.6666666666666666, \"#ed7953\"], [0.7777777777777778, \"#fb9f3a\"], [0.8888888888888888, \"#fdca26\"], [1.0, \"#f0f921\"]], \"sequentialminus\": [[0.0, \"#0d0887\"], [0.1111111111111111, \"#46039f\"], [0.2222222222222222, \"#7201a8\"], [0.3333333333333333, \"#9c179e\"], [0.4444444444444444, \"#bd3786\"], [0.5555555555555556, \"#d8576b\"], [0.6666666666666666, \"#ed7953\"], [0.7777777777777778, \"#fb9f3a\"], [0.8888888888888888, \"#fdca26\"], [1.0, \"#f0f921\"]]}, \"colorway\": [\"#636efa\", \"#EF553B\", \"#00cc96\", \"#ab63fa\", \"#FFA15A\", \"#19d3f3\", \"#FF6692\", \"#B6E880\", \"#FF97FF\", \"#FECB52\"], \"font\": {\"color\": \"#2a3f5f\"}, \"geo\": {\"bgcolor\": \"white\", \"lakecolor\": \"white\", \"landcolor\": \"#E5ECF6\", \"showlakes\": true, \"showland\": true, \"subunitcolor\": \"white\"}, \"hoverlabel\": {\"align\": \"left\"}, \"hovermode\": \"closest\", \"mapbox\": {\"style\": \"light\"}, \"paper_bgcolor\": \"white\", \"plot_bgcolor\": \"#E5ECF6\", \"polar\": {\"angularaxis\": {\"gridcolor\": \"white\", \"linecolor\": \"white\", \"ticks\": \"\"}, \"bgcolor\": \"#E5ECF6\", \"radialaxis\": {\"gridcolor\": \"white\", \"linecolor\": \"white\", \"ticks\": \"\"}}, \"scene\": {\"xaxis\": {\"backgroundcolor\": \"#E5ECF6\", \"gridcolor\": \"white\", \"gridwidth\": 2, \"linecolor\": \"white\", \"showbackground\": true, \"ticks\": \"\", \"zerolinecolor\": \"white\"}, \"yaxis\": {\"backgroundcolor\": \"#E5ECF6\", \"gridcolor\": \"white\", \"gridwidth\": 2, \"linecolor\": \"white\", \"showbackground\": true, \"ticks\": \"\", \"zerolinecolor\": \"white\"}, \"zaxis\": {\"backgroundcolor\": \"#E5ECF6\", \"gridcolor\": \"white\", \"gridwidth\": 2, \"linecolor\": \"white\", \"showbackground\": true, \"ticks\": \"\", \"zerolinecolor\": \"white\"}}, \"shapedefaults\": {\"line\": {\"color\": \"#2a3f5f\"}}, \"ternary\": {\"aaxis\": {\"gridcolor\": \"white\", \"linecolor\": \"white\", \"ticks\": \"\"}, \"baxis\": {\"gridcolor\": \"white\", \"linecolor\": \"white\", \"ticks\": \"\"}, \"bgcolor\": \"#E5ECF6\", \"caxis\": {\"gridcolor\": \"white\", \"linecolor\": \"white\", \"ticks\": \"\"}}, \"title\": {\"x\": 0.05}, \"xaxis\": {\"automargin\": true, \"gridcolor\": \"white\", \"linecolor\": \"white\", \"ticks\": \"\", \"title\": {\"standoff\": 15}, \"zerolinecolor\": \"white\", \"zerolinewidth\": 2}, \"yaxis\": {\"automargin\": true, \"gridcolor\": \"white\", \"linecolor\": \"white\", \"ticks\": \"\", \"title\": {\"standoff\": 15}, \"zerolinecolor\": \"white\", \"zerolinewidth\": 2}}}, \"title\": {\"text\": \"Potatoes importations and productions throughout years in Switzerland\"}, \"xaxis\": {\"title\": {\"text\": \"Years\"}}, \"yaxis\": {\"title\": {\"text\": \"Values [tonnes]\"}}},\n",
       "                        {\"responsive\": true}\n",
       "                    ).then(function(){\n",
       "                            \n",
       "var gd = document.getElementById('0d0358f8-ba7c-405c-99b4-c1d70181da04');\n",
       "var x = new MutationObserver(function (mutations, observer) {{\n",
       "        var display = window.getComputedStyle(gd).display;\n",
       "        if (!display || display === 'none') {{\n",
       "            console.log([gd, 'removed!']);\n",
       "            Plotly.purge(gd);\n",
       "            observer.disconnect();\n",
       "        }}\n",
       "}});\n",
       "\n",
       "// Listen for the removal of the full notebook cells\n",
       "var notebookContainer = gd.closest('#notebook-container');\n",
       "if (notebookContainer) {{\n",
       "    x.observe(notebookContainer, {childList: true});\n",
       "}}\n",
       "\n",
       "// Listen for the clearing of the current output cell\n",
       "var outputEl = gd.closest('.output');\n",
       "if (outputEl) {{\n",
       "    x.observe(outputEl, {childList: true});\n",
       "}}\n",
       "\n",
       "                        })\n",
       "                };\n",
       "                });\n",
       "            </script>\n",
       "        </div>"
      ]
     },
     "metadata": {},
     "output_type": "display_data"
    }
   ],
   "source": [
    "import plotly.graph_objects as go\n",
    "\n",
    "y_wheat = CH_data.loc[CH_data.Item=='Potatoes'].values[:,-2:]\n",
    "fig = go.Figure()\n",
    "fig.add_trace(go.Scatter(x=CH_data.Year.unique(), y=y_wheat[:,0], fill='tonexty', name='Produced')) # fill down to xaxis\n",
    "fig.add_trace(go.Scatter(x=CH_data.Year.unique(), y=y_wheat[:,1], fill='tozeroy', name='Imported')) # fill to trace0 y\n",
    "fig.update_layout(\n",
    "    title=\"Potatoes importations and productions throughout years in Switzerland\",\n",
    "    yaxis_title=\"Values [tonnes]\",\n",
    "    xaxis_title='Years'\n",
    "    )\n",
    "fig.show()\n"
   ]
  },
  {
   "cell_type": "markdown",
   "metadata": {},
   "source": [
    "### Plot importation/production of potatoes in Switzerland throughout years --> WHHATS THE DIFFERENCE WITH FORMER PLOT?\n",
    "\n",
    "This plot is interactive. Shows values upon cursor selection"
   ]
  },
  {
   "cell_type": "code",
   "execution_count": 54,
   "metadata": {
    "scrolled": true
   },
   "outputs": [],
   "source": [
    "total_crops_imports = CH_data.groupby('Year').agg({'Value_crops':'sum', 'Value_imports':'sum'})"
   ]
  },
  {
   "cell_type": "code",
   "execution_count": 55,
   "metadata": {},
   "outputs": [
    {
     "data": {
      "text/plain": [
       "array([3611629., 3271589., 4289942., 4148671., 3938041., 3753955.,\n",
       "       4065684., 3976376., 3554016., 3565056., 4382304., 3984052.,\n",
       "       4148595., 3611235., 4287171., 3485966., 3957861., 3394090.,\n",
       "       4051477., 3800683., 3515845., 4043939., 4015469., 4233145.,\n",
       "       3517504., 4453533., 4006568., 3481733., 4409758., 3575157.,\n",
       "       3328950., 3930716.])"
      ]
     },
     "execution_count": 55,
     "metadata": {},
     "output_type": "execute_result"
    }
   ],
   "source": [
    "total_crops_imports.Value_crops.values"
   ]
  },
  {
   "cell_type": "code",
   "execution_count": 56,
   "metadata": {},
   "outputs": [
    {
     "data": {
      "application/vnd.plotly.v1+json": {
       "config": {
        "plotlyServerURL": "https://plot.ly"
       },
       "data": [
        {
         "fill": "tonexty",
         "name": "Produced",
         "type": "scatter",
         "x": [
          1986,
          1987,
          1988,
          1989,
          1990,
          1991,
          1992,
          1993,
          1994,
          1995,
          1996,
          1997,
          1998,
          1999,
          2000,
          2001,
          2002,
          2003,
          2004,
          2005,
          2006,
          2007,
          2008,
          2009,
          2010,
          2011,
          2012,
          2013,
          2014,
          2015,
          2016,
          2017
         ],
         "y": [
          3611629,
          3271589,
          4289942,
          4148671,
          3938041,
          3753955,
          4065684,
          3976376,
          3554016,
          3565056,
          4382304,
          3984052,
          4148595,
          3611235,
          4287171,
          3485966,
          3957861,
          3394090,
          4051477,
          3800683,
          3515845,
          4043939,
          4015469,
          4233145,
          3517504,
          4453533,
          4006568,
          3481733,
          4409758,
          3575157,
          3328950,
          3930716
         ]
        },
        {
         "fill": "tozeroy",
         "name": "Imported",
         "type": "scatter",
         "x": [
          1986,
          1987,
          1988,
          1989,
          1990,
          1991,
          1992,
          1993,
          1994,
          1995,
          1996,
          1997,
          1998,
          1999,
          2000,
          2001,
          2002,
          2003,
          2004,
          2005,
          2006,
          2007,
          2008,
          2009,
          2010,
          2011,
          2012,
          2013,
          2014,
          2015,
          2016,
          2017
         ],
         "y": [
          934853,
          991137,
          1053132,
          872258,
          765050,
          864355,
          796801,
          806577,
          834997,
          978747,
          812830,
          824232,
          787240,
          834097,
          982305,
          820281,
          906545,
          1055097,
          988346,
          850655,
          994547,
          1175656,
          1200120,
          1053275,
          1072805,
          1284588,
          1080381,
          1196067,
          1218121,
          1169976,
          1358225,
          1410458
         ]
        }
       ],
       "layout": {
        "template": {
         "data": {
          "bar": [
           {
            "error_x": {
             "color": "#2a3f5f"
            },
            "error_y": {
             "color": "#2a3f5f"
            },
            "marker": {
             "line": {
              "color": "#E5ECF6",
              "width": 0.5
             }
            },
            "type": "bar"
           }
          ],
          "barpolar": [
           {
            "marker": {
             "line": {
              "color": "#E5ECF6",
              "width": 0.5
             }
            },
            "type": "barpolar"
           }
          ],
          "carpet": [
           {
            "aaxis": {
             "endlinecolor": "#2a3f5f",
             "gridcolor": "white",
             "linecolor": "white",
             "minorgridcolor": "white",
             "startlinecolor": "#2a3f5f"
            },
            "baxis": {
             "endlinecolor": "#2a3f5f",
             "gridcolor": "white",
             "linecolor": "white",
             "minorgridcolor": "white",
             "startlinecolor": "#2a3f5f"
            },
            "type": "carpet"
           }
          ],
          "choropleth": [
           {
            "colorbar": {
             "outlinewidth": 0,
             "ticks": ""
            },
            "type": "choropleth"
           }
          ],
          "contour": [
           {
            "colorbar": {
             "outlinewidth": 0,
             "ticks": ""
            },
            "colorscale": [
             [
              0,
              "#0d0887"
             ],
             [
              0.1111111111111111,
              "#46039f"
             ],
             [
              0.2222222222222222,
              "#7201a8"
             ],
             [
              0.3333333333333333,
              "#9c179e"
             ],
             [
              0.4444444444444444,
              "#bd3786"
             ],
             [
              0.5555555555555556,
              "#d8576b"
             ],
             [
              0.6666666666666666,
              "#ed7953"
             ],
             [
              0.7777777777777778,
              "#fb9f3a"
             ],
             [
              0.8888888888888888,
              "#fdca26"
             ],
             [
              1,
              "#f0f921"
             ]
            ],
            "type": "contour"
           }
          ],
          "contourcarpet": [
           {
            "colorbar": {
             "outlinewidth": 0,
             "ticks": ""
            },
            "type": "contourcarpet"
           }
          ],
          "heatmap": [
           {
            "colorbar": {
             "outlinewidth": 0,
             "ticks": ""
            },
            "colorscale": [
             [
              0,
              "#0d0887"
             ],
             [
              0.1111111111111111,
              "#46039f"
             ],
             [
              0.2222222222222222,
              "#7201a8"
             ],
             [
              0.3333333333333333,
              "#9c179e"
             ],
             [
              0.4444444444444444,
              "#bd3786"
             ],
             [
              0.5555555555555556,
              "#d8576b"
             ],
             [
              0.6666666666666666,
              "#ed7953"
             ],
             [
              0.7777777777777778,
              "#fb9f3a"
             ],
             [
              0.8888888888888888,
              "#fdca26"
             ],
             [
              1,
              "#f0f921"
             ]
            ],
            "type": "heatmap"
           }
          ],
          "heatmapgl": [
           {
            "colorbar": {
             "outlinewidth": 0,
             "ticks": ""
            },
            "colorscale": [
             [
              0,
              "#0d0887"
             ],
             [
              0.1111111111111111,
              "#46039f"
             ],
             [
              0.2222222222222222,
              "#7201a8"
             ],
             [
              0.3333333333333333,
              "#9c179e"
             ],
             [
              0.4444444444444444,
              "#bd3786"
             ],
             [
              0.5555555555555556,
              "#d8576b"
             ],
             [
              0.6666666666666666,
              "#ed7953"
             ],
             [
              0.7777777777777778,
              "#fb9f3a"
             ],
             [
              0.8888888888888888,
              "#fdca26"
             ],
             [
              1,
              "#f0f921"
             ]
            ],
            "type": "heatmapgl"
           }
          ],
          "histogram": [
           {
            "marker": {
             "colorbar": {
              "outlinewidth": 0,
              "ticks": ""
             }
            },
            "type": "histogram"
           }
          ],
          "histogram2d": [
           {
            "colorbar": {
             "outlinewidth": 0,
             "ticks": ""
            },
            "colorscale": [
             [
              0,
              "#0d0887"
             ],
             [
              0.1111111111111111,
              "#46039f"
             ],
             [
              0.2222222222222222,
              "#7201a8"
             ],
             [
              0.3333333333333333,
              "#9c179e"
             ],
             [
              0.4444444444444444,
              "#bd3786"
             ],
             [
              0.5555555555555556,
              "#d8576b"
             ],
             [
              0.6666666666666666,
              "#ed7953"
             ],
             [
              0.7777777777777778,
              "#fb9f3a"
             ],
             [
              0.8888888888888888,
              "#fdca26"
             ],
             [
              1,
              "#f0f921"
             ]
            ],
            "type": "histogram2d"
           }
          ],
          "histogram2dcontour": [
           {
            "colorbar": {
             "outlinewidth": 0,
             "ticks": ""
            },
            "colorscale": [
             [
              0,
              "#0d0887"
             ],
             [
              0.1111111111111111,
              "#46039f"
             ],
             [
              0.2222222222222222,
              "#7201a8"
             ],
             [
              0.3333333333333333,
              "#9c179e"
             ],
             [
              0.4444444444444444,
              "#bd3786"
             ],
             [
              0.5555555555555556,
              "#d8576b"
             ],
             [
              0.6666666666666666,
              "#ed7953"
             ],
             [
              0.7777777777777778,
              "#fb9f3a"
             ],
             [
              0.8888888888888888,
              "#fdca26"
             ],
             [
              1,
              "#f0f921"
             ]
            ],
            "type": "histogram2dcontour"
           }
          ],
          "mesh3d": [
           {
            "colorbar": {
             "outlinewidth": 0,
             "ticks": ""
            },
            "type": "mesh3d"
           }
          ],
          "parcoords": [
           {
            "line": {
             "colorbar": {
              "outlinewidth": 0,
              "ticks": ""
             }
            },
            "type": "parcoords"
           }
          ],
          "pie": [
           {
            "automargin": true,
            "type": "pie"
           }
          ],
          "scatter": [
           {
            "marker": {
             "colorbar": {
              "outlinewidth": 0,
              "ticks": ""
             }
            },
            "type": "scatter"
           }
          ],
          "scatter3d": [
           {
            "line": {
             "colorbar": {
              "outlinewidth": 0,
              "ticks": ""
             }
            },
            "marker": {
             "colorbar": {
              "outlinewidth": 0,
              "ticks": ""
             }
            },
            "type": "scatter3d"
           }
          ],
          "scattercarpet": [
           {
            "marker": {
             "colorbar": {
              "outlinewidth": 0,
              "ticks": ""
             }
            },
            "type": "scattercarpet"
           }
          ],
          "scattergeo": [
           {
            "marker": {
             "colorbar": {
              "outlinewidth": 0,
              "ticks": ""
             }
            },
            "type": "scattergeo"
           }
          ],
          "scattergl": [
           {
            "marker": {
             "colorbar": {
              "outlinewidth": 0,
              "ticks": ""
             }
            },
            "type": "scattergl"
           }
          ],
          "scattermapbox": [
           {
            "marker": {
             "colorbar": {
              "outlinewidth": 0,
              "ticks": ""
             }
            },
            "type": "scattermapbox"
           }
          ],
          "scatterpolar": [
           {
            "marker": {
             "colorbar": {
              "outlinewidth": 0,
              "ticks": ""
             }
            },
            "type": "scatterpolar"
           }
          ],
          "scatterpolargl": [
           {
            "marker": {
             "colorbar": {
              "outlinewidth": 0,
              "ticks": ""
             }
            },
            "type": "scatterpolargl"
           }
          ],
          "scatterternary": [
           {
            "marker": {
             "colorbar": {
              "outlinewidth": 0,
              "ticks": ""
             }
            },
            "type": "scatterternary"
           }
          ],
          "surface": [
           {
            "colorbar": {
             "outlinewidth": 0,
             "ticks": ""
            },
            "colorscale": [
             [
              0,
              "#0d0887"
             ],
             [
              0.1111111111111111,
              "#46039f"
             ],
             [
              0.2222222222222222,
              "#7201a8"
             ],
             [
              0.3333333333333333,
              "#9c179e"
             ],
             [
              0.4444444444444444,
              "#bd3786"
             ],
             [
              0.5555555555555556,
              "#d8576b"
             ],
             [
              0.6666666666666666,
              "#ed7953"
             ],
             [
              0.7777777777777778,
              "#fb9f3a"
             ],
             [
              0.8888888888888888,
              "#fdca26"
             ],
             [
              1,
              "#f0f921"
             ]
            ],
            "type": "surface"
           }
          ],
          "table": [
           {
            "cells": {
             "fill": {
              "color": "#EBF0F8"
             },
             "line": {
              "color": "white"
             }
            },
            "header": {
             "fill": {
              "color": "#C8D4E3"
             },
             "line": {
              "color": "white"
             }
            },
            "type": "table"
           }
          ]
         },
         "layout": {
          "annotationdefaults": {
           "arrowcolor": "#2a3f5f",
           "arrowhead": 0,
           "arrowwidth": 1
          },
          "coloraxis": {
           "colorbar": {
            "outlinewidth": 0,
            "ticks": ""
           }
          },
          "colorscale": {
           "diverging": [
            [
             0,
             "#8e0152"
            ],
            [
             0.1,
             "#c51b7d"
            ],
            [
             0.2,
             "#de77ae"
            ],
            [
             0.3,
             "#f1b6da"
            ],
            [
             0.4,
             "#fde0ef"
            ],
            [
             0.5,
             "#f7f7f7"
            ],
            [
             0.6,
             "#e6f5d0"
            ],
            [
             0.7,
             "#b8e186"
            ],
            [
             0.8,
             "#7fbc41"
            ],
            [
             0.9,
             "#4d9221"
            ],
            [
             1,
             "#276419"
            ]
           ],
           "sequential": [
            [
             0,
             "#0d0887"
            ],
            [
             0.1111111111111111,
             "#46039f"
            ],
            [
             0.2222222222222222,
             "#7201a8"
            ],
            [
             0.3333333333333333,
             "#9c179e"
            ],
            [
             0.4444444444444444,
             "#bd3786"
            ],
            [
             0.5555555555555556,
             "#d8576b"
            ],
            [
             0.6666666666666666,
             "#ed7953"
            ],
            [
             0.7777777777777778,
             "#fb9f3a"
            ],
            [
             0.8888888888888888,
             "#fdca26"
            ],
            [
             1,
             "#f0f921"
            ]
           ],
           "sequentialminus": [
            [
             0,
             "#0d0887"
            ],
            [
             0.1111111111111111,
             "#46039f"
            ],
            [
             0.2222222222222222,
             "#7201a8"
            ],
            [
             0.3333333333333333,
             "#9c179e"
            ],
            [
             0.4444444444444444,
             "#bd3786"
            ],
            [
             0.5555555555555556,
             "#d8576b"
            ],
            [
             0.6666666666666666,
             "#ed7953"
            ],
            [
             0.7777777777777778,
             "#fb9f3a"
            ],
            [
             0.8888888888888888,
             "#fdca26"
            ],
            [
             1,
             "#f0f921"
            ]
           ]
          },
          "colorway": [
           "#636efa",
           "#EF553B",
           "#00cc96",
           "#ab63fa",
           "#FFA15A",
           "#19d3f3",
           "#FF6692",
           "#B6E880",
           "#FF97FF",
           "#FECB52"
          ],
          "font": {
           "color": "#2a3f5f"
          },
          "geo": {
           "bgcolor": "white",
           "lakecolor": "white",
           "landcolor": "#E5ECF6",
           "showlakes": true,
           "showland": true,
           "subunitcolor": "white"
          },
          "hoverlabel": {
           "align": "left"
          },
          "hovermode": "closest",
          "mapbox": {
           "style": "light"
          },
          "paper_bgcolor": "white",
          "plot_bgcolor": "#E5ECF6",
          "polar": {
           "angularaxis": {
            "gridcolor": "white",
            "linecolor": "white",
            "ticks": ""
           },
           "bgcolor": "#E5ECF6",
           "radialaxis": {
            "gridcolor": "white",
            "linecolor": "white",
            "ticks": ""
           }
          },
          "scene": {
           "xaxis": {
            "backgroundcolor": "#E5ECF6",
            "gridcolor": "white",
            "gridwidth": 2,
            "linecolor": "white",
            "showbackground": true,
            "ticks": "",
            "zerolinecolor": "white"
           },
           "yaxis": {
            "backgroundcolor": "#E5ECF6",
            "gridcolor": "white",
            "gridwidth": 2,
            "linecolor": "white",
            "showbackground": true,
            "ticks": "",
            "zerolinecolor": "white"
           },
           "zaxis": {
            "backgroundcolor": "#E5ECF6",
            "gridcolor": "white",
            "gridwidth": 2,
            "linecolor": "white",
            "showbackground": true,
            "ticks": "",
            "zerolinecolor": "white"
           }
          },
          "shapedefaults": {
           "line": {
            "color": "#2a3f5f"
           }
          },
          "ternary": {
           "aaxis": {
            "gridcolor": "white",
            "linecolor": "white",
            "ticks": ""
           },
           "baxis": {
            "gridcolor": "white",
            "linecolor": "white",
            "ticks": ""
           },
           "bgcolor": "#E5ECF6",
           "caxis": {
            "gridcolor": "white",
            "linecolor": "white",
            "ticks": ""
           }
          },
          "title": {
           "x": 0.05
          },
          "xaxis": {
           "automargin": true,
           "gridcolor": "white",
           "linecolor": "white",
           "ticks": "",
           "title": {
            "standoff": 15
           },
           "zerolinecolor": "white",
           "zerolinewidth": 2
          },
          "yaxis": {
           "automargin": true,
           "gridcolor": "white",
           "linecolor": "white",
           "ticks": "",
           "title": {
            "standoff": 15
           },
           "zerolinecolor": "white",
           "zerolinewidth": 2
          }
         }
        },
        "title": {
         "text": "Potatoes importations and productions throughout years in Switzerland"
        },
        "xaxis": {
         "title": {
          "text": "Years"
         }
        },
        "yaxis": {
         "title": {
          "text": "Values [tonnes]"
         }
        }
       }
      },
      "text/html": [
       "<div>\n",
       "        \n",
       "        \n",
       "            <div id=\"b1ed870f-5bdd-4bf2-9740-3e5a43454e79\" class=\"plotly-graph-div\" style=\"height:525px; width:100%;\"></div>\n",
       "            <script type=\"text/javascript\">\n",
       "                require([\"plotly\"], function(Plotly) {\n",
       "                    window.PLOTLYENV=window.PLOTLYENV || {};\n",
       "                    \n",
       "                if (document.getElementById(\"b1ed870f-5bdd-4bf2-9740-3e5a43454e79\")) {\n",
       "                    Plotly.newPlot(\n",
       "                        'b1ed870f-5bdd-4bf2-9740-3e5a43454e79',\n",
       "                        [{\"fill\": \"tonexty\", \"name\": \"Produced\", \"type\": \"scatter\", \"x\": [1986, 1987, 1988, 1989, 1990, 1991, 1992, 1993, 1994, 1995, 1996, 1997, 1998, 1999, 2000, 2001, 2002, 2003, 2004, 2005, 2006, 2007, 2008, 2009, 2010, 2011, 2012, 2013, 2014, 2015, 2016, 2017], \"y\": [3611629.0, 3271589.0, 4289942.0, 4148671.0, 3938041.0, 3753955.0, 4065684.0, 3976376.0, 3554016.0, 3565056.0, 4382304.0, 3984052.0, 4148595.0, 3611235.0, 4287171.0, 3485966.0, 3957861.0, 3394090.0, 4051477.0, 3800683.0, 3515845.0, 4043939.0, 4015469.0, 4233145.0, 3517504.0, 4453533.0, 4006568.0, 3481733.0, 4409758.0, 3575157.0, 3328950.0, 3930716.0]}, {\"fill\": \"tozeroy\", \"name\": \"Imported\", \"type\": \"scatter\", \"x\": [1986, 1987, 1988, 1989, 1990, 1991, 1992, 1993, 1994, 1995, 1996, 1997, 1998, 1999, 2000, 2001, 2002, 2003, 2004, 2005, 2006, 2007, 2008, 2009, 2010, 2011, 2012, 2013, 2014, 2015, 2016, 2017], \"y\": [934853.0, 991137.0, 1053132.0, 872258.0, 765050.0, 864355.0, 796801.0, 806577.0, 834997.0, 978747.0, 812830.0, 824232.0, 787240.0, 834097.0, 982305.0, 820281.0, 906545.0, 1055097.0, 988346.0, 850655.0, 994547.0, 1175656.0, 1200120.0, 1053275.0, 1072805.0, 1284588.0, 1080381.0, 1196067.0, 1218121.0, 1169976.0, 1358225.0, 1410458.0]}],\n",
       "                        {\"template\": {\"data\": {\"bar\": [{\"error_x\": {\"color\": \"#2a3f5f\"}, \"error_y\": {\"color\": \"#2a3f5f\"}, \"marker\": {\"line\": {\"color\": \"#E5ECF6\", \"width\": 0.5}}, \"type\": \"bar\"}], \"barpolar\": [{\"marker\": {\"line\": {\"color\": \"#E5ECF6\", \"width\": 0.5}}, \"type\": \"barpolar\"}], \"carpet\": [{\"aaxis\": {\"endlinecolor\": \"#2a3f5f\", \"gridcolor\": \"white\", \"linecolor\": \"white\", \"minorgridcolor\": \"white\", \"startlinecolor\": \"#2a3f5f\"}, \"baxis\": {\"endlinecolor\": \"#2a3f5f\", \"gridcolor\": \"white\", \"linecolor\": \"white\", \"minorgridcolor\": \"white\", \"startlinecolor\": \"#2a3f5f\"}, \"type\": \"carpet\"}], \"choropleth\": [{\"colorbar\": {\"outlinewidth\": 0, \"ticks\": \"\"}, \"type\": \"choropleth\"}], \"contour\": [{\"colorbar\": {\"outlinewidth\": 0, \"ticks\": \"\"}, \"colorscale\": [[0.0, \"#0d0887\"], [0.1111111111111111, \"#46039f\"], [0.2222222222222222, \"#7201a8\"], [0.3333333333333333, \"#9c179e\"], [0.4444444444444444, \"#bd3786\"], [0.5555555555555556, \"#d8576b\"], [0.6666666666666666, \"#ed7953\"], [0.7777777777777778, \"#fb9f3a\"], [0.8888888888888888, \"#fdca26\"], [1.0, \"#f0f921\"]], \"type\": \"contour\"}], \"contourcarpet\": [{\"colorbar\": {\"outlinewidth\": 0, \"ticks\": \"\"}, \"type\": \"contourcarpet\"}], \"heatmap\": [{\"colorbar\": {\"outlinewidth\": 0, \"ticks\": \"\"}, \"colorscale\": [[0.0, \"#0d0887\"], [0.1111111111111111, \"#46039f\"], [0.2222222222222222, \"#7201a8\"], [0.3333333333333333, \"#9c179e\"], [0.4444444444444444, \"#bd3786\"], [0.5555555555555556, \"#d8576b\"], [0.6666666666666666, \"#ed7953\"], [0.7777777777777778, \"#fb9f3a\"], [0.8888888888888888, \"#fdca26\"], [1.0, \"#f0f921\"]], \"type\": \"heatmap\"}], \"heatmapgl\": [{\"colorbar\": {\"outlinewidth\": 0, \"ticks\": \"\"}, \"colorscale\": [[0.0, \"#0d0887\"], [0.1111111111111111, \"#46039f\"], [0.2222222222222222, \"#7201a8\"], [0.3333333333333333, \"#9c179e\"], [0.4444444444444444, \"#bd3786\"], [0.5555555555555556, \"#d8576b\"], [0.6666666666666666, \"#ed7953\"], [0.7777777777777778, \"#fb9f3a\"], [0.8888888888888888, \"#fdca26\"], [1.0, \"#f0f921\"]], \"type\": \"heatmapgl\"}], \"histogram\": [{\"marker\": {\"colorbar\": {\"outlinewidth\": 0, \"ticks\": \"\"}}, \"type\": \"histogram\"}], \"histogram2d\": [{\"colorbar\": {\"outlinewidth\": 0, \"ticks\": \"\"}, \"colorscale\": [[0.0, \"#0d0887\"], [0.1111111111111111, \"#46039f\"], [0.2222222222222222, \"#7201a8\"], [0.3333333333333333, \"#9c179e\"], [0.4444444444444444, \"#bd3786\"], [0.5555555555555556, \"#d8576b\"], [0.6666666666666666, \"#ed7953\"], [0.7777777777777778, \"#fb9f3a\"], [0.8888888888888888, \"#fdca26\"], [1.0, \"#f0f921\"]], \"type\": \"histogram2d\"}], \"histogram2dcontour\": [{\"colorbar\": {\"outlinewidth\": 0, \"ticks\": \"\"}, \"colorscale\": [[0.0, \"#0d0887\"], [0.1111111111111111, \"#46039f\"], [0.2222222222222222, \"#7201a8\"], [0.3333333333333333, \"#9c179e\"], [0.4444444444444444, \"#bd3786\"], [0.5555555555555556, \"#d8576b\"], [0.6666666666666666, \"#ed7953\"], [0.7777777777777778, \"#fb9f3a\"], [0.8888888888888888, \"#fdca26\"], [1.0, \"#f0f921\"]], \"type\": \"histogram2dcontour\"}], \"mesh3d\": [{\"colorbar\": {\"outlinewidth\": 0, \"ticks\": \"\"}, \"type\": \"mesh3d\"}], \"parcoords\": [{\"line\": {\"colorbar\": {\"outlinewidth\": 0, \"ticks\": \"\"}}, \"type\": \"parcoords\"}], \"pie\": [{\"automargin\": true, \"type\": \"pie\"}], \"scatter\": [{\"marker\": {\"colorbar\": {\"outlinewidth\": 0, \"ticks\": \"\"}}, \"type\": \"scatter\"}], \"scatter3d\": [{\"line\": {\"colorbar\": {\"outlinewidth\": 0, \"ticks\": \"\"}}, \"marker\": {\"colorbar\": {\"outlinewidth\": 0, \"ticks\": \"\"}}, \"type\": \"scatter3d\"}], \"scattercarpet\": [{\"marker\": {\"colorbar\": {\"outlinewidth\": 0, \"ticks\": \"\"}}, \"type\": \"scattercarpet\"}], \"scattergeo\": [{\"marker\": {\"colorbar\": {\"outlinewidth\": 0, \"ticks\": \"\"}}, \"type\": \"scattergeo\"}], \"scattergl\": [{\"marker\": {\"colorbar\": {\"outlinewidth\": 0, \"ticks\": \"\"}}, \"type\": \"scattergl\"}], \"scattermapbox\": [{\"marker\": {\"colorbar\": {\"outlinewidth\": 0, \"ticks\": \"\"}}, \"type\": \"scattermapbox\"}], \"scatterpolar\": [{\"marker\": {\"colorbar\": {\"outlinewidth\": 0, \"ticks\": \"\"}}, \"type\": \"scatterpolar\"}], \"scatterpolargl\": [{\"marker\": {\"colorbar\": {\"outlinewidth\": 0, \"ticks\": \"\"}}, \"type\": \"scatterpolargl\"}], \"scatterternary\": [{\"marker\": {\"colorbar\": {\"outlinewidth\": 0, \"ticks\": \"\"}}, \"type\": \"scatterternary\"}], \"surface\": [{\"colorbar\": {\"outlinewidth\": 0, \"ticks\": \"\"}, \"colorscale\": [[0.0, \"#0d0887\"], [0.1111111111111111, \"#46039f\"], [0.2222222222222222, \"#7201a8\"], [0.3333333333333333, \"#9c179e\"], [0.4444444444444444, \"#bd3786\"], [0.5555555555555556, \"#d8576b\"], [0.6666666666666666, \"#ed7953\"], [0.7777777777777778, \"#fb9f3a\"], [0.8888888888888888, \"#fdca26\"], [1.0, \"#f0f921\"]], \"type\": \"surface\"}], \"table\": [{\"cells\": {\"fill\": {\"color\": \"#EBF0F8\"}, \"line\": {\"color\": \"white\"}}, \"header\": {\"fill\": {\"color\": \"#C8D4E3\"}, \"line\": {\"color\": \"white\"}}, \"type\": \"table\"}]}, \"layout\": {\"annotationdefaults\": {\"arrowcolor\": \"#2a3f5f\", \"arrowhead\": 0, \"arrowwidth\": 1}, \"coloraxis\": {\"colorbar\": {\"outlinewidth\": 0, \"ticks\": \"\"}}, \"colorscale\": {\"diverging\": [[0, \"#8e0152\"], [0.1, \"#c51b7d\"], [0.2, \"#de77ae\"], [0.3, \"#f1b6da\"], [0.4, \"#fde0ef\"], [0.5, \"#f7f7f7\"], [0.6, \"#e6f5d0\"], [0.7, \"#b8e186\"], [0.8, \"#7fbc41\"], [0.9, \"#4d9221\"], [1, \"#276419\"]], \"sequential\": [[0.0, \"#0d0887\"], [0.1111111111111111, \"#46039f\"], [0.2222222222222222, \"#7201a8\"], [0.3333333333333333, \"#9c179e\"], [0.4444444444444444, \"#bd3786\"], [0.5555555555555556, \"#d8576b\"], [0.6666666666666666, \"#ed7953\"], [0.7777777777777778, \"#fb9f3a\"], [0.8888888888888888, \"#fdca26\"], [1.0, \"#f0f921\"]], \"sequentialminus\": [[0.0, \"#0d0887\"], [0.1111111111111111, \"#46039f\"], [0.2222222222222222, \"#7201a8\"], [0.3333333333333333, \"#9c179e\"], [0.4444444444444444, \"#bd3786\"], [0.5555555555555556, \"#d8576b\"], [0.6666666666666666, \"#ed7953\"], [0.7777777777777778, \"#fb9f3a\"], [0.8888888888888888, \"#fdca26\"], [1.0, \"#f0f921\"]]}, \"colorway\": [\"#636efa\", \"#EF553B\", \"#00cc96\", \"#ab63fa\", \"#FFA15A\", \"#19d3f3\", \"#FF6692\", \"#B6E880\", \"#FF97FF\", \"#FECB52\"], \"font\": {\"color\": \"#2a3f5f\"}, \"geo\": {\"bgcolor\": \"white\", \"lakecolor\": \"white\", \"landcolor\": \"#E5ECF6\", \"showlakes\": true, \"showland\": true, \"subunitcolor\": \"white\"}, \"hoverlabel\": {\"align\": \"left\"}, \"hovermode\": \"closest\", \"mapbox\": {\"style\": \"light\"}, \"paper_bgcolor\": \"white\", \"plot_bgcolor\": \"#E5ECF6\", \"polar\": {\"angularaxis\": {\"gridcolor\": \"white\", \"linecolor\": \"white\", \"ticks\": \"\"}, \"bgcolor\": \"#E5ECF6\", \"radialaxis\": {\"gridcolor\": \"white\", \"linecolor\": \"white\", \"ticks\": \"\"}}, \"scene\": {\"xaxis\": {\"backgroundcolor\": \"#E5ECF6\", \"gridcolor\": \"white\", \"gridwidth\": 2, \"linecolor\": \"white\", \"showbackground\": true, \"ticks\": \"\", \"zerolinecolor\": \"white\"}, \"yaxis\": {\"backgroundcolor\": \"#E5ECF6\", \"gridcolor\": \"white\", \"gridwidth\": 2, \"linecolor\": \"white\", \"showbackground\": true, \"ticks\": \"\", \"zerolinecolor\": \"white\"}, \"zaxis\": {\"backgroundcolor\": \"#E5ECF6\", \"gridcolor\": \"white\", \"gridwidth\": 2, \"linecolor\": \"white\", \"showbackground\": true, \"ticks\": \"\", \"zerolinecolor\": \"white\"}}, \"shapedefaults\": {\"line\": {\"color\": \"#2a3f5f\"}}, \"ternary\": {\"aaxis\": {\"gridcolor\": \"white\", \"linecolor\": \"white\", \"ticks\": \"\"}, \"baxis\": {\"gridcolor\": \"white\", \"linecolor\": \"white\", \"ticks\": \"\"}, \"bgcolor\": \"#E5ECF6\", \"caxis\": {\"gridcolor\": \"white\", \"linecolor\": \"white\", \"ticks\": \"\"}}, \"title\": {\"x\": 0.05}, \"xaxis\": {\"automargin\": true, \"gridcolor\": \"white\", \"linecolor\": \"white\", \"ticks\": \"\", \"title\": {\"standoff\": 15}, \"zerolinecolor\": \"white\", \"zerolinewidth\": 2}, \"yaxis\": {\"automargin\": true, \"gridcolor\": \"white\", \"linecolor\": \"white\", \"ticks\": \"\", \"title\": {\"standoff\": 15}, \"zerolinecolor\": \"white\", \"zerolinewidth\": 2}}}, \"title\": {\"text\": \"Potatoes importations and productions throughout years in Switzerland\"}, \"xaxis\": {\"title\": {\"text\": \"Years\"}}, \"yaxis\": {\"title\": {\"text\": \"Values [tonnes]\"}}},\n",
       "                        {\"responsive\": true}\n",
       "                    ).then(function(){\n",
       "                            \n",
       "var gd = document.getElementById('b1ed870f-5bdd-4bf2-9740-3e5a43454e79');\n",
       "var x = new MutationObserver(function (mutations, observer) {{\n",
       "        var display = window.getComputedStyle(gd).display;\n",
       "        if (!display || display === 'none') {{\n",
       "            console.log([gd, 'removed!']);\n",
       "            Plotly.purge(gd);\n",
       "            observer.disconnect();\n",
       "        }}\n",
       "}});\n",
       "\n",
       "// Listen for the removal of the full notebook cells\n",
       "var notebookContainer = gd.closest('#notebook-container');\n",
       "if (notebookContainer) {{\n",
       "    x.observe(notebookContainer, {childList: true});\n",
       "}}\n",
       "\n",
       "// Listen for the clearing of the current output cell\n",
       "var outputEl = gd.closest('.output');\n",
       "if (outputEl) {{\n",
       "    x.observe(outputEl, {childList: true});\n",
       "}}\n",
       "\n",
       "                        })\n",
       "                };\n",
       "                });\n",
       "            </script>\n",
       "        </div>"
      ]
     },
     "metadata": {},
     "output_type": "display_data"
    }
   ],
   "source": [
    "fig = go.Figure()\n",
    "fig.add_trace(go.Scatter(x=CH_data.Year.unique(), y=total_crops_imports.Value_crops.values, fill='tonexty', name='Produced')) # fill down to xaxis\n",
    "fig.add_trace(go.Scatter(x=CH_data.Year.unique(), y=total_crops_imports.Value_imports.values, fill='tozeroy', name='Imported')) # fill to trace0 y\n",
    "fig.update_layout(\n",
    "    title=\"Potatoes importations and productions throughout years in Switzerland\",\n",
    "    yaxis_title=\"Values [tonnes]\",\n",
    "    xaxis_title='Years'\n",
    "    )\n",
    "fig.show()\n"
   ]
  },
  {
   "cell_type": "code",
   "execution_count": 57,
   "metadata": {},
   "outputs": [],
   "source": [
    "CH_data2 = CH_data.copy().rename(columns={'Value_crops':'Country production', 'Value_imports':'Importation'})\n",
    "CH_data_transformed = pd.melt(CH_data2, value_vars=['Country production', 'Importation'], id_vars=['Area', 'Element','Item','Year','Unit'], var_name='Input', value_name='Value')"
   ]
  },
  {
   "cell_type": "code",
   "execution_count": 58,
   "metadata": {},
   "outputs": [
    {
     "data": {
      "text/html": [
       "<div>\n",
       "<style scoped>\n",
       "    .dataframe tbody tr th:only-of-type {\n",
       "        vertical-align: middle;\n",
       "    }\n",
       "\n",
       "    .dataframe tbody tr th {\n",
       "        vertical-align: top;\n",
       "    }\n",
       "\n",
       "    .dataframe thead th {\n",
       "        text-align: right;\n",
       "    }\n",
       "</style>\n",
       "<table border=\"1\" class=\"dataframe\">\n",
       "  <thead>\n",
       "    <tr style=\"text-align: right;\">\n",
       "      <th></th>\n",
       "      <th>Area</th>\n",
       "      <th>Element</th>\n",
       "      <th>Item</th>\n",
       "      <th>Year</th>\n",
       "      <th>Unit</th>\n",
       "      <th>Input</th>\n",
       "      <th>Value</th>\n",
       "    </tr>\n",
       "  </thead>\n",
       "  <tbody>\n",
       "    <tr>\n",
       "      <td>1144</td>\n",
       "      <td>Switzerland</td>\n",
       "      <td>Production</td>\n",
       "      <td>Potatoes</td>\n",
       "      <td>1986</td>\n",
       "      <td>tonnes</td>\n",
       "      <td>Country production</td>\n",
       "      <td>742900.0</td>\n",
       "    </tr>\n",
       "    <tr>\n",
       "      <td>1145</td>\n",
       "      <td>Switzerland</td>\n",
       "      <td>Production</td>\n",
       "      <td>Potatoes</td>\n",
       "      <td>1987</td>\n",
       "      <td>tonnes</td>\n",
       "      <td>Country production</td>\n",
       "      <td>657700.0</td>\n",
       "    </tr>\n",
       "    <tr>\n",
       "      <td>1146</td>\n",
       "      <td>Switzerland</td>\n",
       "      <td>Production</td>\n",
       "      <td>Potatoes</td>\n",
       "      <td>1988</td>\n",
       "      <td>tonnes</td>\n",
       "      <td>Country production</td>\n",
       "      <td>836400.0</td>\n",
       "    </tr>\n",
       "    <tr>\n",
       "      <td>1147</td>\n",
       "      <td>Switzerland</td>\n",
       "      <td>Production</td>\n",
       "      <td>Potatoes</td>\n",
       "      <td>1989</td>\n",
       "      <td>tonnes</td>\n",
       "      <td>Country production</td>\n",
       "      <td>770000.0</td>\n",
       "    </tr>\n",
       "    <tr>\n",
       "      <td>1148</td>\n",
       "      <td>Switzerland</td>\n",
       "      <td>Production</td>\n",
       "      <td>Potatoes</td>\n",
       "      <td>1990</td>\n",
       "      <td>tonnes</td>\n",
       "      <td>Country production</td>\n",
       "      <td>712400.0</td>\n",
       "    </tr>\n",
       "    <tr>\n",
       "      <td>...</td>\n",
       "      <td>...</td>\n",
       "      <td>...</td>\n",
       "      <td>...</td>\n",
       "      <td>...</td>\n",
       "      <td>...</td>\n",
       "      <td>...</td>\n",
       "      <td>...</td>\n",
       "    </tr>\n",
       "    <tr>\n",
       "      <td>2847</td>\n",
       "      <td>Switzerland</td>\n",
       "      <td>Production</td>\n",
       "      <td>Potatoes</td>\n",
       "      <td>2013</td>\n",
       "      <td>tonnes</td>\n",
       "      <td>Importation</td>\n",
       "      <td>48530.0</td>\n",
       "    </tr>\n",
       "    <tr>\n",
       "      <td>2848</td>\n",
       "      <td>Switzerland</td>\n",
       "      <td>Production</td>\n",
       "      <td>Potatoes</td>\n",
       "      <td>2014</td>\n",
       "      <td>tonnes</td>\n",
       "      <td>Importation</td>\n",
       "      <td>40161.0</td>\n",
       "    </tr>\n",
       "    <tr>\n",
       "      <td>2849</td>\n",
       "      <td>Switzerland</td>\n",
       "      <td>Production</td>\n",
       "      <td>Potatoes</td>\n",
       "      <td>2015</td>\n",
       "      <td>tonnes</td>\n",
       "      <td>Importation</td>\n",
       "      <td>37785.0</td>\n",
       "    </tr>\n",
       "    <tr>\n",
       "      <td>2850</td>\n",
       "      <td>Switzerland</td>\n",
       "      <td>Production</td>\n",
       "      <td>Potatoes</td>\n",
       "      <td>2016</td>\n",
       "      <td>tonnes</td>\n",
       "      <td>Importation</td>\n",
       "      <td>104191.0</td>\n",
       "    </tr>\n",
       "    <tr>\n",
       "      <td>2851</td>\n",
       "      <td>Switzerland</td>\n",
       "      <td>Production</td>\n",
       "      <td>Potatoes</td>\n",
       "      <td>2017</td>\n",
       "      <td>tonnes</td>\n",
       "      <td>Importation</td>\n",
       "      <td>57721.0</td>\n",
       "    </tr>\n",
       "  </tbody>\n",
       "</table>\n",
       "<p>64 rows × 7 columns</p>\n",
       "</div>"
      ],
      "text/plain": [
       "             Area     Element      Item  Year    Unit               Input  \\\n",
       "1144  Switzerland  Production  Potatoes  1986  tonnes  Country production   \n",
       "1145  Switzerland  Production  Potatoes  1987  tonnes  Country production   \n",
       "1146  Switzerland  Production  Potatoes  1988  tonnes  Country production   \n",
       "1147  Switzerland  Production  Potatoes  1989  tonnes  Country production   \n",
       "1148  Switzerland  Production  Potatoes  1990  tonnes  Country production   \n",
       "...           ...         ...       ...   ...     ...                 ...   \n",
       "2847  Switzerland  Production  Potatoes  2013  tonnes         Importation   \n",
       "2848  Switzerland  Production  Potatoes  2014  tonnes         Importation   \n",
       "2849  Switzerland  Production  Potatoes  2015  tonnes         Importation   \n",
       "2850  Switzerland  Production  Potatoes  2016  tonnes         Importation   \n",
       "2851  Switzerland  Production  Potatoes  2017  tonnes         Importation   \n",
       "\n",
       "         Value  \n",
       "1144  742900.0  \n",
       "1145  657700.0  \n",
       "1146  836400.0  \n",
       "1147  770000.0  \n",
       "1148  712400.0  \n",
       "...        ...  \n",
       "2847   48530.0  \n",
       "2848   40161.0  \n",
       "2849   37785.0  \n",
       "2850  104191.0  \n",
       "2851   57721.0  \n",
       "\n",
       "[64 rows x 7 columns]"
      ]
     },
     "execution_count": 58,
     "metadata": {},
     "output_type": "execute_result"
    }
   ],
   "source": [
    "CH_data_transformed.loc[CH_data_transformed.Item=='Potatoes']"
   ]
  },
  {
   "cell_type": "markdown",
   "metadata": {},
   "source": [
    "### Plot --> Je te laisse ecrire Max, pas trop sure là si cest only CH.. etc\n",
    "\n",
    "This plot is interactive. Shows values upon cursor selection"
   ]
  },
  {
   "cell_type": "code",
   "execution_count": null,
   "metadata": {},
   "outputs": [],
   "source": [
    "CH_restrained = CH_data_transformed.loc[CH_data_transformed.Item.isin(['Apples','Wheat','Potatoes', 'Maize', 'Oats'])]"
   ]
  },
  {
   "cell_type": "code",
   "execution_count": null,
   "metadata": {},
   "outputs": [],
   "source": [
    "# Just trying a plot\n",
    "import plotly.express as px\n",
    "gapminder = px.data.gapminder()\n",
    "fig = px.area(CH_restrained, x=\"Year\", y=\"Value\", color='Item',\n",
    "      line_group=\"Input\")\n",
    "fig.update_layout(\n",
    "    title=\"Add title\",\n",
    "    yaxis_title=\"Add y label\",\n",
    "    xaxis_title='Years'\n",
    "    )\n",
    "fig.show()"
   ]
  },
  {
   "cell_type": "markdown",
   "metadata": {},
   "source": [
    "**Load Switzerland temperatures**"
   ]
  },
  {
   "cell_type": "code",
   "execution_count": null,
   "metadata": {},
   "outputs": [],
   "source": [
    "CH_temperatures = pd.read_csv('../data/10.18751-Climate-Timeseries-CHTM-1.1-swiss.txt', sep=\"\\t\", header=0, skiprows=15)"
   ]
  },
  {
   "cell_type": "code",
   "execution_count": null,
   "metadata": {},
   "outputs": [],
   "source": [
    "CH_temperatures = CH_temperatures.loc[CH_temperatures.time>=1986].loc[CH_temperatures.time<=2017]"
   ]
  },
  {
   "cell_type": "code",
   "execution_count": null,
   "metadata": {},
   "outputs": [],
   "source": [
    "CH_temperatures = CH_temperatures.iloc[:,-3:]"
   ]
  },
  {
   "cell_type": "code",
   "execution_count": null,
   "metadata": {},
   "outputs": [],
   "source": [
    "CH_temperatures"
   ]
  },
  {
   "cell_type": "markdown",
   "metadata": {},
   "source": [
    "### Plot : Is there a correlation between production and temperature?\n"
   ]
  },
  {
   "cell_type": "code",
   "execution_count": 59,
   "metadata": {},
   "outputs": [
    {
     "ename": "NameError",
     "evalue": "name 'CH_temperatures' is not defined",
     "output_type": "error",
     "traceback": [
      "\u001b[0;31m---------------------------------------------------------------------------\u001b[0m",
      "\u001b[0;31mNameError\u001b[0m                                 Traceback (most recent call last)",
      "\u001b[0;32m<ipython-input-59-a0c9f0ee0d2b>\u001b[0m in \u001b[0;36m<module>\u001b[0;34m\u001b[0m\n\u001b[1;32m      2\u001b[0m \u001b[0mfig\u001b[0m\u001b[0;34m,\u001b[0m \u001b[0max1\u001b[0m \u001b[0;34m=\u001b[0m \u001b[0mplt\u001b[0m\u001b[0;34m.\u001b[0m\u001b[0msubplots\u001b[0m\u001b[0;34m(\u001b[0m\u001b[0;34m)\u001b[0m\u001b[0;34m\u001b[0m\u001b[0;34m\u001b[0m\u001b[0m\n\u001b[1;32m      3\u001b[0m \u001b[0mdata1\u001b[0m \u001b[0;34m=\u001b[0m \u001b[0mCH_data\u001b[0m\u001b[0;34m.\u001b[0m\u001b[0mloc\u001b[0m\u001b[0;34m[\u001b[0m\u001b[0mCH_data\u001b[0m\u001b[0;34m.\u001b[0m\u001b[0mItem\u001b[0m\u001b[0;34m==\u001b[0m\u001b[0;34m'Potatoes'\u001b[0m\u001b[0;34m]\u001b[0m\u001b[0;34m.\u001b[0m\u001b[0mValue_crops\u001b[0m\u001b[0;34m\u001b[0m\u001b[0;34m\u001b[0m\u001b[0m\n\u001b[0;32m----> 4\u001b[0;31m \u001b[0mdata2\u001b[0m \u001b[0;34m=\u001b[0m \u001b[0mCH_temperatures\u001b[0m\u001b[0;34m.\u001b[0m\u001b[0myear\u001b[0m\u001b[0;34m\u001b[0m\u001b[0;34m\u001b[0m\u001b[0m\n\u001b[0m\u001b[1;32m      5\u001b[0m \u001b[0;34m\u001b[0m\u001b[0m\n\u001b[1;32m      6\u001b[0m \u001b[0mcolor\u001b[0m \u001b[0;34m=\u001b[0m \u001b[0;34m'tab:red'\u001b[0m\u001b[0;34m\u001b[0m\u001b[0;34m\u001b[0m\u001b[0m\n",
      "\u001b[0;31mNameError\u001b[0m: name 'CH_temperatures' is not defined"
     ]
    },
    {
     "data": {
      "image/png": "[encoded data removed]",
      "text/plain": [
       "<Figure size 432x288 with 1 Axes>"
      ]
     },
     "metadata": {
      "needs_background": "light"
     },
     "output_type": "display_data"
    }
   ],
   "source": [
    "years = np.sort(CH_data.Year.unique())\n",
    "fig, ax1 = plt.subplots()\n",
    "data1 = CH_data.loc[CH_data.Item=='Potatoes'].Value_crops\n",
    "data2 = CH_temperatures.year\n",
    "\n",
    "color = 'tab:red'\n",
    "ax1.set_xlabel('year')\n",
    "ax1.set_ylabel('production', color=color)\n",
    "ax1.plot(years, data1, color=color)\n",
    "ax1.tick_params(axis='y', labelcolor=color)\n",
    "\n",
    "ax2 = ax1.twinx()  # instantiate a second axes that shares the same x-axis\n",
    "\n",
    "color = 'tab:blue'\n",
    "ax2.set_ylabel('temperature', color=color)  # we already handled the x-label with ax1\n",
    "ax2.plot(years, data2, color=color)\n",
    "ax2.tick_params(axis='y', labelcolor=color)\n",
    "\n",
    "fig.tight_layout()  # otherwise the right y-label is slightly clipped\n",
    "plt.title('Potatoes production and temperatures every year')\n",
    "plt.show()"
   ]
  },
  {
   "cell_type": "code",
   "execution_count": null,
   "metadata": {},
   "outputs": [],
   "source": []
  }
 ],
 "metadata": {
  "kernelspec": {
   "display_name": "Python 3",
   "language": "python",
   "name": "python3"
  },
  "language_info": {
   "codemirror_mode": {
    "name": "ipython",
    "version": 3
   },
   "file_extension": ".py",
   "mimetype": "text/x-python",
   "name": "python",
   "nbconvert_exporter": "python",
   "pygments_lexer": "ipython3",
   "version": "3.7.4"
  }
 },
 "nbformat": 4,
 "nbformat_minor": 4
}

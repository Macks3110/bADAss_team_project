{
 "cells": [
  {
   "cell_type": "markdown",
   "metadata": {},
   "source": [
    "# The switzerland project\n"
   ]
  },
  {
   "cell_type": "code",
   "execution_count": 1,
   "metadata": {},
   "outputs": [],
   "source": [
    "%matplotlib inline\n",
    "import numpy as np\n",
    "import matplotlib.pyplot as plt\n",
    "import pandas as pd\n",
    "import folium"
   ]
  },
  {
   "cell_type": "markdown",
   "metadata": {},
   "source": [
    "## Load some data"
   ]
  },
  {
   "cell_type": "code",
   "execution_count": 2,
   "metadata": {},
   "outputs": [],
   "source": [
    "raw_CH_crops_dataset = pd.read_csv('../data/FAOSTAT_data_crops_CHandNeighbours.csv')"
   ]
  },
  {
   "cell_type": "code",
   "execution_count": 3,
   "metadata": {},
   "outputs": [
    {
     "data": {
      "text/html": [
       "<div>\n",
       "<style scoped>\n",
       "    .dataframe tbody tr th:only-of-type {\n",
       "        vertical-align: middle;\n",
       "    }\n",
       "\n",
       "    .dataframe tbody tr th {\n",
       "        vertical-align: top;\n",
       "    }\n",
       "\n",
       "    .dataframe thead th {\n",
       "        text-align: right;\n",
       "    }\n",
       "</style>\n",
       "<table border=\"1\" class=\"dataframe\">\n",
       "  <thead>\n",
       "    <tr style=\"text-align: right;\">\n",
       "      <th></th>\n",
       "      <th>Domain Code</th>\n",
       "      <th>Domain</th>\n",
       "      <th>Area Code</th>\n",
       "      <th>Area</th>\n",
       "      <th>Element Code</th>\n",
       "      <th>Element</th>\n",
       "      <th>Item Code</th>\n",
       "      <th>Item</th>\n",
       "      <th>Year Code</th>\n",
       "      <th>Year</th>\n",
       "      <th>Unit</th>\n",
       "      <th>Value</th>\n",
       "      <th>Flag</th>\n",
       "      <th>Flag Description</th>\n",
       "    </tr>\n",
       "  </thead>\n",
       "  <tbody>\n",
       "    <tr>\n",
       "      <td>0</td>\n",
       "      <td>QC</td>\n",
       "      <td>Crops</td>\n",
       "      <td>11</td>\n",
       "      <td>Austria</td>\n",
       "      <td>5312</td>\n",
       "      <td>Area harvested</td>\n",
       "      <td>515</td>\n",
       "      <td>Apples</td>\n",
       "      <td>1961</td>\n",
       "      <td>1961</td>\n",
       "      <td>ha</td>\n",
       "      <td>NaN</td>\n",
       "      <td>M</td>\n",
       "      <td>Data not available</td>\n",
       "    </tr>\n",
       "    <tr>\n",
       "      <td>1</td>\n",
       "      <td>QC</td>\n",
       "      <td>Crops</td>\n",
       "      <td>11</td>\n",
       "      <td>Austria</td>\n",
       "      <td>5312</td>\n",
       "      <td>Area harvested</td>\n",
       "      <td>515</td>\n",
       "      <td>Apples</td>\n",
       "      <td>1962</td>\n",
       "      <td>1962</td>\n",
       "      <td>ha</td>\n",
       "      <td>NaN</td>\n",
       "      <td>M</td>\n",
       "      <td>Data not available</td>\n",
       "    </tr>\n",
       "    <tr>\n",
       "      <td>2</td>\n",
       "      <td>QC</td>\n",
       "      <td>Crops</td>\n",
       "      <td>11</td>\n",
       "      <td>Austria</td>\n",
       "      <td>5312</td>\n",
       "      <td>Area harvested</td>\n",
       "      <td>515</td>\n",
       "      <td>Apples</td>\n",
       "      <td>1963</td>\n",
       "      <td>1963</td>\n",
       "      <td>ha</td>\n",
       "      <td>NaN</td>\n",
       "      <td>M</td>\n",
       "      <td>Data not available</td>\n",
       "    </tr>\n",
       "    <tr>\n",
       "      <td>3</td>\n",
       "      <td>QC</td>\n",
       "      <td>Crops</td>\n",
       "      <td>11</td>\n",
       "      <td>Austria</td>\n",
       "      <td>5312</td>\n",
       "      <td>Area harvested</td>\n",
       "      <td>515</td>\n",
       "      <td>Apples</td>\n",
       "      <td>1964</td>\n",
       "      <td>1964</td>\n",
       "      <td>ha</td>\n",
       "      <td>NaN</td>\n",
       "      <td>M</td>\n",
       "      <td>Data not available</td>\n",
       "    </tr>\n",
       "    <tr>\n",
       "      <td>4</td>\n",
       "      <td>QC</td>\n",
       "      <td>Crops</td>\n",
       "      <td>11</td>\n",
       "      <td>Austria</td>\n",
       "      <td>5312</td>\n",
       "      <td>Area harvested</td>\n",
       "      <td>515</td>\n",
       "      <td>Apples</td>\n",
       "      <td>1965</td>\n",
       "      <td>1965</td>\n",
       "      <td>ha</td>\n",
       "      <td>NaN</td>\n",
       "      <td>M</td>\n",
       "      <td>Data not available</td>\n",
       "    </tr>\n",
       "  </tbody>\n",
       "</table>\n",
       "</div>"
      ],
      "text/plain": [
       "  Domain Code Domain  Area Code     Area  Element Code         Element  \\\n",
       "0          QC  Crops         11  Austria          5312  Area harvested   \n",
       "1          QC  Crops         11  Austria          5312  Area harvested   \n",
       "2          QC  Crops         11  Austria          5312  Area harvested   \n",
       "3          QC  Crops         11  Austria          5312  Area harvested   \n",
       "4          QC  Crops         11  Austria          5312  Area harvested   \n",
       "\n",
       "   Item Code    Item  Year Code  Year Unit  Value Flag    Flag Description  \n",
       "0        515  Apples       1961  1961   ha    NaN    M  Data not available  \n",
       "1        515  Apples       1962  1962   ha    NaN    M  Data not available  \n",
       "2        515  Apples       1963  1963   ha    NaN    M  Data not available  \n",
       "3        515  Apples       1964  1964   ha    NaN    M  Data not available  \n",
       "4        515  Apples       1965  1965   ha    NaN    M  Data not available  "
      ]
     },
     "execution_count": 3,
     "metadata": {},
     "output_type": "execute_result"
    }
   ],
   "source": [
    "raw_CH_crops_dataset.head()"
   ]
  },
  {
   "cell_type": "code",
   "execution_count": 4,
   "metadata": {},
   "outputs": [
    {
     "data": {
      "text/html": [
       "<div>\n",
       "<style scoped>\n",
       "    .dataframe tbody tr th:only-of-type {\n",
       "        vertical-align: middle;\n",
       "    }\n",
       "\n",
       "    .dataframe tbody tr th {\n",
       "        vertical-align: top;\n",
       "    }\n",
       "\n",
       "    .dataframe thead th {\n",
       "        text-align: right;\n",
       "    }\n",
       "</style>\n",
       "<table border=\"1\" class=\"dataframe\">\n",
       "  <thead>\n",
       "    <tr style=\"text-align: right;\">\n",
       "      <th></th>\n",
       "      <th>Flag</th>\n",
       "      <th>Flags</th>\n",
       "    </tr>\n",
       "  </thead>\n",
       "  <tbody>\n",
       "    <tr>\n",
       "      <td>0</td>\n",
       "      <td>A</td>\n",
       "      <td>Aggregate, may include official, semi-official...</td>\n",
       "    </tr>\n",
       "    <tr>\n",
       "      <td>1</td>\n",
       "      <td>C</td>\n",
       "      <td>Calculated</td>\n",
       "    </tr>\n",
       "    <tr>\n",
       "      <td>2</td>\n",
       "      <td>Fc</td>\n",
       "      <td>Calculated data</td>\n",
       "    </tr>\n",
       "    <tr>\n",
       "      <td>3</td>\n",
       "      <td>M</td>\n",
       "      <td>Data not available</td>\n",
       "    </tr>\n",
       "    <tr>\n",
       "      <td>4</td>\n",
       "      <td>Im</td>\n",
       "      <td>FAO data based on imputation methodology</td>\n",
       "    </tr>\n",
       "    <tr>\n",
       "      <td>5</td>\n",
       "      <td>F</td>\n",
       "      <td>FAO estimate</td>\n",
       "    </tr>\n",
       "    <tr>\n",
       "      <td>6</td>\n",
       "      <td>NaN</td>\n",
       "      <td>Official data</td>\n",
       "    </tr>\n",
       "    <tr>\n",
       "      <td>7</td>\n",
       "      <td>/</td>\n",
       "      <td>Symbol for indigenous or liveweight meat</td>\n",
       "    </tr>\n",
       "    <tr>\n",
       "      <td>8</td>\n",
       "      <td>T</td>\n",
       "      <td>Trend</td>\n",
       "    </tr>\n",
       "    <tr>\n",
       "      <td>9</td>\n",
       "      <td>*</td>\n",
       "      <td>Unofficial figure</td>\n",
       "    </tr>\n",
       "  </tbody>\n",
       "</table>\n",
       "</div>"
      ],
      "text/plain": [
       "  Flag                                              Flags\n",
       "0    A  Aggregate, may include official, semi-official...\n",
       "1    C                                         Calculated\n",
       "2   Fc                                    Calculated data\n",
       "3    M                                 Data not available\n",
       "4   Im           FAO data based on imputation methodology\n",
       "5    F                                       FAO estimate\n",
       "6  NaN                                      Official data\n",
       "7    /           Symbol for indigenous or liveweight meat\n",
       "8    T                                              Trend\n",
       "9    *                                  Unofficial figure"
      ]
     },
     "execution_count": 4,
     "metadata": {},
     "output_type": "execute_result"
    }
   ],
   "source": [
    "flags = pd.read_csv('../data/FAOSTAT_data_flags.csv')\n",
    "flags"
   ]
  },
  {
   "cell_type": "code",
   "execution_count": 5,
   "metadata": {},
   "outputs": [
    {
     "name": "stdout",
     "output_type": "stream",
     "text": [
      "Size of the DataFrame: (56068, 14)\n",
      "\n",
      "Variable types present in DataFrame: \n",
      "Domain Code          object\n",
      "Domain               object\n",
      "Area Code             int64\n",
      "Area                 object\n",
      "Element Code          int64\n",
      "Element              object\n",
      "Item Code             int64\n",
      "Item                 object\n",
      "Year Code             int64\n",
      "Year                  int64\n",
      "Unit                 object\n",
      "Value               float64\n",
      "Flag                 object\n",
      "Flag Description     object\n",
      "dtype: object\n"
     ]
    }
   ],
   "source": [
    "print(\"Size of the DataFrame: {s}\\n\".format(s=raw_CH_crops_dataset.shape))\n",
    "print(\"Variable types present in DataFrame: \\n{t}\".format(t=raw_CH_crops_dataset.dtypes))"
   ]
  },
  {
   "cell_type": "code",
   "execution_count": 6,
   "metadata": {},
   "outputs": [
    {
     "name": "stdout",
     "output_type": "stream",
     "text": [
      "[False False False False False False False False False False False  True\n",
      "  True False]\n"
     ]
    }
   ],
   "source": [
    "print(raw_CH_crops_dataset.isnull().values.any(axis=0)) "
   ]
  },
  {
   "cell_type": "markdown",
   "metadata": {},
   "source": [
    "Here, the only value that can be NaN is when data is official --> We would like to keep them\n",
    "Therfore, no null values to delete."
   ]
  },
  {
   "cell_type": "code",
   "execution_count": 7,
   "metadata": {},
   "outputs": [],
   "source": [
    "raw_CH_crops_dataset.drop(index=raw_CH_crops_dataset[raw_CH_crops_dataset['Flag Description'].str.contains('Data not available')].index, inplace=True)"
   ]
  },
  {
   "cell_type": "code",
   "execution_count": 8,
   "metadata": {
    "scrolled": true
   },
   "outputs": [
    {
     "name": "stdout",
     "output_type": "stream",
     "text": [
      "['Crops']\n",
      "['Austria' 'France' 'Germany' 'Italy' 'Liechtenstein' 'Switzerland']\n",
      "['Area harvested' 'Yield' 'Production']\n",
      "['Apples' 'Apricots' 'Asparagus' 'Barley' 'Beans, dry' 'Beans, green'\n",
      " 'Berries nes' 'Broad beans, horse beans, dry' 'Buckwheat'\n",
      " 'Cabbages and other brassicas' 'Carrots and turnips'\n",
      " 'Cauliflowers and broccoli' 'Cereals, nes' 'Cherries' 'Cherries, sour'\n",
      " 'Chillies and peppers, green' 'Cucumbers and gherkins' 'Currants'\n",
      " 'Eggplants (aubergines)' 'Flax fibre and tow' 'Garlic' 'Gooseberries'\n",
      " 'Grain, mixed' 'Grapes' 'Hemp tow waste' 'Hops'\n",
      " 'Leeks, other alliaceous vegetables' 'Lettuce and chicory' 'Linseed'\n",
      " 'Lupins' 'Maize' 'Maize, green' 'Millet' 'Mushrooms and truffles' 'Oats'\n",
      " 'Oilseeds nes' 'Onions, dry' 'Peaches and nectarines' 'Pears' 'Peas, dry'\n",
      " 'Peas, green' 'Plums and sloes' 'Poppy seed' 'Potatoes' 'Pulses, nes'\n",
      " 'Pumpkins, squash and gourds' 'Rapeseed' 'Raspberries' 'Rye' 'Sorghum'\n",
      " 'Soybeans' 'Spinach' 'Strawberries' 'Sugar beet' 'Sunflower seed'\n",
      " 'Tobacco, unmanufactured' 'Tomatoes' 'Triticale' 'Vegetables, fresh nes'\n",
      " 'Vegetables, leguminous nes' 'Vetches' 'Walnuts, with shell'\n",
      " 'Watermelons' 'Wheat' 'Almonds, with shell' 'Artichokes' 'Avocados'\n",
      " 'Blueberries' 'Chestnut' 'Chicory roots' 'Coconuts' 'Cranberries' 'Figs'\n",
      " 'Fruit, fresh nes' 'Fruit, stone nes' 'Grapefruit (inc. pomelos)'\n",
      " 'Hazelnuts, with shell' 'Hempseed' 'Kiwi fruit' 'Lemons and limes'\n",
      " 'Lentils' 'Melons, other (inc.cantaloupes)' 'Mustard seed' 'Olives'\n",
      " 'Onions, shallots, green' 'Oranges' 'Quinces' 'Rice, paddy'\n",
      " 'Roots and tubers, nes' 'String beans'\n",
      " 'Tangerines, mandarins, clementines, satsumas' 'Agave fibres nes'\n",
      " 'Anise, badian, fennel, coriander' 'Bananas' 'Carobs' 'Castor oil seed'\n",
      " 'Chick peas' 'Cotton lint' 'Cottonseed' 'Fruit, citrus nes'\n",
      " 'Groundnuts, with shell' 'Nuts, nes' 'Persimmons' 'Pistachios'\n",
      " 'Pyrethrum, dried' 'Seed cotton' 'Sesame seed' 'Spices, nes'\n",
      " 'Sweet potatoes']\n",
      "[1985 1986 1987 1988 1989 1990 1961 1962 1963 1964 1965 1966 1967 1968\n",
      " 1969 1970 1971 1972 1973 1974 1975 1976 1977 1978 1979 1980 1981 1982\n",
      " 1983 1984 1991 1992 1993 1994 1995 1996 1997 1998 1999 2000 2001 2002\n",
      " 2003 2004 2005 2006 2007 2008 2009 2010 2011 2012 2013 2014 2015 2016\n",
      " 2017]\n",
      "['ha' 'hg/ha' 'tonnes']\n",
      "['FAO estimate' 'Official data' 'Calculated data'\n",
      " 'FAO data based on imputation methodology' 'Unofficial figure']\n"
     ]
    }
   ],
   "source": [
    "print(raw_CH_crops_dataset['Domain'].unique())\n",
    "print(raw_CH_crops_dataset['Area'].unique())\n",
    "print(raw_CH_crops_dataset['Element'].unique())\n",
    "print(raw_CH_crops_dataset['Item'].unique())\n",
    "print(raw_CH_crops_dataset['Year'].unique())\n",
    "print(raw_CH_crops_dataset['Unit'].unique())\n",
    "print(raw_CH_crops_dataset['Flag Description'].unique())"
   ]
  },
  {
   "cell_type": "code",
   "execution_count": 9,
   "metadata": {},
   "outputs": [
    {
     "data": {
      "text/html": [
       "<div>\n",
       "<style scoped>\n",
       "    .dataframe tbody tr th:only-of-type {\n",
       "        vertical-align: middle;\n",
       "    }\n",
       "\n",
       "    .dataframe tbody tr th {\n",
       "        vertical-align: top;\n",
       "    }\n",
       "\n",
       "    .dataframe thead th {\n",
       "        text-align: right;\n",
       "    }\n",
       "</style>\n",
       "<table border=\"1\" class=\"dataframe\">\n",
       "  <thead>\n",
       "    <tr style=\"text-align: right;\">\n",
       "      <th></th>\n",
       "      <th>Domain Code</th>\n",
       "      <th>Domain</th>\n",
       "      <th>Area Code</th>\n",
       "      <th>Area</th>\n",
       "      <th>Element Code</th>\n",
       "      <th>Element</th>\n",
       "      <th>Item Code</th>\n",
       "      <th>Item</th>\n",
       "      <th>Year Code</th>\n",
       "      <th>Year</th>\n",
       "      <th>Unit</th>\n",
       "      <th>Value</th>\n",
       "      <th>Flag</th>\n",
       "      <th>Flag Description</th>\n",
       "    </tr>\n",
       "  </thead>\n",
       "  <tbody>\n",
       "    <tr>\n",
       "      <td>24</td>\n",
       "      <td>QC</td>\n",
       "      <td>Crops</td>\n",
       "      <td>11</td>\n",
       "      <td>Austria</td>\n",
       "      <td>5312</td>\n",
       "      <td>Area harvested</td>\n",
       "      <td>515</td>\n",
       "      <td>Apples</td>\n",
       "      <td>1985</td>\n",
       "      <td>1985</td>\n",
       "      <td>ha</td>\n",
       "      <td>16100.0</td>\n",
       "      <td>F</td>\n",
       "      <td>FAO estimate</td>\n",
       "    </tr>\n",
       "    <tr>\n",
       "      <td>25</td>\n",
       "      <td>QC</td>\n",
       "      <td>Crops</td>\n",
       "      <td>11</td>\n",
       "      <td>Austria</td>\n",
       "      <td>5312</td>\n",
       "      <td>Area harvested</td>\n",
       "      <td>515</td>\n",
       "      <td>Apples</td>\n",
       "      <td>1986</td>\n",
       "      <td>1986</td>\n",
       "      <td>ha</td>\n",
       "      <td>16120.0</td>\n",
       "      <td>F</td>\n",
       "      <td>FAO estimate</td>\n",
       "    </tr>\n",
       "    <tr>\n",
       "      <td>26</td>\n",
       "      <td>QC</td>\n",
       "      <td>Crops</td>\n",
       "      <td>11</td>\n",
       "      <td>Austria</td>\n",
       "      <td>5312</td>\n",
       "      <td>Area harvested</td>\n",
       "      <td>515</td>\n",
       "      <td>Apples</td>\n",
       "      <td>1987</td>\n",
       "      <td>1987</td>\n",
       "      <td>ha</td>\n",
       "      <td>16700.0</td>\n",
       "      <td>F</td>\n",
       "      <td>FAO estimate</td>\n",
       "    </tr>\n",
       "    <tr>\n",
       "      <td>27</td>\n",
       "      <td>QC</td>\n",
       "      <td>Crops</td>\n",
       "      <td>11</td>\n",
       "      <td>Austria</td>\n",
       "      <td>5312</td>\n",
       "      <td>Area harvested</td>\n",
       "      <td>515</td>\n",
       "      <td>Apples</td>\n",
       "      <td>1988</td>\n",
       "      <td>1988</td>\n",
       "      <td>ha</td>\n",
       "      <td>16720.0</td>\n",
       "      <td>F</td>\n",
       "      <td>FAO estimate</td>\n",
       "    </tr>\n",
       "    <tr>\n",
       "      <td>28</td>\n",
       "      <td>QC</td>\n",
       "      <td>Crops</td>\n",
       "      <td>11</td>\n",
       "      <td>Austria</td>\n",
       "      <td>5312</td>\n",
       "      <td>Area harvested</td>\n",
       "      <td>515</td>\n",
       "      <td>Apples</td>\n",
       "      <td>1989</td>\n",
       "      <td>1989</td>\n",
       "      <td>ha</td>\n",
       "      <td>17330.0</td>\n",
       "      <td>F</td>\n",
       "      <td>FAO estimate</td>\n",
       "    </tr>\n",
       "  </tbody>\n",
       "</table>\n",
       "</div>"
      ],
      "text/plain": [
       "   Domain Code Domain  Area Code     Area  Element Code         Element  \\\n",
       "24          QC  Crops         11  Austria          5312  Area harvested   \n",
       "25          QC  Crops         11  Austria          5312  Area harvested   \n",
       "26          QC  Crops         11  Austria          5312  Area harvested   \n",
       "27          QC  Crops         11  Austria          5312  Area harvested   \n",
       "28          QC  Crops         11  Austria          5312  Area harvested   \n",
       "\n",
       "    Item Code    Item  Year Code  Year Unit    Value Flag Flag Description  \n",
       "24        515  Apples       1985  1985   ha  16100.0    F     FAO estimate  \n",
       "25        515  Apples       1986  1986   ha  16120.0    F     FAO estimate  \n",
       "26        515  Apples       1987  1987   ha  16700.0    F     FAO estimate  \n",
       "27        515  Apples       1988  1988   ha  16720.0    F     FAO estimate  \n",
       "28        515  Apples       1989  1989   ha  17330.0    F     FAO estimate  "
      ]
     },
     "execution_count": 9,
     "metadata": {},
     "output_type": "execute_result"
    }
   ],
   "source": [
    "raw_CH_crops_dataset.head()"
   ]
  },
  {
   "cell_type": "markdown",
   "metadata": {},
   "source": [
    "## Plot production of all countries over time for a selected crop"
   ]
  },
  {
   "cell_type": "code",
   "execution_count": 10,
   "metadata": {},
   "outputs": [],
   "source": [
    "import ipywidgets as widgets\n",
    "from ipywidgets import interact, interactive, fixed, interact_manual"
   ]
  },
  {
   "cell_type": "code",
   "execution_count": 11,
   "metadata": {},
   "outputs": [
    {
     "data": {
      "application/vnd.jupyter.widget-view+json": {
       "model_id": "5d5a772f8692402989e0988e1a976c18",
       "version_major": 2,
       "version_minor": 0
      },
      "text/plain": [
       "interactive(children=(Dropdown(description='item', options=('Apples', 'Apricots', 'Asparagus', 'Barley', 'Bean…"
      ]
     },
     "metadata": {},
     "output_type": "display_data"
    },
    {
     "data": {
      "text/plain": [
       "<function __main__.viz_evolution(item)>"
      ]
     },
     "execution_count": 11,
     "metadata": {},
     "output_type": "execute_result"
    }
   ],
   "source": [
    "#Interactive visualization\n",
    "\n",
    "#Plot the production of selected item for all countries over years\n",
    "def viz_evolution(item):\n",
    "    df_viz_evolution = raw_CH_crops_dataset.loc[raw_CH_crops_dataset['Element']=='Production'].loc[raw_CH_crops_dataset['Item']==item]\n",
    "    \n",
    "    # multiple line plot\n",
    "    plt.figure(figsize=(20,10))\n",
    "    plt.plot( 'Year', 'Value', data=df_viz_evolution.loc[df_viz_evolution['Area']=='Austria'], marker='', color='green',  label = 'Austria')\n",
    "    plt.plot( 'Year', 'Value', data=df_viz_evolution.loc[df_viz_evolution['Area']=='France'], marker='', color='skyblue', label = 'France')\n",
    "    plt.plot( 'Year', 'Value', data=df_viz_evolution.loc[df_viz_evolution['Area']=='Switzerland'], marker='', color='red', label = 'Switzerland', linewidth=3)\n",
    "    plt.plot( 'Year', 'Value', data=df_viz_evolution.loc[df_viz_evolution['Area']=='Germany'], marker='', color='orange', label = 'Germany')\n",
    "    plt.plot( 'Year', 'Value', data=df_viz_evolution.loc[df_viz_evolution['Area']=='Italy'], marker='', color='grey', label = 'Italy')\n",
    "    \n",
    "    plt.legend() \n",
    "    plt.title(f'Production of {item} in Switzerland and its neighbours throughout years', fontsize= 20)\n",
    "    plt.xlabel(\"Year\", fontsize= 20)\n",
    "    plt.ylabel(\"Values\", fontsize= 20)\n",
    "    plt.show()\n",
    "   \n",
    "items = raw_CH_crops_dataset.Item.unique()\n",
    "interact(viz_evolution, item = items)    "
   ]
  },
  {
   "cell_type": "markdown",
   "metadata": {},
   "source": [
    "## Plot production/area harcested for all items of all countries over time"
   ]
  },
  {
   "cell_type": "code",
   "execution_count": 28,
   "metadata": {},
   "outputs": [
    {
     "data": {
      "text/html": [
       "<div>\n",
       "<style scoped>\n",
       "    .dataframe tbody tr th:only-of-type {\n",
       "        vertical-align: middle;\n",
       "    }\n",
       "\n",
       "    .dataframe tbody tr th {\n",
       "        vertical-align: top;\n",
       "    }\n",
       "\n",
       "    .dataframe thead th {\n",
       "        text-align: right;\n",
       "    }\n",
       "</style>\n",
       "<table border=\"1\" class=\"dataframe\">\n",
       "  <thead>\n",
       "    <tr style=\"text-align: right;\">\n",
       "      <th></th>\n",
       "      <th>Area</th>\n",
       "      <th>Element</th>\n",
       "      <th>Year</th>\n",
       "      <th>Sum</th>\n",
       "    </tr>\n",
       "  </thead>\n",
       "  <tbody>\n",
       "    <tr>\n",
       "      <td>0</td>\n",
       "      <td>Austria</td>\n",
       "      <td>Area harvested</td>\n",
       "      <td>1961</td>\n",
       "      <td>1179403.0</td>\n",
       "    </tr>\n",
       "    <tr>\n",
       "      <td>1</td>\n",
       "      <td>Austria</td>\n",
       "      <td>Area harvested</td>\n",
       "      <td>1962</td>\n",
       "      <td>1181222.0</td>\n",
       "    </tr>\n",
       "    <tr>\n",
       "      <td>2</td>\n",
       "      <td>Austria</td>\n",
       "      <td>Area harvested</td>\n",
       "      <td>1963</td>\n",
       "      <td>1174324.0</td>\n",
       "    </tr>\n",
       "    <tr>\n",
       "      <td>3</td>\n",
       "      <td>Austria</td>\n",
       "      <td>Area harvested</td>\n",
       "      <td>1964</td>\n",
       "      <td>1183615.0</td>\n",
       "    </tr>\n",
       "    <tr>\n",
       "      <td>4</td>\n",
       "      <td>Austria</td>\n",
       "      <td>Area harvested</td>\n",
       "      <td>1965</td>\n",
       "      <td>1133820.0</td>\n",
       "    </tr>\n",
       "  </tbody>\n",
       "</table>\n",
       "</div>"
      ],
      "text/plain": [
       "      Area         Element  Year        Sum\n",
       "0  Austria  Area harvested  1961  1179403.0\n",
       "1  Austria  Area harvested  1962  1181222.0\n",
       "2  Austria  Area harvested  1963  1174324.0\n",
       "3  Austria  Area harvested  1964  1183615.0\n",
       "4  Austria  Area harvested  1965  1133820.0"
      ]
     },
     "execution_count": 28,
     "metadata": {},
     "output_type": "execute_result"
    }
   ],
   "source": [
    "# plot area harvested of each country over years\n",
    "crops_sum = raw_CH_crops_dataset.groupby(['Area', 'Element','Year']) \\\n",
    "                                .agg({'Value':'sum'}) \\\n",
    "                                .rename(columns={'Value':'Sum'}) \\\n",
    "                                .reset_index()\n",
    "crops_sum.head() #ME donne la somme des area/yiel/production pour tous les items par an et par pays"
   ]
  },
  {
   "cell_type": "code",
   "execution_count": 32,
   "metadata": {},
   "outputs": [
    {
     "data": {
      "application/vnd.jupyter.widget-view+json": {
       "model_id": "c6a4445835d04130bbafa9892791303b",
       "version_major": 2,
       "version_minor": 0
      },
      "text/plain": [
       "interactive(children=(Dropdown(description='element', options=('Area harvested', 'Production', 'Yield'), value…"
      ]
     },
     "metadata": {},
     "output_type": "display_data"
    },
    {
     "data": {
      "text/plain": [
       "<function __main__.viz_sum_evolution(element)>"
      ]
     },
     "execution_count": 32,
     "metadata": {},
     "output_type": "execute_result"
    }
   ],
   "source": [
    "#Interactive visualization\n",
    "\n",
    "#Plot the area harvested (sum of all items) for all countries over years\n",
    "def viz_sum_evolution(element):\n",
    "    df_viz_sum_evolution = crops_sum.loc[crops_sum['Element']== element]\n",
    "    \n",
    "    # multiple line plot\n",
    "    plt.figure(figsize=(20,10))\n",
    "    plt.plot( 'Year', 'Sum', data=df_viz_sum_evolution.loc[df_viz_sum_evolution['Area']=='Austria'], marker='', color='green',  label = 'Austria')\n",
    "    plt.plot( 'Year', 'Sum', data=df_viz_sum_evolution.loc[df_viz_sum_evolution['Area']=='France'], marker='', color='skyblue', label = 'France')\n",
    "    plt.plot( 'Year', 'Sum', data=df_viz_sum_evolution.loc[df_viz_sum_evolution['Area']=='Switzerland'], marker='', color='red', label = 'Switzerland', linewidth=3)\n",
    "    plt.plot( 'Year', 'Sum', data=df_viz_sum_evolution.loc[df_viz_sum_evolution['Area']=='Germany'], marker='', color='orange', label = 'Germany')\n",
    "    plt.plot( 'Year', 'Sum', data=df_viz_sum_evolution.loc[df_viz_sum_evolution['Area']=='Italy'], marker='', color='grey', label = 'Italy')\n",
    "    \n",
    "    plt.legend() \n",
    "    plt.title(f'{element} of all items in Switzerland and its neighbours throughout years', fontsize= 20)\n",
    "    plt.xlabel(\"Year\", fontsize= 20)\n",
    "    plt.ylabel(\"Values\", fontsize= 20)\n",
    "    plt.show()\n",
    "   \n",
    "elements = crops_sum.Element.unique()\n",
    "interact(viz_sum_evolution, element = elements)  "
   ]
  },
  {
   "cell_type": "markdown",
   "metadata": {},
   "source": [
    "## Load some more data --> Land use indicators (CH+neighbours)"
   ]
  },
  {
   "cell_type": "code",
   "execution_count": 33,
   "metadata": {},
   "outputs": [],
   "source": [
    "raw_land_use_dataset = pd.read_csv('../data/FAOSTAT_data_LandUseIndicators.csv')"
   ]
  },
  {
   "cell_type": "code",
   "execution_count": 37,
   "metadata": {},
   "outputs": [
    {
     "data": {
      "text/html": [
       "<div>\n",
       "<style scoped>\n",
       "    .dataframe tbody tr th:only-of-type {\n",
       "        vertical-align: middle;\n",
       "    }\n",
       "\n",
       "    .dataframe tbody tr th {\n",
       "        vertical-align: top;\n",
       "    }\n",
       "\n",
       "    .dataframe thead th {\n",
       "        text-align: right;\n",
       "    }\n",
       "</style>\n",
       "<table border=\"1\" class=\"dataframe\">\n",
       "  <thead>\n",
       "    <tr style=\"text-align: right;\">\n",
       "      <th></th>\n",
       "      <th>Domain Code</th>\n",
       "      <th>Domain</th>\n",
       "      <th>Area Code</th>\n",
       "      <th>Area</th>\n",
       "      <th>Element Code</th>\n",
       "      <th>Element</th>\n",
       "      <th>Item Code</th>\n",
       "      <th>Item</th>\n",
       "      <th>Year Code</th>\n",
       "      <th>Year</th>\n",
       "      <th>Unit</th>\n",
       "      <th>Value</th>\n",
       "      <th>Flag</th>\n",
       "      <th>Flag Description</th>\n",
       "    </tr>\n",
       "  </thead>\n",
       "  <tbody>\n",
       "    <tr>\n",
       "      <td>0</td>\n",
       "      <td>EL</td>\n",
       "      <td>Land use indicators</td>\n",
       "      <td>11</td>\n",
       "      <td>Austria</td>\n",
       "      <td>7208</td>\n",
       "      <td>Share in Agricultural land</td>\n",
       "      <td>6621</td>\n",
       "      <td>Arable land</td>\n",
       "      <td>1961</td>\n",
       "      <td>1961</td>\n",
       "      <td>%</td>\n",
       "      <td>47.51</td>\n",
       "      <td>Fc</td>\n",
       "      <td>Calculated data</td>\n",
       "    </tr>\n",
       "    <tr>\n",
       "      <td>1</td>\n",
       "      <td>EL</td>\n",
       "      <td>Land use indicators</td>\n",
       "      <td>11</td>\n",
       "      <td>Austria</td>\n",
       "      <td>7208</td>\n",
       "      <td>Share in Agricultural land</td>\n",
       "      <td>6621</td>\n",
       "      <td>Arable land</td>\n",
       "      <td>1962</td>\n",
       "      <td>1962</td>\n",
       "      <td>%</td>\n",
       "      <td>47.61</td>\n",
       "      <td>Fc</td>\n",
       "      <td>Calculated data</td>\n",
       "    </tr>\n",
       "    <tr>\n",
       "      <td>2</td>\n",
       "      <td>EL</td>\n",
       "      <td>Land use indicators</td>\n",
       "      <td>11</td>\n",
       "      <td>Austria</td>\n",
       "      <td>7208</td>\n",
       "      <td>Share in Agricultural land</td>\n",
       "      <td>6621</td>\n",
       "      <td>Arable land</td>\n",
       "      <td>1963</td>\n",
       "      <td>1963</td>\n",
       "      <td>%</td>\n",
       "      <td>47.45</td>\n",
       "      <td>Fc</td>\n",
       "      <td>Calculated data</td>\n",
       "    </tr>\n",
       "    <tr>\n",
       "      <td>3</td>\n",
       "      <td>EL</td>\n",
       "      <td>Land use indicators</td>\n",
       "      <td>11</td>\n",
       "      <td>Austria</td>\n",
       "      <td>7208</td>\n",
       "      <td>Share in Agricultural land</td>\n",
       "      <td>6621</td>\n",
       "      <td>Arable land</td>\n",
       "      <td>1964</td>\n",
       "      <td>1964</td>\n",
       "      <td>%</td>\n",
       "      <td>47.66</td>\n",
       "      <td>Fc</td>\n",
       "      <td>Calculated data</td>\n",
       "    </tr>\n",
       "    <tr>\n",
       "      <td>4</td>\n",
       "      <td>EL</td>\n",
       "      <td>Land use indicators</td>\n",
       "      <td>11</td>\n",
       "      <td>Austria</td>\n",
       "      <td>7208</td>\n",
       "      <td>Share in Agricultural land</td>\n",
       "      <td>6621</td>\n",
       "      <td>Arable land</td>\n",
       "      <td>1965</td>\n",
       "      <td>1965</td>\n",
       "      <td>%</td>\n",
       "      <td>47.92</td>\n",
       "      <td>Fc</td>\n",
       "      <td>Calculated data</td>\n",
       "    </tr>\n",
       "  </tbody>\n",
       "</table>\n",
       "</div>"
      ],
      "text/plain": [
       "  Domain Code               Domain  Area Code     Area  Element Code  \\\n",
       "0          EL  Land use indicators         11  Austria          7208   \n",
       "1          EL  Land use indicators         11  Austria          7208   \n",
       "2          EL  Land use indicators         11  Austria          7208   \n",
       "3          EL  Land use indicators         11  Austria          7208   \n",
       "4          EL  Land use indicators         11  Austria          7208   \n",
       "\n",
       "                      Element  Item Code         Item  Year Code  Year Unit  \\\n",
       "0  Share in Agricultural land       6621  Arable land       1961  1961    %   \n",
       "1  Share in Agricultural land       6621  Arable land       1962  1962    %   \n",
       "2  Share in Agricultural land       6621  Arable land       1963  1963    %   \n",
       "3  Share in Agricultural land       6621  Arable land       1964  1964    %   \n",
       "4  Share in Agricultural land       6621  Arable land       1965  1965    %   \n",
       "\n",
       "   Value Flag Flag Description  \n",
       "0  47.51   Fc  Calculated data  \n",
       "1  47.61   Fc  Calculated data  \n",
       "2  47.45   Fc  Calculated data  \n",
       "3  47.66   Fc  Calculated data  \n",
       "4  47.92   Fc  Calculated data  "
      ]
     },
     "execution_count": 37,
     "metadata": {},
     "output_type": "execute_result"
    }
   ],
   "source": [
    "raw_land_use_dataset.head()"
   ]
  },
  {
   "cell_type": "code",
   "execution_count": 35,
   "metadata": {},
   "outputs": [
    {
     "name": "stdout",
     "output_type": "stream",
     "text": [
      "Size of the DataFrame: (3324, 14)\n",
      "\n",
      "Variable types present in DataFrame: \n",
      "Domain Code          object\n",
      "Domain               object\n",
      "Area Code             int64\n",
      "Area                 object\n",
      "Element Code          int64\n",
      "Element              object\n",
      "Item Code             int64\n",
      "Item                 object\n",
      "Year Code             int64\n",
      "Year                  int64\n",
      "Unit                 object\n",
      "Value               float64\n",
      "Flag                 object\n",
      "Flag Description     object\n",
      "dtype: object\n"
     ]
    }
   ],
   "source": [
    "print(\"Size of the DataFrame: {s}\\n\".format(s=raw_land_use_dataset.shape))\n",
    "print(\"Variable types present in DataFrame: \\n{t}\".format(t=raw_land_use_dataset.dtypes))"
   ]
  },
  {
   "cell_type": "code",
   "execution_count": 38,
   "metadata": {},
   "outputs": [
    {
     "name": "stdout",
     "output_type": "stream",
     "text": [
      "[False False False False False False False False False False False False\n",
      " False False]\n"
     ]
    }
   ],
   "source": [
    "print(raw_land_use_dataset.isnull().values.any(axis=0))  # --> PERFECT!"
   ]
  },
  {
   "cell_type": "code",
   "execution_count": 40,
   "metadata": {},
   "outputs": [
    {
     "name": "stdout",
     "output_type": "stream",
     "text": [
      "['Land use indicators']\n",
      "['Austria' 'France' 'Germany' 'Italy' 'Liechtenstein' 'Switzerland']\n",
      "['Share in Agricultural land' 'Share in Land area' 'Share in Forest land']\n",
      "['Arable land' 'Land under permanent crops' 'Cropland'\n",
      " 'Land under perm. meadows and pastures'\n",
      " 'Agriculture area actually irrigated' 'Land area equipped for irrigation'\n",
      " 'Agricultural land' 'Forest land' 'Primary Forest' 'Planted Forest'\n",
      " 'Other naturally regenerated forest'\n",
      " 'Agriculture area under organic agric.']\n",
      "[1961 1962 1963 1964 1965 1966 1967 1968 1969 1970 1971 1972 1973 1974\n",
      " 1975 1976 1977 1978 1979 1980 1981 1982 1983 1984 1985 1986 1987 1988\n",
      " 1989 1990 1991 1992 1993 1994 1995 1996 1997 1998 1999 2000 2001 2002\n",
      " 2003 2004 2005 2006 2007 2008 2009 2010 2011 2012 2013 2014 2015 2016]\n",
      "['%']\n",
      "['Calculated data']\n"
     ]
    }
   ],
   "source": [
    "print(raw_land_use_dataset['Domain'].unique())\n",
    "print(raw_land_use_dataset['Area'].unique())\n",
    "print(raw_land_use_dataset['Element'].unique())\n",
    "print(raw_land_use_dataset['Item'].unique())\n",
    "print(raw_land_use_dataset['Year'].unique())\n",
    "print(raw_land_use_dataset['Unit'].unique())\n",
    "print(raw_land_use_dataset['Flag Description'].unique())"
   ]
  },
  {
   "cell_type": "code",
   "execution_count": 71,
   "metadata": {},
   "outputs": [
    {
     "data": {
      "image/png": "[encoded data removed]",
      "text/plain": [
       "<Figure size 432x288 with 1 Axes>"
      ]
     },
     "metadata": {},
     "output_type": "display_data"
    },
    {
     "data": {
      "image/png": "[encoded data removed]",
      "text/plain": [
       "<Figure size 432x288 with 1 Axes>"
      ]
     },
     "metadata": {},
     "output_type": "display_data"
    }
   ],
   "source": [
    "import matplotlib.pyplot as plt\n",
    "\n",
    "# Pie chart, where the slices will be ordered and plotted counter-clockwise:\n",
    "df_land = raw_land_use_dataset.loc[raw_land_use_dataset['Area']=='Switzerland'].loc[raw_land_use_dataset['Year']==2016].loc[raw_land_use_dataset['Element']=='Share in Land area']\n",
    "df_agri = raw_land_use_dataset.loc[raw_land_use_dataset['Area']=='Switzerland'].loc[raw_land_use_dataset['Year']==2016].loc[raw_land_use_dataset['Element']=='Share in Agricultural land']\n",
    "\n",
    "labels1 = df_land.Item\n",
    "sizes1 = df_land.Value\n",
    "explode = (0, 0, 0.1, 0)  # only \"explode\" the 2nd slice (i.e. 'Hogs')\n",
    "#plot = df_land.plot.pie(y='Value', figsize=(5, 5),labels=labels) #Another way to plot\n",
    "fig1, ax1 = plt.subplots()\n",
    "ax1.pie(sizes1, explode=explode,labels=labels1, autopct='%1.1f%%',\n",
    "        shadow=True, startangle=90)\n",
    "ax1.axis('equal')  # Equal aspect ratio ensures that pie is drawn as a circle.\n",
    "ax1.title.set_text('Distribution of lands in Switzerland, year 2016')\n",
    "fig1.set_facecolor('white')\n",
    "\n",
    "labels2 = df_agri.Item\n",
    "sizes2 = df_agri.Value\n",
    "fig1, ax2 = plt.subplots()\n",
    "ax2.pie(sizes2, labels=labels2, autopct='%1.1f%%',\n",
    "        shadow=True, startangle=90)\n",
    "ax2.axis('equal')  # Equal aspect ratio ensures that pie is drawn as a circle.\n",
    "ax2.title.set_text('Distribution of agricultural lands in Switzerland, year 2016')\n",
    "\n",
    "fig1.set_facecolor('white')\n",
    "plt.show()"
   ]
  },
  {
   "cell_type": "code",
   "execution_count": null,
   "metadata": {},
   "outputs": [],
   "source": []
  }
 ],
 "metadata": {
  "kernelspec": {
   "display_name": "Python 3",
   "language": "python",
   "name": "python3"
  },
  "language_info": {
   "codemirror_mode": {
    "name": "ipython",
    "version": 3
   },
   "file_extension": ".py",
   "mimetype": "text/x-python",
   "name": "python",
   "nbconvert_exporter": "python",
   "pygments_lexer": "ipython3",
   "version": "3.7.4"
  }
 },
 "nbformat": 4,
 "nbformat_minor": 4
}
